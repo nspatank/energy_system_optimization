{
 "cells": [
  {
   "cell_type": "markdown",
   "metadata": {},
   "source": [
    "# Economic Dispatch\n",
    "\n",
    "_**[Energy Systems Optimization](https://github.com/nspatank/energy_system_optimization)**_\n",
    "\n",
    "_by Neha Patankar (last updated: October 26, 2023)_\n",
    "\n",
    "This notebook will introduce a key operational model&mdash;economic dispatch (ED)&mdash;which minimizes the short-run production costs of meeting electricity demand from a given set of generators subject to various technical constraints.\n",
    "\n",
    "We build up the model in several stages. We begin with a single-time period and simple generator constraints just related to allowable output ranges. This allows us to compare the model with the intuition provided by the merit order supply curve (also known as the \"dispatch stack\"). \n",
    "\n",
    "We then add multiple time periods by considering the economic dispatch over an entire day. Due to the simple generator constraints, this simple model does not introduce any coupling across time.\n",
    "\n",
    "More realism is added by considering complex engineering constraints that introduce time coupling&mdash;namely, ramp rates, which are an important limitation of many generators.\n",
    "\n",
    "Finally, we examine the famous \"duck curve\" by adding more solar onto the system and explore the role that ramp rates play in the solution."
   ]
  },
  {
   "cell_type": "markdown",
   "metadata": {},
   "source": [
    "## Introduction to economic dispatch\n",
    "\n",
    "Every day, system operators need to decide how to meet demand from a large variety of generators with different costs and engineering requirements. Prior to large-scale computational capabilities, this was accomplished by \"priority lists\" or similar heuristics to determine the ordering of plants. However, with modern optimization algorithms, operators can find the global minimum of production costs&mdash;and even incorporate coupling of engineering processes across time periods.\n",
    "\n",
    "**Economic dispatch** (ED) is the problem of minimizing short-run costs of production in order to meet a given demand, considering relevant engineering constraints of the generators. It *does not* fully capture the physics of electricity flows, which will further constrain the feasible space and which we will come back to in later notebooks on optimal power flow, nor does it account for decisions and constraints related to turning on or \"committing\" large thermal generators, which we'll discuss in our next notebook on unit commitment. Typically, *it does* incorporate some type of network representation, which we have ignored here by considering only a single bus. More on the networks in the notebook on optimal power flow."
   ]
  },
  {
   "cell_type": "markdown",
   "metadata": {},
   "source": [
    "## Single-time period, simple generator constraints\n",
    "\n",
    "We will first examine the case where we are optimizing dispatch for a single snapshot in time, with only very simple constraints on the generators.\n",
    "    \n",
    "$$\n",
    "\\begin{align}\n",
    "\\min \\ & \\sum_{g \\in G} VarCost_g \\times GEN_g & \\\\\n",
    "\\text{s.t.} & \\\\\n",
    " & \\sum_{g} GEN_g = Demand & \\\\\n",
    " & GEN_g \\leq Pmax_g & \\forall \\quad g \\in G \\\\\n",
    " & GEN_g \\geq Pmin_g & \\forall \\quad g \\in G \\\\\n",
    "\\end{align}\n",
    "$$\n",
    "\n",
    "The **decision variable** in the above problem is:\n",
    "\n",
    "- $GEN_{g}$, the generation (in MW) produced by each generator, $g$\n",
    "\n",
    "The **parameters** are:\n",
    "\n",
    "- $Pmin_g$, the minimum operating bounds for the generator (based on engineering or natural resource constraints)\n",
    "- $Pmax_g$, the maximum operating bounds for the generator (based on engineering or natural resource constraints)\n",
    "- $Demand$, the demand (in MW)\n",
    "\n",
    "(For this simple problem, we will let $Pmin_g=0$ and revisit this later in the unit commitment notebook.)\n",
    "\n",
    "In addition, we have:\n",
    "\n",
    "$$\n",
    "VarCost_g = VarOM_g + HeatRate_g \\times FuelCost_g\n",
    "$$\n",
    "\n",
    "Note that, in contrast with the basic capacity expansion problem, we are not concerned with fixed costs. Why not?\n",
    "\n",
    "The simplest response is that these costs have already been incurred and regardless of how much a generator produces, its fixed costs will not change. These costs are thus \"[sunk costs](https://en.wikipedia.org/wiki/Sunk_cost)\" and are constant in the objective function. Our optimal decision variables would not change by adjusting this constant up or down.\n",
    "\n",
    "Therefore, we can safely ignore fixed costs for the purposes of finding optimal dispatch. (We will still have to consider them to calculate producer profits, however.)\n",
    "\n",
    "[A famous electricity regulator](https://en.wikipedia.org/wiki/Ignacio_J._P%C3%A9rez_Arriaga), noting that it is frequently misunderstood and ignored even by experienced market participants, has called the application of the \"[sunk cost fallacy](https://en.wikipedia.org/wiki/Sunk_cost#Fallacy_effect)\" to electricity systems \"[Grandma's Inheritance Theorem](http://link.springer.com/content/pdf/bbm%3A978-1-4471-5034-3%2F1.pdf).\" In this hypothetical scenario, if you were to inherit a diamond ring or perhaps a financial contract-for-differences that pays out relative to cleared market prices (you have a very sophisticated grandma in this scenario!), you should not be tempted to change your production strategy.\n",
    "\n",
    "Now, let's implement ED."
   ]
  },
  {
   "cell_type": "markdown",
   "metadata": {},
   "source": [
    "### 1. Load packages"
   ]
  },
  {
   "cell_type": "markdown",
   "metadata": {},
   "source": [
    "We will try out another open source solver GLPK in this tutorial."
   ]
  },
  {
   "cell_type": "code",
   "execution_count": 1,
   "metadata": {},
   "outputs": [
    {
     "name": "stderr",
     "output_type": "stream",
     "text": [
      "\u001b[32m\u001b[1m    Updating\u001b[22m\u001b[39m registry at `~/.julia/registries/General.toml`\n",
      "\u001b[32m\u001b[1m   Resolving\u001b[22m\u001b[39m package versions...\n",
      "\u001b[32m\u001b[1m  No Changes\u001b[22m\u001b[39m to `~/.julia/environments/v1.8/Project.toml`\n",
      "\u001b[32m\u001b[1m  No Changes\u001b[22m\u001b[39m to `~/.julia/environments/v1.8/Manifest.toml`\n",
      "\u001b[32m\u001b[1m   Resolving\u001b[22m\u001b[39m package versions...\n",
      "\u001b[32m\u001b[1m  No Changes\u001b[22m\u001b[39m to `~/.julia/environments/v1.8/Project.toml`\n",
      "\u001b[32m\u001b[1m  No Changes\u001b[22m\u001b[39m to `~/.julia/environments/v1.8/Manifest.toml`\n",
      "\u001b[32m\u001b[1m   Resolving\u001b[22m\u001b[39m package versions...\n",
      "\u001b[32m\u001b[1m   Installed\u001b[22m\u001b[39m GLPK_jll ─ v5.0.1+0\n",
      "\u001b[32m\u001b[1m   Installed\u001b[22m\u001b[39m GLPK ───── v1.1.3\n",
      "\u001b[32m\u001b[1m    Updating\u001b[22m\u001b[39m `~/.julia/environments/v1.8/Project.toml`\n",
      " \u001b[90m [60bf3e95] \u001b[39m\u001b[92m+ GLPK v1.1.3\u001b[39m\n",
      "\u001b[32m\u001b[1m    Updating\u001b[22m\u001b[39m `~/.julia/environments/v1.8/Manifest.toml`\n",
      " \u001b[90m [60bf3e95] \u001b[39m\u001b[92m+ GLPK v1.1.3\u001b[39m\n",
      " \u001b[90m [e8aa6df9] \u001b[39m\u001b[92m+ GLPK_jll v5.0.1+0\u001b[39m\n",
      " \u001b[90m [781609d7] \u001b[39m\u001b[92m+ GMP_jll v6.2.1+2\u001b[39m\n",
      "\u001b[32m\u001b[1mPrecompiling\u001b[22m\u001b[39m project...\n",
      "\u001b[32m  ✓ \u001b[39m\u001b[90mGMP_jll\u001b[39m\n",
      "\u001b[32m  ✓ \u001b[39m\u001b[90mGLPK_jll\u001b[39m\n",
      "\u001b[32m  ✓ \u001b[39mGLPK\n",
      "  3 dependencies successfully precompiled in 6 seconds. 200 already precompiled.\n",
      "\u001b[32m\u001b[1m   Resolving\u001b[22m\u001b[39m package versions...\n",
      "\u001b[32m\u001b[1m  No Changes\u001b[22m\u001b[39m to `~/.julia/environments/v1.8/Project.toml`\n",
      "\u001b[32m\u001b[1m  No Changes\u001b[22m\u001b[39m to `~/.julia/environments/v1.8/Manifest.toml`\n"
     ]
    }
   ],
   "source": [
    "# New packages introduced in this tutorial\n",
    "import Pkg; Pkg.add(\"PrettyTables\"); Pkg.add(\"VegaLite\"); Pkg.add(\"GLPK\"); Pkg.add(\"FileIO\")"
   ]
  },
  {
   "cell_type": "code",
   "execution_count": 2,
   "metadata": {},
   "outputs": [],
   "source": [
    "using JuMP, GLPK\n",
    "using Plots; plotly();\n",
    "using VegaLite  # to make some nice plots\n",
    "using DataFrames, CSV, PrettyTables\n",
    "using FileIO\n",
    "ENV[\"COLUMNS\"]=120; # Set so all columns of DataFrames and Matrices are displayed"
   ]
  },
  {
   "cell_type": "markdown",
   "metadata": {},
   "source": [
    "### 2. Load and format data\n",
    "\n",
    "We will use data based on San Diego Gas and Electric (SDG&E, via the [PowerGenome](https://github.com/gschivley/PowerGenome) data platform) plus a few neighboring generators, consisting of:\n",
    "\n",
    "- 25 generators (including some clustering of smaller generators, and excluding behind-the-meter solar)\n",
    "- estimated hourly demand for 2020 (net load at the transmission substation level after subtracting 600MW of behind-the-meter solar from original demand)\n",
    "- variable generation capacity factors\n",
    "- estimated natural gas fuel costs"
   ]
  },
  {
   "cell_type": "code",
   "execution_count": 23,
   "metadata": {},
   "outputs": [],
   "source": [
    "datadir = joinpath(\"ed_data\") \n",
    "# Note: joinpath is a good way to create path reference that is agnostic\n",
    "# to what file system you are using (e.g. whether directories are denoted \n",
    "# with a forward or backwards slash).\n",
    "gen_info = CSV.read(joinpath(datadir,\"Generators_data.csv\"), DataFrame);\n",
    "fuels = CSV.read(joinpath(datadir,\"Fuels_data.csv\"), DataFrame);\n",
    "loads = CSV.read(joinpath(datadir,\"Demand.csv\"), DataFrame);\n",
    "gen_variable = CSV.read(joinpath(datadir,\"Generators_variability.csv\"), DataFrame);\n",
    "\n",
    "# Rename all columns to lowercase (by convention)\n",
    "for f in [gen_info, fuels, loads, gen_variable]\n",
    "    rename!(f,lowercase.(names(f)))\n",
    "end"
   ]
  },
  {
   "cell_type": "markdown",
   "metadata": {},
   "source": [
    "**Construct generator dataframe**"
   ]
  },
  {
   "cell_type": "code",
   "execution_count": 24,
   "metadata": {},
   "outputs": [],
   "source": [
    "# Keep only the columns relevant to our ED model \n",
    "# (We'll come back to other columns in our unit commitment notebooks)\n",
    "select!(gen_info, 1:26, :stor) \n",
    "gen_df = outerjoin(gen_info,  fuels, on = :fuel) # load in fuel costs and add to data frame\n",
    "rename!(gen_df, :cost_per_mmbtu => :fuel_cost)   # rename column for fuel cost\n",
    "gen_df[ismissing.(gen_df[:,:fuel_cost]), :fuel_cost] .= 0\n",
    "\n",
    "# create \"is_variable\" column to indicate if this is a variable generation source (e.g. wind, solar)\n",
    "# Note: Julia's strict vectorization syntax requires us to create a new variable using the '!' indexing operator\n",
    "# and the '.=' broadcasting assignment. See: https://julia.guide/broadcasting\n",
    "gen_df[!, :is_variable] .= false\n",
    "gen_df[in([\"onshore_wind_turbine\",\"small_hydroelectric\",\"solar_photovoltaic\"]).(gen_df.resource),\n",
    "    :is_variable] .= true;\n",
    "\n",
    "# create full name of generator (including geographic location and cluster number)\n",
    "#  for use with variable generation dataframe\n",
    "gen_df.gen_full = lowercase.(gen_df.region .* \"_\" .* gen_df.resource .* \"_\" .* string.(gen_df.cluster) .* \".0\");\n",
    "\n",
    "# remove generators with no capacity (e.g. new build options that we'd use if this was capacity expansion problem)\n",
    "gen_df = gen_df[gen_df.existing_cap_mw .> 0,:];\n"
   ]
  },
  {
   "cell_type": "markdown",
   "metadata": {},
   "source": [
    "### Long and wide data format example"
   ]
  },
  {
   "cell_type": "code",
   "execution_count": 25,
   "metadata": {},
   "outputs": [
    {
     "data": {
      "text/html": [
       "<div><div style = \"float: left;\"><span>5×5 DataFrame</span></div><div style = \"clear: both;\"></div></div><div class = \"data-frame\" style = \"overflow-x: scroll;\"><table class = \"data-frame\" style = \"margin-bottom: 6px;\"><thead><tr class = \"header\"><th class = \"rowNumber\" style = \"font-weight: bold; text-align: right;\">Row</th><th style = \"text-align: left;\">r_id</th><th style = \"text-align: left;\">resource</th><th style = \"text-align: left;\">region</th><th style = \"text-align: left;\">existing_cap_mw</th><th style = \"text-align: left;\">num_units</th></tr><tr class = \"subheader headerLastRow\"><th class = \"rowNumber\" style = \"font-weight: bold; text-align: right;\"></th><th title = \"Union{Missing, Int64}\" style = \"text-align: left;\">Int64?</th><th title = \"Union{Missing, String}\" style = \"text-align: left;\">String?</th><th title = \"Union{Missing, String15}\" style = \"text-align: left;\">String15?</th><th title = \"Union{Missing, Float64}\" style = \"text-align: left;\">Float64?</th><th title = \"Union{Missing, Int64}\" style = \"text-align: left;\">Int64?</th></tr></thead><tbody><tr><td class = \"rowNumber\" style = \"font-weight: bold; text-align: right;\">1</td><td style = \"text-align: right;\">1</td><td style = \"text-align: left;\">biomass</td><td style = \"text-align: left;\">WEC_SDGE</td><td style = \"text-align: right;\">21.4</td><td style = \"text-align: right;\">20</td></tr><tr><td class = \"rowNumber\" style = \"font-weight: bold; text-align: right;\">2</td><td style = \"text-align: right;\">2</td><td style = \"text-align: left;\">hydroelectric_pumped_storage</td><td style = \"text-align: left;\">WEC_SDGE</td><td style = \"text-align: right;\">42.0</td><td style = \"text-align: right;\">2</td></tr><tr><td class = \"rowNumber\" style = \"font-weight: bold; text-align: right;\">3</td><td style = \"text-align: right;\">3</td><td style = \"text-align: left;\">natural_gas_fired_combined_cycle</td><td style = \"text-align: left;\">WEC_SDGE</td><td style = \"text-align: right;\">607.1</td><td style = \"text-align: right;\">1</td></tr><tr><td class = \"rowNumber\" style = \"font-weight: bold; text-align: right;\">4</td><td style = \"text-align: right;\">4</td><td style = \"text-align: left;\">natural_gas_fired_combined_cycle</td><td style = \"text-align: left;\">WEC_SDGE</td><td style = \"text-align: right;\">30.0</td><td style = \"text-align: right;\">1</td></tr><tr><td class = \"rowNumber\" style = \"font-weight: bold; text-align: right;\">5</td><td style = \"text-align: right;\">5</td><td style = \"text-align: left;\">natural_gas_fired_combined_cycle</td><td style = \"text-align: left;\">WEC_SDGE</td><td style = \"text-align: right;\">49.4</td><td style = \"text-align: right;\">1</td></tr></tbody></table></div>"
      ],
      "text/latex": [
       "\\begin{tabular}{r|ccccc}\n",
       "\t& r\\_id & resource & region & existing\\_cap\\_mw & num\\_units\\\\\n",
       "\t\\hline\n",
       "\t& Int64? & String? & String15? & Float64? & Int64?\\\\\n",
       "\t\\hline\n",
       "\t1 & 1 & biomass & WEC\\_SDGE & 21.4 & 20 \\\\\n",
       "\t2 & 2 & hydroelectric\\_pumped\\_storage & WEC\\_SDGE & 42.0 & 2 \\\\\n",
       "\t3 & 3 & natural\\_gas\\_fired\\_combined\\_cycle & WEC\\_SDGE & 607.1 & 1 \\\\\n",
       "\t4 & 4 & natural\\_gas\\_fired\\_combined\\_cycle & WEC\\_SDGE & 30.0 & 1 \\\\\n",
       "\t5 & 5 & natural\\_gas\\_fired\\_combined\\_cycle & WEC\\_SDGE & 49.4 & 1 \\\\\n",
       "\\end{tabular}\n"
      ],
      "text/plain": [
       "\u001b[1m5×5 DataFrame\u001b[0m\n",
       "\u001b[1m Row \u001b[0m│\u001b[1m r_id   \u001b[0m\u001b[1m resource                         \u001b[0m\u001b[1m region    \u001b[0m\u001b[1m existing_cap_mw \u001b[0m\u001b[1m num_units \u001b[0m\n",
       "     │\u001b[90m Int64? \u001b[0m\u001b[90m String?                          \u001b[0m\u001b[90m String15? \u001b[0m\u001b[90m Float64?        \u001b[0m\u001b[90m Int64?    \u001b[0m\n",
       "─────┼─────────────────────────────────────────────────────────────────────────────────\n",
       "   1 │      1  biomass                           WEC_SDGE              21.4         20\n",
       "   2 │      2  hydroelectric_pumped_storage      WEC_SDGE              42.0          2\n",
       "   3 │      3  natural_gas_fired_combined_cycle  WEC_SDGE             607.1          1\n",
       "   4 │      4  natural_gas_fired_combined_cycle  WEC_SDGE              30.0          1\n",
       "   5 │      5  natural_gas_fired_combined_cycle  WEC_SDGE              49.4          1"
      ]
     },
     "execution_count": 25,
     "metadata": {},
     "output_type": "execute_result"
    }
   ],
   "source": [
    "df = gen_df[1:5,1:5]"
   ]
  },
  {
   "cell_type": "code",
   "execution_count": 26,
   "metadata": {},
   "outputs": [
    {
     "data": {
      "text/html": [
       "<div><div style = \"float: left;\"><span>5×5 DataFrame</span></div><div style = \"clear: both;\"></div></div><div class = \"data-frame\" style = \"overflow-x: scroll;\"><table class = \"data-frame\" style = \"margin-bottom: 6px;\"><thead><tr class = \"header\"><th class = \"rowNumber\" style = \"font-weight: bold; text-align: right;\">Row</th><th style = \"text-align: left;\">r_id</th><th style = \"text-align: left;\">resource</th><th style = \"text-align: left;\">region</th><th style = \"text-align: left;\">existing_cap_mw</th><th style = \"text-align: left;\">num_units</th></tr><tr class = \"subheader headerLastRow\"><th class = \"rowNumber\" style = \"font-weight: bold; text-align: right;\"></th><th title = \"Union{Missing, Int64}\" style = \"text-align: left;\">Int64?</th><th title = \"Union{Missing, String}\" style = \"text-align: left;\">String?</th><th title = \"Union{Missing, String15}\" style = \"text-align: left;\">String15?</th><th title = \"Union{Missing, Float64}\" style = \"text-align: left;\">Float64?</th><th title = \"Union{Missing, Int64}\" style = \"text-align: left;\">Int64?</th></tr></thead><tbody><tr><td class = \"rowNumber\" style = \"font-weight: bold; text-align: right;\">1</td><td style = \"text-align: right;\">1</td><td style = \"text-align: left;\">biomass</td><td style = \"text-align: left;\">WEC_SDGE</td><td style = \"text-align: right;\">21.4</td><td style = \"text-align: right;\">20</td></tr><tr><td class = \"rowNumber\" style = \"font-weight: bold; text-align: right;\">2</td><td style = \"text-align: right;\">2</td><td style = \"text-align: left;\">hydroelectric_pumped_storage</td><td style = \"text-align: left;\">WEC_SDGE</td><td style = \"text-align: right;\">42.0</td><td style = \"text-align: right;\">2</td></tr><tr><td class = \"rowNumber\" style = \"font-weight: bold; text-align: right;\">3</td><td style = \"text-align: right;\">3</td><td style = \"text-align: left;\">natural_gas_fired_combined_cycle</td><td style = \"text-align: left;\">WEC_SDGE</td><td style = \"text-align: right;\">607.1</td><td style = \"text-align: right;\">1</td></tr><tr><td class = \"rowNumber\" style = \"font-weight: bold; text-align: right;\">4</td><td style = \"text-align: right;\">4</td><td style = \"text-align: left;\">natural_gas_fired_combined_cycle</td><td style = \"text-align: left;\">WEC_SDGE</td><td style = \"text-align: right;\">30.0</td><td style = \"text-align: right;\">1</td></tr><tr><td class = \"rowNumber\" style = \"font-weight: bold; text-align: right;\">5</td><td style = \"text-align: right;\">5</td><td style = \"text-align: left;\">natural_gas_fired_combined_cycle</td><td style = \"text-align: left;\">WEC_SDGE</td><td style = \"text-align: right;\">49.4</td><td style = \"text-align: right;\">1</td></tr></tbody></table></div>"
      ],
      "text/latex": [
       "\\begin{tabular}{r|ccccc}\n",
       "\t& r\\_id & resource & region & existing\\_cap\\_mw & num\\_units\\\\\n",
       "\t\\hline\n",
       "\t& Int64? & String? & String15? & Float64? & Int64?\\\\\n",
       "\t\\hline\n",
       "\t1 & 1 & biomass & WEC\\_SDGE & 21.4 & 20 \\\\\n",
       "\t2 & 2 & hydroelectric\\_pumped\\_storage & WEC\\_SDGE & 42.0 & 2 \\\\\n",
       "\t3 & 3 & natural\\_gas\\_fired\\_combined\\_cycle & WEC\\_SDGE & 607.1 & 1 \\\\\n",
       "\t4 & 4 & natural\\_gas\\_fired\\_combined\\_cycle & WEC\\_SDGE & 30.0 & 1 \\\\\n",
       "\t5 & 5 & natural\\_gas\\_fired\\_combined\\_cycle & WEC\\_SDGE & 49.4 & 1 \\\\\n",
       "\\end{tabular}\n"
      ],
      "text/plain": [
       "\u001b[1m5×5 DataFrame\u001b[0m\n",
       "\u001b[1m Row \u001b[0m│\u001b[1m r_id   \u001b[0m\u001b[1m resource                         \u001b[0m\u001b[1m region    \u001b[0m\u001b[1m existing_cap_mw \u001b[0m\u001b[1m num_units \u001b[0m\n",
       "     │\u001b[90m Int64? \u001b[0m\u001b[90m String?                          \u001b[0m\u001b[90m String15? \u001b[0m\u001b[90m Float64?        \u001b[0m\u001b[90m Int64?    \u001b[0m\n",
       "─────┼─────────────────────────────────────────────────────────────────────────────────\n",
       "   1 │      1  biomass                           WEC_SDGE              21.4         20\n",
       "   2 │      2  hydroelectric_pumped_storage      WEC_SDGE              42.0          2\n",
       "   3 │      3  natural_gas_fired_combined_cycle  WEC_SDGE             607.1          1\n",
       "   4 │      4  natural_gas_fired_combined_cycle  WEC_SDGE              30.0          1\n",
       "   5 │      5  natural_gas_fired_combined_cycle  WEC_SDGE              49.4          1"
      ]
     },
     "execution_count": 26,
     "metadata": {},
     "output_type": "execute_result"
    }
   ],
   "source": [
    "df = copy(gen_df)\n",
    "select!(df, 1:5)\n",
    "df = df[1:5,:]"
   ]
  },
  {
   "cell_type": "code",
   "execution_count": 27,
   "metadata": {},
   "outputs": [
    {
     "data": {
      "text/html": [
       "<div><div style = \"float: left;\"><span>10×5 DataFrame</span></div><div style = \"clear: both;\"></div></div><div class = \"data-frame\" style = \"overflow-x: scroll;\"><table class = \"data-frame\" style = \"margin-bottom: 6px;\"><thead><tr class = \"header\"><th class = \"rowNumber\" style = \"font-weight: bold; text-align: right;\">Row</th><th style = \"text-align: left;\">r_id</th><th style = \"text-align: left;\">resource</th><th style = \"text-align: left;\">region</th><th style = \"text-align: left;\">var</th><th style = \"text-align: left;\">val</th></tr><tr class = \"subheader headerLastRow\"><th class = \"rowNumber\" style = \"font-weight: bold; text-align: right;\"></th><th title = \"Union{Missing, Int64}\" style = \"text-align: left;\">Int64?</th><th title = \"Union{Missing, String}\" style = \"text-align: left;\">String?</th><th title = \"Union{Missing, String15}\" style = \"text-align: left;\">String15?</th><th title = \"String\" style = \"text-align: left;\">String</th><th title = \"Union{Missing, Float64}\" style = \"text-align: left;\">Float64?</th></tr></thead><tbody><tr><td class = \"rowNumber\" style = \"font-weight: bold; text-align: right;\">1</td><td style = \"text-align: right;\">1</td><td style = \"text-align: left;\">biomass</td><td style = \"text-align: left;\">WEC_SDGE</td><td style = \"text-align: left;\">existing_cap_mw</td><td style = \"text-align: right;\">21.4</td></tr><tr><td class = \"rowNumber\" style = \"font-weight: bold; text-align: right;\">2</td><td style = \"text-align: right;\">2</td><td style = \"text-align: left;\">hydroelectric_pumped_storage</td><td style = \"text-align: left;\">WEC_SDGE</td><td style = \"text-align: left;\">existing_cap_mw</td><td style = \"text-align: right;\">42.0</td></tr><tr><td class = \"rowNumber\" style = \"font-weight: bold; text-align: right;\">3</td><td style = \"text-align: right;\">3</td><td style = \"text-align: left;\">natural_gas_fired_combined_cycle</td><td style = \"text-align: left;\">WEC_SDGE</td><td style = \"text-align: left;\">existing_cap_mw</td><td style = \"text-align: right;\">607.1</td></tr><tr><td class = \"rowNumber\" style = \"font-weight: bold; text-align: right;\">4</td><td style = \"text-align: right;\">4</td><td style = \"text-align: left;\">natural_gas_fired_combined_cycle</td><td style = \"text-align: left;\">WEC_SDGE</td><td style = \"text-align: left;\">existing_cap_mw</td><td style = \"text-align: right;\">30.0</td></tr><tr><td class = \"rowNumber\" style = \"font-weight: bold; text-align: right;\">5</td><td style = \"text-align: right;\">5</td><td style = \"text-align: left;\">natural_gas_fired_combined_cycle</td><td style = \"text-align: left;\">WEC_SDGE</td><td style = \"text-align: left;\">existing_cap_mw</td><td style = \"text-align: right;\">49.4</td></tr><tr><td class = \"rowNumber\" style = \"font-weight: bold; text-align: right;\">6</td><td style = \"text-align: right;\">1</td><td style = \"text-align: left;\">biomass</td><td style = \"text-align: left;\">WEC_SDGE</td><td style = \"text-align: left;\">num_units</td><td style = \"text-align: right;\">20.0</td></tr><tr><td class = \"rowNumber\" style = \"font-weight: bold; text-align: right;\">7</td><td style = \"text-align: right;\">2</td><td style = \"text-align: left;\">hydroelectric_pumped_storage</td><td style = \"text-align: left;\">WEC_SDGE</td><td style = \"text-align: left;\">num_units</td><td style = \"text-align: right;\">2.0</td></tr><tr><td class = \"rowNumber\" style = \"font-weight: bold; text-align: right;\">8</td><td style = \"text-align: right;\">3</td><td style = \"text-align: left;\">natural_gas_fired_combined_cycle</td><td style = \"text-align: left;\">WEC_SDGE</td><td style = \"text-align: left;\">num_units</td><td style = \"text-align: right;\">1.0</td></tr><tr><td class = \"rowNumber\" style = \"font-weight: bold; text-align: right;\">9</td><td style = \"text-align: right;\">4</td><td style = \"text-align: left;\">natural_gas_fired_combined_cycle</td><td style = \"text-align: left;\">WEC_SDGE</td><td style = \"text-align: left;\">num_units</td><td style = \"text-align: right;\">1.0</td></tr><tr><td class = \"rowNumber\" style = \"font-weight: bold; text-align: right;\">10</td><td style = \"text-align: right;\">5</td><td style = \"text-align: left;\">natural_gas_fired_combined_cycle</td><td style = \"text-align: left;\">WEC_SDGE</td><td style = \"text-align: left;\">num_units</td><td style = \"text-align: right;\">1.0</td></tr></tbody></table></div>"
      ],
      "text/latex": [
       "\\begin{tabular}{r|ccccc}\n",
       "\t& r\\_id & resource & region & var & val\\\\\n",
       "\t\\hline\n",
       "\t& Int64? & String? & String15? & String & Float64?\\\\\n",
       "\t\\hline\n",
       "\t1 & 1 & biomass & WEC\\_SDGE & existing\\_cap\\_mw & 21.4 \\\\\n",
       "\t2 & 2 & hydroelectric\\_pumped\\_storage & WEC\\_SDGE & existing\\_cap\\_mw & 42.0 \\\\\n",
       "\t3 & 3 & natural\\_gas\\_fired\\_combined\\_cycle & WEC\\_SDGE & existing\\_cap\\_mw & 607.1 \\\\\n",
       "\t4 & 4 & natural\\_gas\\_fired\\_combined\\_cycle & WEC\\_SDGE & existing\\_cap\\_mw & 30.0 \\\\\n",
       "\t5 & 5 & natural\\_gas\\_fired\\_combined\\_cycle & WEC\\_SDGE & existing\\_cap\\_mw & 49.4 \\\\\n",
       "\t6 & 1 & biomass & WEC\\_SDGE & num\\_units & 20.0 \\\\\n",
       "\t7 & 2 & hydroelectric\\_pumped\\_storage & WEC\\_SDGE & num\\_units & 2.0 \\\\\n",
       "\t8 & 3 & natural\\_gas\\_fired\\_combined\\_cycle & WEC\\_SDGE & num\\_units & 1.0 \\\\\n",
       "\t9 & 4 & natural\\_gas\\_fired\\_combined\\_cycle & WEC\\_SDGE & num\\_units & 1.0 \\\\\n",
       "\t10 & 5 & natural\\_gas\\_fired\\_combined\\_cycle & WEC\\_SDGE & num\\_units & 1.0 \\\\\n",
       "\\end{tabular}\n"
      ],
      "text/plain": [
       "\u001b[1m10×5 DataFrame\u001b[0m\n",
       "\u001b[1m Row \u001b[0m│\u001b[1m r_id   \u001b[0m\u001b[1m resource                         \u001b[0m\u001b[1m region    \u001b[0m\u001b[1m var             \u001b[0m\u001b[1m val      \u001b[0m\n",
       "     │\u001b[90m Int64? \u001b[0m\u001b[90m String?                          \u001b[0m\u001b[90m String15? \u001b[0m\u001b[90m String          \u001b[0m\u001b[90m Float64? \u001b[0m\n",
       "─────┼────────────────────────────────────────────────────────────────────────────────\n",
       "   1 │      1  biomass                           WEC_SDGE   existing_cap_mw      21.4\n",
       "   2 │      2  hydroelectric_pumped_storage      WEC_SDGE   existing_cap_mw      42.0\n",
       "   3 │      3  natural_gas_fired_combined_cycle  WEC_SDGE   existing_cap_mw     607.1\n",
       "   4 │      4  natural_gas_fired_combined_cycle  WEC_SDGE   existing_cap_mw      30.0\n",
       "   5 │      5  natural_gas_fired_combined_cycle  WEC_SDGE   existing_cap_mw      49.4\n",
       "   6 │      1  biomass                           WEC_SDGE   num_units            20.0\n",
       "   7 │      2  hydroelectric_pumped_storage      WEC_SDGE   num_units             2.0\n",
       "   8 │      3  natural_gas_fired_combined_cycle  WEC_SDGE   num_units             1.0\n",
       "   9 │      4  natural_gas_fired_combined_cycle  WEC_SDGE   num_units             1.0\n",
       "  10 │      5  natural_gas_fired_combined_cycle  WEC_SDGE   num_units             1.0"
      ]
     },
     "execution_count": 27,
     "metadata": {},
     "output_type": "execute_result"
    }
   ],
   "source": [
    "stack(df, \n",
    "    [:existing_cap_mw, :num_units], \n",
    "    variable_name=:var,\n",
    "    value_name=:val)"
   ]
  },
  {
   "cell_type": "markdown",
   "metadata": {},
   "source": [
    "**Modify load and variable generation dataframes**\n",
    "\n",
    "1. Convert from \"wide\" to \"long\" format:\n",
    "\n",
    "The file is in \"wide\" format, which has separate columns for values from different types of generators. This has more human readability, but often we want to have it in \"long\" format for computation.\n",
    "\n",
    "\"Long\" format refers to a dataframe with a separate row entry for every value. The rest of the columns are \"indexes\" that uniquely identify the row. In Julia, we use the DataFrame package's [`stack`](https://juliadata.github.io/DataFrames.jl/stable/man/reshaping_and_pivoting/) function to accomplish this. (This is similar to the [`melt`](https://www.rdocumentation.org/packages/reshape2/versions/1.4.4/topics/melt) function for those familiar with DataFrames in R)"
   ]
  },
  {
   "cell_type": "code",
   "execution_count": 28,
   "metadata": {},
   "outputs": [
    {
     "data": {
      "text/html": [
       "<div><div style = \"float: left;\"><span>31×7 DataFrame</span></div><div style = \"float: right;\"><span style = \"font-style: italic;\">6 rows omitted</span></div><div style = \"clear: both;\"></div></div><div class = \"data-frame\" style = \"overflow-x: scroll;\"><table class = \"data-frame\" style = \"margin-bottom: 6px;\"><thead><tr class = \"header\"><th class = \"rowNumber\" style = \"font-weight: bold; text-align: right;\">Row</th><th style = \"text-align: left;\">variable</th><th style = \"text-align: left;\">mean</th><th style = \"text-align: left;\">min</th><th style = \"text-align: left;\">median</th><th style = \"text-align: left;\">max</th><th style = \"text-align: left;\">nmissing</th><th style = \"text-align: left;\">eltype</th></tr><tr class = \"subheader headerLastRow\"><th class = \"rowNumber\" style = \"font-weight: bold; text-align: right;\"></th><th title = \"Symbol\" style = \"text-align: left;\">Symbol</th><th title = \"Float64\" style = \"text-align: left;\">Float64</th><th title = \"Real\" style = \"text-align: left;\">Real</th><th title = \"Float64\" style = \"text-align: left;\">Float64</th><th title = \"Real\" style = \"text-align: left;\">Real</th><th title = \"Int64\" style = \"text-align: left;\">Int64</th><th title = \"DataType\" style = \"text-align: left;\">DataType</th></tr></thead><tbody><tr><td class = \"rowNumber\" style = \"font-weight: bold; text-align: right;\">1</td><td style = \"text-align: left;\">hour</td><td style = \"text-align: right;\">4380.5</td><td style = \"text-align: right;\">1</td><td style = \"text-align: right;\">4380.5</td><td style = \"text-align: right;\">8760</td><td style = \"text-align: right;\">0</td><td style = \"text-align: left;\">Int64</td></tr><tr><td class = \"rowNumber\" style = \"font-weight: bold; text-align: right;\">2</td><td style = \"text-align: left;\">wec_sdge_biomass_1.0</td><td style = \"text-align: right;\">1.0</td><td style = \"text-align: right;\">1</td><td style = \"text-align: right;\">1.0</td><td style = \"text-align: right;\">1</td><td style = \"text-align: right;\">0</td><td style = \"text-align: left;\">Int64</td></tr><tr><td class = \"rowNumber\" style = \"font-weight: bold; text-align: right;\">3</td><td style = \"text-align: left;\">wec_sdge_hydroelectric_pumped_storage_1.0</td><td style = \"text-align: right;\">1.0</td><td style = \"text-align: right;\">1</td><td style = \"text-align: right;\">1.0</td><td style = \"text-align: right;\">1</td><td style = \"text-align: right;\">0</td><td style = \"text-align: left;\">Int64</td></tr><tr><td class = \"rowNumber\" style = \"font-weight: bold; text-align: right;\">4</td><td style = \"text-align: left;\">wec_sdge_natural_gas_fired_combined_cycle_1.0</td><td style = \"text-align: right;\">1.0</td><td style = \"text-align: right;\">1</td><td style = \"text-align: right;\">1.0</td><td style = \"text-align: right;\">1</td><td style = \"text-align: right;\">0</td><td style = \"text-align: left;\">Int64</td></tr><tr><td class = \"rowNumber\" style = \"font-weight: bold; text-align: right;\">5</td><td style = \"text-align: left;\">wec_sdge_natural_gas_fired_combined_cycle_2.0</td><td style = \"text-align: right;\">1.0</td><td style = \"text-align: right;\">1</td><td style = \"text-align: right;\">1.0</td><td style = \"text-align: right;\">1</td><td style = \"text-align: right;\">0</td><td style = \"text-align: left;\">Int64</td></tr><tr><td class = \"rowNumber\" style = \"font-weight: bold; text-align: right;\">6</td><td style = \"text-align: left;\">wec_sdge_natural_gas_fired_combined_cycle_3.0</td><td style = \"text-align: right;\">1.0</td><td style = \"text-align: right;\">1</td><td style = \"text-align: right;\">1.0</td><td style = \"text-align: right;\">1</td><td style = \"text-align: right;\">0</td><td style = \"text-align: left;\">Int64</td></tr><tr><td class = \"rowNumber\" style = \"font-weight: bold; text-align: right;\">7</td><td style = \"text-align: left;\">wec_sdge_natural_gas_fired_combined_cycle_4.0</td><td style = \"text-align: right;\">1.0</td><td style = \"text-align: right;\">1</td><td style = \"text-align: right;\">1.0</td><td style = \"text-align: right;\">1</td><td style = \"text-align: right;\">0</td><td style = \"text-align: left;\">Int64</td></tr><tr><td class = \"rowNumber\" style = \"font-weight: bold; text-align: right;\">8</td><td style = \"text-align: left;\">wec_sdge_natural_gas_fired_combustion_turbine_1.0</td><td style = \"text-align: right;\">1.0</td><td style = \"text-align: right;\">1</td><td style = \"text-align: right;\">1.0</td><td style = \"text-align: right;\">1</td><td style = \"text-align: right;\">0</td><td style = \"text-align: left;\">Int64</td></tr><tr><td class = \"rowNumber\" style = \"font-weight: bold; text-align: right;\">9</td><td style = \"text-align: left;\">wec_sdge_natural_gas_fired_combustion_turbine_2.0</td><td style = \"text-align: right;\">1.0</td><td style = \"text-align: right;\">1</td><td style = \"text-align: right;\">1.0</td><td style = \"text-align: right;\">1</td><td style = \"text-align: right;\">0</td><td style = \"text-align: left;\">Int64</td></tr><tr><td class = \"rowNumber\" style = \"font-weight: bold; text-align: right;\">10</td><td style = \"text-align: left;\">wec_sdge_natural_gas_fired_combustion_turbine_3.0</td><td style = \"text-align: right;\">1.0</td><td style = \"text-align: right;\">1</td><td style = \"text-align: right;\">1.0</td><td style = \"text-align: right;\">1</td><td style = \"text-align: right;\">0</td><td style = \"text-align: left;\">Int64</td></tr><tr><td class = \"rowNumber\" style = \"font-weight: bold; text-align: right;\">11</td><td style = \"text-align: left;\">wec_sdge_natural_gas_fired_combustion_turbine_4.0</td><td style = \"text-align: right;\">1.0</td><td style = \"text-align: right;\">1</td><td style = \"text-align: right;\">1.0</td><td style = \"text-align: right;\">1</td><td style = \"text-align: right;\">0</td><td style = \"text-align: left;\">Int64</td></tr><tr><td class = \"rowNumber\" style = \"font-weight: bold; text-align: right;\">12</td><td style = \"text-align: left;\">wec_sdge_natural_gas_fired_combustion_turbine_5.0</td><td style = \"text-align: right;\">1.0</td><td style = \"text-align: right;\">1</td><td style = \"text-align: right;\">1.0</td><td style = \"text-align: right;\">1</td><td style = \"text-align: right;\">0</td><td style = \"text-align: left;\">Int64</td></tr><tr><td class = \"rowNumber\" style = \"font-weight: bold; text-align: right;\">13</td><td style = \"text-align: left;\">wec_sdge_natural_gas_fired_combustion_turbine_6.0</td><td style = \"text-align: right;\">1.0</td><td style = \"text-align: right;\">1</td><td style = \"text-align: right;\">1.0</td><td style = \"text-align: right;\">1</td><td style = \"text-align: right;\">0</td><td style = \"text-align: left;\">Int64</td></tr><tr><td style = \"text-align: right;\">&vellip;</td><td style = \"text-align: right;\">&vellip;</td><td style = \"text-align: right;\">&vellip;</td><td style = \"text-align: right;\">&vellip;</td><td style = \"text-align: right;\">&vellip;</td><td style = \"text-align: right;\">&vellip;</td><td style = \"text-align: right;\">&vellip;</td><td style = \"text-align: right;\">&vellip;</td></tr><tr><td class = \"rowNumber\" style = \"font-weight: bold; text-align: right;\">20</td><td style = \"text-align: left;\">wec_sdge_onshore_wind_turbine_1.0</td><td style = \"text-align: right;\">0.253519</td><td style = \"text-align: right;\">0.0</td><td style = \"text-align: right;\">0.19465</td><td style = \"text-align: right;\">0.9089</td><td style = \"text-align: right;\">0</td><td style = \"text-align: left;\">Float64</td></tr><tr><td class = \"rowNumber\" style = \"font-weight: bold; text-align: right;\">21</td><td style = \"text-align: left;\">wec_sdge_small_hydroelectric_1.0</td><td style = \"text-align: right;\">0.41567</td><td style = \"text-align: right;\">0.2167</td><td style = \"text-align: right;\">0.38475</td><td style = \"text-align: right;\">0.6337</td><td style = \"text-align: right;\">0</td><td style = \"text-align: left;\">Float64</td></tr><tr><td class = \"rowNumber\" style = \"font-weight: bold; text-align: right;\">22</td><td style = \"text-align: left;\">wec_sdge_solar_photovoltaic_1.0</td><td style = \"text-align: right;\">0.247288</td><td style = \"text-align: right;\">0.0</td><td style = \"text-align: right;\">0.0</td><td style = \"text-align: right;\">0.7959</td><td style = \"text-align: right;\">0</td><td style = \"text-align: left;\">Float64</td></tr><tr><td class = \"rowNumber\" style = \"font-weight: bold; text-align: right;\">23</td><td style = \"text-align: left;\">wec_sdge_naturalgas_ccccsavgcf_0.0</td><td style = \"text-align: right;\">1.0</td><td style = \"text-align: right;\">1</td><td style = \"text-align: right;\">1.0</td><td style = \"text-align: right;\">1</td><td style = \"text-align: right;\">0</td><td style = \"text-align: left;\">Int64</td></tr><tr><td class = \"rowNumber\" style = \"font-weight: bold; text-align: right;\">24</td><td style = \"text-align: left;\">wec_sdge_naturalgas_ccavgcf_0.0</td><td style = \"text-align: right;\">1.0</td><td style = \"text-align: right;\">1</td><td style = \"text-align: right;\">1.0</td><td style = \"text-align: right;\">1</td><td style = \"text-align: right;\">0</td><td style = \"text-align: left;\">Int64</td></tr><tr><td class = \"rowNumber\" style = \"font-weight: bold; text-align: right;\">25</td><td style = \"text-align: left;\">wec_sdge_naturalgas_ctavgcf_0.0</td><td style = \"text-align: right;\">1.0</td><td style = \"text-align: right;\">1</td><td style = \"text-align: right;\">1.0</td><td style = \"text-align: right;\">1</td><td style = \"text-align: right;\">0</td><td style = \"text-align: left;\">Int64</td></tr><tr><td class = \"rowNumber\" style = \"font-weight: bold; text-align: right;\">26</td><td style = \"text-align: left;\">wec_sdge_battery_0.0</td><td style = \"text-align: right;\">1.0</td><td style = \"text-align: right;\">1</td><td style = \"text-align: right;\">1.0</td><td style = \"text-align: right;\">1</td><td style = \"text-align: right;\">0</td><td style = \"text-align: left;\">Int64</td></tr><tr><td class = \"rowNumber\" style = \"font-weight: bold; text-align: right;\">27</td><td style = \"text-align: left;\">wec_sdge_naturalgas_ccs100_0.0</td><td style = \"text-align: right;\">1.0</td><td style = \"text-align: right;\">1</td><td style = \"text-align: right;\">1.0</td><td style = \"text-align: right;\">1</td><td style = \"text-align: right;\">0</td><td style = \"text-align: left;\">Int64</td></tr><tr><td class = \"rowNumber\" style = \"font-weight: bold; text-align: right;\">28</td><td style = \"text-align: left;\">wec_sdge_landbasedwind_ltrg1_1.0</td><td style = \"text-align: right;\">0.341167</td><td style = \"text-align: right;\">0.0</td><td style = \"text-align: right;\">0.249565</td><td style = \"text-align: right;\">0.93217</td><td style = \"text-align: right;\">0</td><td style = \"text-align: left;\">Float64</td></tr><tr><td class = \"rowNumber\" style = \"font-weight: bold; text-align: right;\">29</td><td style = \"text-align: left;\">wec_sdge_landbasedwind_ltrg1_2.0</td><td style = \"text-align: right;\">0.257347</td><td style = \"text-align: right;\">0.0</td><td style = \"text-align: right;\">0.194376</td><td style = \"text-align: right;\">0.912162</td><td style = \"text-align: right;\">0</td><td style = \"text-align: left;\">Float64</td></tr><tr><td class = \"rowNumber\" style = \"font-weight: bold; text-align: right;\">30</td><td style = \"text-align: left;\">wec_sdge_utilitypv_losangeles_1.0</td><td style = \"text-align: right;\">0.346479</td><td style = \"text-align: right;\">0.0</td><td style = \"text-align: right;\">0.0</td><td style = \"text-align: right;\">1.0</td><td style = \"text-align: right;\">0</td><td style = \"text-align: left;\">Float64</td></tr><tr><td class = \"rowNumber\" style = \"font-weight: bold; text-align: right;\">31</td><td style = \"text-align: left;\">wec_sdge_utilitypv_losangeles_2.0</td><td style = \"text-align: right;\">0.344724</td><td style = \"text-align: right;\">0.0</td><td style = \"text-align: right;\">0.0</td><td style = \"text-align: right;\">1.0</td><td style = \"text-align: right;\">0</td><td style = \"text-align: left;\">Float64</td></tr></tbody></table></div>"
      ],
      "text/latex": [
       "\\begin{tabular}{r|ccccccc}\n",
       "\t& variable & mean & min & median & max & nmissing & eltype\\\\\n",
       "\t\\hline\n",
       "\t& Symbol & Float64 & Real & Float64 & Real & Int64 & DataType\\\\\n",
       "\t\\hline\n",
       "\t1 & hour & 4380.5 & 1 & 4380.5 & 8760 & 0 & Int64 \\\\\n",
       "\t2 & wec\\_sdge\\_biomass\\_1.0 & 1.0 & 1 & 1.0 & 1 & 0 & Int64 \\\\\n",
       "\t3 & wec\\_sdge\\_hydroelectric\\_pumped\\_storage\\_1.0 & 1.0 & 1 & 1.0 & 1 & 0 & Int64 \\\\\n",
       "\t4 & wec\\_sdge\\_natural\\_gas\\_fired\\_combined\\_cycle\\_1.0 & 1.0 & 1 & 1.0 & 1 & 0 & Int64 \\\\\n",
       "\t5 & wec\\_sdge\\_natural\\_gas\\_fired\\_combined\\_cycle\\_2.0 & 1.0 & 1 & 1.0 & 1 & 0 & Int64 \\\\\n",
       "\t6 & wec\\_sdge\\_natural\\_gas\\_fired\\_combined\\_cycle\\_3.0 & 1.0 & 1 & 1.0 & 1 & 0 & Int64 \\\\\n",
       "\t7 & wec\\_sdge\\_natural\\_gas\\_fired\\_combined\\_cycle\\_4.0 & 1.0 & 1 & 1.0 & 1 & 0 & Int64 \\\\\n",
       "\t8 & wec\\_sdge\\_natural\\_gas\\_fired\\_combustion\\_turbine\\_1.0 & 1.0 & 1 & 1.0 & 1 & 0 & Int64 \\\\\n",
       "\t9 & wec\\_sdge\\_natural\\_gas\\_fired\\_combustion\\_turbine\\_2.0 & 1.0 & 1 & 1.0 & 1 & 0 & Int64 \\\\\n",
       "\t10 & wec\\_sdge\\_natural\\_gas\\_fired\\_combustion\\_turbine\\_3.0 & 1.0 & 1 & 1.0 & 1 & 0 & Int64 \\\\\n",
       "\t11 & wec\\_sdge\\_natural\\_gas\\_fired\\_combustion\\_turbine\\_4.0 & 1.0 & 1 & 1.0 & 1 & 0 & Int64 \\\\\n",
       "\t12 & wec\\_sdge\\_natural\\_gas\\_fired\\_combustion\\_turbine\\_5.0 & 1.0 & 1 & 1.0 & 1 & 0 & Int64 \\\\\n",
       "\t13 & wec\\_sdge\\_natural\\_gas\\_fired\\_combustion\\_turbine\\_6.0 & 1.0 & 1 & 1.0 & 1 & 0 & Int64 \\\\\n",
       "\t14 & wec\\_sdge\\_natural\\_gas\\_fired\\_combustion\\_turbine\\_7.0 & 1.0 & 1 & 1.0 & 1 & 0 & Int64 \\\\\n",
       "\t15 & wec\\_sdge\\_natural\\_gas\\_fired\\_combustion\\_turbine\\_8.0 & 1.0 & 1 & 1.0 & 1 & 0 & Int64 \\\\\n",
       "\t16 & wec\\_sdge\\_natural\\_gas\\_fired\\_combustion\\_turbine\\_9.0 & 1.0 & 1 & 1.0 & 1 & 0 & Int64 \\\\\n",
       "\t17 & wec\\_sdge\\_natural\\_gas\\_fired\\_combustion\\_turbine\\_10.0 & 1.0 & 1 & 1.0 & 1 & 0 & Int64 \\\\\n",
       "\t18 & wec\\_sdge\\_natural\\_gas\\_fired\\_combustion\\_turbine\\_11.0 & 1.0 & 1 & 1.0 & 1 & 0 & Int64 \\\\\n",
       "\t19 & wec\\_sdge\\_natural\\_gas\\_fired\\_combustion\\_turbine\\_12.0 & 1.0 & 1 & 1.0 & 1 & 0 & Int64 \\\\\n",
       "\t20 & wec\\_sdge\\_onshore\\_wind\\_turbine\\_1.0 & 0.253519 & 0.0 & 0.19465 & 0.9089 & 0 & Float64 \\\\\n",
       "\t21 & wec\\_sdge\\_small\\_hydroelectric\\_1.0 & 0.41567 & 0.2167 & 0.38475 & 0.6337 & 0 & Float64 \\\\\n",
       "\t22 & wec\\_sdge\\_solar\\_photovoltaic\\_1.0 & 0.247288 & 0.0 & 0.0 & 0.7959 & 0 & Float64 \\\\\n",
       "\t23 & wec\\_sdge\\_naturalgas\\_ccccsavgcf\\_0.0 & 1.0 & 1 & 1.0 & 1 & 0 & Int64 \\\\\n",
       "\t24 & wec\\_sdge\\_naturalgas\\_ccavgcf\\_0.0 & 1.0 & 1 & 1.0 & 1 & 0 & Int64 \\\\\n",
       "\t25 & wec\\_sdge\\_naturalgas\\_ctavgcf\\_0.0 & 1.0 & 1 & 1.0 & 1 & 0 & Int64 \\\\\n",
       "\t26 & wec\\_sdge\\_battery\\_0.0 & 1.0 & 1 & 1.0 & 1 & 0 & Int64 \\\\\n",
       "\t27 & wec\\_sdge\\_naturalgas\\_ccs100\\_0.0 & 1.0 & 1 & 1.0 & 1 & 0 & Int64 \\\\\n",
       "\t28 & wec\\_sdge\\_landbasedwind\\_ltrg1\\_1.0 & 0.341167 & 0.0 & 0.249565 & 0.93217 & 0 & Float64 \\\\\n",
       "\t29 & wec\\_sdge\\_landbasedwind\\_ltrg1\\_2.0 & 0.257347 & 0.0 & 0.194376 & 0.912162 & 0 & Float64 \\\\\n",
       "\t30 & wec\\_sdge\\_utilitypv\\_losangeles\\_1.0 & 0.346479 & 0.0 & 0.0 & 1.0 & 0 & Float64 \\\\\n",
       "\t$\\dots$ & $\\dots$ & $\\dots$ & $\\dots$ & $\\dots$ & $\\dots$ & $\\dots$ & $\\dots$ \\\\\n",
       "\\end{tabular}\n"
      ],
      "text/plain": [
       "\u001b[1m31×7 DataFrame\u001b[0m\n",
       "\u001b[1m Row \u001b[0m│\u001b[1m variable                          \u001b[0m\u001b[1m mean        \u001b[0m\u001b[1m min    \u001b[0m\u001b[1m median      \u001b[0m\u001b[1m max         \u001b[0m\u001b[1m nmissing \u001b[0m\u001b[1m eltype   \u001b[0m\n",
       "     │\u001b[90m Symbol                            \u001b[0m\u001b[90m Float64     \u001b[0m\u001b[90m Real   \u001b[0m\u001b[90m Float64     \u001b[0m\u001b[90m Real        \u001b[0m\u001b[90m Int64    \u001b[0m\u001b[90m DataType \u001b[0m\n",
       "─────┼──────────────────────────────────────────────────────────────────────────────────────────────────────\n",
       "   1 │ hour                               4380.5       1       4380.5       8760                0  Int64\n",
       "   2 │ wec_sdge_biomass_1.0                  1.0       1          1.0          1                0  Int64\n",
       "   3 │ wec_sdge_hydroelectric_pumped_st…     1.0       1          1.0          1                0  Int64\n",
       "   4 │ wec_sdge_natural_gas_fired_combi…     1.0       1          1.0          1                0  Int64\n",
       "   5 │ wec_sdge_natural_gas_fired_combi…     1.0       1          1.0          1                0  Int64\n",
       "   6 │ wec_sdge_natural_gas_fired_combi…     1.0       1          1.0          1                0  Int64\n",
       "   7 │ wec_sdge_natural_gas_fired_combi…     1.0       1          1.0          1                0  Int64\n",
       "   8 │ wec_sdge_natural_gas_fired_combu…     1.0       1          1.0          1                0  Int64\n",
       "   9 │ wec_sdge_natural_gas_fired_combu…     1.0       1          1.0          1                0  Int64\n",
       "  10 │ wec_sdge_natural_gas_fired_combu…     1.0       1          1.0          1                0  Int64\n",
       "  11 │ wec_sdge_natural_gas_fired_combu…     1.0       1          1.0          1                0  Int64\n",
       "  ⋮  │                 ⋮                       ⋮         ⋮          ⋮            ⋮          ⋮         ⋮\n",
       "  22 │ wec_sdge_solar_photovoltaic_1.0       0.247288  0.0        0.0          0.7959           0  Float64\n",
       "  23 │ wec_sdge_naturalgas_ccccsavgcf_0…     1.0       1          1.0          1                0  Int64\n",
       "  24 │ wec_sdge_naturalgas_ccavgcf_0.0       1.0       1          1.0          1                0  Int64\n",
       "  25 │ wec_sdge_naturalgas_ctavgcf_0.0       1.0       1          1.0          1                0  Int64\n",
       "  26 │ wec_sdge_battery_0.0                  1.0       1          1.0          1                0  Int64\n",
       "  27 │ wec_sdge_naturalgas_ccs100_0.0        1.0       1          1.0          1                0  Int64\n",
       "  28 │ wec_sdge_landbasedwind_ltrg1_1.0      0.341167  0.0        0.249565     0.93217          0  Float64\n",
       "  29 │ wec_sdge_landbasedwind_ltrg1_2.0      0.257347  0.0        0.194376     0.912162         0  Float64\n",
       "  30 │ wec_sdge_utilitypv_losangeles_1.0     0.346479  0.0        0.0          1.0              0  Float64\n",
       "  31 │ wec_sdge_utilitypv_losangeles_2.0     0.344724  0.0        0.0          1.0              0  Float64\n",
       "\u001b[36m                                                                                             10 rows omitted\u001b[0m"
      ]
     },
     "execution_count": 28,
     "metadata": {},
     "output_type": "execute_result"
    }
   ],
   "source": [
    "describe(gen_variable)"
   ]
  },
  {
   "cell_type": "code",
   "execution_count": 29,
   "metadata": {},
   "outputs": [
    {
     "data": {
      "text/html": [
       "<div><div style = \"float: left;\"><span>6×3 DataFrame</span></div><div style = \"clear: both;\"></div></div><div class = \"data-frame\" style = \"overflow-x: scroll;\"><table class = \"data-frame\" style = \"margin-bottom: 6px;\"><thead><tr class = \"header\"><th class = \"rowNumber\" style = \"font-weight: bold; text-align: right;\">Row</th><th style = \"text-align: left;\">hour</th><th style = \"text-align: left;\">gen_full</th><th style = \"text-align: left;\">cf</th></tr><tr class = \"subheader headerLastRow\"><th class = \"rowNumber\" style = \"font-weight: bold; text-align: right;\"></th><th title = \"Int64\" style = \"text-align: left;\">Int64</th><th title = \"String\" style = \"text-align: left;\">String</th><th title = \"Float64\" style = \"text-align: left;\">Float64</th></tr></thead><tbody><tr><td class = \"rowNumber\" style = \"font-weight: bold; text-align: right;\">1</td><td style = \"text-align: right;\">1</td><td style = \"text-align: left;\">wec_sdge_onshore_wind_turbine_1.0</td><td style = \"text-align: right;\">0.1694</td></tr><tr><td class = \"rowNumber\" style = \"font-weight: bold; text-align: right;\">2</td><td style = \"text-align: right;\">2</td><td style = \"text-align: left;\">wec_sdge_onshore_wind_turbine_1.0</td><td style = \"text-align: right;\">0.1658</td></tr><tr><td class = \"rowNumber\" style = \"font-weight: bold; text-align: right;\">3</td><td style = \"text-align: right;\">3</td><td style = \"text-align: left;\">wec_sdge_onshore_wind_turbine_1.0</td><td style = \"text-align: right;\">0.1502</td></tr><tr><td class = \"rowNumber\" style = \"font-weight: bold; text-align: right;\">4</td><td style = \"text-align: right;\">4</td><td style = \"text-align: left;\">wec_sdge_onshore_wind_turbine_1.0</td><td style = \"text-align: right;\">0.1455</td></tr><tr><td class = \"rowNumber\" style = \"font-weight: bold; text-align: right;\">5</td><td style = \"text-align: right;\">5</td><td style = \"text-align: left;\">wec_sdge_onshore_wind_turbine_1.0</td><td style = \"text-align: right;\">0.0932</td></tr><tr><td class = \"rowNumber\" style = \"font-weight: bold; text-align: right;\">6</td><td style = \"text-align: right;\">6</td><td style = \"text-align: left;\">wec_sdge_onshore_wind_turbine_1.0</td><td style = \"text-align: right;\">0.0717</td></tr></tbody></table></div>"
      ],
      "text/latex": [
       "\\begin{tabular}{r|ccc}\n",
       "\t& hour & gen\\_full & cf\\\\\n",
       "\t\\hline\n",
       "\t& Int64 & String & Float64\\\\\n",
       "\t\\hline\n",
       "\t1 & 1 & wec\\_sdge\\_onshore\\_wind\\_turbine\\_1.0 & 0.1694 \\\\\n",
       "\t2 & 2 & wec\\_sdge\\_onshore\\_wind\\_turbine\\_1.0 & 0.1658 \\\\\n",
       "\t3 & 3 & wec\\_sdge\\_onshore\\_wind\\_turbine\\_1.0 & 0.1502 \\\\\n",
       "\t4 & 4 & wec\\_sdge\\_onshore\\_wind\\_turbine\\_1.0 & 0.1455 \\\\\n",
       "\t5 & 5 & wec\\_sdge\\_onshore\\_wind\\_turbine\\_1.0 & 0.0932 \\\\\n",
       "\t6 & 6 & wec\\_sdge\\_onshore\\_wind\\_turbine\\_1.0 & 0.0717 \\\\\n",
       "\\end{tabular}\n"
      ],
      "text/plain": [
       "\u001b[1m6×3 DataFrame\u001b[0m\n",
       "\u001b[1m Row \u001b[0m│\u001b[1m hour  \u001b[0m\u001b[1m gen_full                          \u001b[0m\u001b[1m cf      \u001b[0m\n",
       "     │\u001b[90m Int64 \u001b[0m\u001b[90m String                            \u001b[0m\u001b[90m Float64 \u001b[0m\n",
       "─────┼───────────────────────────────────────────────────\n",
       "   1 │     1  wec_sdge_onshore_wind_turbine_1.0   0.1694\n",
       "   2 │     2  wec_sdge_onshore_wind_turbine_1.0   0.1658\n",
       "   3 │     3  wec_sdge_onshore_wind_turbine_1.0   0.1502\n",
       "   4 │     4  wec_sdge_onshore_wind_turbine_1.0   0.1455\n",
       "   5 │     5  wec_sdge_onshore_wind_turbine_1.0   0.0932\n",
       "   6 │     6  wec_sdge_onshore_wind_turbine_1.0   0.0717"
      ]
     },
     "execution_count": 29,
     "metadata": {},
     "output_type": "execute_result"
    }
   ],
   "source": [
    "gen_variable_long = stack(gen_variable, \n",
    "                        Not(:hour), \n",
    "                        variable_name=:gen_full,\n",
    "                        value_name=:cf);\n",
    "# Now we have a \"long\" dataframe; \n",
    "# let's look at the first 6 entries of a wind resource for example\n",
    "first(gen_variable_long[gen_variable_long.gen_full.==\"wec_sdge_onshore_wind_turbine_1.0\",:],6)"
   ]
  },
  {
   "cell_type": "markdown",
   "metadata": {},
   "source": [
    "**Extract single time from the data**\n",
    "(we will get to the full set later)\n",
    "\n",
    "- demand\n",
    "- variable generation\n",
    "\n",
    "Note: variable generation profiles are often encoded in terms of hourly maximum capacity factor, expressed as a per unit value or percentage of installed capacity. Hourly capacity factor is then later multiplied by installed capacity to yield a maximum hourly generation for each resource."
   ]
  },
  {
   "cell_type": "code",
   "execution_count": 30,
   "metadata": {},
   "outputs": [
    {
     "data": {
      "text/html": [
       "<div><div style = \"float: left;\"><span>30×2 DataFrame</span></div><div style = \"float: right;\"><span style = \"font-style: italic;\">5 rows omitted</span></div><div style = \"clear: both;\"></div></div><div class = \"data-frame\" style = \"overflow-x: scroll;\"><table class = \"data-frame\" style = \"margin-bottom: 6px;\"><thead><tr class = \"header\"><th class = \"rowNumber\" style = \"font-weight: bold; text-align: right;\">Row</th><th style = \"text-align: left;\">gen_full</th><th style = \"text-align: left;\">cf</th></tr><tr class = \"subheader headerLastRow\"><th class = \"rowNumber\" style = \"font-weight: bold; text-align: right;\"></th><th title = \"String\" style = \"text-align: left;\">String</th><th title = \"Float64\" style = \"text-align: left;\">Float64</th></tr></thead><tbody><tr><td class = \"rowNumber\" style = \"font-weight: bold; text-align: right;\">1</td><td style = \"text-align: left;\">wec_sdge_biomass_1.0</td><td style = \"text-align: right;\">1.0</td></tr><tr><td class = \"rowNumber\" style = \"font-weight: bold; text-align: right;\">2</td><td style = \"text-align: left;\">wec_sdge_hydroelectric_pumped_storage_1.0</td><td style = \"text-align: right;\">1.0</td></tr><tr><td class = \"rowNumber\" style = \"font-weight: bold; text-align: right;\">3</td><td style = \"text-align: left;\">wec_sdge_natural_gas_fired_combined_cycle_1.0</td><td style = \"text-align: right;\">1.0</td></tr><tr><td class = \"rowNumber\" style = \"font-weight: bold; text-align: right;\">4</td><td style = \"text-align: left;\">wec_sdge_natural_gas_fired_combined_cycle_2.0</td><td style = \"text-align: right;\">1.0</td></tr><tr><td class = \"rowNumber\" style = \"font-weight: bold; text-align: right;\">5</td><td style = \"text-align: left;\">wec_sdge_natural_gas_fired_combined_cycle_3.0</td><td style = \"text-align: right;\">1.0</td></tr><tr><td class = \"rowNumber\" style = \"font-weight: bold; text-align: right;\">6</td><td style = \"text-align: left;\">wec_sdge_natural_gas_fired_combined_cycle_4.0</td><td style = \"text-align: right;\">1.0</td></tr><tr><td class = \"rowNumber\" style = \"font-weight: bold; text-align: right;\">7</td><td style = \"text-align: left;\">wec_sdge_natural_gas_fired_combustion_turbine_1.0</td><td style = \"text-align: right;\">1.0</td></tr><tr><td class = \"rowNumber\" style = \"font-weight: bold; text-align: right;\">8</td><td style = \"text-align: left;\">wec_sdge_natural_gas_fired_combustion_turbine_2.0</td><td style = \"text-align: right;\">1.0</td></tr><tr><td class = \"rowNumber\" style = \"font-weight: bold; text-align: right;\">9</td><td style = \"text-align: left;\">wec_sdge_natural_gas_fired_combustion_turbine_3.0</td><td style = \"text-align: right;\">1.0</td></tr><tr><td class = \"rowNumber\" style = \"font-weight: bold; text-align: right;\">10</td><td style = \"text-align: left;\">wec_sdge_natural_gas_fired_combustion_turbine_4.0</td><td style = \"text-align: right;\">1.0</td></tr><tr><td class = \"rowNumber\" style = \"font-weight: bold; text-align: right;\">11</td><td style = \"text-align: left;\">wec_sdge_natural_gas_fired_combustion_turbine_5.0</td><td style = \"text-align: right;\">1.0</td></tr><tr><td class = \"rowNumber\" style = \"font-weight: bold; text-align: right;\">12</td><td style = \"text-align: left;\">wec_sdge_natural_gas_fired_combustion_turbine_6.0</td><td style = \"text-align: right;\">1.0</td></tr><tr><td class = \"rowNumber\" style = \"font-weight: bold; text-align: right;\">13</td><td style = \"text-align: left;\">wec_sdge_natural_gas_fired_combustion_turbine_7.0</td><td style = \"text-align: right;\">1.0</td></tr><tr><td style = \"text-align: right;\">&vellip;</td><td style = \"text-align: right;\">&vellip;</td><td style = \"text-align: right;\">&vellip;</td></tr><tr><td class = \"rowNumber\" style = \"font-weight: bold; text-align: right;\">19</td><td style = \"text-align: left;\">wec_sdge_onshore_wind_turbine_1.0</td><td style = \"text-align: right;\">0.3006</td></tr><tr><td class = \"rowNumber\" style = \"font-weight: bold; text-align: right;\">20</td><td style = \"text-align: left;\">wec_sdge_small_hydroelectric_1.0</td><td style = \"text-align: right;\">0.4351</td></tr><tr><td class = \"rowNumber\" style = \"font-weight: bold; text-align: right;\">21</td><td style = \"text-align: left;\">wec_sdge_solar_photovoltaic_1.0</td><td style = \"text-align: right;\">0.5695</td></tr><tr><td class = \"rowNumber\" style = \"font-weight: bold; text-align: right;\">22</td><td style = \"text-align: left;\">wec_sdge_naturalgas_ccccsavgcf_0.0</td><td style = \"text-align: right;\">1.0</td></tr><tr><td class = \"rowNumber\" style = \"font-weight: bold; text-align: right;\">23</td><td style = \"text-align: left;\">wec_sdge_naturalgas_ccavgcf_0.0</td><td style = \"text-align: right;\">1.0</td></tr><tr><td class = \"rowNumber\" style = \"font-weight: bold; text-align: right;\">24</td><td style = \"text-align: left;\">wec_sdge_naturalgas_ctavgcf_0.0</td><td style = \"text-align: right;\">1.0</td></tr><tr><td class = \"rowNumber\" style = \"font-weight: bold; text-align: right;\">25</td><td style = \"text-align: left;\">wec_sdge_battery_0.0</td><td style = \"text-align: right;\">1.0</td></tr><tr><td class = \"rowNumber\" style = \"font-weight: bold; text-align: right;\">26</td><td style = \"text-align: left;\">wec_sdge_naturalgas_ccs100_0.0</td><td style = \"text-align: right;\">1.0</td></tr><tr><td class = \"rowNumber\" style = \"font-weight: bold; text-align: right;\">27</td><td style = \"text-align: left;\">wec_sdge_landbasedwind_ltrg1_1.0</td><td style = \"text-align: right;\">0.482802</td></tr><tr><td class = \"rowNumber\" style = \"font-weight: bold; text-align: right;\">28</td><td style = \"text-align: left;\">wec_sdge_landbasedwind_ltrg1_2.0</td><td style = \"text-align: right;\">0.302244</td></tr><tr><td class = \"rowNumber\" style = \"font-weight: bold; text-align: right;\">29</td><td style = \"text-align: left;\">wec_sdge_utilitypv_losangeles_1.0</td><td style = \"text-align: right;\">0.690915</td></tr><tr><td class = \"rowNumber\" style = \"font-weight: bold; text-align: right;\">30</td><td style = \"text-align: left;\">wec_sdge_utilitypv_losangeles_2.0</td><td style = \"text-align: right;\">0.743176</td></tr></tbody></table></div>"
      ],
      "text/latex": [
       "\\begin{tabular}{r|cc}\n",
       "\t& gen\\_full & cf\\\\\n",
       "\t\\hline\n",
       "\t& String & Float64\\\\\n",
       "\t\\hline\n",
       "\t1 & wec\\_sdge\\_biomass\\_1.0 & 1.0 \\\\\n",
       "\t2 & wec\\_sdge\\_hydroelectric\\_pumped\\_storage\\_1.0 & 1.0 \\\\\n",
       "\t3 & wec\\_sdge\\_natural\\_gas\\_fired\\_combined\\_cycle\\_1.0 & 1.0 \\\\\n",
       "\t4 & wec\\_sdge\\_natural\\_gas\\_fired\\_combined\\_cycle\\_2.0 & 1.0 \\\\\n",
       "\t5 & wec\\_sdge\\_natural\\_gas\\_fired\\_combined\\_cycle\\_3.0 & 1.0 \\\\\n",
       "\t6 & wec\\_sdge\\_natural\\_gas\\_fired\\_combined\\_cycle\\_4.0 & 1.0 \\\\\n",
       "\t7 & wec\\_sdge\\_natural\\_gas\\_fired\\_combustion\\_turbine\\_1.0 & 1.0 \\\\\n",
       "\t8 & wec\\_sdge\\_natural\\_gas\\_fired\\_combustion\\_turbine\\_2.0 & 1.0 \\\\\n",
       "\t9 & wec\\_sdge\\_natural\\_gas\\_fired\\_combustion\\_turbine\\_3.0 & 1.0 \\\\\n",
       "\t10 & wec\\_sdge\\_natural\\_gas\\_fired\\_combustion\\_turbine\\_4.0 & 1.0 \\\\\n",
       "\t11 & wec\\_sdge\\_natural\\_gas\\_fired\\_combustion\\_turbine\\_5.0 & 1.0 \\\\\n",
       "\t12 & wec\\_sdge\\_natural\\_gas\\_fired\\_combustion\\_turbine\\_6.0 & 1.0 \\\\\n",
       "\t13 & wec\\_sdge\\_natural\\_gas\\_fired\\_combustion\\_turbine\\_7.0 & 1.0 \\\\\n",
       "\t14 & wec\\_sdge\\_natural\\_gas\\_fired\\_combustion\\_turbine\\_8.0 & 1.0 \\\\\n",
       "\t15 & wec\\_sdge\\_natural\\_gas\\_fired\\_combustion\\_turbine\\_9.0 & 1.0 \\\\\n",
       "\t16 & wec\\_sdge\\_natural\\_gas\\_fired\\_combustion\\_turbine\\_10.0 & 1.0 \\\\\n",
       "\t17 & wec\\_sdge\\_natural\\_gas\\_fired\\_combustion\\_turbine\\_11.0 & 1.0 \\\\\n",
       "\t18 & wec\\_sdge\\_natural\\_gas\\_fired\\_combustion\\_turbine\\_12.0 & 1.0 \\\\\n",
       "\t19 & wec\\_sdge\\_onshore\\_wind\\_turbine\\_1.0 & 0.3006 \\\\\n",
       "\t20 & wec\\_sdge\\_small\\_hydroelectric\\_1.0 & 0.4351 \\\\\n",
       "\t21 & wec\\_sdge\\_solar\\_photovoltaic\\_1.0 & 0.5695 \\\\\n",
       "\t22 & wec\\_sdge\\_naturalgas\\_ccccsavgcf\\_0.0 & 1.0 \\\\\n",
       "\t23 & wec\\_sdge\\_naturalgas\\_ccavgcf\\_0.0 & 1.0 \\\\\n",
       "\t24 & wec\\_sdge\\_naturalgas\\_ctavgcf\\_0.0 & 1.0 \\\\\n",
       "\t25 & wec\\_sdge\\_battery\\_0.0 & 1.0 \\\\\n",
       "\t26 & wec\\_sdge\\_naturalgas\\_ccs100\\_0.0 & 1.0 \\\\\n",
       "\t27 & wec\\_sdge\\_landbasedwind\\_ltrg1\\_1.0 & 0.482802 \\\\\n",
       "\t28 & wec\\_sdge\\_landbasedwind\\_ltrg1\\_2.0 & 0.302244 \\\\\n",
       "\t29 & wec\\_sdge\\_utilitypv\\_losangeles\\_1.0 & 0.690915 \\\\\n",
       "\t30 & wec\\_sdge\\_utilitypv\\_losangeles\\_2.0 & 0.743176 \\\\\n",
       "\\end{tabular}\n"
      ],
      "text/plain": [
       "\u001b[1m30×2 DataFrame\u001b[0m\n",
       "\u001b[1m Row \u001b[0m│\u001b[1m gen_full                          \u001b[0m\u001b[1m cf       \u001b[0m\n",
       "     │\u001b[90m String                            \u001b[0m\u001b[90m Float64  \u001b[0m\n",
       "─────┼─────────────────────────────────────────────\n",
       "   1 │ wec_sdge_biomass_1.0               1.0\n",
       "   2 │ wec_sdge_hydroelectric_pumped_st…  1.0\n",
       "   3 │ wec_sdge_natural_gas_fired_combi…  1.0\n",
       "   4 │ wec_sdge_natural_gas_fired_combi…  1.0\n",
       "   5 │ wec_sdge_natural_gas_fired_combi…  1.0\n",
       "   6 │ wec_sdge_natural_gas_fired_combi…  1.0\n",
       "   7 │ wec_sdge_natural_gas_fired_combu…  1.0\n",
       "   8 │ wec_sdge_natural_gas_fired_combu…  1.0\n",
       "   9 │ wec_sdge_natural_gas_fired_combu…  1.0\n",
       "  10 │ wec_sdge_natural_gas_fired_combu…  1.0\n",
       "  11 │ wec_sdge_natural_gas_fired_combu…  1.0\n",
       "  ⋮  │                 ⋮                     ⋮\n",
       "  21 │ wec_sdge_solar_photovoltaic_1.0    0.5695\n",
       "  22 │ wec_sdge_naturalgas_ccccsavgcf_0…  1.0\n",
       "  23 │ wec_sdge_naturalgas_ccavgcf_0.0    1.0\n",
       "  24 │ wec_sdge_naturalgas_ctavgcf_0.0    1.0\n",
       "  25 │ wec_sdge_battery_0.0               1.0\n",
       "  26 │ wec_sdge_naturalgas_ccs100_0.0     1.0\n",
       "  27 │ wec_sdge_landbasedwind_ltrg1_1.0   0.482802\n",
       "  28 │ wec_sdge_landbasedwind_ltrg1_2.0   0.302244\n",
       "  29 │ wec_sdge_utilitypv_losangeles_1.0  0.690915\n",
       "  30 │ wec_sdge_utilitypv_losangeles_2.0  0.743176\n",
       "\u001b[36m                                     9 rows omitted\u001b[0m"
      ]
     },
     "execution_count": 30,
     "metadata": {},
     "output_type": "execute_result"
    }
   ],
   "source": [
    "hr = 2416  # pick 4pm on a spring day\n",
    "loads_single = loads[loads[:,:hour] .== hr, Not(:hour)];\n",
    "var_cf_single = gen_variable_long[\n",
    "    gen_variable_long.hour .== hr, \n",
    "    Not(:hour)]"
   ]
  },
  {
   "cell_type": "markdown",
   "metadata": {},
   "source": [
    "### 3. Create solver function\n",
    "\n",
    "Here, we introduce a functionalized version of the optimization problem. We pass the problem parameters to the function, and it constructs and solves the model, returning the result. This will be useful when we wish to call the same basic model multiple times, e.g. for conducting sensitivities on parameters (among other things)."
   ]
  },
  {
   "cell_type": "code",
   "execution_count": 31,
   "metadata": {},
   "outputs": [
    {
     "data": {
      "text/plain": [
       "economic_dispatch_single (generic function with 1 method)"
      ]
     },
     "execution_count": 31,
     "metadata": {},
     "output_type": "execute_result"
    }
   ],
   "source": [
    "#=\n",
    "Function to solve economic dispatch problem (single-time period, single-zone)\n",
    "Inputs:\n",
    "    gen_df -- dataframe with generator info\n",
    "    loads  -- dataframe with load info\n",
    "    gen_variable -- capacity factors of variable generators (in \"long\" format)\n",
    "Note: it is always a good idea to include a comment blog describing your\n",
    "function's inputs clearly!\n",
    "=#\n",
    "function economic_dispatch_single(gen_df, loads, gen_variable)\n",
    "    ED = Model(GLPK.Optimizer) # You could use Clp as well, with Clp.Optimizer\n",
    "    \n",
    "    # Define sets based on data\n",
    "      # A set of all variable generators\n",
    "    G_var = gen_df[gen_df[!,:is_variable] .== 1,:r_id] \n",
    "      # A set of all non-variable generators\n",
    "    G_nonvar = gen_df[gen_df[!,:is_variable] .== 0,:r_id]\n",
    "      # Set of all generators\n",
    "    G = gen_df.r_id\n",
    "    # Extract some parameters given the input data\n",
    "      # Generator capacity factor time series for variable generators\n",
    "    gen_var_cf = innerjoin(gen_variable, \n",
    "                    gen_df[gen_df.is_variable .== 1 , \n",
    "                        [:r_id, :gen_full, :existing_cap_mw]], \n",
    "                    on = :gen_full)\n",
    "        \n",
    "    # Decision variables   \n",
    "    @variables(ED, begin\n",
    "        GEN[G]  >= 0     # generation\n",
    "        # Note: we assume Pmin = 0 for all resources for simplicty here\n",
    "    end)\n",
    "                \n",
    "    # Objective function\n",
    "    @objective(ED, Min, \n",
    "        sum( (gen_df[i,:heat_rate_mmbtu_per_mwh] * gen_df[i,:fuel_cost] +\n",
    "            gen_df[i,:var_om_cost_per_mwh]) * GEN[i] \n",
    "                        for i in G_nonvar) + \n",
    "        sum(gen_df[i,:var_om_cost_per_mwh] * GEN[i] \n",
    "                        for i in G_var)\n",
    "    )\n",
    "\n",
    "    # Demand constraint\n",
    "    @constraint(ED, cDemand, \n",
    "        sum(GEN[i] for i in G) == loads[1,:demand])\n",
    "\n",
    "    # Capacity constraint (non-variable generation)\n",
    "    for i in G_nonvar\n",
    "        @constraint(ED, GEN[i] <= gen_df[i,:existing_cap_mw])\n",
    "    end\n",
    "\n",
    "    # Variable generation capacity constraint\n",
    "    for i in 1:nrow(gen_var_cf)\n",
    "        @constraint(ED, GEN[gen_var_cf[i,:r_id] ] <= \n",
    "                        gen_var_cf[i,:cf] *\n",
    "                        gen_var_cf[i,:existing_cap_mw])\n",
    "    end\n",
    "\n",
    "    # Solve statement (! indicates runs in place)\n",
    "    optimize!(ED)\n",
    "\n",
    "    # Dataframe of optimal decision variables\n",
    "    solution = DataFrame(\n",
    "        r_id = gen_df.r_id,\n",
    "        resource = gen_df.resource,\n",
    "        gen = value.(GEN).data\n",
    "        )\n",
    "\n",
    "    # Return the solution and objective as named tuple\n",
    "    return (\n",
    "        solution = solution, \n",
    "        cost = objective_value(ED),\n",
    "    )\n",
    "end"
   ]
  },
  {
   "cell_type": "markdown",
   "metadata": {},
   "source": [
    "### 4. Solve and print data"
   ]
  },
  {
   "cell_type": "code",
   "execution_count": 32,
   "metadata": {},
   "outputs": [
    {
     "data": {
      "text/html": [
       "<div><div style = \"float: left;\"><span>25×3 DataFrame</span></div><div style = \"clear: both;\"></div></div><div class = \"data-frame\" style = \"overflow-x: scroll;\"><table class = \"data-frame\" style = \"margin-bottom: 6px;\"><thead><tr class = \"header\"><th class = \"rowNumber\" style = \"font-weight: bold; text-align: right;\">Row</th><th style = \"text-align: left;\">r_id</th><th style = \"text-align: left;\">resource</th><th style = \"text-align: left;\">gen</th></tr><tr class = \"subheader headerLastRow\"><th class = \"rowNumber\" style = \"font-weight: bold; text-align: right;\"></th><th title = \"Union{Missing, Int64}\" style = \"text-align: left;\">Int64?</th><th title = \"Union{Missing, String}\" style = \"text-align: left;\">String?</th><th title = \"Float64\" style = \"text-align: left;\">Float64</th></tr></thead><tbody><tr><td class = \"rowNumber\" style = \"font-weight: bold; text-align: right;\">1</td><td style = \"text-align: right;\">1</td><td style = \"text-align: left;\">biomass</td><td style = \"text-align: right;\">21.4</td></tr><tr><td class = \"rowNumber\" style = \"font-weight: bold; text-align: right;\">2</td><td style = \"text-align: right;\">2</td><td style = \"text-align: left;\">hydroelectric_pumped_storage</td><td style = \"text-align: right;\">42.0</td></tr><tr><td class = \"rowNumber\" style = \"font-weight: bold; text-align: right;\">3</td><td style = \"text-align: right;\">3</td><td style = \"text-align: left;\">natural_gas_fired_combined_cycle</td><td style = \"text-align: right;\">607.1</td></tr><tr><td class = \"rowNumber\" style = \"font-weight: bold; text-align: right;\">4</td><td style = \"text-align: right;\">4</td><td style = \"text-align: left;\">natural_gas_fired_combined_cycle</td><td style = \"text-align: right;\">30.0</td></tr><tr><td class = \"rowNumber\" style = \"font-weight: bold; text-align: right;\">5</td><td style = \"text-align: right;\">5</td><td style = \"text-align: left;\">natural_gas_fired_combined_cycle</td><td style = \"text-align: right;\">49.4</td></tr><tr><td class = \"rowNumber\" style = \"font-weight: bold; text-align: right;\">6</td><td style = \"text-align: right;\">6</td><td style = \"text-align: left;\">natural_gas_fired_combined_cycle</td><td style = \"text-align: right;\">570.0</td></tr><tr><td class = \"rowNumber\" style = \"font-weight: bold; text-align: right;\">7</td><td style = \"text-align: right;\">7</td><td style = \"text-align: left;\">natural_gas_fired_combined_cycle</td><td style = \"text-align: right;\">336.0</td></tr><tr><td class = \"rowNumber\" style = \"font-weight: bold; text-align: right;\">8</td><td style = \"text-align: right;\">8</td><td style = \"text-align: left;\">natural_gas_fired_combined_cycle</td><td style = \"text-align: right;\">336.0</td></tr><tr><td class = \"rowNumber\" style = \"font-weight: bold; text-align: right;\">9</td><td style = \"text-align: right;\">9</td><td style = \"text-align: left;\">natural_gas_fired_combustion_turbine</td><td style = \"text-align: right;\">0.0</td></tr><tr><td class = \"rowNumber\" style = \"font-weight: bold; text-align: right;\">10</td><td style = \"text-align: right;\">10</td><td style = \"text-align: left;\">natural_gas_fired_combustion_turbine</td><td style = \"text-align: right;\">49.9</td></tr><tr><td class = \"rowNumber\" style = \"font-weight: bold; text-align: right;\">11</td><td style = \"text-align: right;\">11</td><td style = \"text-align: left;\">natural_gas_fired_combustion_turbine</td><td style = \"text-align: right;\">0.0</td></tr><tr><td class = \"rowNumber\" style = \"font-weight: bold; text-align: right;\">12</td><td style = \"text-align: right;\">12</td><td style = \"text-align: left;\">natural_gas_fired_combustion_turbine</td><td style = \"text-align: right;\">0.0</td></tr><tr><td class = \"rowNumber\" style = \"font-weight: bold; text-align: right;\">13</td><td style = \"text-align: right;\">13</td><td style = \"text-align: left;\">natural_gas_fired_combustion_turbine</td><td style = \"text-align: right;\">86.8545</td></tr><tr><td class = \"rowNumber\" style = \"font-weight: bold; text-align: right;\">14</td><td style = \"text-align: right;\">14</td><td style = \"text-align: left;\">natural_gas_fired_combustion_turbine</td><td style = \"text-align: right;\">0.0</td></tr><tr><td class = \"rowNumber\" style = \"font-weight: bold; text-align: right;\">15</td><td style = \"text-align: right;\">15</td><td style = \"text-align: left;\">natural_gas_fired_combustion_turbine</td><td style = \"text-align: right;\">0.0</td></tr><tr><td class = \"rowNumber\" style = \"font-weight: bold; text-align: right;\">16</td><td style = \"text-align: right;\">16</td><td style = \"text-align: left;\">natural_gas_fired_combustion_turbine</td><td style = \"text-align: right;\">0.0</td></tr><tr><td class = \"rowNumber\" style = \"font-weight: bold; text-align: right;\">17</td><td style = \"text-align: right;\">17</td><td style = \"text-align: left;\">natural_gas_fired_combustion_turbine</td><td style = \"text-align: right;\">0.0</td></tr><tr><td class = \"rowNumber\" style = \"font-weight: bold; text-align: right;\">18</td><td style = \"text-align: right;\">18</td><td style = \"text-align: left;\">natural_gas_fired_combustion_turbine</td><td style = \"text-align: right;\">0.0</td></tr><tr><td class = \"rowNumber\" style = \"font-weight: bold; text-align: right;\">19</td><td style = \"text-align: right;\">19</td><td style = \"text-align: left;\">natural_gas_fired_combustion_turbine</td><td style = \"text-align: right;\">0.0</td></tr><tr><td class = \"rowNumber\" style = \"font-weight: bold; text-align: right;\">20</td><td style = \"text-align: right;\">20</td><td style = \"text-align: left;\">natural_gas_fired_combustion_turbine</td><td style = \"text-align: right;\">0.0</td></tr><tr><td class = \"rowNumber\" style = \"font-weight: bold; text-align: right;\">21</td><td style = \"text-align: right;\">21</td><td style = \"text-align: left;\">natural_gas_fired_combustion_turbine</td><td style = \"text-align: right;\">0.0</td></tr><tr><td class = \"rowNumber\" style = \"font-weight: bold; text-align: right;\">22</td><td style = \"text-align: right;\">22</td><td style = \"text-align: left;\">natural_gas_fired_combustion_turbine</td><td style = \"text-align: right;\">0.0</td></tr><tr><td class = \"rowNumber\" style = \"font-weight: bold; text-align: right;\">23</td><td style = \"text-align: right;\">23</td><td style = \"text-align: left;\">onshore_wind_turbine</td><td style = \"text-align: right;\">65.4106</td></tr><tr><td class = \"rowNumber\" style = \"font-weight: bold; text-align: right;\">24</td><td style = \"text-align: right;\">24</td><td style = \"text-align: left;\">small_hydroelectric</td><td style = \"text-align: right;\">3.18493</td></tr><tr><td class = \"rowNumber\" style = \"font-weight: bold; text-align: right;\">25</td><td style = \"text-align: right;\">25</td><td style = \"text-align: left;\">solar_photovoltaic</td><td style = \"text-align: right;\">284.75</td></tr></tbody></table></div>"
      ],
      "text/latex": [
       "\\begin{tabular}{r|ccc}\n",
       "\t& r\\_id & resource & gen\\\\\n",
       "\t\\hline\n",
       "\t& Int64? & String? & Float64\\\\\n",
       "\t\\hline\n",
       "\t1 & 1 & biomass & 21.4 \\\\\n",
       "\t2 & 2 & hydroelectric\\_pumped\\_storage & 42.0 \\\\\n",
       "\t3 & 3 & natural\\_gas\\_fired\\_combined\\_cycle & 607.1 \\\\\n",
       "\t4 & 4 & natural\\_gas\\_fired\\_combined\\_cycle & 30.0 \\\\\n",
       "\t5 & 5 & natural\\_gas\\_fired\\_combined\\_cycle & 49.4 \\\\\n",
       "\t6 & 6 & natural\\_gas\\_fired\\_combined\\_cycle & 570.0 \\\\\n",
       "\t7 & 7 & natural\\_gas\\_fired\\_combined\\_cycle & 336.0 \\\\\n",
       "\t8 & 8 & natural\\_gas\\_fired\\_combined\\_cycle & 336.0 \\\\\n",
       "\t9 & 9 & natural\\_gas\\_fired\\_combustion\\_turbine & 0.0 \\\\\n",
       "\t10 & 10 & natural\\_gas\\_fired\\_combustion\\_turbine & 49.9 \\\\\n",
       "\t11 & 11 & natural\\_gas\\_fired\\_combustion\\_turbine & 0.0 \\\\\n",
       "\t12 & 12 & natural\\_gas\\_fired\\_combustion\\_turbine & 0.0 \\\\\n",
       "\t13 & 13 & natural\\_gas\\_fired\\_combustion\\_turbine & 86.8545 \\\\\n",
       "\t14 & 14 & natural\\_gas\\_fired\\_combustion\\_turbine & 0.0 \\\\\n",
       "\t15 & 15 & natural\\_gas\\_fired\\_combustion\\_turbine & 0.0 \\\\\n",
       "\t16 & 16 & natural\\_gas\\_fired\\_combustion\\_turbine & 0.0 \\\\\n",
       "\t17 & 17 & natural\\_gas\\_fired\\_combustion\\_turbine & 0.0 \\\\\n",
       "\t18 & 18 & natural\\_gas\\_fired\\_combustion\\_turbine & 0.0 \\\\\n",
       "\t19 & 19 & natural\\_gas\\_fired\\_combustion\\_turbine & 0.0 \\\\\n",
       "\t20 & 20 & natural\\_gas\\_fired\\_combustion\\_turbine & 0.0 \\\\\n",
       "\t21 & 21 & natural\\_gas\\_fired\\_combustion\\_turbine & 0.0 \\\\\n",
       "\t22 & 22 & natural\\_gas\\_fired\\_combustion\\_turbine & 0.0 \\\\\n",
       "\t23 & 23 & onshore\\_wind\\_turbine & 65.4106 \\\\\n",
       "\t24 & 24 & small\\_hydroelectric & 3.18493 \\\\\n",
       "\t25 & 25 & solar\\_photovoltaic & 284.75 \\\\\n",
       "\\end{tabular}\n"
      ],
      "text/plain": [
       "\u001b[1m25×3 DataFrame\u001b[0m\n",
       "\u001b[1m Row \u001b[0m│\u001b[1m r_id   \u001b[0m\u001b[1m resource                          \u001b[0m\u001b[1m gen       \u001b[0m\n",
       "     │\u001b[90m Int64? \u001b[0m\u001b[90m String?                           \u001b[0m\u001b[90m Float64   \u001b[0m\n",
       "─────┼──────────────────────────────────────────────────────\n",
       "   1 │      1  biomass                             21.4\n",
       "   2 │      2  hydroelectric_pumped_storage        42.0\n",
       "   3 │      3  natural_gas_fired_combined_cycle   607.1\n",
       "   4 │      4  natural_gas_fired_combined_cycle    30.0\n",
       "   5 │      5  natural_gas_fired_combined_cycle    49.4\n",
       "   6 │      6  natural_gas_fired_combined_cycle   570.0\n",
       "   7 │      7  natural_gas_fired_combined_cycle   336.0\n",
       "   8 │      8  natural_gas_fired_combined_cycle   336.0\n",
       "   9 │      9  natural_gas_fired_combustion_tur…    0.0\n",
       "  10 │     10  natural_gas_fired_combustion_tur…   49.9\n",
       "  11 │     11  natural_gas_fired_combustion_tur…    0.0\n",
       "  ⋮  │   ⋮                     ⋮                      ⋮\n",
       "  16 │     16  natural_gas_fired_combustion_tur…    0.0\n",
       "  17 │     17  natural_gas_fired_combustion_tur…    0.0\n",
       "  18 │     18  natural_gas_fired_combustion_tur…    0.0\n",
       "  19 │     19  natural_gas_fired_combustion_tur…    0.0\n",
       "  20 │     20  natural_gas_fired_combustion_tur…    0.0\n",
       "  21 │     21  natural_gas_fired_combustion_tur…    0.0\n",
       "  22 │     22  natural_gas_fired_combustion_tur…    0.0\n",
       "  23 │     23  onshore_wind_turbine                65.4106\n",
       "  24 │     24  small_hydroelectric                  3.18493\n",
       "  25 │     25  solar_photovoltaic                 284.75\n",
       "\u001b[36m                                              4 rows omitted\u001b[0m"
      ]
     },
     "execution_count": 32,
     "metadata": {},
     "output_type": "execute_result"
    }
   ],
   "source": [
    "solution = economic_dispatch_single(gen_df, loads_single, var_cf_single);\n",
    "solution.solution"
   ]
  },
  {
   "cell_type": "markdown",
   "metadata": {},
   "source": [
    "We will now plot the **supply curve** (also known as the **dispatch stack**) for this single period to illustrate the concept of **merit order**. First, let's create a dataframe with the variable cost as a column, and then sort on it from lowest to highest."
   ]
  },
  {
   "cell_type": "code",
   "execution_count": 33,
   "metadata": {},
   "outputs": [],
   "source": [
    "supply_curve = leftjoin(gen_df,\n",
    "                var_cf_single, \n",
    "                on = :gen_full)\n",
    "supply_curve[!, :varcost] .= 0.0\n",
    "supply_curve[!, :cap] .= 0.0\n",
    "\n",
    "# Store varcost of non-variable generators:\n",
    "I = supply_curve[!,:is_variable] .== 0  # `I` contains indexes to the non-variable generators\n",
    "supply_curve[I,:varcost] .= \n",
    "    supply_curve[I,:heat_rate_mmbtu_per_mwh] .* \n",
    "        supply_curve[I,:fuel_cost] .+\n",
    "    supply_curve[I,:var_om_cost_per_mwh]\n",
    "\n",
    "# Calculate available capacity for each generator\n",
    "supply_curve[I,:cap] = supply_curve[I,:existing_cap_mw]\n",
    "\n",
    "# Store varcost of variable generators (in this case, 0)\n",
    "I = (supply_curve[:,:is_variable] .== 1) # `I` contains indexes to the variable generators\n",
    "supply_curve[I,:varcost] = supply_curve[I,:var_om_cost_per_mwh]\n",
    "\n",
    "# Calculate available capacity for each generator\n",
    "# (adjusted for variable generation)\n",
    "supply_curve[I,:cap] = supply_curve[I,:existing_cap_mw] .* supply_curve[I,:cf]\n",
    "\n",
    "sort!(supply_curve, :varcost);"
   ]
  },
  {
   "cell_type": "markdown",
   "metadata": {},
   "source": [
    "Now, let's plot this as a supply curve where:\n",
    "\n",
    "- width = capacity of the generator (i.e., $Pmax$)\n",
    "- height = variable cost of the generator ($VarCost$)"
   ]
  },
  {
   "cell_type": "code",
   "execution_count": 34,
   "metadata": {
    "scrolled": false
   },
   "outputs": [
    {
     "data": {
      "application/vnd.plotly.v1+json": {
       "data": [
        {
         "fill": "tozeroy",
         "fillcolor": "rgba(142, 151, 30, 0.500)",
         "legendgroup": "",
         "line": {
          "color": "rgba(0, 0, 0, 0.500)",
          "dash": "solid",
          "width": 1
         },
         "mode": "lines",
         "name": "",
         "showlegend": false,
         "type": "scatter",
         "x": [
          0,
          42,
          42,
          0,
          0
         ],
         "xaxis": "x1",
         "y": [
          0,
          0,
          0,
          0,
          0
         ],
         "yaxis": "y1"
        },
        {
         "fill": "tozeroy",
         "fillcolor": "rgba(0, 169, 204, 0.500)",
         "legendgroup": "",
         "line": {
          "color": "rgba(0, 0, 0, 0.500)",
          "dash": "solid",
          "width": 1
         },
         "mode": "lines",
         "name": "",
         "showlegend": false,
         "type": "scatter",
         "x": [
          42,
          107.41055999999999,
          107.41055999999999,
          42,
          42
         ],
         "xaxis": "x1",
         "y": [
          0,
          0,
          0,
          0,
          0
         ],
         "yaxis": "y1"
        },
        {
         "fill": "tozeroy",
         "fillcolor": "rgba(155, 127, 233, 0.500)",
         "legendgroup": "",
         "line": {
          "color": "rgba(0, 0, 0, 0.500)",
          "dash": "solid",
          "width": 1
         },
         "mode": "lines",
         "name": "",
         "showlegend": false,
         "type": "scatter",
         "x": [
          107.41055999999999,
          110.595492,
          110.595492,
          107.41055999999999,
          107.41055999999999
         ],
         "xaxis": "x1",
         "y": [
          0,
          0,
          0,
          0,
          0
         ],
         "yaxis": "y1"
        },
        {
         "fill": "tozeroy",
         "fillcolor": "rgba(97, 141, 246, 0.500)",
         "legendgroup": "",
         "line": {
          "color": "rgba(0, 0, 0, 0.500)",
          "dash": "solid",
          "width": 1
         },
         "mode": "lines",
         "name": "",
         "showlegend": false,
         "type": "scatter",
         "x": [
          110.595492,
          395.345492,
          395.345492,
          110.595492,
          110.595492
         ],
         "xaxis": "x1",
         "y": [
          0,
          0,
          0,
          0,
          0
         ],
         "yaxis": "y1"
        },
        {
         "fill": "tozeroy",
         "fillcolor": "rgba(240, 96, 115, 0.500)",
         "legendgroup": "",
         "line": {
          "color": "rgba(0, 0, 0, 0.500)",
          "dash": "solid",
          "width": 1
         },
         "mode": "lines",
         "name": "",
         "showlegend": false,
         "type": "scatter",
         "x": [
          395.345492,
          416.74549199999996,
          416.74549199999996,
          395.345492,
          395.345492
         ],
         "xaxis": "x1",
         "y": [
          0,
          0,
          5.234,
          5.234,
          0
         ],
         "yaxis": "y1"
        },
        {
         "fill": "tozeroy",
         "fillcolor": "rgba(221, 101, 182, 0.500)",
         "legendgroup": "",
         "line": {
          "color": "rgba(0, 0, 0, 0.500)",
          "dash": "solid",
          "width": 1
         },
         "mode": "lines",
         "name": "",
         "showlegend": false,
         "type": "scatter",
         "x": [
          416.74549199999996,
          986.745492,
          986.745492,
          416.74549199999996,
          416.74549199999996
         ],
         "xaxis": "x1",
         "y": [
          0,
          0,
          21.775499999999997,
          21.775499999999997,
          0
         ],
         "yaxis": "y1"
        },
        {
         "fill": "tozeroy",
         "fillcolor": "rgba(108, 159, 51, 0.500)",
         "legendgroup": "",
         "line": {
          "color": "rgba(0, 0, 0, 0.500)",
          "dash": "solid",
          "width": 1
         },
         "mode": "lines",
         "name": "",
         "showlegend": false,
         "type": "scatter",
         "x": [
          986.745492,
          1593.845492,
          1593.845492,
          986.745492,
          986.745492
         ],
         "xaxis": "x1",
         "y": [
          0,
          0,
          22.726399999999995,
          22.726399999999995,
          0
         ],
         "yaxis": "y1"
        },
        {
         "fill": "tozeroy",
         "fillcolor": "rgba(0, 154, 250, 0.500)",
         "legendgroup": "",
         "line": {
          "color": "rgba(0, 0, 0, 0.500)",
          "dash": "solid",
          "width": 1
         },
         "mode": "lines",
         "name": "",
         "showlegend": false,
         "type": "scatter",
         "x": [
          1593.845492,
          1643.245492,
          1643.245492,
          1593.845492,
          1593.845492
         ],
         "xaxis": "x1",
         "y": [
          0,
          0,
          29.3061,
          29.3061,
          0
         ],
         "yaxis": "y1"
        },
        {
         "fill": "tozeroy",
         "fillcolor": "rgba(227, 111, 71, 0.500)",
         "legendgroup": "",
         "line": {
          "color": "rgba(0, 0, 0, 0.500)",
          "dash": "solid",
          "width": 1
         },
         "mode": "lines",
         "name": "",
         "showlegend": false,
         "type": "scatter",
         "x": [
          1643.245492,
          1673.245492,
          1673.245492,
          1643.245492,
          1643.245492
         ],
         "xaxis": "x1",
         "y": [
          0,
          0,
          30.128500000000003,
          30.128500000000003,
          0
         ],
         "yaxis": "y1"
        },
        {
         "fill": "tozeroy",
         "fillcolor": "rgba(62, 164, 78, 0.500)",
         "legendgroup": "",
         "line": {
          "color": "rgba(0, 0, 0, 0.500)",
          "dash": "solid",
          "width": 1
         },
         "mode": "lines",
         "name": "",
         "showlegend": false,
         "type": "scatter",
         "x": [
          1673.245492,
          2009.245492,
          2009.245492,
          1673.245492,
          1673.245492
         ],
         "xaxis": "x1",
         "y": [
          0,
          0,
          36.5771,
          36.5771,
          0
         ],
         "yaxis": "y1"
        },
        {
         "fill": "tozeroy",
         "fillcolor": "rgba(195, 113, 210, 0.500)",
         "legendgroup": "",
         "line": {
          "color": "rgba(0, 0, 0, 0.500)",
          "dash": "solid",
          "width": 1
         },
         "mode": "lines",
         "name": "",
         "showlegend": false,
         "type": "scatter",
         "x": [
          2009.245492,
          2345.245492,
          2345.245492,
          2009.245492,
          2009.245492
         ],
         "xaxis": "x1",
         "y": [
          0,
          0,
          36.757,
          36.757,
          0
         ],
         "yaxis": "y1"
        },
        {
         "fill": "tozeroy",
         "fillcolor": "rgba(172, 142, 24, 0.500)",
         "legendgroup": "",
         "line": {
          "color": "rgba(0, 0, 0, 0.500)",
          "dash": "solid",
          "width": 1
         },
         "mode": "lines",
         "name": "",
         "showlegend": false,
         "type": "scatter",
         "x": [
          2345.245492,
          2395.145492,
          2395.145492,
          2345.245492,
          2345.245492
         ],
         "xaxis": "x1",
         "y": [
          0,
          0,
          37.733599999999996,
          37.733599999999996,
          0
         ],
         "yaxis": "y1"
        },
        {
         "fill": "tozeroy",
         "fillcolor": "rgba(0, 170, 174, 0.500)",
         "legendgroup": "",
         "line": {
          "color": "rgba(0, 0, 0, 0.500)",
          "dash": "solid",
          "width": 1
         },
         "mode": "lines",
         "name": "",
         "showlegend": false,
         "type": "scatter",
         "x": [
          2395.145492,
          2491.745492,
          2491.745492,
          2395.145492,
          2395.145492
         ],
         "xaxis": "x1",
         "y": [
          0,
          0,
          37.785,
          37.785,
          0
         ],
         "yaxis": "y1"
        },
        {
         "fill": "tozeroy",
         "fillcolor": "rgba(237, 94, 147, 0.500)",
         "legendgroup": "",
         "line": {
          "color": "rgba(0, 0, 0, 0.500)",
          "dash": "solid",
          "width": 1
         },
         "mode": "lines",
         "name": "",
         "showlegend": false,
         "type": "scatter",
         "x": [
          2491.745492,
          2583.345492,
          2583.345492,
          2491.745492,
          2491.745492
         ],
         "xaxis": "x1",
         "y": [
          0,
          0,
          38.2733,
          38.2733,
          0
         ],
         "yaxis": "y1"
        },
        {
         "fill": "tozeroy",
         "fillcolor": "rgba(198, 130, 37, 0.500)",
         "legendgroup": "",
         "line": {
          "color": "rgba(0, 0, 0, 0.500)",
          "dash": "solid",
          "width": 1
         },
         "mode": "lines",
         "name": "",
         "showlegend": false,
         "type": "scatter",
         "x": [
          2583.345492,
          2631.445492,
          2631.445492,
          2583.345492,
          2583.345492
         ],
         "xaxis": "x1",
         "y": [
          0,
          0,
          39.172799999999995,
          39.172799999999995,
          0
         ],
         "yaxis": "y1"
        },
        {
         "fill": "tozeroy",
         "fillcolor": "rgba(0, 169, 141, 0.500)",
         "legendgroup": "",
         "line": {
          "color": "rgba(0, 0, 0, 0.500)",
          "dash": "solid",
          "width": 1
         },
         "mode": "lines",
         "name": "",
         "showlegend": false,
         "type": "scatter",
         "x": [
          2631.445492,
          2682.745492,
          2682.745492,
          2631.445492,
          2631.445492
         ],
         "xaxis": "x1",
         "y": [
          0,
          0,
          39.2756,
          39.2756,
          0
         ],
         "yaxis": "y1"
        },
        {
         "fill": "tozeroy",
         "fillcolor": "rgba(142, 151, 30, 0.500)",
         "legendgroup": "",
         "line": {
          "color": "rgba(0, 0, 0, 0.500)",
          "dash": "solid",
          "width": 1
         },
         "mode": "lines",
         "name": "",
         "showlegend": false,
         "type": "scatter",
         "x": [
          2682.745492,
          2734.045492,
          2734.045492,
          2682.745492,
          2682.745492
         ],
         "xaxis": "x1",
         "y": [
          0,
          0,
          39.3784,
          39.3784,
          0
         ],
         "yaxis": "y1"
        },
        {
         "fill": "tozeroy",
         "fillcolor": "rgba(0, 169, 204, 0.500)",
         "legendgroup": "",
         "line": {
          "color": "rgba(0, 0, 0, 0.500)",
          "dash": "solid",
          "width": 1
         },
         "mode": "lines",
         "name": "",
         "showlegend": false,
         "type": "scatter",
         "x": [
          2734.045492,
          2832.245492,
          2832.245492,
          2734.045492,
          2734.045492
         ],
         "xaxis": "x1",
         "y": [
          0,
          0,
          39.4555,
          39.4555,
          0
         ],
         "yaxis": "y1"
        },
        {
         "fill": "tozeroy",
         "fillcolor": "rgba(155, 127, 233, 0.500)",
         "legendgroup": "",
         "line": {
          "color": "rgba(0, 0, 0, 0.500)",
          "dash": "solid",
          "width": 1
         },
         "mode": "lines",
         "name": "",
         "showlegend": false,
         "type": "scatter",
         "x": [
          2832.245492,
          2930.445492,
          2930.445492,
          2832.245492,
          2832.245492
         ],
         "xaxis": "x1",
         "y": [
          0,
          0,
          39.583999999999996,
          39.583999999999996,
          0
         ],
         "yaxis": "y1"
        },
        {
         "fill": "tozeroy",
         "fillcolor": "rgba(97, 141, 246, 0.500)",
         "legendgroup": "",
         "line": {
          "color": "rgba(0, 0, 0, 0.500)",
          "dash": "solid",
          "width": 1
         },
         "mode": "lines",
         "name": "",
         "showlegend": false,
         "type": "scatter",
         "x": [
          2930.445492,
          2979.345492,
          2979.345492,
          2930.445492,
          2930.445492
         ],
         "xaxis": "x1",
         "y": [
          0,
          0,
          39.635400000000004,
          39.635400000000004,
          0
         ],
         "yaxis": "y1"
        },
        {
         "fill": "tozeroy",
         "fillcolor": "rgba(240, 96, 115, 0.500)",
         "legendgroup": "",
         "line": {
          "color": "rgba(0, 0, 0, 0.500)",
          "dash": "solid",
          "width": 1
         },
         "mode": "lines",
         "name": "",
         "showlegend": false,
         "type": "scatter",
         "x": [
          2979.345492,
          3028.245492,
          3028.245492,
          2979.345492,
          2979.345492
         ],
         "xaxis": "x1",
         "y": [
          0,
          0,
          39.841,
          39.841,
          0
         ],
         "yaxis": "y1"
        },
        {
         "fill": "tozeroy",
         "fillcolor": "rgba(221, 101, 182, 0.500)",
         "legendgroup": "",
         "line": {
          "color": "rgba(0, 0, 0, 0.500)",
          "dash": "solid",
          "width": 1
         },
         "mode": "lines",
         "name": "",
         "showlegend": false,
         "type": "scatter",
         "x": [
          3028.245492,
          3076.945492,
          3076.945492,
          3028.245492,
          3028.245492
         ],
         "xaxis": "x1",
         "y": [
          0,
          0,
          40.2522,
          40.2522,
          0
         ],
         "yaxis": "y1"
        },
        {
         "fill": "tozeroy",
         "fillcolor": "rgba(108, 159, 51, 0.500)",
         "legendgroup": "",
         "line": {
          "color": "rgba(0, 0, 0, 0.500)",
          "dash": "solid",
          "width": 1
         },
         "mode": "lines",
         "name": "",
         "showlegend": false,
         "type": "scatter",
         "x": [
          3076.945492,
          3081.745492,
          3081.745492,
          3076.945492,
          3076.945492
         ],
         "xaxis": "x1",
         "y": [
          0,
          0,
          41.9741,
          41.9741,
          0
         ],
         "yaxis": "y1"
        },
        {
         "fill": "tozeroy",
         "fillcolor": "rgba(0, 154, 250, 0.500)",
         "legendgroup": "",
         "line": {
          "color": "rgba(0, 0, 0, 0.500)",
          "dash": "solid",
          "width": 1
         },
         "mode": "lines",
         "name": "",
         "showlegend": false,
         "type": "scatter",
         "x": [
          3081.745492,
          3099.045492,
          3099.045492,
          3081.745492,
          3081.745492
         ],
         "xaxis": "x1",
         "y": [
          0,
          0,
          45.674899999999994,
          45.674899999999994,
          0
         ],
         "yaxis": "y1"
        },
        {
         "fill": "tozeroy",
         "fillcolor": "rgba(227, 111, 71, 0.500)",
         "legendgroup": "",
         "line": {
          "color": "rgba(0, 0, 0, 0.500)",
          "dash": "solid",
          "width": 1
         },
         "mode": "lines",
         "name": "",
         "showlegend": false,
         "type": "scatter",
         "x": [
          3099.045492,
          3133.645492,
          3133.645492,
          3099.045492,
          3099.045492
         ],
         "xaxis": "x1",
         "y": [
          0,
          0,
          54.1302,
          54.1302,
          0
         ],
         "yaxis": "y1"
        },
        {
         "colorbar": {
          "len": 0.8657316272965879,
          "title": "",
          "x": 0.9934383202099737,
          "y": 0.5086805555555556
         },
         "legendgroup": "demand",
         "line": {
          "color": "rgba(0, 0, 0, 1.000)",
          "dash": "solid",
          "shape": "linear",
          "width": 5
         },
         "mode": "lines",
         "name": "demand",
         "showlegend": true,
         "type": "scatter",
         "x": [
          2482,
          2482
         ],
         "xaxis": "x",
         "y": [
          -5739.4251060000015,
          5793.555306000002
         ],
         "yaxis": "y"
        },
        {
         "colorbar": {
          "len": 0.8657316272965879,
          "title": "",
          "x": 0.9934383202099737,
          "y": 0.5086805555555556
         },
         "legendgroup": "SRMC",
         "line": {
          "color": "rgba(0, 0, 255, 1.000)",
          "dash": "solid",
          "shape": "linear",
          "width": 5
         },
         "mode": "lines",
         "name": "SRMC",
         "showlegend": true,
         "type": "scatter",
         "x": [
          -332260.43151676,
          335394.07700876
         ],
         "xaxis": "x",
         "y": [
          37.785,
          37.785
         ],
         "yaxis": "y"
        }
       ],
       "layout": {
        "annotations": [
         {
          "font": {
           "color": "rgba(0, 0, 0, 1.000)",
           "family": "sans-serif",
           "size": 20
          },
          "rotation": 0,
          "showarrow": false,
          "text": "Supply and demand curves",
          "x": 0.5275462962962963,
          "xanchor": "center",
          "xref": "paper",
          "y": 1,
          "yanchor": "top",
          "yref": "paper"
         }
        ],
        "height": 400,
        "legend": {
         "bgcolor": "rgba(255, 255, 255, 1.000)",
         "bordercolor": "rgba(0, 0, 0, 1.000)",
         "borderwidth": 1,
         "font": {
          "color": "rgba(0, 0, 0, 1.000)",
          "family": "sans-serif",
          "size": 11
         },
         "title": {
          "font": {
           "color": "rgba(0, 0, 0, 1.000)",
           "family": "sans-serif",
           "size": 15
          },
          "text": ""
         },
         "tracegroupgap": 0,
         "traceorder": "normal",
         "x": 1,
         "xanchor": "auto",
         "y": 1,
         "yanchor": "auto"
        },
        "margin": {
         "b": 20,
         "l": 0,
         "r": 0,
         "t": 20
        },
        "paper_bgcolor": "rgba(255, 255, 255, 1.000)",
        "plot_bgcolor": "rgba(255, 255, 255, 1.000)",
        "showlegend": true,
        "width": 600,
        "xaxis": {
         "anchor": "y",
         "domain": [
          0.061654272382618835,
          0.9934383202099737
         ],
         "gridcolor": "rgba(0, 0, 0, 0.100)",
         "gridwidth": 0.5,
         "linecolor": "rgba(0, 0, 0, 1.000)",
         "mirror": false,
         "range": [
          -94.00936476000015,
          3227.6548567600003
         ],
         "showgrid": true,
         "showline": true,
         "showticklabels": true,
         "tickangle": 0,
         "tickcolor": "rgb(0, 0, 0)",
         "tickfont": {
          "color": "rgba(0, 0, 0, 1.000)",
          "family": "sans-serif",
          "size": 11
         },
         "tickmode": "array",
         "ticks": "inside",
         "ticktext": [
          "0",
          "1000",
          "2000",
          "3000"
         ],
         "tickvals": [
          0,
          1000,
          2000,
          3000
         ],
         "title": "Capacity",
         "titlefont": {
          "color": "rgba(0, 0, 0, 1.000)",
          "family": "sans-serif",
          "size": 15
         },
         "type": "-",
         "visible": true,
         "zeroline": false,
         "zerolinecolor": "rgba(0, 0, 0, 1.000)"
        },
        "yaxis": {
         "anchor": "x",
         "domain": [
          0.07581474190726165,
          0.9415463692038496
         ],
         "gridcolor": "rgba(0, 0, 0, 0.100)",
         "gridwidth": 0.5,
         "linecolor": "rgba(0, 0, 0, 1.000)",
         "mirror": false,
         "range": [
          -1.6239060000000016,
          55.75410600000001
         ],
         "showgrid": true,
         "showline": true,
         "showticklabels": true,
         "tickangle": 0,
         "tickcolor": "rgb(0, 0, 0)",
         "tickfont": {
          "color": "rgba(0, 0, 0, 1.000)",
          "family": "sans-serif",
          "size": 11
         },
         "tickmode": "array",
         "ticks": "inside",
         "ticktext": [
          "0",
          "10",
          "20",
          "30",
          "40",
          "50"
         ],
         "tickvals": [
          0,
          10,
          20,
          30,
          40,
          50
         ],
         "title": "Marginal cost",
         "titlefont": {
          "color": "rgba(0, 0, 0, 1.000)",
          "family": "sans-serif",
          "size": 15
         },
         "type": "-",
         "visible": true,
         "zeroline": false,
         "zerolinecolor": "rgba(0, 0, 0, 1.000)"
        }
       }
      },
      "text/html": [
       "    <div id=\"5ab782bf-b56e-4277-9bd1-2bc54ac15d4b\" style=\"width:600px;height:400px;\"></div>\n",
       "    <script>\n",
       "        requirejs.config({\n",
       "        paths: {\n",
       "            plotly: 'https://cdn.plot.ly/plotly-2.6.3.min'\n",
       "        }\n",
       "    });\n",
       "    require(['plotly'], function (Plotly) {\n",
       "\n",
       "    Plotly.newPlot('5ab782bf-b56e-4277-9bd1-2bc54ac15d4b', [\n",
       "    {\n",
       "        \"xaxis\": \"x1\",\n",
       "        \"fill\": \"tozeroy\",\n",
       "        \"yaxis\": \"y1\",\n",
       "        \"x\": [\n",
       "            0.0,\n",
       "            42.0,\n",
       "            42.0,\n",
       "            0.0,\n",
       "            0.0\n",
       "        ],\n",
       "        \"showlegend\": false,\n",
       "        \"mode\": \"lines\",\n",
       "        \"fillcolor\": \"rgba(142, 151, 30, 0.500)\",\n",
       "        \"name\": \"\",\n",
       "        \"legendgroup\": \"\",\n",
       "        \"line\": {\n",
       "            \"color\": \"rgba(0, 0, 0, 0.500)\",\n",
       "            \"dash\": \"solid\",\n",
       "            \"width\": 1\n",
       "        },\n",
       "        \"y\": [\n",
       "            0.0,\n",
       "            0.0,\n",
       "            0.0,\n",
       "            0.0,\n",
       "            0.0\n",
       "        ],\n",
       "        \"type\": \"scatter\"\n",
       "    },\n",
       "    {\n",
       "        \"xaxis\": \"x1\",\n",
       "        \"fill\": \"tozeroy\",\n",
       "        \"yaxis\": \"y1\",\n",
       "        \"x\": [\n",
       "            42.0,\n",
       "            107.41055999999999,\n",
       "            107.41055999999999,\n",
       "            42.0,\n",
       "            42.0\n",
       "        ],\n",
       "        \"showlegend\": false,\n",
       "        \"mode\": \"lines\",\n",
       "        \"fillcolor\": \"rgba(0, 169, 204, 0.500)\",\n",
       "        \"name\": \"\",\n",
       "        \"legendgroup\": \"\",\n",
       "        \"line\": {\n",
       "            \"color\": \"rgba(0, 0, 0, 0.500)\",\n",
       "            \"dash\": \"solid\",\n",
       "            \"width\": 1\n",
       "        },\n",
       "        \"y\": [\n",
       "            0.0,\n",
       "            0.0,\n",
       "            0.0,\n",
       "            0.0,\n",
       "            0.0\n",
       "        ],\n",
       "        \"type\": \"scatter\"\n",
       "    },\n",
       "    {\n",
       "        \"xaxis\": \"x1\",\n",
       "        \"fill\": \"tozeroy\",\n",
       "        \"yaxis\": \"y1\",\n",
       "        \"x\": [\n",
       "            107.41055999999999,\n",
       "            110.595492,\n",
       "            110.595492,\n",
       "            107.41055999999999,\n",
       "            107.41055999999999\n",
       "        ],\n",
       "        \"showlegend\": false,\n",
       "        \"mode\": \"lines\",\n",
       "        \"fillcolor\": \"rgba(155, 127, 233, 0.500)\",\n",
       "        \"name\": \"\",\n",
       "        \"legendgroup\": \"\",\n",
       "        \"line\": {\n",
       "            \"color\": \"rgba(0, 0, 0, 0.500)\",\n",
       "            \"dash\": \"solid\",\n",
       "            \"width\": 1\n",
       "        },\n",
       "        \"y\": [\n",
       "            0.0,\n",
       "            0.0,\n",
       "            0.0,\n",
       "            0.0,\n",
       "            0.0\n",
       "        ],\n",
       "        \"type\": \"scatter\"\n",
       "    },\n",
       "    {\n",
       "        \"xaxis\": \"x1\",\n",
       "        \"fill\": \"tozeroy\",\n",
       "        \"yaxis\": \"y1\",\n",
       "        \"x\": [\n",
       "            110.595492,\n",
       "            395.345492,\n",
       "            395.345492,\n",
       "            110.595492,\n",
       "            110.595492\n",
       "        ],\n",
       "        \"showlegend\": false,\n",
       "        \"mode\": \"lines\",\n",
       "        \"fillcolor\": \"rgba(97, 141, 246, 0.500)\",\n",
       "        \"name\": \"\",\n",
       "        \"legendgroup\": \"\",\n",
       "        \"line\": {\n",
       "            \"color\": \"rgba(0, 0, 0, 0.500)\",\n",
       "            \"dash\": \"solid\",\n",
       "            \"width\": 1\n",
       "        },\n",
       "        \"y\": [\n",
       "            0.0,\n",
       "            0.0,\n",
       "            0.0,\n",
       "            0.0,\n",
       "            0.0\n",
       "        ],\n",
       "        \"type\": \"scatter\"\n",
       "    },\n",
       "    {\n",
       "        \"xaxis\": \"x1\",\n",
       "        \"fill\": \"tozeroy\",\n",
       "        \"yaxis\": \"y1\",\n",
       "        \"x\": [\n",
       "            395.345492,\n",
       "            416.74549199999996,\n",
       "            416.74549199999996,\n",
       "            395.345492,\n",
       "            395.345492\n",
       "        ],\n",
       "        \"showlegend\": false,\n",
       "        \"mode\": \"lines\",\n",
       "        \"fillcolor\": \"rgba(240, 96, 115, 0.500)\",\n",
       "        \"name\": \"\",\n",
       "        \"legendgroup\": \"\",\n",
       "        \"line\": {\n",
       "            \"color\": \"rgba(0, 0, 0, 0.500)\",\n",
       "            \"dash\": \"solid\",\n",
       "            \"width\": 1\n",
       "        },\n",
       "        \"y\": [\n",
       "            0.0,\n",
       "            0.0,\n",
       "            5.234,\n",
       "            5.234,\n",
       "            0.0\n",
       "        ],\n",
       "        \"type\": \"scatter\"\n",
       "    },\n",
       "    {\n",
       "        \"xaxis\": \"x1\",\n",
       "        \"fill\": \"tozeroy\",\n",
       "        \"yaxis\": \"y1\",\n",
       "        \"x\": [\n",
       "            416.74549199999996,\n",
       "            986.745492,\n",
       "            986.745492,\n",
       "            416.74549199999996,\n",
       "            416.74549199999996\n",
       "        ],\n",
       "        \"showlegend\": false,\n",
       "        \"mode\": \"lines\",\n",
       "        \"fillcolor\": \"rgba(221, 101, 182, 0.500)\",\n",
       "        \"name\": \"\",\n",
       "        \"legendgroup\": \"\",\n",
       "        \"line\": {\n",
       "            \"color\": \"rgba(0, 0, 0, 0.500)\",\n",
       "            \"dash\": \"solid\",\n",
       "            \"width\": 1\n",
       "        },\n",
       "        \"y\": [\n",
       "            0.0,\n",
       "            0.0,\n",
       "            21.775499999999997,\n",
       "            21.775499999999997,\n",
       "            0.0\n",
       "        ],\n",
       "        \"type\": \"scatter\"\n",
       "    },\n",
       "    {\n",
       "        \"xaxis\": \"x1\",\n",
       "        \"fill\": \"tozeroy\",\n",
       "        \"yaxis\": \"y1\",\n",
       "        \"x\": [\n",
       "            986.745492,\n",
       "            1593.845492,\n",
       "            1593.845492,\n",
       "            986.745492,\n",
       "            986.745492\n",
       "        ],\n",
       "        \"showlegend\": false,\n",
       "        \"mode\": \"lines\",\n",
       "        \"fillcolor\": \"rgba(108, 159, 51, 0.500)\",\n",
       "        \"name\": \"\",\n",
       "        \"legendgroup\": \"\",\n",
       "        \"line\": {\n",
       "            \"color\": \"rgba(0, 0, 0, 0.500)\",\n",
       "            \"dash\": \"solid\",\n",
       "            \"width\": 1\n",
       "        },\n",
       "        \"y\": [\n",
       "            0.0,\n",
       "            0.0,\n",
       "            22.726399999999995,\n",
       "            22.726399999999995,\n",
       "            0.0\n",
       "        ],\n",
       "        \"type\": \"scatter\"\n",
       "    },\n",
       "    {\n",
       "        \"xaxis\": \"x1\",\n",
       "        \"fill\": \"tozeroy\",\n",
       "        \"yaxis\": \"y1\",\n",
       "        \"x\": [\n",
       "            1593.845492,\n",
       "            1643.245492,\n",
       "            1643.245492,\n",
       "            1593.845492,\n",
       "            1593.845492\n",
       "        ],\n",
       "        \"showlegend\": false,\n",
       "        \"mode\": \"lines\",\n",
       "        \"fillcolor\": \"rgba(0, 154, 250, 0.500)\",\n",
       "        \"name\": \"\",\n",
       "        \"legendgroup\": \"\",\n",
       "        \"line\": {\n",
       "            \"color\": \"rgba(0, 0, 0, 0.500)\",\n",
       "            \"dash\": \"solid\",\n",
       "            \"width\": 1\n",
       "        },\n",
       "        \"y\": [\n",
       "            0.0,\n",
       "            0.0,\n",
       "            29.3061,\n",
       "            29.3061,\n",
       "            0.0\n",
       "        ],\n",
       "        \"type\": \"scatter\"\n",
       "    },\n",
       "    {\n",
       "        \"xaxis\": \"x1\",\n",
       "        \"fill\": \"tozeroy\",\n",
       "        \"yaxis\": \"y1\",\n",
       "        \"x\": [\n",
       "            1643.245492,\n",
       "            1673.245492,\n",
       "            1673.245492,\n",
       "            1643.245492,\n",
       "            1643.245492\n",
       "        ],\n",
       "        \"showlegend\": false,\n",
       "        \"mode\": \"lines\",\n",
       "        \"fillcolor\": \"rgba(227, 111, 71, 0.500)\",\n",
       "        \"name\": \"\",\n",
       "        \"legendgroup\": \"\",\n",
       "        \"line\": {\n",
       "            \"color\": \"rgba(0, 0, 0, 0.500)\",\n",
       "            \"dash\": \"solid\",\n",
       "            \"width\": 1\n",
       "        },\n",
       "        \"y\": [\n",
       "            0.0,\n",
       "            0.0,\n",
       "            30.128500000000003,\n",
       "            30.128500000000003,\n",
       "            0.0\n",
       "        ],\n",
       "        \"type\": \"scatter\"\n",
       "    },\n",
       "    {\n",
       "        \"xaxis\": \"x1\",\n",
       "        \"fill\": \"tozeroy\",\n",
       "        \"yaxis\": \"y1\",\n",
       "        \"x\": [\n",
       "            1673.245492,\n",
       "            2009.245492,\n",
       "            2009.245492,\n",
       "            1673.245492,\n",
       "            1673.245492\n",
       "        ],\n",
       "        \"showlegend\": false,\n",
       "        \"mode\": \"lines\",\n",
       "        \"fillcolor\": \"rgba(62, 164, 78, 0.500)\",\n",
       "        \"name\": \"\",\n",
       "        \"legendgroup\": \"\",\n",
       "        \"line\": {\n",
       "            \"color\": \"rgba(0, 0, 0, 0.500)\",\n",
       "            \"dash\": \"solid\",\n",
       "            \"width\": 1\n",
       "        },\n",
       "        \"y\": [\n",
       "            0.0,\n",
       "            0.0,\n",
       "            36.5771,\n",
       "            36.5771,\n",
       "            0.0\n",
       "        ],\n",
       "        \"type\": \"scatter\"\n",
       "    },\n",
       "    {\n",
       "        \"xaxis\": \"x1\",\n",
       "        \"fill\": \"tozeroy\",\n",
       "        \"yaxis\": \"y1\",\n",
       "        \"x\": [\n",
       "            2009.245492,\n",
       "            2345.245492,\n",
       "            2345.245492,\n",
       "            2009.245492,\n",
       "            2009.245492\n",
       "        ],\n",
       "        \"showlegend\": false,\n",
       "        \"mode\": \"lines\",\n",
       "        \"fillcolor\": \"rgba(195, 113, 210, 0.500)\",\n",
       "        \"name\": \"\",\n",
       "        \"legendgroup\": \"\",\n",
       "        \"line\": {\n",
       "            \"color\": \"rgba(0, 0, 0, 0.500)\",\n",
       "            \"dash\": \"solid\",\n",
       "            \"width\": 1\n",
       "        },\n",
       "        \"y\": [\n",
       "            0.0,\n",
       "            0.0,\n",
       "            36.757,\n",
       "            36.757,\n",
       "            0.0\n",
       "        ],\n",
       "        \"type\": \"scatter\"\n",
       "    },\n",
       "    {\n",
       "        \"xaxis\": \"x1\",\n",
       "        \"fill\": \"tozeroy\",\n",
       "        \"yaxis\": \"y1\",\n",
       "        \"x\": [\n",
       "            2345.245492,\n",
       "            2395.145492,\n",
       "            2395.145492,\n",
       "            2345.245492,\n",
       "            2345.245492\n",
       "        ],\n",
       "        \"showlegend\": false,\n",
       "        \"mode\": \"lines\",\n",
       "        \"fillcolor\": \"rgba(172, 142, 24, 0.500)\",\n",
       "        \"name\": \"\",\n",
       "        \"legendgroup\": \"\",\n",
       "        \"line\": {\n",
       "            \"color\": \"rgba(0, 0, 0, 0.500)\",\n",
       "            \"dash\": \"solid\",\n",
       "            \"width\": 1\n",
       "        },\n",
       "        \"y\": [\n",
       "            0.0,\n",
       "            0.0,\n",
       "            37.733599999999996,\n",
       "            37.733599999999996,\n",
       "            0.0\n",
       "        ],\n",
       "        \"type\": \"scatter\"\n",
       "    },\n",
       "    {\n",
       "        \"xaxis\": \"x1\",\n",
       "        \"fill\": \"tozeroy\",\n",
       "        \"yaxis\": \"y1\",\n",
       "        \"x\": [\n",
       "            2395.145492,\n",
       "            2491.745492,\n",
       "            2491.745492,\n",
       "            2395.145492,\n",
       "            2395.145492\n",
       "        ],\n",
       "        \"showlegend\": false,\n",
       "        \"mode\": \"lines\",\n",
       "        \"fillcolor\": \"rgba(0, 170, 174, 0.500)\",\n",
       "        \"name\": \"\",\n",
       "        \"legendgroup\": \"\",\n",
       "        \"line\": {\n",
       "            \"color\": \"rgba(0, 0, 0, 0.500)\",\n",
       "            \"dash\": \"solid\",\n",
       "            \"width\": 1\n",
       "        },\n",
       "        \"y\": [\n",
       "            0.0,\n",
       "            0.0,\n",
       "            37.785,\n",
       "            37.785,\n",
       "            0.0\n",
       "        ],\n",
       "        \"type\": \"scatter\"\n",
       "    },\n",
       "    {\n",
       "        \"xaxis\": \"x1\",\n",
       "        \"fill\": \"tozeroy\",\n",
       "        \"yaxis\": \"y1\",\n",
       "        \"x\": [\n",
       "            2491.745492,\n",
       "            2583.345492,\n",
       "            2583.345492,\n",
       "            2491.745492,\n",
       "            2491.745492\n",
       "        ],\n",
       "        \"showlegend\": false,\n",
       "        \"mode\": \"lines\",\n",
       "        \"fillcolor\": \"rgba(237, 94, 147, 0.500)\",\n",
       "        \"name\": \"\",\n",
       "        \"legendgroup\": \"\",\n",
       "        \"line\": {\n",
       "            \"color\": \"rgba(0, 0, 0, 0.500)\",\n",
       "            \"dash\": \"solid\",\n",
       "            \"width\": 1\n",
       "        },\n",
       "        \"y\": [\n",
       "            0.0,\n",
       "            0.0,\n",
       "            38.2733,\n",
       "            38.2733,\n",
       "            0.0\n",
       "        ],\n",
       "        \"type\": \"scatter\"\n",
       "    },\n",
       "    {\n",
       "        \"xaxis\": \"x1\",\n",
       "        \"fill\": \"tozeroy\",\n",
       "        \"yaxis\": \"y1\",\n",
       "        \"x\": [\n",
       "            2583.345492,\n",
       "            2631.445492,\n",
       "            2631.445492,\n",
       "            2583.345492,\n",
       "            2583.345492\n",
       "        ],\n",
       "        \"showlegend\": false,\n",
       "        \"mode\": \"lines\",\n",
       "        \"fillcolor\": \"rgba(198, 130, 37, 0.500)\",\n",
       "        \"name\": \"\",\n",
       "        \"legendgroup\": \"\",\n",
       "        \"line\": {\n",
       "            \"color\": \"rgba(0, 0, 0, 0.500)\",\n",
       "            \"dash\": \"solid\",\n",
       "            \"width\": 1\n",
       "        },\n",
       "        \"y\": [\n",
       "            0.0,\n",
       "            0.0,\n",
       "            39.172799999999995,\n",
       "            39.172799999999995,\n",
       "            0.0\n",
       "        ],\n",
       "        \"type\": \"scatter\"\n",
       "    },\n",
       "    {\n",
       "        \"xaxis\": \"x1\",\n",
       "        \"fill\": \"tozeroy\",\n",
       "        \"yaxis\": \"y1\",\n",
       "        \"x\": [\n",
       "            2631.445492,\n",
       "            2682.745492,\n",
       "            2682.745492,\n",
       "            2631.445492,\n",
       "            2631.445492\n",
       "        ],\n",
       "        \"showlegend\": false,\n",
       "        \"mode\": \"lines\",\n",
       "        \"fillcolor\": \"rgba(0, 169, 141, 0.500)\",\n",
       "        \"name\": \"\",\n",
       "        \"legendgroup\": \"\",\n",
       "        \"line\": {\n",
       "            \"color\": \"rgba(0, 0, 0, 0.500)\",\n",
       "            \"dash\": \"solid\",\n",
       "            \"width\": 1\n",
       "        },\n",
       "        \"y\": [\n",
       "            0.0,\n",
       "            0.0,\n",
       "            39.2756,\n",
       "            39.2756,\n",
       "            0.0\n",
       "        ],\n",
       "        \"type\": \"scatter\"\n",
       "    },\n",
       "    {\n",
       "        \"xaxis\": \"x1\",\n",
       "        \"fill\": \"tozeroy\",\n",
       "        \"yaxis\": \"y1\",\n",
       "        \"x\": [\n",
       "            2682.745492,\n",
       "            2734.045492,\n",
       "            2734.045492,\n",
       "            2682.745492,\n",
       "            2682.745492\n",
       "        ],\n",
       "        \"showlegend\": false,\n",
       "        \"mode\": \"lines\",\n",
       "        \"fillcolor\": \"rgba(142, 151, 30, 0.500)\",\n",
       "        \"name\": \"\",\n",
       "        \"legendgroup\": \"\",\n",
       "        \"line\": {\n",
       "            \"color\": \"rgba(0, 0, 0, 0.500)\",\n",
       "            \"dash\": \"solid\",\n",
       "            \"width\": 1\n",
       "        },\n",
       "        \"y\": [\n",
       "            0.0,\n",
       "            0.0,\n",
       "            39.3784,\n",
       "            39.3784,\n",
       "            0.0\n",
       "        ],\n",
       "        \"type\": \"scatter\"\n",
       "    },\n",
       "    {\n",
       "        \"xaxis\": \"x1\",\n",
       "        \"fill\": \"tozeroy\",\n",
       "        \"yaxis\": \"y1\",\n",
       "        \"x\": [\n",
       "            2734.045492,\n",
       "            2832.245492,\n",
       "            2832.245492,\n",
       "            2734.045492,\n",
       "            2734.045492\n",
       "        ],\n",
       "        \"showlegend\": false,\n",
       "        \"mode\": \"lines\",\n",
       "        \"fillcolor\": \"rgba(0, 169, 204, 0.500)\",\n",
       "        \"name\": \"\",\n",
       "        \"legendgroup\": \"\",\n",
       "        \"line\": {\n",
       "            \"color\": \"rgba(0, 0, 0, 0.500)\",\n",
       "            \"dash\": \"solid\",\n",
       "            \"width\": 1\n",
       "        },\n",
       "        \"y\": [\n",
       "            0.0,\n",
       "            0.0,\n",
       "            39.4555,\n",
       "            39.4555,\n",
       "            0.0\n",
       "        ],\n",
       "        \"type\": \"scatter\"\n",
       "    },\n",
       "    {\n",
       "        \"xaxis\": \"x1\",\n",
       "        \"fill\": \"tozeroy\",\n",
       "        \"yaxis\": \"y1\",\n",
       "        \"x\": [\n",
       "            2832.245492,\n",
       "            2930.445492,\n",
       "            2930.445492,\n",
       "            2832.245492,\n",
       "            2832.245492\n",
       "        ],\n",
       "        \"showlegend\": false,\n",
       "        \"mode\": \"lines\",\n",
       "        \"fillcolor\": \"rgba(155, 127, 233, 0.500)\",\n",
       "        \"name\": \"\",\n",
       "        \"legendgroup\": \"\",\n",
       "        \"line\": {\n",
       "            \"color\": \"rgba(0, 0, 0, 0.500)\",\n",
       "            \"dash\": \"solid\",\n",
       "            \"width\": 1\n",
       "        },\n",
       "        \"y\": [\n",
       "            0.0,\n",
       "            0.0,\n",
       "            39.583999999999996,\n",
       "            39.583999999999996,\n",
       "            0.0\n",
       "        ],\n",
       "        \"type\": \"scatter\"\n",
       "    },\n",
       "    {\n",
       "        \"xaxis\": \"x1\",\n",
       "        \"fill\": \"tozeroy\",\n",
       "        \"yaxis\": \"y1\",\n",
       "        \"x\": [\n",
       "            2930.445492,\n",
       "            2979.345492,\n",
       "            2979.345492,\n",
       "            2930.445492,\n",
       "            2930.445492\n",
       "        ],\n",
       "        \"showlegend\": false,\n",
       "        \"mode\": \"lines\",\n",
       "        \"fillcolor\": \"rgba(97, 141, 246, 0.500)\",\n",
       "        \"name\": \"\",\n",
       "        \"legendgroup\": \"\",\n",
       "        \"line\": {\n",
       "            \"color\": \"rgba(0, 0, 0, 0.500)\",\n",
       "            \"dash\": \"solid\",\n",
       "            \"width\": 1\n",
       "        },\n",
       "        \"y\": [\n",
       "            0.0,\n",
       "            0.0,\n",
       "            39.635400000000004,\n",
       "            39.635400000000004,\n",
       "            0.0\n",
       "        ],\n",
       "        \"type\": \"scatter\"\n",
       "    },\n",
       "    {\n",
       "        \"xaxis\": \"x1\",\n",
       "        \"fill\": \"tozeroy\",\n",
       "        \"yaxis\": \"y1\",\n",
       "        \"x\": [\n",
       "            2979.345492,\n",
       "            3028.245492,\n",
       "            3028.245492,\n",
       "            2979.345492,\n",
       "            2979.345492\n",
       "        ],\n",
       "        \"showlegend\": false,\n",
       "        \"mode\": \"lines\",\n",
       "        \"fillcolor\": \"rgba(240, 96, 115, 0.500)\",\n",
       "        \"name\": \"\",\n",
       "        \"legendgroup\": \"\",\n",
       "        \"line\": {\n",
       "            \"color\": \"rgba(0, 0, 0, 0.500)\",\n",
       "            \"dash\": \"solid\",\n",
       "            \"width\": 1\n",
       "        },\n",
       "        \"y\": [\n",
       "            0.0,\n",
       "            0.0,\n",
       "            39.841,\n",
       "            39.841,\n",
       "            0.0\n",
       "        ],\n",
       "        \"type\": \"scatter\"\n",
       "    },\n",
       "    {\n",
       "        \"xaxis\": \"x1\",\n",
       "        \"fill\": \"tozeroy\",\n",
       "        \"yaxis\": \"y1\",\n",
       "        \"x\": [\n",
       "            3028.245492,\n",
       "            3076.945492,\n",
       "            3076.945492,\n",
       "            3028.245492,\n",
       "            3028.245492\n",
       "        ],\n",
       "        \"showlegend\": false,\n",
       "        \"mode\": \"lines\",\n",
       "        \"fillcolor\": \"rgba(221, 101, 182, 0.500)\",\n",
       "        \"name\": \"\",\n",
       "        \"legendgroup\": \"\",\n",
       "        \"line\": {\n",
       "            \"color\": \"rgba(0, 0, 0, 0.500)\",\n",
       "            \"dash\": \"solid\",\n",
       "            \"width\": 1\n",
       "        },\n",
       "        \"y\": [\n",
       "            0.0,\n",
       "            0.0,\n",
       "            40.2522,\n",
       "            40.2522,\n",
       "            0.0\n",
       "        ],\n",
       "        \"type\": \"scatter\"\n",
       "    },\n",
       "    {\n",
       "        \"xaxis\": \"x1\",\n",
       "        \"fill\": \"tozeroy\",\n",
       "        \"yaxis\": \"y1\",\n",
       "        \"x\": [\n",
       "            3076.945492,\n",
       "            3081.745492,\n",
       "            3081.745492,\n",
       "            3076.945492,\n",
       "            3076.945492\n",
       "        ],\n",
       "        \"showlegend\": false,\n",
       "        \"mode\": \"lines\",\n",
       "        \"fillcolor\": \"rgba(108, 159, 51, 0.500)\",\n",
       "        \"name\": \"\",\n",
       "        \"legendgroup\": \"\",\n",
       "        \"line\": {\n",
       "            \"color\": \"rgba(0, 0, 0, 0.500)\",\n",
       "            \"dash\": \"solid\",\n",
       "            \"width\": 1\n",
       "        },\n",
       "        \"y\": [\n",
       "            0.0,\n",
       "            0.0,\n",
       "            41.9741,\n",
       "            41.9741,\n",
       "            0.0\n",
       "        ],\n",
       "        \"type\": \"scatter\"\n",
       "    },\n",
       "    {\n",
       "        \"xaxis\": \"x1\",\n",
       "        \"fill\": \"tozeroy\",\n",
       "        \"yaxis\": \"y1\",\n",
       "        \"x\": [\n",
       "            3081.745492,\n",
       "            3099.045492,\n",
       "            3099.045492,\n",
       "            3081.745492,\n",
       "            3081.745492\n",
       "        ],\n",
       "        \"showlegend\": false,\n",
       "        \"mode\": \"lines\",\n",
       "        \"fillcolor\": \"rgba(0, 154, 250, 0.500)\",\n",
       "        \"name\": \"\",\n",
       "        \"legendgroup\": \"\",\n",
       "        \"line\": {\n",
       "            \"color\": \"rgba(0, 0, 0, 0.500)\",\n",
       "            \"dash\": \"solid\",\n",
       "            \"width\": 1\n",
       "        },\n",
       "        \"y\": [\n",
       "            0.0,\n",
       "            0.0,\n",
       "            45.674899999999994,\n",
       "            45.674899999999994,\n",
       "            0.0\n",
       "        ],\n",
       "        \"type\": \"scatter\"\n",
       "    },\n",
       "    {\n",
       "        \"xaxis\": \"x1\",\n",
       "        \"fill\": \"tozeroy\",\n",
       "        \"yaxis\": \"y1\",\n",
       "        \"x\": [\n",
       "            3099.045492,\n",
       "            3133.645492,\n",
       "            3133.645492,\n",
       "            3099.045492,\n",
       "            3099.045492\n",
       "        ],\n",
       "        \"showlegend\": false,\n",
       "        \"mode\": \"lines\",\n",
       "        \"fillcolor\": \"rgba(227, 111, 71, 0.500)\",\n",
       "        \"name\": \"\",\n",
       "        \"legendgroup\": \"\",\n",
       "        \"line\": {\n",
       "            \"color\": \"rgba(0, 0, 0, 0.500)\",\n",
       "            \"dash\": \"solid\",\n",
       "            \"width\": 1\n",
       "        },\n",
       "        \"y\": [\n",
       "            0.0,\n",
       "            0.0,\n",
       "            54.1302,\n",
       "            54.1302,\n",
       "            0.0\n",
       "        ],\n",
       "        \"type\": \"scatter\"\n",
       "    },\n",
       "    {\n",
       "        \"xaxis\": \"x\",\n",
       "        \"colorbar\": {\n",
       "            \"y\": 0.5086805555555556,\n",
       "            \"title\": \"\",\n",
       "            \"len\": 0.8657316272965879,\n",
       "            \"x\": 0.9934383202099737\n",
       "        },\n",
       "        \"yaxis\": \"y\",\n",
       "        \"x\": [\n",
       "            2482.0,\n",
       "            2482.0\n",
       "        ],\n",
       "        \"showlegend\": true,\n",
       "        \"mode\": \"lines\",\n",
       "        \"name\": \"demand\",\n",
       "        \"legendgroup\": \"demand\",\n",
       "        \"line\": {\n",
       "            \"color\": \"rgba(0, 0, 0, 1.000)\",\n",
       "            \"shape\": \"linear\",\n",
       "            \"dash\": \"solid\",\n",
       "            \"width\": 5\n",
       "        },\n",
       "        \"y\": [\n",
       "            -5739.4251060000015,\n",
       "            5793.555306000002\n",
       "        ],\n",
       "        \"type\": \"scatter\"\n",
       "    },\n",
       "    {\n",
       "        \"xaxis\": \"x\",\n",
       "        \"colorbar\": {\n",
       "            \"y\": 0.5086805555555556,\n",
       "            \"title\": \"\",\n",
       "            \"len\": 0.8657316272965879,\n",
       "            \"x\": 0.9934383202099737\n",
       "        },\n",
       "        \"yaxis\": \"y\",\n",
       "        \"x\": [\n",
       "            -332260.43151676,\n",
       "            335394.07700876\n",
       "        ],\n",
       "        \"showlegend\": true,\n",
       "        \"mode\": \"lines\",\n",
       "        \"name\": \"SRMC\",\n",
       "        \"legendgroup\": \"SRMC\",\n",
       "        \"line\": {\n",
       "            \"color\": \"rgba(0, 0, 255, 1.000)\",\n",
       "            \"shape\": \"linear\",\n",
       "            \"dash\": \"solid\",\n",
       "            \"width\": 5\n",
       "        },\n",
       "        \"y\": [\n",
       "            37.785,\n",
       "            37.785\n",
       "        ],\n",
       "        \"type\": \"scatter\"\n",
       "    }\n",
       "]\n",
       ", {\n",
       "    \"showlegend\": true,\n",
       "    \"xaxis\": {\n",
       "        \"showticklabels\": true,\n",
       "        \"gridwidth\": 0.5,\n",
       "        \"tickvals\": [\n",
       "            0.0,\n",
       "            1000.0,\n",
       "            2000.0,\n",
       "            3000.0\n",
       "        ],\n",
       "        \"range\": [\n",
       "            -94.00936476000015,\n",
       "            3227.6548567600003\n",
       "        ],\n",
       "        \"domain\": [\n",
       "            0.061654272382618835,\n",
       "            0.9934383202099737\n",
       "        ],\n",
       "        \"mirror\": false,\n",
       "        \"tickangle\": 0,\n",
       "        \"showline\": true,\n",
       "        \"ticktext\": [\n",
       "            \"0\",\n",
       "            \"1000\",\n",
       "            \"2000\",\n",
       "            \"3000\"\n",
       "        ],\n",
       "        \"zeroline\": false,\n",
       "        \"tickfont\": {\n",
       "            \"color\": \"rgba(0, 0, 0, 1.000)\",\n",
       "            \"family\": \"sans-serif\",\n",
       "            \"size\": 11\n",
       "        },\n",
       "        \"zerolinecolor\": \"rgba(0, 0, 0, 1.000)\",\n",
       "        \"anchor\": \"y\",\n",
       "        \"visible\": true,\n",
       "        \"ticks\": \"inside\",\n",
       "        \"tickmode\": \"array\",\n",
       "        \"linecolor\": \"rgba(0, 0, 0, 1.000)\",\n",
       "        \"showgrid\": true,\n",
       "        \"title\": \"Capacity\",\n",
       "        \"gridcolor\": \"rgba(0, 0, 0, 0.100)\",\n",
       "        \"titlefont\": {\n",
       "            \"color\": \"rgba(0, 0, 0, 1.000)\",\n",
       "            \"family\": \"sans-serif\",\n",
       "            \"size\": 15\n",
       "        },\n",
       "        \"tickcolor\": \"rgb(0, 0, 0)\",\n",
       "        \"type\": \"-\"\n",
       "    },\n",
       "    \"paper_bgcolor\": \"rgba(255, 255, 255, 1.000)\",\n",
       "    \"annotations\": [\n",
       "        {\n",
       "            \"yanchor\": \"top\",\n",
       "            \"xanchor\": \"center\",\n",
       "            \"rotation\": -0.0,\n",
       "            \"y\": 1.0,\n",
       "            \"font\": {\n",
       "                \"color\": \"rgba(0, 0, 0, 1.000)\",\n",
       "                \"family\": \"sans-serif\",\n",
       "                \"size\": 20\n",
       "            },\n",
       "            \"yref\": \"paper\",\n",
       "            \"showarrow\": false,\n",
       "            \"text\": \"Supply and demand curves\",\n",
       "            \"xref\": \"paper\",\n",
       "            \"x\": 0.5275462962962963\n",
       "        }\n",
       "    ],\n",
       "    \"height\": 400,\n",
       "    \"margin\": {\n",
       "        \"l\": 0,\n",
       "        \"b\": 20,\n",
       "        \"r\": 0,\n",
       "        \"t\": 20\n",
       "    },\n",
       "    \"plot_bgcolor\": \"rgba(255, 255, 255, 1.000)\",\n",
       "    \"yaxis\": {\n",
       "        \"showticklabels\": true,\n",
       "        \"gridwidth\": 0.5,\n",
       "        \"tickvals\": [\n",
       "            0.0,\n",
       "            10.0,\n",
       "            20.0,\n",
       "            30.0,\n",
       "            40.0,\n",
       "            50.0\n",
       "        ],\n",
       "        \"range\": [\n",
       "            -1.6239060000000016,\n",
       "            55.75410600000001\n",
       "        ],\n",
       "        \"domain\": [\n",
       "            0.07581474190726165,\n",
       "            0.9415463692038496\n",
       "        ],\n",
       "        \"mirror\": false,\n",
       "        \"tickangle\": 0,\n",
       "        \"showline\": true,\n",
       "        \"ticktext\": [\n",
       "            \"0\",\n",
       "            \"10\",\n",
       "            \"20\",\n",
       "            \"30\",\n",
       "            \"40\",\n",
       "            \"50\"\n",
       "        ],\n",
       "        \"zeroline\": false,\n",
       "        \"tickfont\": {\n",
       "            \"color\": \"rgba(0, 0, 0, 1.000)\",\n",
       "            \"family\": \"sans-serif\",\n",
       "            \"size\": 11\n",
       "        },\n",
       "        \"zerolinecolor\": \"rgba(0, 0, 0, 1.000)\",\n",
       "        \"anchor\": \"x\",\n",
       "        \"visible\": true,\n",
       "        \"ticks\": \"inside\",\n",
       "        \"tickmode\": \"array\",\n",
       "        \"linecolor\": \"rgba(0, 0, 0, 1.000)\",\n",
       "        \"showgrid\": true,\n",
       "        \"title\": \"Marginal cost\",\n",
       "        \"gridcolor\": \"rgba(0, 0, 0, 0.100)\",\n",
       "        \"titlefont\": {\n",
       "            \"color\": \"rgba(0, 0, 0, 1.000)\",\n",
       "            \"family\": \"sans-serif\",\n",
       "            \"size\": 15\n",
       "        },\n",
       "        \"tickcolor\": \"rgb(0, 0, 0)\",\n",
       "        \"type\": \"-\"\n",
       "    },\n",
       "    \"legend\": {\n",
       "        \"yanchor\": \"auto\",\n",
       "        \"xanchor\": \"auto\",\n",
       "        \"bordercolor\": \"rgba(0, 0, 0, 1.000)\",\n",
       "        \"bgcolor\": \"rgba(255, 255, 255, 1.000)\",\n",
       "        \"borderwidth\": 1,\n",
       "        \"tracegroupgap\": 0,\n",
       "        \"y\": 1.0,\n",
       "        \"font\": {\n",
       "            \"color\": \"rgba(0, 0, 0, 1.000)\",\n",
       "            \"family\": \"sans-serif\",\n",
       "            \"size\": 11\n",
       "        },\n",
       "        \"title\": {\n",
       "            \"font\": {\n",
       "                \"color\": \"rgba(0, 0, 0, 1.000)\",\n",
       "                \"family\": \"sans-serif\",\n",
       "                \"size\": 15\n",
       "            },\n",
       "            \"text\": \"\"\n",
       "        },\n",
       "        \"traceorder\": \"normal\",\n",
       "        \"x\": 1.0\n",
       "    },\n",
       "    \"width\": 600\n",
       "}\n",
       ");\n",
       "    });\n",
       "    </script>\n"
      ]
     },
     "execution_count": 34,
     "metadata": {},
     "output_type": "execute_result"
    }
   ],
   "source": [
    "rectangle(w, h, x, y) = Shape(x .+ [0,w,w,0], y .+ [0,0,h,h])\n",
    "\n",
    "p = plot(nrow(supply_curve))\n",
    "\n",
    "marg_gen = 0\n",
    "marg_price = 0\n",
    "x = 0\n",
    "for i in 1:nrow(supply_curve)\n",
    "    plot!(p, rectangle(supply_curve[i,:cap],\n",
    "            supply_curve[i,:varcost],x,0), opacity=.5, \n",
    "            label = \"\")\n",
    "    if (x < loads_single[1,:demand]) && (x + supply_curve[i,:cap] > loads_single[1,:demand])\n",
    "        marg_gen = i\n",
    "        marg_price = supply_curve[i,:varcost]\n",
    "    end\n",
    "    x = x + supply_curve[i,:cap]\n",
    "end \n",
    "vline!([loads_single[1,:demand]],linecolor=\"black\",linewidth=5,\n",
    "label = \"demand\")\n",
    "hline!([marg_price],linecolor=\"blue\",linewidth=5,\n",
    "label = \"SRMC\")\n",
    "title!(\"Supply and demand curves\")\n",
    "xlabel!(\"Capacity\")\n",
    "ylabel!(\"Marginal cost\")\n",
    "p"
   ]
  },
  {
   "cell_type": "markdown",
   "metadata": {},
   "source": [
    "In the above, everything to the left of demand is dispatched at full capacity, except for the last generator (the \"marginal generator\") where demand stops. Everything to the right is not dispatched (=0). We stored the marginal generator in `marg_gen`:"
   ]
  },
  {
   "cell_type": "code",
   "execution_count": 35,
   "metadata": {},
   "outputs": [
    {
     "data": {
      "text/html": [
       "<div><div style = \"float: left;\"><span>DataFrameRow (33 columns)</span></div><div style = \"clear: both;\"></div></div><div class = \"data-frame\" style = \"overflow-x: scroll;\"><table class = \"data-frame\" style = \"margin-bottom: 6px;\"><thead><tr class = \"header\"><th class = \"rowLabel\" style = \"font-weight: bold; text-align: right;\">Row</th><th style = \"text-align: left;\">r_id</th><th style = \"text-align: left;\">resource</th><th style = \"text-align: left;\">region</th><th style = \"text-align: left;\">existing_cap_mw</th><th style = \"text-align: left;\">num_units</th><th style = \"text-align: left;\">cap_size</th><th style = \"text-align: left;\">var_om_cost_per_mwh</th><th style = \"text-align: left;\">fuel</th><th style = \"text-align: left;\">heat_rate_mmbtu_per_mwh</th><th style = \"text-align: left;\">min_power</th><th style = \"text-align: left;\">ramp_up_percentage</th><th style = \"text-align: left;\">ramp_dn_percentage</th><th style = \"text-align: left;\">start_cost_per_mw</th><th style = \"text-align: left;\">up_time</th><th style = \"text-align: left;\">down_time</th><th style = \"text-align: left;\">eff_up</th><th style = \"text-align: left;\">eff_down</th><th style = \"text-align: left;\">ratio_power_to_energy</th><th style = \"text-align: left;\">min_duration</th><th style = \"text-align: left;\">max_duration</th><th style = \"text-align: left;\">cluster</th><th style = \"text-align: left;\">zone</th><th style = \"text-align: left;\">therm</th><th style = \"text-align: left;\">disp</th><th style = \"text-align: left;\">ndisp</th><th style = \"text-align: left;\">stor</th><th style = \"text-align: left;\">fuel_cost</th><th style = \"text-align: left;\">co2_content_tons_per_mmbtu</th><th style = \"text-align: left;\">is_variable</th><th style = \"text-align: left;\">gen_full</th><th style = \"text-align: left;\">cf</th><th style = \"text-align: left;\">varcost</th><th style = \"text-align: left;\">cap</th></tr><tr class = \"subheader headerLastRow\"><th class = \"rowLabel\" style = \"font-weight: bold; text-align: right;\"></th><th title = \"Union{Missing, Int64}\" style = \"text-align: left;\">Int64?</th><th title = \"Union{Missing, String}\" style = \"text-align: left;\">String?</th><th title = \"Union{Missing, String15}\" style = \"text-align: left;\">String15?</th><th title = \"Union{Missing, Float64}\" style = \"text-align: left;\">Float64?</th><th title = \"Union{Missing, Int64}\" style = \"text-align: left;\">Int64?</th><th title = \"Union{Missing, Float64}\" style = \"text-align: left;\">Float64?</th><th title = \"Union{Missing, Float64}\" style = \"text-align: left;\">Float64?</th><th title = \"String31\" style = \"text-align: left;\">String31</th><th title = \"Union{Missing, Float64}\" style = \"text-align: left;\">Float64?</th><th title = \"Union{Missing, Float64}\" style = \"text-align: left;\">Float64?</th><th title = \"Union{Missing, Float64}\" style = \"text-align: left;\">Float64?</th><th title = \"Union{Missing, Float64}\" style = \"text-align: left;\">Float64?</th><th title = \"Union{Missing, Int64}\" style = \"text-align: left;\">Int64?</th><th title = \"Union{Missing, Int64}\" style = \"text-align: left;\">Int64?</th><th title = \"Union{Missing, Int64}\" style = \"text-align: left;\">Int64?</th><th title = \"Union{Missing, Float64}\" style = \"text-align: left;\">Float64?</th><th title = \"Union{Missing, Float64}\" style = \"text-align: left;\">Float64?</th><th title = \"Union{Missing, Float64}\" style = \"text-align: left;\">Float64?</th><th title = \"Union{Missing, Int64}\" style = \"text-align: left;\">Int64?</th><th title = \"Union{Missing, Int64}\" style = \"text-align: left;\">Int64?</th><th title = \"Union{Missing, Int64}\" style = \"text-align: left;\">Int64?</th><th title = \"Union{Missing, Int64}\" style = \"text-align: left;\">Int64?</th><th title = \"Union{Missing, Int64}\" style = \"text-align: left;\">Int64?</th><th title = \"Union{Missing, Int64}\" style = \"text-align: left;\">Int64?</th><th title = \"Union{Missing, Int64}\" style = \"text-align: left;\">Int64?</th><th title = \"Union{Missing, Int64}\" style = \"text-align: left;\">Int64?</th><th title = \"Union{Missing, Float64}\" style = \"text-align: left;\">Float64?</th><th title = \"Union{Missing, Float64}\" style = \"text-align: left;\">Float64?</th><th title = \"Bool\" style = \"text-align: left;\">Bool</th><th title = \"String\" style = \"text-align: left;\">String</th><th title = \"Union{Missing, Float64}\" style = \"text-align: left;\">Float64?</th><th title = \"Float64\" style = \"text-align: left;\">Float64</th><th title = \"Float64\" style = \"text-align: left;\">Float64</th></tr></thead><tbody><tr><td class = \"rowLabel\" style = \"font-weight: bold; text-align: right;\">13</td><td style = \"text-align: right;\">13</td><td style = \"text-align: left;\">natural_gas_fired_combustion_turbine</td><td style = \"text-align: left;\">WEC_SDGE</td><td style = \"text-align: right;\">96.6</td><td style = \"text-align: right;\">3</td><td style = \"text-align: right;\">32.2</td><td style = \"text-align: right;\">10.8</td><td style = \"text-align: left;\">pacific_naturalgas</td><td style = \"text-align: right;\">10.5</td><td style = \"text-align: right;\">0.932</td><td style = \"text-align: right;\">3.78</td><td style = \"text-align: right;\">3.78</td><td style = \"text-align: right;\">113</td><td style = \"text-align: right;\">1</td><td style = \"text-align: right;\">1</td><td style = \"text-align: right;\">1.0</td><td style = \"text-align: right;\">1.0</td><td style = \"text-align: right;\">1.0</td><td style = \"text-align: right;\">0</td><td style = \"text-align: right;\">0</td><td style = \"text-align: right;\">5</td><td style = \"text-align: right;\">1</td><td style = \"text-align: right;\">1</td><td style = \"text-align: right;\">0</td><td style = \"text-align: right;\">0</td><td style = \"text-align: right;\">0</td><td style = \"text-align: right;\">2.57</td><td style = \"text-align: right;\">0.05306</td><td style = \"text-align: right;\">false</td><td style = \"text-align: left;\">wec_sdge_natural_gas_fired_combustion_turbine_5.0</td><td style = \"text-align: right;\">1.0</td><td style = \"text-align: right;\">37.785</td><td style = \"text-align: right;\">96.6</td></tr></tbody></table></div>"
      ],
      "text/latex": [
       "\\begin{tabular}{r|ccccccccc}\n",
       "\t& r\\_id & resource & region & existing\\_cap\\_mw & num\\_units & cap\\_size & var\\_om\\_cost\\_per\\_mwh & fuel & \\\\\n",
       "\t\\hline\n",
       "\t& Int64? & String? & String15? & Float64? & Int64? & Float64? & Float64? & String31 & \\\\\n",
       "\t\\hline\n",
       "\t13 & 13 & natural\\_gas\\_fired\\_combustion\\_turbine & WEC\\_SDGE & 96.6 & 3 & 32.2 & 10.8 & pacific\\_naturalgas & $\\dots$ \\\\\n",
       "\\end{tabular}\n"
      ],
      "text/plain": [
       "\u001b[1mDataFrameRow\u001b[0m\n",
       "\u001b[1m Row \u001b[0m│\u001b[1m r_id   \u001b[0m\u001b[1m resource                          \u001b[0m\u001b[1m region    \u001b[0m\u001b[1m existing_cap_mw \u001b[0m\u001b[1m num_units \u001b[0m\u001b[1m cap_size \u001b[0m\u001b[1m var_om_cost_per_mwh\u001b[0m ⋯\n",
       "     │\u001b[90m Int64? \u001b[0m\u001b[90m String?                           \u001b[0m\u001b[90m String15? \u001b[0m\u001b[90m Float64?        \u001b[0m\u001b[90m Int64?    \u001b[0m\u001b[90m Float64? \u001b[0m\u001b[90m Float64?           \u001b[0m ⋯\n",
       "─────┼──────────────────────────────────────────────────────────────────────────────────────────────────────────────────\n",
       "  13 │     13  natural_gas_fired_combustion_tur…  WEC_SDGE              96.6          3      32.2                 10.8 ⋯\n",
       "\u001b[36m                                                                                                      26 columns omitted\u001b[0m"
      ]
     },
     "execution_count": 35,
     "metadata": {},
     "output_type": "execute_result"
    }
   ],
   "source": [
    "supply_curve[marg_gen,:]"
   ]
  },
  {
   "cell_type": "markdown",
   "metadata": {},
   "source": [
    "Which is generating $GEN_{marg\\_gen}=$"
   ]
  },
  {
   "cell_type": "code",
   "execution_count": 36,
   "metadata": {},
   "outputs": [
    {
     "data": {
      "text/plain": [
       "86.85450800000007"
      ]
     },
     "execution_count": 36,
     "metadata": {},
     "output_type": "execute_result"
    }
   ],
   "source": [
    "solution.solution[solution.solution.r_id .== supply_curve[marg_gen,:r_id],\n",
    "    :gen][1]"
   ]
  },
  {
   "cell_type": "markdown",
   "metadata": {},
   "source": [
    "**Combine by generation type**\n",
    "\n",
    "We are often interested in the total generation *by type*, not individual generators. We use `combine` and `groupby` methods to sum over resource:"
   ]
  },
  {
   "cell_type": "code",
   "execution_count": 37,
   "metadata": {},
   "outputs": [
    {
     "name": "stdout",
     "output_type": "stream",
     "text": [
      "┌──────────────────────────────────────┬──────────┐\n",
      "│\u001b[1m                             resource \u001b[0m│\u001b[1m  gen_sum \u001b[0m│\n",
      "│\u001b[90m                              String? \u001b[0m│\u001b[90m  Float64 \u001b[0m│\n",
      "├──────────────────────────────────────┼──────────┤\n",
      "│                              biomass │   21.400 │\n",
      "│         hydroelectric_pumped_storage │   42.000 │\n",
      "│     natural_gas_fired_combined_cycle │ 1928.500 │\n",
      "│ natural_gas_fired_combustion_turbine │  136.755 │\n",
      "│                 onshore_wind_turbine │   65.411 │\n",
      "│                  small_hydroelectric │    3.185 │\n",
      "│                   solar_photovoltaic │  284.750 │\n",
      "└──────────────────────────────────────┴──────────┘\n"
     ]
    }
   ],
   "source": [
    "sol_gen = combine(groupby(solution.solution, :resource), \n",
    "            :gen => sum)\n",
    "# We use the PrettyTable package here to round numbers when displaying\n",
    "pretty_table(sol_gen, formatters = ft_printf(\"%5.3f\")) "
   ]
  },
  {
   "cell_type": "markdown",
   "metadata": {},
   "source": [
    "Finally, let's add back the 600MW of behind-the-meter solar to get a full picture of all the electricity on the grid."
   ]
  },
  {
   "cell_type": "code",
   "execution_count": 38,
   "metadata": {},
   "outputs": [
    {
     "name": "stdout",
     "output_type": "stream",
     "text": [
      "┌──────────────────────────────────────┬──────────┐\n",
      "│\u001b[1m                             resource \u001b[0m│\u001b[1m  gen_sum \u001b[0m│\n",
      "│\u001b[90m                              String? \u001b[0m│\u001b[90m  Float64 \u001b[0m│\n",
      "├──────────────────────────────────────┼──────────┤\n",
      "│                              biomass │   21.400 │\n",
      "│         hydroelectric_pumped_storage │   42.000 │\n",
      "│     natural_gas_fired_combined_cycle │ 1928.500 │\n",
      "│ natural_gas_fired_combustion_turbine │  136.755 │\n",
      "│                 onshore_wind_turbine │   65.411 │\n",
      "│                  small_hydroelectric │    3.185 │\n",
      "│                   solar_photovoltaic │  284.750 │\n",
      "│               solar_photovoltaic_btm │  341.700 │\n",
      "└──────────────────────────────────────┴──────────┘\n"
     ]
    }
   ],
   "source": [
    "# we use the copy function to create a copy of the dataframe (as opposed to working with the original)\n",
    "sol_gen_btm = copy(sol_gen)\n",
    "\n",
    "# We'll use the same variability profile for BTM solar as the utility-scale solar here (in reality, they would probably differ)\n",
    "btm = DataFrame(resource = [\"solar_photovoltaic_btm\"], gen_sum = var_cf_single[var_cf_single.gen_full .== \"wec_sdge_solar_photovoltaic_1.0\",:cf] * 600)\n",
    "append!(sol_gen_btm, btm)\n",
    "pretty_table(sol_gen_btm, formatters = ft_printf(\"%5.3f\")) # We use the PrettyTable package to round numbers when displaying"
   ]
  },
  {
   "cell_type": "markdown",
   "metadata": {},
   "source": [
    "Hence, the majority of energy is being met by combined cycle natural gas turbines (CCGT), second by solar PV, and third by behind-the-meter solar."
   ]
  },
  {
   "cell_type": "markdown",
   "metadata": {},
   "source": [
    "## Multiple-time period, simple generator constraints\n",
    "\n",
    "We neglected the time dimension above and now we will add it back in. The key changes to the model arise from adding an additional index for time:\n",
    "\n",
    "$$\n",
    "\\begin{align}\n",
    "\\min \\ & \\sum_{g \\in G, t \\in T} VarCost_g \\times GEN_{g,t} & \\\\\n",
    "\\text{s.t.} & \\\\\n",
    " & \\sum_{g} GEN_{g,t} = Demand_t & \\forall \\quad t \\in T \\\\\n",
    " & GEN_{g,t} \\leq Pmax_{g,t} & \\forall \\quad g \\in G , t \\in T \\\\\n",
    " & GEN_{g,t} \\geq Pmin_{g,t} & \\forall \\quad g \\in G , t \\in T\n",
    "\\end{align}\n",
    "$$\n",
    "\n",
    "\n",
    "Note that for conventional generators, we often have $Pmax_{g,t} = Pmax_{g}$ and $Pmin_{g,t} = Pmin_{g}$ constant over time. (We will consider unit commitment later, which will alter this logic.)\n",
    "\n",
    "For variable renewable generators, it is natural that $Pmax_{g,t}$ varies with time (i.e., based on solar irradiation or wind speeds). $Pmin_{g,t}$ for wind and solar resources is usually 0, but for hydropower resources, minimum streamflow constraints can produce a time-variant parameter."
   ]
  },
  {
   "cell_type": "markdown",
   "metadata": {},
   "source": [
    "### 3. Create solver function\n",
    "\n",
    "(We reuse steps 1 and 2 above to load packages and data.)"
   ]
  },
  {
   "cell_type": "code",
   "execution_count": 39,
   "metadata": {},
   "outputs": [
    {
     "data": {
      "text/plain": [
       "economic_dispatch_multi (generic function with 1 method)"
      ]
     },
     "execution_count": 39,
     "metadata": {},
     "output_type": "execute_result"
    }
   ],
   "source": [
    "#=\n",
    "Function to solve economic dispatch problem (multi-time period, single-zone)\n",
    "Inputs:\n",
    "    gen_df -- dataframe with generator info\n",
    "    loads  -- load by time\n",
    "    gen_variable -- capacity factors of variable generators (in \"long\" format)\n",
    "=#\n",
    "function economic_dispatch_multi(gen_df, loads, gen_variable)\n",
    "    ED = Model(GLPK.Optimizer)\n",
    "\n",
    "    # Define sets based on data\n",
    "    G_var = gen_df[gen_df[!,:is_variable] .== 1,:r_id] \n",
    "    G_nonvar = gen_df[gen_df[!,:is_variable] .== 0,:r_id]\n",
    "    G = gen_df.r_id\n",
    "    T = loads.hour\n",
    "\n",
    "    # Generator capacity factor time series for variable generators\n",
    "    gen_var_cf = innerjoin(gen_variable, \n",
    "                    gen_df[gen_df.is_variable .== 1 , \n",
    "                        [:r_id, :gen_full, :existing_cap_mw]], \n",
    "                    on = :gen_full)\n",
    "        \n",
    "    # Decision variables   \n",
    "    @variables(ED, begin\n",
    "        GEN[G, T]  >= 0     # generation\n",
    "        # Note: we assume Pmin = 0 for all resources for simplicty here\n",
    "    end)\n",
    "                \n",
    "    # Objective function\n",
    "    @objective(ED, Min, \n",
    "        sum( (gen_df[gen_df.r_id .== i,:heat_rate_mmbtu_per_mwh][1] * gen_df[gen_df.r_id .== i,:fuel_cost][1] +\n",
    "            gen_df[gen_df.r_id .== i,:var_om_cost_per_mwh][1]) * GEN[i,t] \n",
    "                        for i in G_nonvar for t in T) + \n",
    "        sum(gen_df[gen_df.r_id .== i,:var_om_cost_per_mwh][1] * GEN[i,t] \n",
    "                        for i in G_var for t in T)\n",
    "    )\n",
    "    \n",
    "    # Demand constraint\n",
    "    @constraint(ED, cDemand[t in T], \n",
    "        sum(GEN[i,t] for i in G) == loads[loads.hour .== t,:demand][1])\n",
    "\n",
    "    # Capacity constraints (non-variable generation)\n",
    "    @constraint(ED, Cap_nonvar[i in G_nonvar, t in T], \n",
    "        GEN[i,t] <= gen_df[gen_df.r_id .== i,:existing_cap_mw][1])\n",
    "\n",
    "    # Variable generation capacity constraints\n",
    "    @constraint(ED, Cap_var[i in 1:nrow(gen_var_cf)], \n",
    "            GEN[gen_var_cf[i,:r_id], gen_var_cf[i,:hour] ] <= \n",
    "                        gen_var_cf[i,:cf] *\n",
    "                        gen_var_cf[i,:existing_cap_mw])\n",
    "    \n",
    "    # Solve statement (! indicates runs in place)\n",
    "    optimize!(ED)\n",
    "\n",
    "    # Dataframe of optimal decision variables\n",
    "    # This requires a few extra steps because we are indexing decision variables over two sets: generator and time\n",
    "    solution = DataFrame(value.(GEN).data, :auto)  # :auto argument asks DataFrames to pick the variable names automatically\n",
    "    ax1 = value.(GEN).axes[1]\n",
    "    ax2 = value.(GEN).axes[2]\n",
    "    cols = names(solution)\n",
    "    insertcols!(solution, 1, :r_id => ax1)\n",
    "    solution = stack(solution, Not(:r_id), variable_name=:hour)\n",
    "    solution.hour = foldl(replace, [cols[i] => ax2[i] for i in 1:length(ax2)], init=solution.hour)\n",
    "    rename!(solution, :value => :gen)\n",
    "    solution.hour = convert.(Int64,solution.hour)\n",
    "    \n",
    "    # Return the solution and objective as named tuple\n",
    "    return (\n",
    "        solution = solution, \n",
    "        cost = objective_value(ED),\n",
    "        status = termination_status(ED)\n",
    "    )\n",
    "\n",
    "end"
   ]
  },
  {
   "cell_type": "markdown",
   "metadata": {},
   "source": [
    "### 4. Solve a day's economic dispatch\n",
    "\n",
    "We will subset our year-long dataset to a single spring day and solve."
   ]
  },
  {
   "cell_type": "code",
   "execution_count": 40,
   "metadata": {},
   "outputs": [],
   "source": [
    "n=100\n",
    "T_period = (n*24+1):((n+1)*24)\n",
    "\n",
    "loads_multi = loads[in.(loads.hour,Ref(T_period)),:]\n",
    "gen_variable_multi = gen_variable_long[in.(gen_variable_long.hour,Ref(T_period)),:]\n",
    "\n",
    "gen_df_sens = copy(gen_df)\n",
    "gen_df_sens[gen_df_sens.resource .== \"solar_photovoltaic\",\n",
    "    :existing_cap_mw] .= 3500\n",
    "\n",
    "solution = economic_dispatch_multi(gen_df_sens, loads_multi, gen_variable_multi);"
   ]
  },
  {
   "cell_type": "code",
   "execution_count": 41,
   "metadata": {},
   "outputs": [
    {
     "data": {
      "text/html": [
       "<div><div style = \"float: left;\"><span>8×2 DataFrame</span></div><div style = \"clear: both;\"></div></div><div class = \"data-frame\" style = \"overflow-x: scroll;\"><table class = \"data-frame\" style = \"margin-bottom: 6px;\"><thead><tr class = \"header\"><th class = \"rowNumber\" style = \"font-weight: bold; text-align: right;\">Row</th><th style = \"text-align: left;\">resource</th><th style = \"text-align: left;\">gen_sum_sum</th></tr><tr class = \"subheader headerLastRow\"><th class = \"rowNumber\" style = \"font-weight: bold; text-align: right;\"></th><th title = \"Union{Missing, String}\" style = \"text-align: left;\">String?</th><th title = \"Float64\" style = \"text-align: left;\">Float64</th></tr></thead><tbody><tr><td class = \"rowNumber\" style = \"font-weight: bold; text-align: right;\">1</td><td style = \"text-align: left;\">_onshore_wind_turbine</td><td style = \"text-align: right;\">2314.42</td></tr><tr><td class = \"rowNumber\" style = \"font-weight: bold; text-align: right;\">2</td><td style = \"text-align: left;\">_small_hydroelectric</td><td style = \"text-align: right;\">76.4384</td></tr><tr><td class = \"rowNumber\" style = \"font-weight: bold; text-align: right;\">3</td><td style = \"text-align: left;\">_solar_photovoltaic</td><td style = \"text-align: right;\">20546.0</td></tr><tr><td class = \"rowNumber\" style = \"font-weight: bold; text-align: right;\">4</td><td style = \"text-align: left;\">_solar_photovoltaic_btm</td><td style = \"text-align: right;\">3522.18</td></tr><tr><td class = \"rowNumber\" style = \"font-weight: bold; text-align: right;\">5</td><td style = \"text-align: left;\">biomass</td><td style = \"text-align: right;\">513.6</td></tr><tr><td class = \"rowNumber\" style = \"font-weight: bold; text-align: right;\">6</td><td style = \"text-align: left;\">hydroelectric_pumped_storage</td><td style = \"text-align: right;\">1008.0</td></tr><tr><td class = \"rowNumber\" style = \"font-weight: bold; text-align: right;\">7</td><td style = \"text-align: left;\">natural_gas_fired_combined_cycle</td><td style = \"text-align: right;\">29749.6</td></tr><tr><td class = \"rowNumber\" style = \"font-weight: bold; text-align: right;\">8</td><td style = \"text-align: left;\">natural_gas_fired_combustion_turbine</td><td style = \"text-align: right;\">1224.89</td></tr></tbody></table></div>"
      ],
      "text/latex": [
       "\\begin{tabular}{r|cc}\n",
       "\t& resource & gen\\_sum\\_sum\\\\\n",
       "\t\\hline\n",
       "\t& String? & Float64\\\\\n",
       "\t\\hline\n",
       "\t1 & \\_onshore\\_wind\\_turbine & 2314.42 \\\\\n",
       "\t2 & \\_small\\_hydroelectric & 76.4384 \\\\\n",
       "\t3 & \\_solar\\_photovoltaic & 20546.0 \\\\\n",
       "\t4 & \\_solar\\_photovoltaic\\_btm & 3522.18 \\\\\n",
       "\t5 & biomass & 513.6 \\\\\n",
       "\t6 & hydroelectric\\_pumped\\_storage & 1008.0 \\\\\n",
       "\t7 & natural\\_gas\\_fired\\_combined\\_cycle & 29749.6 \\\\\n",
       "\t8 & natural\\_gas\\_fired\\_combustion\\_turbine & 1224.89 \\\\\n",
       "\\end{tabular}\n"
      ],
      "text/plain": [
       "\u001b[1m8×2 DataFrame\u001b[0m\n",
       "\u001b[1m Row \u001b[0m│\u001b[1m resource                          \u001b[0m\u001b[1m gen_sum_sum \u001b[0m\n",
       "     │\u001b[90m String?                           \u001b[0m\u001b[90m Float64     \u001b[0m\n",
       "─────┼────────────────────────────────────────────────\n",
       "   1 │ _onshore_wind_turbine                2314.42\n",
       "   2 │ _small_hydroelectric                   76.4384\n",
       "   3 │ _solar_photovoltaic                 20546.0\n",
       "   4 │ _solar_photovoltaic_btm              3522.18\n",
       "   5 │ biomass                               513.6\n",
       "   6 │ hydroelectric_pumped_storage         1008.0\n",
       "   7 │ natural_gas_fired_combined_cycle    29749.6\n",
       "   8 │ natural_gas_fired_combustion_tur…    1224.89"
      ]
     },
     "execution_count": 41,
     "metadata": {},
     "output_type": "execute_result"
    }
   ],
   "source": [
    "# **Add back in BTM solar and plot results**\n",
    "\n",
    "sol_gen = innerjoin(solution.solution, \n",
    "                    gen_df[!, [:r_id, :resource]], \n",
    "                    on = :r_id)\n",
    "sol_gen = combine(groupby(sol_gen, [:resource, :hour]), \n",
    "            :gen => sum)\n",
    "sol_gen_btm = copy(sol_gen)\n",
    "sol_gen_btm[sol_gen_btm.resource .== \"solar_photovoltaic\", :resource] .= \"_solar_photovoltaic\"\n",
    "sol_gen_btm[sol_gen_btm.resource .== \"onshore_wind_turbine\", :resource] .= \"_onshore_wind_turbine\"\n",
    "sol_gen_btm[sol_gen_btm.resource .== \"small_hydroelectric\", :resource] .= \"_small_hydroelectric\"\n",
    "\n",
    "btm = DataFrame(resource = repeat([\"_solar_photovoltaic_btm\"]; outer=length(T_period)), \n",
    "    hour = T_period,\n",
    "    gen_sum = gen_variable_multi[gen_variable_multi.gen_full .== \"wec_sdge_solar_photovoltaic_1.0\",:cf] * 600)\n",
    "append!(sol_gen_btm, btm)\n",
    "\n",
    "# Reorder resources\n",
    "sort!(sol_gen_btm, [:hour, :resource])\n",
    "CSV.write(\"results/sol_gen_btm.csv\",sol_gen_btm)\n",
    "\n",
    "sol_gen_sum = combine(groupby(sol_gen_btm, [:resource]), \n",
    "            :gen_sum => sum)"
   ]
  },
  {
   "cell_type": "markdown",
   "metadata": {},
   "source": [
    "**Plot charts**\n",
    "\n",
    "We use the [VegaLite](https://www.queryverse.org/VegaLite.jl/stable/) library to make some fancier plots.\n",
    "\n",
    "We also introduce the pipe operator `|>`, a helpful syntax that \"pipes\" the data on the left into the first argument of the function on the right. (Some more examples are [here](https://syl1.gitbook.io/julia-language-a-concise-tutorial/useful-packages/pipe).)"
   ]
  },
  {
   "cell_type": "code",
   "execution_count": 42,
   "metadata": {},
   "outputs": [
    {
     "data": {
      "application/vnd.vega.v5+json": {
       "$schema": "https://vega.github.io/schema/vega/v5.json",
       "axes": [
        {
         "aria": false,
         "domain": false,
         "grid": true,
         "gridScale": "y",
         "labels": false,
         "maxExtent": 0,
         "minExtent": 0,
         "orient": "bottom",
         "scale": "x",
         "tickCount": {
          "signal": "ceil(width/40)"
         },
         "ticks": false,
         "zindex": 0
        },
        {
         "aria": false,
         "domain": false,
         "grid": true,
         "gridScale": "x",
         "labels": false,
         "maxExtent": 0,
         "minExtent": 0,
         "orient": "left",
         "scale": "y",
         "tickCount": {
          "signal": "ceil(height/40)"
         },
         "ticks": false,
         "zindex": 0
        },
        {
         "grid": false,
         "labelFlush": true,
         "labelOverlap": true,
         "orient": "bottom",
         "scale": "x",
         "tickCount": {
          "signal": "ceil(width/40)"
         },
         "title": "hour",
         "zindex": 0
        },
        {
         "grid": false,
         "labelOverlap": true,
         "orient": "left",
         "scale": "y",
         "tickCount": {
          "signal": "ceil(height/40)"
         },
         "title": "gen_sum",
         "zindex": 0
        }
       ],
       "background": "white",
       "data": [
        {
         "name": "source_0",
         "values": [
          {
           "gen_sum": 163.3088,
           "hour": 2401,
           "resource": "_onshore_wind_turbine"
          },
          {
           "gen_sum": 3.184932,
           "hour": 2401,
           "resource": "_small_hydroelectric"
          },
          {
           "gen_sum": 0,
           "hour": 2401,
           "resource": "_solar_photovoltaic"
          },
          {
           "gen_sum": 0,
           "hour": 2401,
           "resource": "_solar_photovoltaic_btm"
          },
          {
           "gen_sum": 21.4,
           "hour": 2401,
           "resource": "biomass"
          },
          {
           "gen_sum": 42,
           "hour": 2401,
           "resource": "hydroelectric_pumped_storage"
          },
          {
           "gen_sum": 1385.106268,
           "hour": 2401,
           "resource": "natural_gas_fired_combined_cycle"
          },
          {
           "gen_sum": 0,
           "hour": 2401,
           "resource": "natural_gas_fired_combustion_turbine"
          },
          {
           "gen_sum": 169.79327999999998,
           "hour": 2402,
           "resource": "_onshore_wind_turbine"
          },
          {
           "gen_sum": 3.184932,
           "hour": 2402,
           "resource": "_small_hydroelectric"
          },
          {
           "gen_sum": 0,
           "hour": 2402,
           "resource": "_solar_photovoltaic"
          },
          {
           "gen_sum": 0,
           "hour": 2402,
           "resource": "_solar_photovoltaic_btm"
          },
          {
           "gen_sum": 21.4,
           "hour": 2402,
           "resource": "biomass"
          },
          {
           "gen_sum": 42,
           "hour": 2402,
           "resource": "hydroelectric_pumped_storage"
          },
          {
           "gen_sum": 1316.621788,
           "hour": 2402,
           "resource": "natural_gas_fired_combined_cycle"
          },
          {
           "gen_sum": 0,
           "hour": 2402,
           "resource": "natural_gas_fired_combustion_turbine"
          },
          {
           "gen_sum": 115.1104,
           "hour": 2403,
           "resource": "_onshore_wind_turbine"
          },
          {
           "gen_sum": 3.184932,
           "hour": 2403,
           "resource": "_small_hydroelectric"
          },
          {
           "gen_sum": 0,
           "hour": 2403,
           "resource": "_solar_photovoltaic"
          },
          {
           "gen_sum": 0,
           "hour": 2403,
           "resource": "_solar_photovoltaic_btm"
          },
          {
           "gen_sum": 21.4,
           "hour": 2403,
           "resource": "biomass"
          },
          {
           "gen_sum": 42,
           "hour": 2403,
           "resource": "hydroelectric_pumped_storage"
          },
          {
           "gen_sum": 1336.304668,
           "hour": 2403,
           "resource": "natural_gas_fired_combined_cycle"
          },
          {
           "gen_sum": 0,
           "hour": 2403,
           "resource": "natural_gas_fired_combustion_turbine"
          },
          {
           "gen_sum": 100.55296,
           "hour": 2404,
           "resource": "_onshore_wind_turbine"
          },
          {
           "gen_sum": 3.184932,
           "hour": 2404,
           "resource": "_small_hydroelectric"
          },
          {
           "gen_sum": 0,
           "hour": 2404,
           "resource": "_solar_photovoltaic"
          },
          {
           "gen_sum": 0,
           "hour": 2404,
           "resource": "_solar_photovoltaic_btm"
          },
          {
           "gen_sum": 21.4,
           "hour": 2404,
           "resource": "biomass"
          },
          {
           "gen_sum": 42,
           "hour": 2404,
           "resource": "hydroelectric_pumped_storage"
          },
          {
           "gen_sum": 1394.8621079999998,
           "hour": 2404,
           "resource": "natural_gas_fired_combined_cycle"
          },
          {
           "gen_sum": 0,
           "hour": 2404,
           "resource": "natural_gas_fired_combustion_turbine"
          },
          {
           "gen_sum": 80.57728000000009,
           "hour": 2405,
           "resource": "_onshore_wind_turbine"
          },
          {
           "gen_sum": 3.184932,
           "hour": 2405,
           "resource": "_small_hydroelectric"
          },
          {
           "gen_sum": 0,
           "hour": 2405,
           "resource": "_solar_photovoltaic"
          },
          {
           "gen_sum": 0,
           "hour": 2405,
           "resource": "_solar_photovoltaic_btm"
          },
          {
           "gen_sum": 21.4,
           "hour": 2405,
           "resource": "biomass"
          },
          {
           "gen_sum": 42,
           "hour": 2405,
           "resource": "hydroelectric_pumped_storage"
          },
          {
           "gen_sum": 1585.8377879999998,
           "hour": 2405,
           "resource": "natural_gas_fired_combined_cycle"
          },
          {
           "gen_sum": 0,
           "hour": 2405,
           "resource": "natural_gas_fired_combustion_turbine"
          },
          {
           "gen_sum": 139.17695999999998,
           "hour": 2406,
           "resource": "_onshore_wind_turbine"
          },
          {
           "gen_sum": 3.184932,
           "hour": 2406,
           "resource": "_small_hydroelectric"
          },
          {
           "gen_sum": 0,
           "hour": 2406,
           "resource": "_solar_photovoltaic"
          },
          {
           "gen_sum": 0,
           "hour": 2406,
           "resource": "_solar_photovoltaic_btm"
          },
          {
           "gen_sum": 21.4,
           "hour": 2406,
           "resource": "biomass"
          },
          {
           "gen_sum": 42,
           "hour": 2406,
           "resource": "hydroelectric_pumped_storage"
          },
          {
           "gen_sum": 1770.238108,
           "hour": 2406,
           "resource": "natural_gas_fired_combined_cycle"
          },
          {
           "gen_sum": 0,
           "hour": 2406,
           "resource": "natural_gas_fired_combustion_turbine"
          },
          {
           "gen_sum": 74.17983999999981,
           "hour": 2407,
           "resource": "_onshore_wind_turbine"
          },
          {
           "gen_sum": 3.184932,
           "hour": 2407,
           "resource": "_small_hydroelectric"
          },
          {
           "gen_sum": 193.54999999999993,
           "hour": 2407,
           "resource": "_solar_photovoltaic"
          },
          {
           "gen_sum": 33.18,
           "hour": 2407,
           "resource": "_solar_photovoltaic_btm"
          },
          {
           "gen_sum": 21.4,
           "hour": 2407,
           "resource": "biomass"
          },
          {
           "gen_sum": 42,
           "hour": 2407,
           "resource": "hydroelectric_pumped_storage"
          },
          {
           "gen_sum": 1928.5,
           "hour": 2407,
           "resource": "natural_gas_fired_combined_cycle"
          },
          {
           "gen_sum": 11.185228000000187,
           "hour": 2407,
           "resource": "natural_gas_fired_combustion_turbine"
          },
          {
           "gen_sum": 49.37343999999928,
           "hour": 2408,
           "resource": "_onshore_wind_turbine"
          },
          {
           "gen_sum": 3.184932000000117,
           "hour": 2408,
           "resource": "_small_hydroelectric"
          },
          {
           "gen_sum": 773.85,
           "hour": 2408,
           "resource": "_solar_photovoltaic"
          },
          {
           "gen_sum": 132.66,
           "hour": 2408,
           "resource": "_solar_photovoltaic_btm"
          },
          {
           "gen_sum": 21.4,
           "hour": 2408,
           "resource": "biomass"
          },
          {
           "gen_sum": 42,
           "hour": 2408,
           "resource": "hydroelectric_pumped_storage"
          },
          {
           "gen_sum": 1707.1916280000005,
           "hour": 2408,
           "resource": "natural_gas_fired_combined_cycle"
          },
          {
           "gen_sum": 0,
           "hour": 2408,
           "resource": "natural_gas_fired_combustion_turbine"
          },
          {
           "gen_sum": 167.35616000000027,
           "hour": 2409,
           "resource": "_onshore_wind_turbine"
          },
          {
           "gen_sum": 3.184932,
           "hour": 2409,
           "resource": "_small_hydroelectric"
          },
          {
           "gen_sum": 1671.6000000000001,
           "hour": 2409,
           "resource": "_solar_photovoltaic"
          },
          {
           "gen_sum": 286.56,
           "hour": 2409,
           "resource": "_solar_photovoltaic_btm"
          },
          {
           "gen_sum": 21.4,
           "hour": 2409,
           "resource": "biomass"
          },
          {
           "gen_sum": 42,
           "hour": 2409,
           "resource": "hydroelectric_pumped_storage"
          },
          {
           "gen_sum": 932.4589079999996,
           "hour": 2409,
           "resource": "natural_gas_fired_combined_cycle"
          },
          {
           "gen_sum": 0,
           "hour": 2409,
           "resource": "natural_gas_fired_combustion_turbine"
          },
          {
           "gen_sum": 131.56096,
           "hour": 2410,
           "resource": "_onshore_wind_turbine"
          },
          {
           "gen_sum": 3.184932,
           "hour": 2410,
           "resource": "_small_hydroelectric"
          },
          {
           "gen_sum": 2014.9499999999998,
           "hour": 2410,
           "resource": "_solar_photovoltaic"
          },
          {
           "gen_sum": 345.42,
           "hour": 2410,
           "resource": "_solar_photovoltaic_btm"
          },
          {
           "gen_sum": 21.4,
           "hour": 2410,
           "resource": "biomass"
          },
          {
           "gen_sum": 42,
           "hour": 2410,
           "resource": "hydroelectric_pumped_storage"
          },
          {
           "gen_sum": 809.904108,
           "hour": 2410,
           "resource": "natural_gas_fired_combined_cycle"
          },
          {
           "gen_sum": 0,
           "hour": 2410,
           "resource": "natural_gas_fired_combustion_turbine"
          },
          {
           "gen_sum": 111.1936,
           "hour": 2411,
           "resource": "_onshore_wind_turbine"
          },
          {
           "gen_sum": 3.184932,
           "hour": 2411,
           "resource": "_small_hydroelectric"
          },
          {
           "gen_sum": 2113.6499999999996,
           "hour": 2411,
           "resource": "_solar_photovoltaic"
          },
          {
           "gen_sum": 362.34,
           "hour": 2411,
           "resource": "_solar_photovoltaic_btm"
          },
          {
           "gen_sum": 21.4,
           "hour": 2411,
           "resource": "biomass"
          },
          {
           "gen_sum": 42,
           "hour": 2411,
           "resource": "hydroelectric_pumped_storage"
          },
          {
           "gen_sum": 833.571468,
           "hour": 2411,
           "resource": "natural_gas_fired_combined_cycle"
          },
          {
           "gen_sum": 0,
           "hour": 2411,
           "resource": "natural_gas_fired_combustion_turbine"
          },
          {
           "gen_sum": 92.11008,
           "hour": 2412,
           "resource": "_onshore_wind_turbine"
          },
          {
           "gen_sum": 3.184932,
           "hour": 2412,
           "resource": "_small_hydroelectric"
          },
          {
           "gen_sum": 2148.65,
           "hour": 2412,
           "resource": "_solar_photovoltaic"
          },
          {
           "gen_sum": 368.34,
           "hour": 2412,
           "resource": "_solar_photovoltaic_btm"
          },
          {
           "gen_sum": 21.4,
           "hour": 2412,
           "resource": "biomass"
          },
          {
           "gen_sum": 42,
           "hour": 2412,
           "resource": "hydroelectric_pumped_storage"
          },
          {
           "gen_sum": 655.6549879999999,
           "hour": 2412,
           "resource": "natural_gas_fired_combined_cycle"
          },
          {
           "gen_sum": 0,
           "hour": 2412,
           "resource": "natural_gas_fired_combustion_turbine"
          },
          {
           "gen_sum": 52.093439999999646,
           "hour": 2413,
           "resource": "_onshore_wind_turbine"
          },
          {
           "gen_sum": 3.184932,
           "hour": 2413,
           "resource": "_small_hydroelectric"
          },
          {
           "gen_sum": 2256.1,
           "hour": 2413,
           "resource": "_solar_photovoltaic"
          },
          {
           "gen_sum": 386.76,
           "hour": 2413,
           "resource": "_solar_photovoltaic_btm"
          },
          {
           "gen_sum": 21.4,
           "hour": 2413,
           "resource": "biomass"
          },
          {
           "gen_sum": 42,
           "hour": 2413,
           "resource": "hydroelectric_pumped_storage"
          },
          {
           "gen_sum": 368.2216280000001,
           "hour": 2413,
           "resource": "natural_gas_fired_combined_cycle"
          },
          {
           "gen_sum": 0,
           "hour": 2413,
           "resource": "natural_gas_fired_combustion_turbine"
          },
          {
           "gen_sum": 64.69248000000016,
           "hour": 2414,
           "resource": "_onshore_wind_turbine"
          },
          {
           "gen_sum": 3.184932,
           "hour": 2414,
           "resource": "_small_hydroelectric"
          },
          {
           "gen_sum": 2259.2499999999995,
           "hour": 2414,
           "resource": "_solar_photovoltaic"
          },
          {
           "gen_sum": 387.29999999999995,
           "hour": 2414,
           "resource": "_solar_photovoltaic_btm"
          },
          {
           "gen_sum": 21.4,
           "hour": 2414,
           "resource": "biomass"
          },
          {
           "gen_sum": 42,
           "hour": 2414,
           "resource": "hydroelectric_pumped_storage"
          },
          {
           "gen_sum": 275.472588,
           "hour": 2414,
           "resource": "natural_gas_fired_combined_cycle"
          },
          {
           "gen_sum": 0,
           "hour": 2414,
           "resource": "natural_gas_fired_combustion_turbine"
          },
          {
           "gen_sum": 49.22112,
           "hour": 2415,
           "resource": "_onshore_wind_turbine"
          },
          {
           "gen_sum": 3.184932,
           "hour": 2415,
           "resource": "_small_hydroelectric"
          },
          {
           "gen_sum": 2184.3499999999995,
           "hour": 2415,
           "resource": "_solar_photovoltaic"
          },
          {
           "gen_sum": 374.46,
           "hour": 2415,
           "resource": "_solar_photovoltaic_btm"
          },
          {
           "gen_sum": 21.4,
           "hour": 2415,
           "resource": "biomass"
          },
          {
           "gen_sum": 42,
           "hour": 2415,
           "resource": "hydroelectric_pumped_storage"
          },
          {
           "gen_sum": 277.84394800000007,
           "hour": 2415,
           "resource": "natural_gas_fired_combined_cycle"
          },
          {
           "gen_sum": 0,
           "hour": 2415,
           "resource": "natural_gas_fired_combustion_turbine"
          },
          {
           "gen_sum": 65.41055999999935,
           "hour": 2416,
           "resource": "_onshore_wind_turbine"
          },
          {
           "gen_sum": 3.184932,
           "hour": 2416,
           "resource": "_small_hydroelectric"
          },
          {
           "gen_sum": 1993.25,
           "hour": 2416,
           "resource": "_solar_photovoltaic"
          },
          {
           "gen_sum": 341.7,
           "hour": 2416,
           "resource": "_solar_photovoltaic_btm"
          },
          {
           "gen_sum": 21.4,
           "hour": 2416,
           "resource": "biomass"
          },
          {
           "gen_sum": 42,
           "hour": 2416,
           "resource": "hydroelectric_pumped_storage"
          },
          {
           "gen_sum": 356.7545080000003,
           "hour": 2416,
           "resource": "natural_gas_fired_combined_cycle"
          },
          {
           "gen_sum": 0,
           "hour": 2416,
           "resource": "natural_gas_fired_combustion_turbine"
          },
          {
           "gen_sum": 57.185280000000375,
           "hour": 2417,
           "resource": "_onshore_wind_turbine"
          },
          {
           "gen_sum": 3.184932,
           "hour": 2417,
           "resource": "_small_hydroelectric"
          },
          {
           "gen_sum": 1637.2999999999997,
           "hour": 2417,
           "resource": "_solar_photovoltaic"
          },
          {
           "gen_sum": 280.68,
           "hour": 2417,
           "resource": "_solar_photovoltaic_btm"
          },
          {
           "gen_sum": 21.4,
           "hour": 2417,
           "resource": "biomass"
          },
          {
           "gen_sum": 42,
           "hour": 2417,
           "resource": "hydroelectric_pumped_storage"
          },
          {
           "gen_sum": 660.9297879999998,
           "hour": 2417,
           "resource": "natural_gas_fired_combined_cycle"
          },
          {
           "gen_sum": 0,
           "hour": 2417,
           "resource": "natural_gas_fired_combustion_turbine"
          },
          {
           "gen_sum": 78.61887999999999,
           "hour": 2418,
           "resource": "_onshore_wind_turbine"
          },
          {
           "gen_sum": 3.184932,
           "hour": 2418,
           "resource": "_small_hydroelectric"
          },
          {
           "gen_sum": 1132.5999999999997,
           "hour": 2418,
           "resource": "_solar_photovoltaic"
          },
          {
           "gen_sum": 194.16,
           "hour": 2418,
           "resource": "_solar_photovoltaic_btm"
          },
          {
           "gen_sum": 21.4,
           "hour": 2418,
           "resource": "biomass"
          },
          {
           "gen_sum": 42,
           "hour": 2418,
           "resource": "hydroelectric_pumped_storage"
          },
          {
           "gen_sum": 1096.1961880000003,
           "hour": 2418,
           "resource": "natural_gas_fired_combined_cycle"
          },
          {
           "gen_sum": 0,
           "hour": 2418,
           "resource": "natural_gas_fired_combustion_turbine"
          },
          {
           "gen_sum": 52.61568000000014,
           "hour": 2419,
           "resource": "_onshore_wind_turbine"
          },
          {
           "gen_sum": 3.184932,
           "hour": 2419,
           "resource": "_small_hydroelectric"
          },
          {
           "gen_sum": 166.95000000000005,
           "hour": 2419,
           "resource": "_solar_photovoltaic"
          },
          {
           "gen_sum": 28.62,
           "hour": 2419,
           "resource": "_solar_photovoltaic_btm"
          },
          {
           "gen_sum": 21.4,
           "hour": 2419,
           "resource": "biomass"
          },
          {
           "gen_sum": 42,
           "hour": 2419,
           "resource": "hydroelectric_pumped_storage"
          },
          {
           "gen_sum": 1928.5,
           "hour": 2419,
           "resource": "natural_gas_fired_combined_cycle"
          },
          {
           "gen_sum": 163.34938799999972,
           "hour": 2419,
           "resource": "natural_gas_fired_combustion_turbine"
          },
          {
           "gen_sum": 61.42847999999982,
           "hour": 2420,
           "resource": "_onshore_wind_turbine"
          },
          {
           "gen_sum": 3.184932,
           "hour": 2420,
           "resource": "_small_hydroelectric"
          },
          {
           "gen_sum": 0,
           "hour": 2420,
           "resource": "_solar_photovoltaic"
          },
          {
           "gen_sum": 0,
           "hour": 2420,
           "resource": "_solar_photovoltaic_btm"
          },
          {
           "gen_sum": 21.4,
           "hour": 2420,
           "resource": "biomass"
          },
          {
           "gen_sum": 42,
           "hour": 2420,
           "resource": "hydroelectric_pumped_storage"
          },
          {
           "gen_sum": 1928.5,
           "hour": 2420,
           "resource": "natural_gas_fired_combined_cycle"
          },
          {
           "gen_sum": 444.48658800000004,
           "hour": 2420,
           "resource": "natural_gas_fired_combustion_turbine"
          },
          {
           "gen_sum": 71.91679999999975,
           "hour": 2421,
           "resource": "_onshore_wind_turbine"
          },
          {
           "gen_sum": 3.184932,
           "hour": 2421,
           "resource": "_small_hydroelectric"
          },
          {
           "gen_sum": 0,
           "hour": 2421,
           "resource": "_solar_photovoltaic"
          },
          {
           "gen_sum": 0,
           "hour": 2421,
           "resource": "_solar_photovoltaic_btm"
          },
          {
           "gen_sum": 21.4,
           "hour": 2421,
           "resource": "biomass"
          },
          {
           "gen_sum": 42,
           "hour": 2421,
           "resource": "hydroelectric_pumped_storage"
          },
          {
           "gen_sum": 1928.5,
           "hour": 2421,
           "resource": "natural_gas_fired_combined_cycle"
          },
          {
           "gen_sum": 438.9982680000001,
           "hour": 2421,
           "resource": "natural_gas_fired_combustion_turbine"
          },
          {
           "gen_sum": 96.04863999999998,
           "hour": 2422,
           "resource": "_onshore_wind_turbine"
          },
          {
           "gen_sum": 3.184932,
           "hour": 2422,
           "resource": "_small_hydroelectric"
          },
          {
           "gen_sum": 0,
           "hour": 2422,
           "resource": "_solar_photovoltaic"
          },
          {
           "gen_sum": 0,
           "hour": 2422,
           "resource": "_solar_photovoltaic_btm"
          },
          {
           "gen_sum": 21.4,
           "hour": 2422,
           "resource": "biomass"
          },
          {
           "gen_sum": 42,
           "hour": 2422,
           "resource": "hydroelectric_pumped_storage"
          },
          {
           "gen_sum": 1928.5,
           "hour": 2422,
           "resource": "natural_gas_fired_combined_cycle"
          },
          {
           "gen_sum": 166.86642799999993,
           "hour": 2422,
           "resource": "natural_gas_fired_combustion_turbine"
          },
          {
           "gen_sum": 126.46912,
           "hour": 2423,
           "resource": "_onshore_wind_turbine"
          },
          {
           "gen_sum": 3.184932,
           "hour": 2423,
           "resource": "_small_hydroelectric"
          },
          {
           "gen_sum": 0,
           "hour": 2423,
           "resource": "_solar_photovoltaic"
          },
          {
           "gen_sum": 0,
           "hour": 2423,
           "resource": "_solar_photovoltaic_btm"
          },
          {
           "gen_sum": 21.4,
           "hour": 2423,
           "resource": "biomass"
          },
          {
           "gen_sum": 42,
           "hour": 2423,
           "resource": "hydroelectric_pumped_storage"
          },
          {
           "gen_sum": 1794.9459479999998,
           "hour": 2423,
           "resource": "natural_gas_fired_combined_cycle"
          },
          {
           "gen_sum": 0,
           "hour": 2423,
           "resource": "natural_gas_fired_combustion_turbine"
          },
          {
           "gen_sum": 144.4211200000001,
           "hour": 2424,
           "resource": "_onshore_wind_turbine"
          },
          {
           "gen_sum": 3.184932,
           "hour": 2424,
           "resource": "_small_hydroelectric"
          },
          {
           "gen_sum": 0,
           "hour": 2424,
           "resource": "_solar_photovoltaic"
          },
          {
           "gen_sum": 0,
           "hour": 2424,
           "resource": "_solar_photovoltaic_btm"
          },
          {
           "gen_sum": 21.4,
           "hour": 2424,
           "resource": "biomass"
          },
          {
           "gen_sum": 42,
           "hour": 2424,
           "resource": "hydroelectric_pumped_storage"
          },
          {
           "gen_sum": 1548.9939479999998,
           "hour": 2424,
           "resource": "natural_gas_fired_combined_cycle"
          },
          {
           "gen_sum": 0,
           "hour": 2424,
           "resource": "natural_gas_fired_combustion_turbine"
          }
         ]
        },
        {
         "name": "data_0",
         "source": "source_0",
         "transform": [
          {
           "as": "hour",
           "expr": "toNumber(datum[\"hour\"])",
           "type": "formula"
          }
         ]
        }
       ],
       "height": 200,
       "legends": [
        {
         "stroke": "color",
         "symbolType": "stroke",
         "title": "resource"
        }
       ],
       "marks": [
        {
         "encode": {
          "update": {
           "height": {
            "field": {
             "group": "height"
            }
           },
           "width": {
            "field": {
             "group": "width"
            }
           }
          }
         },
         "from": {
          "facet": {
           "data": "data_0",
           "groupby": [
            "resource"
           ],
           "name": "faceted_path_main"
          }
         },
         "marks": [
          {
           "encode": {
            "update": {
             "defined": {
              "signal": "isValid(datum[\"hour\"]) && isFinite(+datum[\"hour\"]) && isValid(datum[\"gen_sum\"]) && isFinite(+datum[\"gen_sum\"])"
             },
             "description": {
              "signal": "\"hour: \" + (format(datum[\"hour\"], \"\")) + \"; gen_sum: \" + (format(datum[\"gen_sum\"], \"\")) + \"; resource: \" + (isValid(datum[\"resource\"]) ? datum[\"resource\"] : \"\"+datum[\"resource\"])"
             },
             "stroke": {
              "field": "resource",
              "scale": "color"
             },
             "x": {
              "field": "hour",
              "scale": "x"
             },
             "y": {
              "field": "gen_sum",
              "scale": "y"
             }
            }
           },
           "from": {
            "data": "faceted_path_main"
           },
           "name": "marks",
           "sort": {
            "field": "datum[\"hour\"]"
           },
           "style": [
            "line"
           ],
           "type": "line"
          }
         ],
         "name": "pathgroup",
         "type": "group"
        }
       ],
       "padding": 5,
       "scales": [
        {
         "domain": {
          "data": "data_0",
          "field": "hour"
         },
         "name": "x",
         "nice": true,
         "range": [
          0,
          {
           "signal": "width"
          }
         ],
         "type": "linear",
         "zero": false
        },
        {
         "domain": {
          "data": "data_0",
          "field": "gen_sum"
         },
         "name": "y",
         "nice": true,
         "range": [
          {
           "signal": "height"
          },
          0
         ],
         "type": "linear",
         "zero": true
        },
        {
         "domain": {
          "data": "data_0",
          "field": "resource",
          "sort": true
         },
         "name": "color",
         "range": {
          "scheme": "category20"
         },
         "type": "ordinal"
        }
       ],
       "style": "cell",
       "width": 200
      },
      "image/png": "[encoded data removed]",
      "image/svg+xml": [
       "<svg xmlns=\"http://www.w3.org/2000/svg\" xmlns:xlink=\"http://www.w3.org/1999/xlink\" version=\"1.1\" class=\"marks\" width=\"452\" height=\"242\" viewBox=\"0 0 452 242\"><rect width=\"452\" height=\"242\" fill=\"white\"/><g fill=\"none\" stroke-miterlimit=\"10\" transform=\"translate(53,5)\"><g class=\"mark-group role-frame root\" role=\"graphics-object\" aria-roledescription=\"group mark container\"><g transform=\"translate(0,0)\"><path class=\"background\" aria-hidden=\"true\" d=\"M0.5,0.5h200v200h-200Z\" stroke=\"#ddd\"/><g><g class=\"mark-group role-axis\" aria-hidden=\"true\"><g transform=\"translate(0.5,200.5)\"><path class=\"background\" aria-hidden=\"true\" d=\"M0,0h0v0h0Z\" pointer-events=\"none\"/><g><g class=\"mark-rule role-axis-grid\" pointer-events=\"none\"><line transform=\"translate(0,-200)\" x2=\"0\" y2=\"200\" stroke=\"#ddd\" stroke-width=\"1\" opacity=\"1\"/><line transform=\"translate(42,-200)\" x2=\"0\" y2=\"200\" stroke=\"#ddd\" stroke-width=\"1\" opacity=\"1\"/><line transform=\"translate(83,-200)\" x2=\"0\" y2=\"200\" stroke=\"#ddd\" stroke-width=\"1\" opacity=\"1\"/><line transform=\"translate(125,-200)\" x2=\"0\" y2=\"200\" stroke=\"#ddd\" stroke-width=\"1\" opacity=\"1\"/><line transform=\"translate(167,-200)\" x2=\"0\" y2=\"200\" stroke=\"#ddd\" stroke-width=\"1\" opacity=\"1\"/></g></g><path class=\"foreground\" aria-hidden=\"true\" d=\"\" pointer-events=\"none\" display=\"none\"/></g></g><g class=\"mark-group role-axis\" aria-hidden=\"true\"><g transform=\"translate(0.5,0.5)\"><path class=\"background\" aria-hidden=\"true\" d=\"M0,0h0v0h0Z\" pointer-events=\"none\"/><g><g class=\"mark-rule role-axis-grid\" pointer-events=\"none\"><line transform=\"translate(0,200)\" x2=\"200\" y2=\"0\" stroke=\"#ddd\" stroke-width=\"1\" opacity=\"1\"/><line transform=\"translate(0,158)\" x2=\"200\" y2=\"0\" stroke=\"#ddd\" stroke-width=\"1\" opacity=\"1\"/><line transform=\"translate(0,117)\" x2=\"200\" y2=\"0\" stroke=\"#ddd\" stroke-width=\"1\" opacity=\"1\"/><line transform=\"translate(0,75)\" x2=\"200\" y2=\"0\" stroke=\"#ddd\" stroke-width=\"1\" opacity=\"1\"/><line transform=\"translate(0,33)\" x2=\"200\" y2=\"0\" stroke=\"#ddd\" stroke-width=\"1\" opacity=\"1\"/></g></g><path class=\"foreground\" aria-hidden=\"true\" d=\"\" pointer-events=\"none\" display=\"none\"/></g></g><g class=\"mark-group role-axis\" role=\"graphics-symbol\" aria-roledescription=\"axis\" aria-label=\"X-axis titled 'hour' for a linear scale with values from 2,400 to 2,424\"><g transform=\"translate(0.5,200.5)\"><path class=\"background\" aria-hidden=\"true\" d=\"M0,0h0v0h0Z\" pointer-events=\"none\"/><g><g class=\"mark-rule role-axis-tick\" pointer-events=\"none\"><line transform=\"translate(0,0)\" x2=\"0\" y2=\"5\" stroke=\"#888\" stroke-width=\"1\" opacity=\"1\"/><line transform=\"translate(42,0)\" x2=\"0\" y2=\"5\" stroke=\"#888\" stroke-width=\"1\" opacity=\"1\"/><line transform=\"translate(83,0)\" x2=\"0\" y2=\"5\" stroke=\"#888\" stroke-width=\"1\" opacity=\"1\"/><line transform=\"translate(125,0)\" x2=\"0\" y2=\"5\" stroke=\"#888\" stroke-width=\"1\" opacity=\"1\"/><line transform=\"translate(167,0)\" x2=\"0\" y2=\"5\" stroke=\"#888\" stroke-width=\"1\" opacity=\"1\"/></g><g class=\"mark-text role-axis-label\" pointer-events=\"none\"><text text-anchor=\"start\" transform=\"translate(0,15)\" font-family=\"sans-serif\" font-size=\"10px\" fill=\"#000\" opacity=\"1\">2,400</text><text text-anchor=\"middle\" transform=\"translate(41.66666666666667,15)\" font-family=\"sans-serif\" font-size=\"10px\" fill=\"#000\" opacity=\"1\">2,405</text><text text-anchor=\"middle\" transform=\"translate(83.33333333333334,15)\" font-family=\"sans-serif\" font-size=\"10px\" fill=\"#000\" opacity=\"1\">2,410</text><text text-anchor=\"middle\" transform=\"translate(125,15)\" font-family=\"sans-serif\" font-size=\"10px\" fill=\"#000\" opacity=\"1\">2,415</text><text text-anchor=\"middle\" transform=\"translate(166.66666666666669,15)\" font-family=\"sans-serif\" font-size=\"10px\" fill=\"#000\" opacity=\"1\">2,420</text></g><g class=\"mark-rule role-axis-domain\" pointer-events=\"none\"><line transform=\"translate(0,0)\" x2=\"200\" y2=\"0\" stroke=\"#888\" stroke-width=\"1\" opacity=\"1\"/></g><g class=\"mark-text role-axis-title\" pointer-events=\"none\"><text text-anchor=\"middle\" transform=\"translate(100,30)\" font-family=\"sans-serif\" font-size=\"11px\" font-weight=\"bold\" fill=\"#000\" opacity=\"1\">hour</text></g></g><path class=\"foreground\" aria-hidden=\"true\" d=\"\" pointer-events=\"none\" display=\"none\"/></g></g><g class=\"mark-group role-axis\" role=\"graphics-symbol\" aria-roledescription=\"axis\" aria-label=\"Y-axis titled 'gen_sum' for a linear scale with values from 0 to 2,400\"><g transform=\"translate(0.5,0.5)\"><path class=\"background\" aria-hidden=\"true\" d=\"M0,0h0v0h0Z\" pointer-events=\"none\"/><g><g class=\"mark-rule role-axis-tick\" pointer-events=\"none\"><line transform=\"translate(0,200)\" x2=\"-5\" y2=\"0\" stroke=\"#888\" stroke-width=\"1\" opacity=\"1\"/><line transform=\"translate(0,158)\" x2=\"-5\" y2=\"0\" stroke=\"#888\" stroke-width=\"1\" opacity=\"1\"/><line transform=\"translate(0,117)\" x2=\"-5\" y2=\"0\" stroke=\"#888\" stroke-width=\"1\" opacity=\"1\"/><line transform=\"translate(0,75)\" x2=\"-5\" y2=\"0\" stroke=\"#888\" stroke-width=\"1\" opacity=\"1\"/><line transform=\"translate(0,33)\" x2=\"-5\" y2=\"0\" stroke=\"#888\" stroke-width=\"1\" opacity=\"1\"/></g><g class=\"mark-text role-axis-label\" pointer-events=\"none\"><text text-anchor=\"end\" transform=\"translate(-7,203)\" font-family=\"sans-serif\" font-size=\"10px\" fill=\"#000\" opacity=\"1\">0</text><text text-anchor=\"end\" transform=\"translate(-7,161.33333333333331)\" font-family=\"sans-serif\" font-size=\"10px\" fill=\"#000\" opacity=\"1\">500</text><text text-anchor=\"end\" transform=\"translate(-7,119.66666666666666)\" font-family=\"sans-serif\" font-size=\"10px\" fill=\"#000\" opacity=\"1\">1,000</text><text text-anchor=\"end\" transform=\"translate(-7,78)\" font-family=\"sans-serif\" font-size=\"10px\" fill=\"#000\" opacity=\"1\">1,500</text><text text-anchor=\"end\" transform=\"translate(-7,36.33333333333333)\" font-family=\"sans-serif\" font-size=\"10px\" fill=\"#000\" opacity=\"1\">2,000</text></g><g class=\"mark-rule role-axis-domain\" pointer-events=\"none\"><line transform=\"translate(0,200)\" x2=\"0\" y2=\"-200\" stroke=\"#888\" stroke-width=\"1\" opacity=\"1\"/></g><g class=\"mark-text role-axis-title\" pointer-events=\"none\"><text text-anchor=\"middle\" transform=\"translate(-36.0244140625,100) rotate(-90) translate(0,-2)\" font-family=\"sans-serif\" font-size=\"11px\" font-weight=\"bold\" fill=\"#000\" opacity=\"1\">gen_sum</text></g></g><path class=\"foreground\" aria-hidden=\"true\" d=\"\" pointer-events=\"none\" display=\"none\"/></g></g><g class=\"mark-group role-scope pathgroup\" role=\"graphics-object\" aria-roledescription=\"group mark container\"><g transform=\"translate(0,0)\"><path class=\"background\" aria-hidden=\"true\" d=\"M0,0h200v200h-200Z\"/><g><g class=\"mark-line role-mark marks\" role=\"graphics-object\" aria-roledescription=\"line mark container\"><path aria-label=\"hour: 2401; gen_sum: 163.3088; resource: _onshore_wind_turbine\" role=\"graphics-symbol\" aria-roledescription=\"line mark\" d=\"M8.333,186.391L16.667,185.851L25,190.407L33.333,191.621L41.667,193.285L50,188.402L58.333,193.818L66.667,195.886L75,186.054L83.333,189.037L91.667,190.734L100,192.324L108.333,195.659L116.667,194.609L125,195.898L133.333,194.549L141.667,195.235L150,193.448L158.333,195.615L166.667,194.881L175,194.007L183.333,191.996L191.667,189.461L200,187.965\" stroke=\"#1f77b4\" stroke-width=\"2\"/></g></g><path class=\"foreground\" aria-hidden=\"true\" d=\"\" display=\"none\"/></g><g transform=\"translate(0,0)\"><path class=\"background\" aria-hidden=\"true\" d=\"M0,0h200v200h-200Z\"/><g><g class=\"mark-line role-mark marks\" role=\"graphics-object\" aria-roledescription=\"line mark container\"><path aria-label=\"hour: 2401; gen_sum: 3.184932; resource: _small_hydroelectric\" role=\"graphics-symbol\" aria-roledescription=\"line mark\" d=\"M8.333,199.735L16.667,199.735L25,199.735L33.333,199.735L41.667,199.735L50,199.735L58.333,199.735L66.667,199.735L75,199.735L83.333,199.735L91.667,199.735L100,199.735L108.333,199.735L116.667,199.735L125,199.735L133.333,199.735L141.667,199.735L150,199.735L158.333,199.735L166.667,199.735L175,199.735L183.333,199.735L191.667,199.735L200,199.735\" stroke=\"#aec7e8\" stroke-width=\"2\"/></g></g><path class=\"foreground\" aria-hidden=\"true\" d=\"\" display=\"none\"/></g><g transform=\"translate(0,0)\"><path class=\"background\" aria-hidden=\"true\" d=\"M0,0h200v200h-200Z\"/><g><g class=\"mark-line role-mark marks\" role=\"graphics-object\" aria-roledescription=\"line mark container\"><path aria-label=\"hour: 2401; gen_sum: 0; resource: _solar_photovoltaic\" role=\"graphics-symbol\" aria-roledescription=\"line mark\" d=\"M8.333,200L16.667,200L25,200L33.333,200L41.667,200L50,200L58.333,183.871L66.667,135.513L75,60.7L83.333,32.088L91.667,23.863L100,20.946L108.333,11.992L116.667,11.729L125,17.971L133.333,33.896L141.667,63.558L150,105.617L158.333,186.088L166.667,200L175,200L183.333,200L191.667,200L200,200\" stroke=\"#ff7f0e\" stroke-width=\"2\"/></g></g><path class=\"foreground\" aria-hidden=\"true\" d=\"\" display=\"none\"/></g><g transform=\"translate(0,0)\"><path class=\"background\" aria-hidden=\"true\" d=\"M0,0h200v200h-200Z\"/><g><g class=\"mark-line role-mark marks\" role=\"graphics-object\" aria-roledescription=\"line mark container\"><path aria-label=\"hour: 2401; gen_sum: 0; resource: _solar_photovoltaic_btm\" role=\"graphics-symbol\" aria-roledescription=\"line mark\" d=\"M8.333,200L16.667,200L25,200L33.333,200L41.667,200L50,200L58.333,197.235L66.667,188.945L75,176.12L83.333,171.215L91.667,169.805L100,169.305L108.333,167.77L116.667,167.725L125,168.795L133.333,171.525L141.667,176.61L150,183.82L158.333,197.615L166.667,200L175,200L183.333,200L191.667,200L200,200\" stroke=\"#ffbb78\" stroke-width=\"2\"/></g></g><path class=\"foreground\" aria-hidden=\"true\" d=\"\" display=\"none\"/></g><g transform=\"translate(0,0)\"><path class=\"background\" aria-hidden=\"true\" d=\"M0,0h200v200h-200Z\"/><g><g class=\"mark-line role-mark marks\" role=\"graphics-object\" aria-roledescription=\"line mark container\"><path aria-label=\"hour: 2401; gen_sum: 21.4; resource: biomass\" role=\"graphics-symbol\" aria-roledescription=\"line mark\" d=\"M8.333,198.217L16.667,198.217L25,198.217L33.333,198.217L41.667,198.217L50,198.217L58.333,198.217L66.667,198.217L75,198.217L83.333,198.217L91.667,198.217L100,198.217L108.333,198.217L116.667,198.217L125,198.217L133.333,198.217L141.667,198.217L150,198.217L158.333,198.217L166.667,198.217L175,198.217L183.333,198.217L191.667,198.217L200,198.217\" stroke=\"#2ca02c\" stroke-width=\"2\"/></g></g><path class=\"foreground\" aria-hidden=\"true\" d=\"\" display=\"none\"/></g><g transform=\"translate(0,0)\"><path class=\"background\" aria-hidden=\"true\" d=\"M0,0h200v200h-200Z\"/><g><g class=\"mark-line role-mark marks\" role=\"graphics-object\" aria-roledescription=\"line mark container\"><path aria-label=\"hour: 2401; gen_sum: 42; resource: hydroelectric_pumped_storage\" role=\"graphics-symbol\" aria-roledescription=\"line mark\" d=\"M8.333,196.5L16.667,196.5L25,196.5L33.333,196.5L41.667,196.5L50,196.5L58.333,196.5L66.667,196.5L75,196.5L83.333,196.5L91.667,196.5L100,196.5L108.333,196.5L116.667,196.5L125,196.5L133.333,196.5L141.667,196.5L150,196.5L158.333,196.5L166.667,196.5L175,196.5L183.333,196.5L191.667,196.5L200,196.5\" stroke=\"#98df8a\" stroke-width=\"2\"/></g></g><path class=\"foreground\" aria-hidden=\"true\" d=\"\" display=\"none\"/></g><g transform=\"translate(0,0)\"><path class=\"background\" aria-hidden=\"true\" d=\"M0,0h200v200h-200Z\"/><g><g class=\"mark-line role-mark marks\" role=\"graphics-object\" aria-roledescription=\"line mark container\"><path aria-label=\"hour: 2401; gen_sum: 1385.106268; resource: natural_gas_fired_combined_cycle\" role=\"graphics-symbol\" aria-roledescription=\"line mark\" d=\"M8.333,84.574L16.667,90.282L25,88.641L33.333,83.761L41.667,67.847L50,52.48L58.333,39.292L66.667,57.734L75,122.295L83.333,132.508L91.667,130.536L100,145.362L108.333,169.315L116.667,177.044L125,176.846L133.333,170.27L141.667,144.923L150,108.65L158.333,39.292L166.667,39.292L175,39.292L183.333,39.292L191.667,50.421L200,70.917\" stroke=\"#d62728\" stroke-width=\"2\"/></g></g><path class=\"foreground\" aria-hidden=\"true\" d=\"\" display=\"none\"/></g><g transform=\"translate(0,0)\"><path class=\"background\" aria-hidden=\"true\" d=\"M0,0h200v200h-200Z\"/><g><g class=\"mark-line role-mark marks\" role=\"graphics-object\" aria-roledescription=\"line mark container\"><path aria-label=\"hour: 2401; gen_sum: 0; resource: natural_gas_fired_combustion_turbine\" role=\"graphics-symbol\" aria-roledescription=\"line mark\" d=\"M8.333,200L16.667,200L25,200L33.333,200L41.667,200L50,200L58.333,199.068L66.667,200L75,200L83.333,200L91.667,200L100,200L108.333,200L116.667,200L125,200L133.333,200L141.667,200L150,200L158.333,186.388L166.667,162.959L175,163.417L183.333,186.094L191.667,200L200,200\" stroke=\"#ff9896\" stroke-width=\"2\"/></g></g><path class=\"foreground\" aria-hidden=\"true\" d=\"\" display=\"none\"/></g></g><g class=\"mark-group role-legend\" role=\"graphics-symbol\" aria-roledescription=\"legend\" aria-label=\"Symbol legend titled 'resource' for stroke color with 8 values: _onshore_wind_turbine, _small_hydroelectric, _solar_photovoltaic, _solar_photovoltaic_btm, biomass, ending with natural_gas_fired_combustion_turbine\"><g transform=\"translate(220,0)\"><path class=\"background\" aria-hidden=\"true\" d=\"M0,0h174v118h-174Z\" pointer-events=\"none\"/><g><g class=\"mark-group role-legend-entry\"><g transform=\"translate(0,16)\"><path class=\"background\" aria-hidden=\"true\" d=\"M0,0h0v0h0Z\" pointer-events=\"none\"/><g><g class=\"mark-group role-scope\" role=\"graphics-object\" aria-roledescription=\"group mark container\"><g transform=\"translate(0,0)\"><path class=\"background\" aria-hidden=\"true\" d=\"M0,0h173.8759765625v11h-173.8759765625Z\" pointer-events=\"none\" opacity=\"1\"/><g><g class=\"mark-symbol role-legend-symbol\" pointer-events=\"none\"><path transform=\"translate(6,6)\" d=\"M-5,0L5,0\" stroke=\"#1f77b4\" stroke-width=\"1.5\" opacity=\"1\"/></g><g class=\"mark-text role-legend-label\" pointer-events=\"none\"><text text-anchor=\"start\" transform=\"translate(16,9)\" font-family=\"sans-serif\" font-size=\"10px\" fill=\"#000\" opacity=\"1\">_onshore_wind_turbine</text></g></g><path class=\"foreground\" aria-hidden=\"true\" d=\"\" pointer-events=\"none\" display=\"none\"/></g><g transform=\"translate(0,13)\"><path class=\"background\" aria-hidden=\"true\" d=\"M0,0h173.8759765625v11h-173.8759765625Z\" pointer-events=\"none\" opacity=\"1\"/><g><g class=\"mark-symbol role-legend-symbol\" pointer-events=\"none\"><path transform=\"translate(6,6)\" d=\"M-5,0L5,0\" stroke=\"#aec7e8\" stroke-width=\"1.5\" opacity=\"1\"/></g><g class=\"mark-text role-legend-label\" pointer-events=\"none\"><text text-anchor=\"start\" transform=\"translate(16,9)\" font-family=\"sans-serif\" font-size=\"10px\" fill=\"#000\" opacity=\"1\">_small_hydroelectric</text></g></g><path class=\"foreground\" aria-hidden=\"true\" d=\"\" pointer-events=\"none\" display=\"none\"/></g><g transform=\"translate(0,26)\"><path class=\"background\" aria-hidden=\"true\" d=\"M0,0h173.8759765625v11h-173.8759765625Z\" pointer-events=\"none\" opacity=\"1\"/><g><g class=\"mark-symbol role-legend-symbol\" pointer-events=\"none\"><path transform=\"translate(6,6)\" d=\"M-5,0L5,0\" stroke=\"#ff7f0e\" stroke-width=\"1.5\" opacity=\"1\"/></g><g class=\"mark-text role-legend-label\" pointer-events=\"none\"><text text-anchor=\"start\" transform=\"translate(16,9)\" font-family=\"sans-serif\" font-size=\"10px\" fill=\"#000\" opacity=\"1\">_solar_photovoltaic</text></g></g><path class=\"foreground\" aria-hidden=\"true\" d=\"\" pointer-events=\"none\" display=\"none\"/></g><g transform=\"translate(0,39)\"><path class=\"background\" aria-hidden=\"true\" d=\"M0,0h173.8759765625v11h-173.8759765625Z\" pointer-events=\"none\" opacity=\"1\"/><g><g class=\"mark-symbol role-legend-symbol\" pointer-events=\"none\"><path transform=\"translate(6,6)\" d=\"M-5,0L5,0\" stroke=\"#ffbb78\" stroke-width=\"1.5\" opacity=\"1\"/></g><g class=\"mark-text role-legend-label\" pointer-events=\"none\"><text text-anchor=\"start\" transform=\"translate(16,9)\" font-family=\"sans-serif\" font-size=\"10px\" fill=\"#000\" opacity=\"1\">_solar_photovoltaic_btm</text></g></g><path class=\"foreground\" aria-hidden=\"true\" d=\"\" pointer-events=\"none\" display=\"none\"/></g><g transform=\"translate(0,52)\"><path class=\"background\" aria-hidden=\"true\" d=\"M0,0h173.8759765625v11h-173.8759765625Z\" pointer-events=\"none\" opacity=\"1\"/><g><g class=\"mark-symbol role-legend-symbol\" pointer-events=\"none\"><path transform=\"translate(6,6)\" d=\"M-5,0L5,0\" stroke=\"#2ca02c\" stroke-width=\"1.5\" opacity=\"1\"/></g><g class=\"mark-text role-legend-label\" pointer-events=\"none\"><text text-anchor=\"start\" transform=\"translate(16,9)\" font-family=\"sans-serif\" font-size=\"10px\" fill=\"#000\" opacity=\"1\">biomass</text></g></g><path class=\"foreground\" aria-hidden=\"true\" d=\"\" pointer-events=\"none\" display=\"none\"/></g><g transform=\"translate(0,65)\"><path class=\"background\" aria-hidden=\"true\" d=\"M0,0h173.8759765625v11h-173.8759765625Z\" pointer-events=\"none\" opacity=\"1\"/><g><g class=\"mark-symbol role-legend-symbol\" pointer-events=\"none\"><path transform=\"translate(6,6)\" d=\"M-5,0L5,0\" stroke=\"#98df8a\" stroke-width=\"1.5\" opacity=\"1\"/></g><g class=\"mark-text role-legend-label\" pointer-events=\"none\"><text text-anchor=\"start\" transform=\"translate(16,9)\" font-family=\"sans-serif\" font-size=\"10px\" fill=\"#000\" opacity=\"1\">hydroelectric_pumped_storage</text></g></g><path class=\"foreground\" aria-hidden=\"true\" d=\"\" pointer-events=\"none\" display=\"none\"/></g><g transform=\"translate(0,78)\"><path class=\"background\" aria-hidden=\"true\" d=\"M0,0h173.8759765625v11h-173.8759765625Z\" pointer-events=\"none\" opacity=\"1\"/><g><g class=\"mark-symbol role-legend-symbol\" pointer-events=\"none\"><path transform=\"translate(6,6)\" d=\"M-5,0L5,0\" stroke=\"#d62728\" stroke-width=\"1.5\" opacity=\"1\"/></g><g class=\"mark-text role-legend-label\" pointer-events=\"none\"><text text-anchor=\"start\" transform=\"translate(16,9)\" font-family=\"sans-serif\" font-size=\"10px\" fill=\"#000\" opacity=\"1\">natural_gas_fired_combined_cycle</text></g></g><path class=\"foreground\" aria-hidden=\"true\" d=\"\" pointer-events=\"none\" display=\"none\"/></g><g transform=\"translate(0,91)\"><path class=\"background\" aria-hidden=\"true\" d=\"M0,0h173.8759765625v11h-173.8759765625Z\" pointer-events=\"none\" opacity=\"1\"/><g><g class=\"mark-symbol role-legend-symbol\" pointer-events=\"none\"><path transform=\"translate(6,6)\" d=\"M-5,0L5,0\" stroke=\"#ff9896\" stroke-width=\"1.5\" opacity=\"1\"/></g><g class=\"mark-text role-legend-label\" pointer-events=\"none\"><text text-anchor=\"start\" transform=\"translate(16,9)\" font-family=\"sans-serif\" font-size=\"10px\" fill=\"#000\" opacity=\"1\">natural_gas_fired_combustion_tu…</text></g></g><path class=\"foreground\" aria-hidden=\"true\" d=\"\" pointer-events=\"none\" display=\"none\"/></g></g></g><path class=\"foreground\" aria-hidden=\"true\" d=\"\" pointer-events=\"none\" display=\"none\"/></g></g><g class=\"mark-text role-legend-title\" pointer-events=\"none\"><text text-anchor=\"start\" transform=\"translate(0,9)\" font-family=\"sans-serif\" font-size=\"11px\" font-weight=\"bold\" fill=\"#000\" opacity=\"1\">resource</text></g></g><path class=\"foreground\" aria-hidden=\"true\" d=\"\" pointer-events=\"none\" display=\"none\"/></g></g></g><path class=\"foreground\" aria-hidden=\"true\" d=\"\" display=\"none\"/></g></g></g></svg>"
      ],
      "text/plain": [
       "@vlplot(\n",
       "    mark=\"line\",\n",
       "    encoding={\n",
       "        x={\n",
       "            field=\"hour\"\n",
       "        },\n",
       "        y={\n",
       "            field=\"gen_sum\"\n",
       "        },\n",
       "        color={\n",
       "            scale={\n",
       "                scheme=\"category20\"\n",
       "            },\n",
       "            field=\"resource\",\n",
       "            type=\"nominal\"\n",
       "        }\n",
       "    },\n",
       "    data={\n",
       "        values=...\n",
       "    }\n",
       ")"
      ]
     },
     "execution_count": 42,
     "metadata": {},
     "output_type": "execute_result"
    }
   ],
   "source": [
    "sol_gen_btm |>\n",
    "@vlplot(:line, \n",
    "    x=:hour, y=:gen_sum, \n",
    "    color={\"resource:n\", scale={scheme=\"category20\"}})\n"
   ]
  },
  {
   "cell_type": "code",
   "execution_count": 43,
   "metadata": {},
   "outputs": [],
   "source": [
    "g = sol_gen_btm |>\n",
    "@vlplot(:area, \n",
    "    x=:hour, y={:gen_sum, stack=:zero}, \n",
    "    color={\"resource:n\", scale={scheme=\"category20\"}},\n",
    "    width=600,height=600)\n",
    "g |> FileIO.save(\"results/ED_multitime.png\")"
   ]
  },
  {
   "cell_type": "markdown",
   "metadata": {},
   "source": [
    "For reference, here is the load shape (after subtracting BTM solar) we are trying solve:"
   ]
  },
  {
   "cell_type": "code",
   "execution_count": 44,
   "metadata": {},
   "outputs": [
    {
     "data": {
      "application/vnd.vega.v5+json": {
       "$schema": "https://vega.github.io/schema/vega/v5.json",
       "axes": [
        {
         "aria": false,
         "domain": false,
         "grid": true,
         "gridScale": "y",
         "labels": false,
         "maxExtent": 0,
         "minExtent": 0,
         "orient": "bottom",
         "scale": "x",
         "tickCount": {
          "signal": "ceil(width/40)"
         },
         "ticks": false,
         "zindex": 0
        },
        {
         "aria": false,
         "domain": false,
         "grid": true,
         "gridScale": "x",
         "labels": false,
         "maxExtent": 0,
         "minExtent": 0,
         "orient": "left",
         "scale": "y",
         "tickCount": {
          "signal": "ceil(height/40)"
         },
         "ticks": false,
         "zindex": 0
        },
        {
         "grid": false,
         "labelFlush": true,
         "labelOverlap": true,
         "orient": "bottom",
         "scale": "x",
         "tickCount": {
          "signal": "ceil(width/40)"
         },
         "title": "hour",
         "zindex": 0
        },
        {
         "grid": false,
         "labelOverlap": true,
         "orient": "left",
         "scale": "y",
         "tickCount": {
          "signal": "ceil(height/40)"
         },
         "title": "demand",
         "zindex": 0
        }
       ],
       "background": "white",
       "data": [
        {
         "name": "source_0",
         "values": [
          {
           "demand": 1615,
           "hour": 2401
          },
          {
           "demand": 1553,
           "hour": 2402
          },
          {
           "demand": 1518,
           "hour": 2403
          },
          {
           "demand": 1562,
           "hour": 2404
          },
          {
           "demand": 1733,
           "hour": 2405
          },
          {
           "demand": 1976,
           "hour": 2406
          },
          {
           "demand": 2274,
           "hour": 2407
          },
          {
           "demand": 2597,
           "hour": 2408
          },
          {
           "demand": 2838,
           "hour": 2409
          },
          {
           "demand": 3023,
           "hour": 2410
          },
          {
           "demand": 3125,
           "hour": 2411
          },
          {
           "demand": 2963,
           "hour": 2412
          },
          {
           "demand": 2743,
           "hour": 2413
          },
          {
           "demand": 2666,
           "hour": 2414
          },
          {
           "demand": 2578,
           "hour": 2415
          },
          {
           "demand": 2482,
           "hour": 2416
          },
          {
           "demand": 2422,
           "hour": 2417
          },
          {
           "demand": 2374,
           "hour": 2418
          },
          {
           "demand": 2378,
           "hour": 2419
          },
          {
           "demand": 2501,
           "hour": 2420
          },
          {
           "demand": 2506,
           "hour": 2421
          },
          {
           "demand": 2258,
           "hour": 2422
          },
          {
           "demand": 1988,
           "hour": 2423
          },
          {
           "demand": 1760,
           "hour": 2424
          }
         ]
        },
        {
         "name": "data_0",
         "source": "source_0",
         "transform": [
          {
           "as": "hour",
           "expr": "toNumber(datum[\"hour\"])",
           "type": "formula"
          }
         ]
        }
       ],
       "height": 200,
       "marks": [
        {
         "encode": {
          "update": {
           "defined": {
            "signal": "isValid(datum[\"hour\"]) && isFinite(+datum[\"hour\"]) && isValid(datum[\"demand\"]) && isFinite(+datum[\"demand\"])"
           },
           "description": {
            "signal": "\"hour: \" + (format(datum[\"hour\"], \"\")) + \"; demand: \" + (format(datum[\"demand\"], \"\"))"
           },
           "stroke": {
            "value": "#4c78a8"
           },
           "x": {
            "field": "hour",
            "scale": "x"
           },
           "y": {
            "field": "demand",
            "scale": "y"
           }
          }
         },
         "from": {
          "data": "data_0"
         },
         "name": "marks",
         "sort": {
          "field": "datum[\"hour\"]"
         },
         "style": [
          "line"
         ],
         "type": "line"
        }
       ],
       "padding": 5,
       "scales": [
        {
         "domain": {
          "data": "data_0",
          "field": "hour"
         },
         "name": "x",
         "nice": true,
         "range": [
          0,
          {
           "signal": "width"
          }
         ],
         "type": "linear",
         "zero": false
        },
        {
         "domain": {
          "data": "data_0",
          "field": "demand"
         },
         "name": "y",
         "nice": true,
         "range": [
          {
           "signal": "height"
          },
          0
         ],
         "type": "linear",
         "zero": true
        }
       ],
       "style": "cell",
       "width": 200
      },
      "image/png": "[encoded data removed]",
      "image/svg+xml": [
       "<svg xmlns=\"http://www.w3.org/2000/svg\" xmlns:xlink=\"http://www.w3.org/1999/xlink\" version=\"1.1\" class=\"marks\" width=\"260\" height=\"247\" viewBox=\"0 0 260 247\"><rect width=\"260\" height=\"247\" fill=\"white\"/><g fill=\"none\" stroke-miterlimit=\"10\" transform=\"translate(53,10)\"><g class=\"mark-group role-frame root\" role=\"graphics-object\" aria-roledescription=\"group mark container\"><g transform=\"translate(0,0)\"><path class=\"background\" aria-hidden=\"true\" d=\"M0.5,0.5h200v200h-200Z\" stroke=\"#ddd\"/><g><g class=\"mark-group role-axis\" aria-hidden=\"true\"><g transform=\"translate(0.5,200.5)\"><path class=\"background\" aria-hidden=\"true\" d=\"M0,0h0v0h0Z\" pointer-events=\"none\"/><g><g class=\"mark-rule role-axis-grid\" pointer-events=\"none\"><line transform=\"translate(0,-200)\" x2=\"0\" y2=\"200\" stroke=\"#ddd\" stroke-width=\"1\" opacity=\"1\"/><line transform=\"translate(42,-200)\" x2=\"0\" y2=\"200\" stroke=\"#ddd\" stroke-width=\"1\" opacity=\"1\"/><line transform=\"translate(83,-200)\" x2=\"0\" y2=\"200\" stroke=\"#ddd\" stroke-width=\"1\" opacity=\"1\"/><line transform=\"translate(125,-200)\" x2=\"0\" y2=\"200\" stroke=\"#ddd\" stroke-width=\"1\" opacity=\"1\"/><line transform=\"translate(167,-200)\" x2=\"0\" y2=\"200\" stroke=\"#ddd\" stroke-width=\"1\" opacity=\"1\"/></g></g><path class=\"foreground\" aria-hidden=\"true\" d=\"\" pointer-events=\"none\" display=\"none\"/></g></g><g class=\"mark-group role-axis\" aria-hidden=\"true\"><g transform=\"translate(0.5,0.5)\"><path class=\"background\" aria-hidden=\"true\" d=\"M0,0h0v0h0Z\" pointer-events=\"none\"/><g><g class=\"mark-rule role-axis-grid\" pointer-events=\"none\"><line transform=\"translate(0,200)\" x2=\"200\" y2=\"0\" stroke=\"#ddd\" stroke-width=\"1\" opacity=\"1\"/><line transform=\"translate(0,171)\" x2=\"200\" y2=\"0\" stroke=\"#ddd\" stroke-width=\"1\" opacity=\"1\"/><line transform=\"translate(0,143)\" x2=\"200\" y2=\"0\" stroke=\"#ddd\" stroke-width=\"1\" opacity=\"1\"/><line transform=\"translate(0,114)\" x2=\"200\" y2=\"0\" stroke=\"#ddd\" stroke-width=\"1\" opacity=\"1\"/><line transform=\"translate(0,86)\" x2=\"200\" y2=\"0\" stroke=\"#ddd\" stroke-width=\"1\" opacity=\"1\"/><line transform=\"translate(0,57)\" x2=\"200\" y2=\"0\" stroke=\"#ddd\" stroke-width=\"1\" opacity=\"1\"/><line transform=\"translate(0,29)\" x2=\"200\" y2=\"0\" stroke=\"#ddd\" stroke-width=\"1\" opacity=\"1\"/><line transform=\"translate(0,0)\" x2=\"200\" y2=\"0\" stroke=\"#ddd\" stroke-width=\"1\" opacity=\"1\"/></g></g><path class=\"foreground\" aria-hidden=\"true\" d=\"\" pointer-events=\"none\" display=\"none\"/></g></g><g class=\"mark-group role-axis\" role=\"graphics-symbol\" aria-roledescription=\"axis\" aria-label=\"X-axis titled 'hour' for a linear scale with values from 2,400 to 2,424\"><g transform=\"translate(0.5,200.5)\"><path class=\"background\" aria-hidden=\"true\" d=\"M0,0h0v0h0Z\" pointer-events=\"none\"/><g><g class=\"mark-rule role-axis-tick\" pointer-events=\"none\"><line transform=\"translate(0,0)\" x2=\"0\" y2=\"5\" stroke=\"#888\" stroke-width=\"1\" opacity=\"1\"/><line transform=\"translate(42,0)\" x2=\"0\" y2=\"5\" stroke=\"#888\" stroke-width=\"1\" opacity=\"1\"/><line transform=\"translate(83,0)\" x2=\"0\" y2=\"5\" stroke=\"#888\" stroke-width=\"1\" opacity=\"1\"/><line transform=\"translate(125,0)\" x2=\"0\" y2=\"5\" stroke=\"#888\" stroke-width=\"1\" opacity=\"1\"/><line transform=\"translate(167,0)\" x2=\"0\" y2=\"5\" stroke=\"#888\" stroke-width=\"1\" opacity=\"1\"/></g><g class=\"mark-text role-axis-label\" pointer-events=\"none\"><text text-anchor=\"start\" transform=\"translate(0,15)\" font-family=\"sans-serif\" font-size=\"10px\" fill=\"#000\" opacity=\"1\">2,400</text><text text-anchor=\"middle\" transform=\"translate(41.66666666666667,15)\" font-family=\"sans-serif\" font-size=\"10px\" fill=\"#000\" opacity=\"1\">2,405</text><text text-anchor=\"middle\" transform=\"translate(83.33333333333334,15)\" font-family=\"sans-serif\" font-size=\"10px\" fill=\"#000\" opacity=\"1\">2,410</text><text text-anchor=\"middle\" transform=\"translate(125,15)\" font-family=\"sans-serif\" font-size=\"10px\" fill=\"#000\" opacity=\"1\">2,415</text><text text-anchor=\"middle\" transform=\"translate(166.66666666666669,15)\" font-family=\"sans-serif\" font-size=\"10px\" fill=\"#000\" opacity=\"1\">2,420</text></g><g class=\"mark-rule role-axis-domain\" pointer-events=\"none\"><line transform=\"translate(0,0)\" x2=\"200\" y2=\"0\" stroke=\"#888\" stroke-width=\"1\" opacity=\"1\"/></g><g class=\"mark-text role-axis-title\" pointer-events=\"none\"><text text-anchor=\"middle\" transform=\"translate(100,30)\" font-family=\"sans-serif\" font-size=\"11px\" font-weight=\"bold\" fill=\"#000\" opacity=\"1\">hour</text></g></g><path class=\"foreground\" aria-hidden=\"true\" d=\"\" pointer-events=\"none\" display=\"none\"/></g></g><g class=\"mark-group role-axis\" role=\"graphics-symbol\" aria-roledescription=\"axis\" aria-label=\"Y-axis titled 'demand' for a linear scale with values from 0 to 3,500\"><g transform=\"translate(0.5,0.5)\"><path class=\"background\" aria-hidden=\"true\" d=\"M0,0h0v0h0Z\" pointer-events=\"none\"/><g><g class=\"mark-rule role-axis-tick\" pointer-events=\"none\"><line transform=\"translate(0,200)\" x2=\"-5\" y2=\"0\" stroke=\"#888\" stroke-width=\"1\" opacity=\"1\"/><line transform=\"translate(0,171)\" x2=\"-5\" y2=\"0\" stroke=\"#888\" stroke-width=\"1\" opacity=\"1\"/><line transform=\"translate(0,143)\" x2=\"-5\" y2=\"0\" stroke=\"#888\" stroke-width=\"1\" opacity=\"1\"/><line transform=\"translate(0,114)\" x2=\"-5\" y2=\"0\" stroke=\"#888\" stroke-width=\"1\" opacity=\"1\"/><line transform=\"translate(0,86)\" x2=\"-5\" y2=\"0\" stroke=\"#888\" stroke-width=\"1\" opacity=\"1\"/><line transform=\"translate(0,57)\" x2=\"-5\" y2=\"0\" stroke=\"#888\" stroke-width=\"1\" opacity=\"1\"/><line transform=\"translate(0,29)\" x2=\"-5\" y2=\"0\" stroke=\"#888\" stroke-width=\"1\" opacity=\"1\"/><line transform=\"translate(0,0)\" x2=\"-5\" y2=\"0\" stroke=\"#888\" stroke-width=\"1\" opacity=\"1\"/></g><g class=\"mark-text role-axis-label\" pointer-events=\"none\"><text text-anchor=\"end\" transform=\"translate(-7,203)\" font-family=\"sans-serif\" font-size=\"10px\" fill=\"#000\" opacity=\"1\">0</text><text text-anchor=\"end\" transform=\"translate(-7,174.42857142857144)\" font-family=\"sans-serif\" font-size=\"10px\" fill=\"#000\" opacity=\"1\">500</text><text text-anchor=\"end\" transform=\"translate(-7,145.85714285714286)\" font-family=\"sans-serif\" font-size=\"10px\" fill=\"#000\" opacity=\"1\">1,000</text><text text-anchor=\"end\" transform=\"translate(-7,117.28571428571428)\" font-family=\"sans-serif\" font-size=\"10px\" fill=\"#000\" opacity=\"1\">1,500</text><text text-anchor=\"end\" transform=\"translate(-7,88.71428571428572)\" font-family=\"sans-serif\" font-size=\"10px\" fill=\"#000\" opacity=\"1\">2,000</text><text text-anchor=\"end\" transform=\"translate(-7,60.14285714285714)\" font-family=\"sans-serif\" font-size=\"10px\" fill=\"#000\" opacity=\"1\">2,500</text><text text-anchor=\"end\" transform=\"translate(-7,31.57142857142858)\" font-family=\"sans-serif\" font-size=\"10px\" fill=\"#000\" opacity=\"1\">3,000</text><text text-anchor=\"end\" transform=\"translate(-7,3)\" font-family=\"sans-serif\" font-size=\"10px\" fill=\"#000\" opacity=\"1\">3,500</text></g><g class=\"mark-rule role-axis-domain\" pointer-events=\"none\"><line transform=\"translate(0,200)\" x2=\"0\" y2=\"-200\" stroke=\"#888\" stroke-width=\"1\" opacity=\"1\"/></g><g class=\"mark-text role-axis-title\" pointer-events=\"none\"><text text-anchor=\"middle\" transform=\"translate(-36.0244140625,100) rotate(-90) translate(0,-2)\" font-family=\"sans-serif\" font-size=\"11px\" font-weight=\"bold\" fill=\"#000\" opacity=\"1\">demand</text></g></g><path class=\"foreground\" aria-hidden=\"true\" d=\"\" pointer-events=\"none\" display=\"none\"/></g></g><g class=\"mark-line role-mark marks\" role=\"graphics-object\" aria-roledescription=\"line mark container\"><path aria-label=\"hour: 2401; demand: 1615\" role=\"graphics-symbol\" aria-roledescription=\"line mark\" d=\"M8.333,107.714L16.667,111.257L25,113.257L33.333,110.743L41.667,100.971L50,87.086L58.333,70.057L66.667,51.6L75,37.829L83.333,27.257L91.667,21.429L100,30.686L108.333,43.257L116.667,47.657L125,52.686L133.333,58.171L141.667,61.6L150,64.343L158.333,64.114L166.667,57.086L175,56.8L183.333,70.971L191.667,86.4L200,99.429\" stroke=\"#4c78a8\" stroke-width=\"2\"/></g></g><path class=\"foreground\" aria-hidden=\"true\" d=\"\" display=\"none\"/></g></g></g></svg>"
      ],
      "text/plain": [
       "@vlplot(\n",
       "    mark=\"line\",\n",
       "    encoding={\n",
       "        x={\n",
       "            field=\"hour\"\n",
       "        },\n",
       "        y={\n",
       "            field=\"demand\"\n",
       "        }\n",
       "    },\n",
       "    data={\n",
       "        values=...\n",
       "    }\n",
       ")"
      ]
     },
     "execution_count": 44,
     "metadata": {},
     "output_type": "execute_result"
    }
   ],
   "source": [
    "loads_multi |>\n",
    "@vlplot(:line, \n",
    "    x=:hour, y=:demand)"
   ]
  },
  {
   "cell_type": "markdown",
   "metadata": {},
   "source": [
    "## Multiple-time period, complex generator constraints with time coupling\n",
    "\n",
    "The above problem did not include more than one time index per constraint. Hence, we could actually solve this each time period separately without regard to what is happening before or after. (These are known as \"separable\" problems.)\n",
    "\n",
    "We now introduce time coupling into the model, by considering ramp rates, which limit how much generators can change output from one period to the next (an engineering constraint).\n",
    "\n",
    "The new model:\n",
    "\n",
    "$$\n",
    "\\begin{align}\n",
    "\\min \\ & \\sum_{g \\in G, t \\in T} VarCost_g \\times GEN_{g,t} & \\\\\n",
    "\\text{s.t.} & \\\\\n",
    " & \\sum_{g} GEN_{g,t} = Demand_t & \\forall \\quad t \\in T \\\\\n",
    " & GEN_{g,t} \\leq Pmax_{g,t} & \\forall \\quad g \\in G , t \\in T \\\\\n",
    " & GEN_{g,t} \\geq Pmin_{g,t} & \\forall \\quad g \\in G , t \\in T \\\\\n",
    " & GEN_{g,t+1} - GEN_{g,t} \\leq RampUp_{g} & \\forall \\quad g \\in G , t = 1..T-1 \\\\\n",
    "  & GEN_{g,t} - GEN_{g,t+1} \\leq RampDn_{g} & \\forall \\quad g \\in G , t = 1..T-1\n",
    "\\end{align}\n",
    "$$\n",
    "\n"
   ]
  },
  {
   "cell_type": "markdown",
   "metadata": {},
   "source": [
    "### 3. Create solver function\n",
    "\n",
    "(We reuse steps 1 and 2 above to load packages and data.)\n",
    "\n",
    "First, we define a function to convert two-dimensional outputs from JuMP into easy-to-read dataframes."
   ]
  },
  {
   "cell_type": "code",
   "execution_count": 45,
   "metadata": {},
   "outputs": [
    {
     "data": {
      "text/plain": [
       "value_to_df_2dim (generic function with 1 method)"
      ]
     },
     "execution_count": 45,
     "metadata": {},
     "output_type": "execute_result"
    }
   ],
   "source": [
    "#=\n",
    "Function to convert JuMP outputs (technically, AxisArrays) with two-indexes to a dataframe\n",
    "Inputs:\n",
    "    var -- JuMP AxisArray (e.g., value.(GEN))\n",
    "Reference: https://jump.dev/JuMP.jl/v0.19/containers/\n",
    "=#\n",
    "function value_to_df_2dim(var)\n",
    "    solution = DataFrame(var.data, :auto)\n",
    "    ax1 = var.axes[1]\n",
    "    ax2 = var.axes[2]\n",
    "    cols = names(solution)\n",
    "    insertcols!(solution, 1, :r_id => ax1)\n",
    "    solution = stack(solution, Not(:r_id), variable_name=:hour)\n",
    "    solution.hour = foldl(replace, [cols[i] => ax2[i] for i in 1:length(ax2)], init=solution.hour)\n",
    "    rename!(solution, :value => :gen)\n",
    "    solution.hour = convert.(Int64,solution.hour)\n",
    "    return solution\n",
    "end"
   ]
  },
  {
   "cell_type": "code",
   "execution_count": 46,
   "metadata": {},
   "outputs": [
    {
     "data": {
      "text/plain": [
       "economic_dispatch_multi_time (generic function with 1 method)"
      ]
     },
     "execution_count": 46,
     "metadata": {},
     "output_type": "execute_result"
    }
   ],
   "source": [
    "#=\n",
    "Function to solve economic dispatch problem (multi-time period, single-zone)\n",
    "Inputs:\n",
    "    gen_df -- dataframe with generator info\n",
    "    loads  -- load by time\n",
    "    gen_variable -- capacity factors of variable generators (in \"long\" format)\n",
    "=#\n",
    "function economic_dispatch_multi_time(gen_df, loads, gen_variable)\n",
    "    ED = Model(GLPK.Optimizer)\n",
    "\n",
    "    # Define sets based on data\n",
    "    G_var = gen_df[gen_df[!,:is_variable] .== 1,:r_id] \n",
    "    G_nonvar = gen_df[gen_df[!,:is_variable] .== 0,:r_id]\n",
    "    G = gen_df.r_id\n",
    "    T = loads.hour\n",
    "    T_red = loads.hour[1:end-1]  # time periods used for ramp constraints\n",
    "    \n",
    "    # Generator capacity factor time series for variable generators\n",
    "    gen_var_cf = innerjoin(gen_variable, \n",
    "                    gen_df[gen_df.is_variable .== 1 , \n",
    "                        [:r_id, :gen_full, :existing_cap_mw]], \n",
    "                    on = :gen_full)\n",
    "        \n",
    "    # Decision variables   \n",
    "    @variables(ED, begin\n",
    "        GEN[G, T]  >= 0     # generation\n",
    "        # Note: we assume Pmin = 0 for all resources for simplicty here\n",
    "    end)\n",
    "                \n",
    "    # Objective function\n",
    "    @objective(ED, Min, \n",
    "        sum( (gen_df[gen_df.r_id .== i,:heat_rate_mmbtu_per_mwh][1] * gen_df[gen_df.r_id .== i,:fuel_cost][1] +\n",
    "            gen_df[gen_df.r_id .== i,:var_om_cost_per_mwh][1]) * GEN[i,t] \n",
    "                        for i in G_nonvar for t in T) + \n",
    "        sum(gen_df[gen_df.r_id .== i,:var_om_cost_per_mwh][1] * GEN[i,t] \n",
    "                        for i in G_var for t in T)\n",
    "    )\n",
    "    \n",
    "    # Demand constraint\n",
    "    @constraint(ED, cDemand[t in T], \n",
    "        sum(GEN[i,t] for i in G) == loads[loads.hour .== t,:demand][1])\n",
    "\n",
    "    # Capacity constraints (non-variable generation)\n",
    "    @constraint(ED, Cap_nonvar[i in G_nonvar, t in T], \n",
    "        GEN[i,t] <= gen_df[gen_df.r_id .== i,:existing_cap_mw][1])\n",
    "\n",
    "    # Variable generation capacity constraints\n",
    "    @constraint(ED, Cap_var[i in 1:nrow(gen_var_cf)], \n",
    "            GEN[gen_var_cf[i,:r_id], gen_var_cf[i,:hour] ] <= \n",
    "                        gen_var_cf[i,:cf] *\n",
    "                        gen_var_cf[i,:existing_cap_mw])\n",
    "    \n",
    "    # Ramp up constraints\n",
    "    @constraint(ED, RampUp[i in G, t in T_red], \n",
    "        GEN[i,t+1] - GEN[i,t] <= gen_df[gen_df.r_id .== i,:existing_cap_mw][1] * \n",
    "                                 gen_df[gen_df.r_id .== i,:ramp_up_percentage][1] )\n",
    "\n",
    "    # Ramp down constraints\n",
    "    @constraint(ED, RampDn[i in G, t in T_red], \n",
    "        GEN[i,t] - GEN[i,t+1] <= gen_df[gen_df.r_id .== i,:existing_cap_mw][1] * \n",
    "                                 gen_df[gen_df.r_id .== i,:ramp_dn_percentage][1] )\n",
    "\n",
    "    \n",
    "    # Solve statement (! indicates runs in place)\n",
    "    optimize!(ED)\n",
    "\n",
    "    # Dataframe of optimal decision variables\n",
    "    solution = value_to_df_2dim(value.(GEN))\n",
    "    \n",
    "    # Dataframe of ramp up constraint marginal values \n",
    "    # (aka \"dual values\" of the ramp constraint)\n",
    "    # (to be used in solar sensitivity case)\n",
    "    marginals = value_to_df_2dim(dual.(RampUp))\n",
    "    \n",
    "    # Return the solution, objective, and marginals as named tuple\n",
    "    return (\n",
    "        solution = solution, \n",
    "        cost = objective_value(ED),\n",
    "        marginals = marginals\n",
    "    )\n",
    "\n",
    "end"
   ]
  },
  {
   "cell_type": "markdown",
   "metadata": {},
   "source": [
    "### 4. Solve a day's economic dispatch"
   ]
  },
  {
   "cell_type": "code",
   "execution_count": 47,
   "metadata": {},
   "outputs": [],
   "source": [
    "solution = economic_dispatch_multi_time(gen_df, loads_multi, gen_variable_multi);\n",
    "\n",
    "sol_gen = innerjoin(solution.solution, \n",
    "                    gen_df[!, [:r_id, :resource]], \n",
    "                    on = :r_id)\n",
    "sol_gen = combine(groupby(sol_gen, [:resource, :hour]), \n",
    "            :gen => sum)\n",
    "sol_gen_btm = sol_gen\n",
    "sol_gen_btm[sol_gen_btm.resource .== \"solar_photovoltaic\", :resource] .= \"_solar_photovoltaic\"\n",
    "sol_gen_btm[sol_gen_btm.resource .== \"onshore_wind_turbine\", :resource] .= \"_onshore_wind_turbine\"\n",
    "sol_gen_btm[sol_gen_btm.resource .== \"small_hydroelectric\", :resource] .= \"_small_hydroelectric\"\n",
    "\n",
    "btm = DataFrame(resource = repeat([\"_solar_photovoltaic_btm\"]; outer=length(T_period)), \n",
    "    hour = T_period,\n",
    "    gen_sum = gen_variable_multi[gen_variable_multi.gen_full .== \"wec_sdge_solar_photovoltaic_1.0\",:cf] * 600)\n",
    "append!(sol_gen_btm, btm)\n",
    "\n",
    "# Reorder resources\n",
    "sort!(sol_gen_btm, [:hour, :resource])\n",
    "\n",
    "sol_gen_btm |>\n",
    "@vlplot(:area, \n",
    "    x=:hour, y={:gen_sum, stack=:zero}, \n",
    "    color={\"resource:n\", scale={scheme=\"category20\"}},\n",
    "    width=600,height=600) |> \n",
    "    FileIO.save(\"results/ED_moderate.png\")"
   ]
  },
  {
   "cell_type": "markdown",
   "metadata": {},
   "source": [
    "### 5. Run sensitivity on capacity\n",
    "\n",
    "Let's now examine what happens if we increase utility solar capacity from the current 500MW up to 3500 MW."
   ]
  },
  {
   "cell_type": "code",
   "execution_count": 48,
   "metadata": {},
   "outputs": [
    {
     "data": {
      "application/vnd.vega.v5+json": {
       "$schema": "https://vega.github.io/schema/vega/v5.json",
       "axes": [
        {
         "aria": false,
         "domain": false,
         "grid": true,
         "gridScale": "y",
         "labels": false,
         "maxExtent": 0,
         "minExtent": 0,
         "orient": "bottom",
         "scale": "x",
         "tickCount": {
          "signal": "ceil(width/40)"
         },
         "ticks": false,
         "zindex": 0
        },
        {
         "aria": false,
         "domain": false,
         "grid": true,
         "gridScale": "x",
         "labels": false,
         "maxExtent": 0,
         "minExtent": 0,
         "orient": "left",
         "scale": "y",
         "tickCount": {
          "signal": "ceil(height/40)"
         },
         "ticks": false,
         "zindex": 0
        },
        {
         "grid": false,
         "labelFlush": true,
         "labelOverlap": true,
         "orient": "bottom",
         "scale": "x",
         "tickCount": {
          "signal": "ceil(width/40)"
         },
         "title": "hour",
         "zindex": 0
        },
        {
         "grid": false,
         "labelOverlap": true,
         "orient": "left",
         "scale": "y",
         "tickCount": {
          "signal": "ceil(height/40)"
         },
         "title": "gen_sum",
         "zindex": 0
        }
       ],
       "background": "white",
       "data": [
        {
         "name": "source_0",
         "values": [
          {
           "gen_sum": 163.3088,
           "hour": 2401,
           "resource": "_onshore_wind_turbine"
          },
          {
           "gen_sum": 3.184932,
           "hour": 2401,
           "resource": "_small_hydroelectric"
          },
          {
           "gen_sum": 0,
           "hour": 2401,
           "resource": "_solar_photovoltaic"
          },
          {
           "gen_sum": 0,
           "hour": 2401,
           "resource": "_solar_photovoltaic_btm"
          },
          {
           "gen_sum": 21.4,
           "hour": 2401,
           "resource": "biomass"
          },
          {
           "gen_sum": 42,
           "hour": 2401,
           "resource": "hydroelectric_pumped_storage"
          },
          {
           "gen_sum": 1385.106268,
           "hour": 2401,
           "resource": "natural_gas_fired_combined_cycle"
          },
          {
           "gen_sum": 0,
           "hour": 2401,
           "resource": "natural_gas_fired_combustion_turbine"
          },
          {
           "gen_sum": 169.79327999999998,
           "hour": 2402,
           "resource": "_onshore_wind_turbine"
          },
          {
           "gen_sum": 3.184932,
           "hour": 2402,
           "resource": "_small_hydroelectric"
          },
          {
           "gen_sum": 0,
           "hour": 2402,
           "resource": "_solar_photovoltaic"
          },
          {
           "gen_sum": 0,
           "hour": 2402,
           "resource": "_solar_photovoltaic_btm"
          },
          {
           "gen_sum": 21.4,
           "hour": 2402,
           "resource": "biomass"
          },
          {
           "gen_sum": 42,
           "hour": 2402,
           "resource": "hydroelectric_pumped_storage"
          },
          {
           "gen_sum": 1316.621788,
           "hour": 2402,
           "resource": "natural_gas_fired_combined_cycle"
          },
          {
           "gen_sum": 0,
           "hour": 2402,
           "resource": "natural_gas_fired_combustion_turbine"
          },
          {
           "gen_sum": 115.1104,
           "hour": 2403,
           "resource": "_onshore_wind_turbine"
          },
          {
           "gen_sum": 3.184932,
           "hour": 2403,
           "resource": "_small_hydroelectric"
          },
          {
           "gen_sum": 0,
           "hour": 2403,
           "resource": "_solar_photovoltaic"
          },
          {
           "gen_sum": 0,
           "hour": 2403,
           "resource": "_solar_photovoltaic_btm"
          },
          {
           "gen_sum": 21.4,
           "hour": 2403,
           "resource": "biomass"
          },
          {
           "gen_sum": 42,
           "hour": 2403,
           "resource": "hydroelectric_pumped_storage"
          },
          {
           "gen_sum": 1336.304668,
           "hour": 2403,
           "resource": "natural_gas_fired_combined_cycle"
          },
          {
           "gen_sum": 0,
           "hour": 2403,
           "resource": "natural_gas_fired_combustion_turbine"
          },
          {
           "gen_sum": 100.55296,
           "hour": 2404,
           "resource": "_onshore_wind_turbine"
          },
          {
           "gen_sum": 3.184932,
           "hour": 2404,
           "resource": "_small_hydroelectric"
          },
          {
           "gen_sum": 0,
           "hour": 2404,
           "resource": "_solar_photovoltaic"
          },
          {
           "gen_sum": 0,
           "hour": 2404,
           "resource": "_solar_photovoltaic_btm"
          },
          {
           "gen_sum": 21.4,
           "hour": 2404,
           "resource": "biomass"
          },
          {
           "gen_sum": 42,
           "hour": 2404,
           "resource": "hydroelectric_pumped_storage"
          },
          {
           "gen_sum": 1394.8621079999998,
           "hour": 2404,
           "resource": "natural_gas_fired_combined_cycle"
          },
          {
           "gen_sum": 0,
           "hour": 2404,
           "resource": "natural_gas_fired_combustion_turbine"
          },
          {
           "gen_sum": 80.57727999999997,
           "hour": 2405,
           "resource": "_onshore_wind_turbine"
          },
          {
           "gen_sum": 3.184932,
           "hour": 2405,
           "resource": "_small_hydroelectric"
          },
          {
           "gen_sum": 0,
           "hour": 2405,
           "resource": "_solar_photovoltaic"
          },
          {
           "gen_sum": 0,
           "hour": 2405,
           "resource": "_solar_photovoltaic_btm"
          },
          {
           "gen_sum": 21.4,
           "hour": 2405,
           "resource": "biomass"
          },
          {
           "gen_sum": 42,
           "hour": 2405,
           "resource": "hydroelectric_pumped_storage"
          },
          {
           "gen_sum": 1585.8377880000003,
           "hour": 2405,
           "resource": "natural_gas_fired_combined_cycle"
          },
          {
           "gen_sum": 0,
           "hour": 2405,
           "resource": "natural_gas_fired_combustion_turbine"
          },
          {
           "gen_sum": 139.17695999999998,
           "hour": 2406,
           "resource": "_onshore_wind_turbine"
          },
          {
           "gen_sum": 3.184932,
           "hour": 2406,
           "resource": "_small_hydroelectric"
          },
          {
           "gen_sum": 0,
           "hour": 2406,
           "resource": "_solar_photovoltaic"
          },
          {
           "gen_sum": 0,
           "hour": 2406,
           "resource": "_solar_photovoltaic_btm"
          },
          {
           "gen_sum": 21.4,
           "hour": 2406,
           "resource": "biomass"
          },
          {
           "gen_sum": 42,
           "hour": 2406,
           "resource": "hydroelectric_pumped_storage"
          },
          {
           "gen_sum": 1770.238108,
           "hour": 2406,
           "resource": "natural_gas_fired_combined_cycle"
          },
          {
           "gen_sum": 0,
           "hour": 2406,
           "resource": "natural_gas_fired_combustion_turbine"
          },
          {
           "gen_sum": 74.17984,
           "hour": 2407,
           "resource": "_onshore_wind_turbine"
          },
          {
           "gen_sum": 3.184932,
           "hour": 2407,
           "resource": "_small_hydroelectric"
          },
          {
           "gen_sum": 193.55000000000052,
           "hour": 2407,
           "resource": "_solar_photovoltaic"
          },
          {
           "gen_sum": 33.18,
           "hour": 2407,
           "resource": "_solar_photovoltaic_btm"
          },
          {
           "gen_sum": 21.4,
           "hour": 2407,
           "resource": "biomass"
          },
          {
           "gen_sum": 42,
           "hour": 2407,
           "resource": "hydroelectric_pumped_storage"
          },
          {
           "gen_sum": 1928.5,
           "hour": 2407,
           "resource": "natural_gas_fired_combined_cycle"
          },
          {
           "gen_sum": 11.185227999999483,
           "hour": 2407,
           "resource": "natural_gas_fired_combustion_turbine"
          },
          {
           "gen_sum": 49.373439999999995,
           "hour": 2408,
           "resource": "_onshore_wind_turbine"
          },
          {
           "gen_sum": 3.184932,
           "hour": 2408,
           "resource": "_small_hydroelectric"
          },
          {
           "gen_sum": 773.8499999999999,
           "hour": 2408,
           "resource": "_solar_photovoltaic"
          },
          {
           "gen_sum": 132.66,
           "hour": 2408,
           "resource": "_solar_photovoltaic_btm"
          },
          {
           "gen_sum": 21.4,
           "hour": 2408,
           "resource": "biomass"
          },
          {
           "gen_sum": 42,
           "hour": 2408,
           "resource": "hydroelectric_pumped_storage"
          },
          {
           "gen_sum": 1707.1916279999998,
           "hour": 2408,
           "resource": "natural_gas_fired_combined_cycle"
          },
          {
           "gen_sum": 0,
           "hour": 2408,
           "resource": "natural_gas_fired_combustion_turbine"
          },
          {
           "gen_sum": 167.35616,
           "hour": 2409,
           "resource": "_onshore_wind_turbine"
          },
          {
           "gen_sum": 3.184932,
           "hour": 2409,
           "resource": "_small_hydroelectric"
          },
          {
           "gen_sum": 1671.6,
           "hour": 2409,
           "resource": "_solar_photovoltaic"
          },
          {
           "gen_sum": 286.56,
           "hour": 2409,
           "resource": "_solar_photovoltaic_btm"
          },
          {
           "gen_sum": 21.4,
           "hour": 2409,
           "resource": "biomass"
          },
          {
           "gen_sum": 42,
           "hour": 2409,
           "resource": "hydroelectric_pumped_storage"
          },
          {
           "gen_sum": 932.458908,
           "hour": 2409,
           "resource": "natural_gas_fired_combined_cycle"
          },
          {
           "gen_sum": 0,
           "hour": 2409,
           "resource": "natural_gas_fired_combustion_turbine"
          },
          {
           "gen_sum": 131.56096,
           "hour": 2410,
           "resource": "_onshore_wind_turbine"
          },
          {
           "gen_sum": 3.184932,
           "hour": 2410,
           "resource": "_small_hydroelectric"
          },
          {
           "gen_sum": 2014.95,
           "hour": 2410,
           "resource": "_solar_photovoltaic"
          },
          {
           "gen_sum": 345.42,
           "hour": 2410,
           "resource": "_solar_photovoltaic_btm"
          },
          {
           "gen_sum": 21.4,
           "hour": 2410,
           "resource": "biomass"
          },
          {
           "gen_sum": 42,
           "hour": 2410,
           "resource": "hydroelectric_pumped_storage"
          },
          {
           "gen_sum": 809.904108,
           "hour": 2410,
           "resource": "natural_gas_fired_combined_cycle"
          },
          {
           "gen_sum": 0,
           "hour": 2410,
           "resource": "natural_gas_fired_combustion_turbine"
          },
          {
           "gen_sum": 111.1936,
           "hour": 2411,
           "resource": "_onshore_wind_turbine"
          },
          {
           "gen_sum": 3.184932,
           "hour": 2411,
           "resource": "_small_hydroelectric"
          },
          {
           "gen_sum": 2113.6499999999996,
           "hour": 2411,
           "resource": "_solar_photovoltaic"
          },
          {
           "gen_sum": 362.34,
           "hour": 2411,
           "resource": "_solar_photovoltaic_btm"
          },
          {
           "gen_sum": 21.4,
           "hour": 2411,
           "resource": "biomass"
          },
          {
           "gen_sum": 42,
           "hour": 2411,
           "resource": "hydroelectric_pumped_storage"
          },
          {
           "gen_sum": 833.5714679999999,
           "hour": 2411,
           "resource": "natural_gas_fired_combined_cycle"
          },
          {
           "gen_sum": 0,
           "hour": 2411,
           "resource": "natural_gas_fired_combustion_turbine"
          },
          {
           "gen_sum": 92.11008,
           "hour": 2412,
           "resource": "_onshore_wind_turbine"
          },
          {
           "gen_sum": 3.184932,
           "hour": 2412,
           "resource": "_small_hydroelectric"
          },
          {
           "gen_sum": 2148.65,
           "hour": 2412,
           "resource": "_solar_photovoltaic"
          },
          {
           "gen_sum": 368.34,
           "hour": 2412,
           "resource": "_solar_photovoltaic_btm"
          },
          {
           "gen_sum": 21.4,
           "hour": 2412,
           "resource": "biomass"
          },
          {
           "gen_sum": 42,
           "hour": 2412,
           "resource": "hydroelectric_pumped_storage"
          },
          {
           "gen_sum": 655.6549879999999,
           "hour": 2412,
           "resource": "natural_gas_fired_combined_cycle"
          },
          {
           "gen_sum": 0,
           "hour": 2412,
           "resource": "natural_gas_fired_combustion_turbine"
          },
          {
           "gen_sum": 52.09344,
           "hour": 2413,
           "resource": "_onshore_wind_turbine"
          },
          {
           "gen_sum": 3.184932,
           "hour": 2413,
           "resource": "_small_hydroelectric"
          },
          {
           "gen_sum": 2256.0999999999995,
           "hour": 2413,
           "resource": "_solar_photovoltaic"
          },
          {
           "gen_sum": 386.76,
           "hour": 2413,
           "resource": "_solar_photovoltaic_btm"
          },
          {
           "gen_sum": 21.4,
           "hour": 2413,
           "resource": "biomass"
          },
          {
           "gen_sum": 42,
           "hour": 2413,
           "resource": "hydroelectric_pumped_storage"
          },
          {
           "gen_sum": 368.2216280000001,
           "hour": 2413,
           "resource": "natural_gas_fired_combined_cycle"
          },
          {
           "gen_sum": 0,
           "hour": 2413,
           "resource": "natural_gas_fired_combustion_turbine"
          },
          {
           "gen_sum": 64.69248,
           "hour": 2414,
           "resource": "_onshore_wind_turbine"
          },
          {
           "gen_sum": 3.184932,
           "hour": 2414,
           "resource": "_small_hydroelectric"
          },
          {
           "gen_sum": 2259.2499999999995,
           "hour": 2414,
           "resource": "_solar_photovoltaic"
          },
          {
           "gen_sum": 387.29999999999995,
           "hour": 2414,
           "resource": "_solar_photovoltaic_btm"
          },
          {
           "gen_sum": 21.4,
           "hour": 2414,
           "resource": "biomass"
          },
          {
           "gen_sum": 42,
           "hour": 2414,
           "resource": "hydroelectric_pumped_storage"
          },
          {
           "gen_sum": 275.472588,
           "hour": 2414,
           "resource": "natural_gas_fired_combined_cycle"
          },
          {
           "gen_sum": 0,
           "hour": 2414,
           "resource": "natural_gas_fired_combustion_turbine"
          },
          {
           "gen_sum": 49.22112,
           "hour": 2415,
           "resource": "_onshore_wind_turbine"
          },
          {
           "gen_sum": 3.184932,
           "hour": 2415,
           "resource": "_small_hydroelectric"
          },
          {
           "gen_sum": 2184.3499999999995,
           "hour": 2415,
           "resource": "_solar_photovoltaic"
          },
          {
           "gen_sum": 374.46,
           "hour": 2415,
           "resource": "_solar_photovoltaic_btm"
          },
          {
           "gen_sum": 21.4,
           "hour": 2415,
           "resource": "biomass"
          },
          {
           "gen_sum": 42,
           "hour": 2415,
           "resource": "hydroelectric_pumped_storage"
          },
          {
           "gen_sum": 277.84394800000007,
           "hour": 2415,
           "resource": "natural_gas_fired_combined_cycle"
          },
          {
           "gen_sum": 0,
           "hour": 2415,
           "resource": "natural_gas_fired_combustion_turbine"
          },
          {
           "gen_sum": 65.41055999999999,
           "hour": 2416,
           "resource": "_onshore_wind_turbine"
          },
          {
           "gen_sum": 3.184932,
           "hour": 2416,
           "resource": "_small_hydroelectric"
          },
          {
           "gen_sum": 1993.2499999999993,
           "hour": 2416,
           "resource": "_solar_photovoltaic"
          },
          {
           "gen_sum": 341.7,
           "hour": 2416,
           "resource": "_solar_photovoltaic_btm"
          },
          {
           "gen_sum": 21.4,
           "hour": 2416,
           "resource": "biomass"
          },
          {
           "gen_sum": 42,
           "hour": 2416,
           "resource": "hydroelectric_pumped_storage"
          },
          {
           "gen_sum": 356.7545080000001,
           "hour": 2416,
           "resource": "natural_gas_fired_combined_cycle"
          },
          {
           "gen_sum": 0,
           "hour": 2416,
           "resource": "natural_gas_fired_combustion_turbine"
          },
          {
           "gen_sum": 57.18527999999999,
           "hour": 2417,
           "resource": "_onshore_wind_turbine"
          },
          {
           "gen_sum": 3.184932,
           "hour": 2417,
           "resource": "_small_hydroelectric"
          },
          {
           "gen_sum": 1637.3,
           "hour": 2417,
           "resource": "_solar_photovoltaic"
          },
          {
           "gen_sum": 280.68,
           "hour": 2417,
           "resource": "_solar_photovoltaic_btm"
          },
          {
           "gen_sum": 21.4,
           "hour": 2417,
           "resource": "biomass"
          },
          {
           "gen_sum": 42,
           "hour": 2417,
           "resource": "hydroelectric_pumped_storage"
          },
          {
           "gen_sum": 660.929788,
           "hour": 2417,
           "resource": "natural_gas_fired_combined_cycle"
          },
          {
           "gen_sum": 0,
           "hour": 2417,
           "resource": "natural_gas_fired_combustion_turbine"
          },
          {
           "gen_sum": 78.61888,
           "hour": 2418,
           "resource": "_onshore_wind_turbine"
          },
          {
           "gen_sum": 3.184932,
           "hour": 2418,
           "resource": "_small_hydroelectric"
          },
          {
           "gen_sum": 1132.5999999999997,
           "hour": 2418,
           "resource": "_solar_photovoltaic"
          },
          {
           "gen_sum": 194.16,
           "hour": 2418,
           "resource": "_solar_photovoltaic_btm"
          },
          {
           "gen_sum": 21.4,
           "hour": 2418,
           "resource": "biomass"
          },
          {
           "gen_sum": 42,
           "hour": 2418,
           "resource": "hydroelectric_pumped_storage"
          },
          {
           "gen_sum": 1096.1961880000001,
           "hour": 2418,
           "resource": "natural_gas_fired_combined_cycle"
          },
          {
           "gen_sum": 0,
           "hour": 2418,
           "resource": "natural_gas_fired_combustion_turbine"
          },
          {
           "gen_sum": 52.61568,
           "hour": 2419,
           "resource": "_onshore_wind_turbine"
          },
          {
           "gen_sum": 3.184932,
           "hour": 2419,
           "resource": "_small_hydroelectric"
          },
          {
           "gen_sum": 166.95,
           "hour": 2419,
           "resource": "_solar_photovoltaic"
          },
          {
           "gen_sum": 28.62,
           "hour": 2419,
           "resource": "_solar_photovoltaic_btm"
          },
          {
           "gen_sum": 21.4,
           "hour": 2419,
           "resource": "biomass"
          },
          {
           "gen_sum": 42,
           "hour": 2419,
           "resource": "hydroelectric_pumped_storage"
          },
          {
           "gen_sum": 1912.62,
           "hour": 2419,
           "resource": "natural_gas_fired_combined_cycle"
          },
          {
           "gen_sum": 179.22938799999997,
           "hour": 2419,
           "resource": "natural_gas_fired_combustion_turbine"
          },
          {
           "gen_sum": 61.42848,
           "hour": 2420,
           "resource": "_onshore_wind_turbine"
          },
          {
           "gen_sum": 3.184932,
           "hour": 2420,
           "resource": "_small_hydroelectric"
          },
          {
           "gen_sum": 0,
           "hour": 2420,
           "resource": "_solar_photovoltaic"
          },
          {
           "gen_sum": 0,
           "hour": 2420,
           "resource": "_solar_photovoltaic_btm"
          },
          {
           "gen_sum": 21.4,
           "hour": 2420,
           "resource": "biomass"
          },
          {
           "gen_sum": 42,
           "hour": 2420,
           "resource": "hydroelectric_pumped_storage"
          },
          {
           "gen_sum": 1928.5,
           "hour": 2420,
           "resource": "natural_gas_fired_combined_cycle"
          },
          {
           "gen_sum": 444.48658799999987,
           "hour": 2420,
           "resource": "natural_gas_fired_combustion_turbine"
          },
          {
           "gen_sum": 71.9168,
           "hour": 2421,
           "resource": "_onshore_wind_turbine"
          },
          {
           "gen_sum": 3.184932,
           "hour": 2421,
           "resource": "_small_hydroelectric"
          },
          {
           "gen_sum": 0,
           "hour": 2421,
           "resource": "_solar_photovoltaic"
          },
          {
           "gen_sum": 0,
           "hour": 2421,
           "resource": "_solar_photovoltaic_btm"
          },
          {
           "gen_sum": 21.4,
           "hour": 2421,
           "resource": "biomass"
          },
          {
           "gen_sum": 42,
           "hour": 2421,
           "resource": "hydroelectric_pumped_storage"
          },
          {
           "gen_sum": 1928.5,
           "hour": 2421,
           "resource": "natural_gas_fired_combined_cycle"
          },
          {
           "gen_sum": 438.99826799999994,
           "hour": 2421,
           "resource": "natural_gas_fired_combustion_turbine"
          },
          {
           "gen_sum": 96.04863999999952,
           "hour": 2422,
           "resource": "_onshore_wind_turbine"
          },
          {
           "gen_sum": 3.184932,
           "hour": 2422,
           "resource": "_small_hydroelectric"
          },
          {
           "gen_sum": 0,
           "hour": 2422,
           "resource": "_solar_photovoltaic"
          },
          {
           "gen_sum": 0,
           "hour": 2422,
           "resource": "_solar_photovoltaic_btm"
          },
          {
           "gen_sum": 21.4,
           "hour": 2422,
           "resource": "biomass"
          },
          {
           "gen_sum": 42,
           "hour": 2422,
           "resource": "hydroelectric_pumped_storage"
          },
          {
           "gen_sum": 1928.5,
           "hour": 2422,
           "resource": "natural_gas_fired_combined_cycle"
          },
          {
           "gen_sum": 166.86642800000004,
           "hour": 2422,
           "resource": "natural_gas_fired_combustion_turbine"
          },
          {
           "gen_sum": 126.46912,
           "hour": 2423,
           "resource": "_onshore_wind_turbine"
          },
          {
           "gen_sum": 3.184932,
           "hour": 2423,
           "resource": "_small_hydroelectric"
          },
          {
           "gen_sum": 0,
           "hour": 2423,
           "resource": "_solar_photovoltaic"
          },
          {
           "gen_sum": 0,
           "hour": 2423,
           "resource": "_solar_photovoltaic_btm"
          },
          {
           "gen_sum": 21.4,
           "hour": 2423,
           "resource": "biomass"
          },
          {
           "gen_sum": 42,
           "hour": 2423,
           "resource": "hydroelectric_pumped_storage"
          },
          {
           "gen_sum": 1794.945948,
           "hour": 2423,
           "resource": "natural_gas_fired_combined_cycle"
          },
          {
           "gen_sum": 0,
           "hour": 2423,
           "resource": "natural_gas_fired_combustion_turbine"
          },
          {
           "gen_sum": 144.42112000000006,
           "hour": 2424,
           "resource": "_onshore_wind_turbine"
          },
          {
           "gen_sum": 3.184932,
           "hour": 2424,
           "resource": "_small_hydroelectric"
          },
          {
           "gen_sum": 0,
           "hour": 2424,
           "resource": "_solar_photovoltaic"
          },
          {
           "gen_sum": 0,
           "hour": 2424,
           "resource": "_solar_photovoltaic_btm"
          },
          {
           "gen_sum": 21.4,
           "hour": 2424,
           "resource": "biomass"
          },
          {
           "gen_sum": 42,
           "hour": 2424,
           "resource": "hydroelectric_pumped_storage"
          },
          {
           "gen_sum": 1548.9939479999998,
           "hour": 2424,
           "resource": "natural_gas_fired_combined_cycle"
          },
          {
           "gen_sum": 0,
           "hour": 2424,
           "resource": "natural_gas_fired_combustion_turbine"
          }
         ]
        },
        {
         "name": "data_0",
         "source": "source_0",
         "transform": [
          {
           "as": "hour",
           "expr": "toNumber(datum[\"hour\"])",
           "type": "formula"
          },
          {
           "field": "gen_sum",
           "groupby": [
            "resource"
           ],
           "key": "hour",
           "method": "value",
           "type": "impute",
           "value": 0
          },
          {
           "as": [
            "gen_sum_start",
            "gen_sum_end"
           ],
           "field": "gen_sum",
           "groupby": [
            "hour"
           ],
           "offset": "zero",
           "sort": {
            "field": [
             "resource"
            ],
            "order": [
             "descending"
            ]
           },
           "type": "stack"
          }
         ]
        }
       ],
       "height": 600,
       "legends": [
        {
         "fill": "color",
         "symbolType": "circle",
         "title": "resource"
        }
       ],
       "marks": [
        {
         "encode": {
          "update": {
           "height": {
            "field": {
             "group": "height"
            }
           },
           "width": {
            "field": {
             "group": "width"
            }
           }
          }
         },
         "from": {
          "facet": {
           "data": "data_0",
           "groupby": [
            "resource"
           ],
           "name": "faceted_path_main"
          }
         },
         "marks": [
          {
           "encode": {
            "update": {
             "defined": {
              "signal": "isValid(datum[\"hour\"]) && isFinite(+datum[\"hour\"]) && isValid(datum[\"gen_sum\"]) && isFinite(+datum[\"gen_sum\"])"
             },
             "description": {
              "signal": "\"hour: \" + (format(datum[\"hour\"], \"\")) + \"; gen_sum: \" + (format(datum[\"gen_sum\"], \"\")) + \"; resource: \" + (isValid(datum[\"resource\"]) ? datum[\"resource\"] : \"\"+datum[\"resource\"])"
             },
             "fill": {
              "field": "resource",
              "scale": "color"
             },
             "orient": {
              "value": "vertical"
             },
             "x": {
              "field": "hour",
              "scale": "x"
             },
             "y": {
              "field": "gen_sum_end",
              "scale": "y"
             },
             "y2": {
              "field": "gen_sum_start",
              "scale": "y"
             }
            }
           },
           "from": {
            "data": "faceted_path_main"
           },
           "name": "marks",
           "sort": {
            "field": "datum[\"hour\"]"
           },
           "style": [
            "area"
           ],
           "type": "area"
          }
         ],
         "name": "pathgroup",
         "type": "group"
        }
       ],
       "padding": 5,
       "scales": [
        {
         "domain": {
          "data": "data_0",
          "field": "hour"
         },
         "name": "x",
         "nice": true,
         "range": [
          0,
          {
           "signal": "width"
          }
         ],
         "type": "linear",
         "zero": false
        },
        {
         "domain": {
          "data": "data_0",
          "fields": [
           "gen_sum_start",
           "gen_sum_end"
          ]
         },
         "name": "y",
         "nice": true,
         "range": [
          {
           "signal": "height"
          },
          0
         ],
         "type": "linear",
         "zero": true
        },
        {
         "domain": {
          "data": "data_0",
          "field": "resource",
          "sort": true
         },
         "name": "color",
         "range": {
          "scheme": "category20"
         },
         "type": "ordinal"
        }
       ],
       "style": "cell",
       "width": 600
      },
      "image/png": "[encoded data removed]",
      "image/svg+xml": [
       "<svg xmlns=\"http://www.w3.org/2000/svg\" xmlns:xlink=\"http://www.w3.org/1999/xlink\" version=\"1.1\" class=\"marks\" width=\"850\" height=\"642\" viewBox=\"0 0 850 642\"><rect width=\"850\" height=\"642\" fill=\"white\"/><g fill=\"none\" stroke-miterlimit=\"10\" transform=\"translate(53,5)\"><g class=\"mark-group role-frame root\" role=\"graphics-object\" aria-roledescription=\"group mark container\"><g transform=\"translate(0,0)\"><path class=\"background\" aria-hidden=\"true\" d=\"M0.5,0.5h600v600h-600Z\" stroke=\"#ddd\"/><g><g class=\"mark-group role-axis\" aria-hidden=\"true\"><g transform=\"translate(0.5,600.5)\"><path class=\"background\" aria-hidden=\"true\" d=\"M0,0h0v0h0Z\" pointer-events=\"none\"/><g><g class=\"mark-rule role-axis-grid\" pointer-events=\"none\"><line transform=\"translate(0,-600)\" x2=\"0\" y2=\"600\" stroke=\"#ddd\" stroke-width=\"1\" opacity=\"1\"/><line transform=\"translate(50,-600)\" x2=\"0\" y2=\"600\" stroke=\"#ddd\" stroke-width=\"1\" opacity=\"1\"/><line transform=\"translate(100,-600)\" x2=\"0\" y2=\"600\" stroke=\"#ddd\" stroke-width=\"1\" opacity=\"1\"/><line transform=\"translate(150,-600)\" x2=\"0\" y2=\"600\" stroke=\"#ddd\" stroke-width=\"1\" opacity=\"1\"/><line transform=\"translate(200,-600)\" x2=\"0\" y2=\"600\" stroke=\"#ddd\" stroke-width=\"1\" opacity=\"1\"/><line transform=\"translate(250,-600)\" x2=\"0\" y2=\"600\" stroke=\"#ddd\" stroke-width=\"1\" opacity=\"1\"/><line transform=\"translate(300,-600)\" x2=\"0\" y2=\"600\" stroke=\"#ddd\" stroke-width=\"1\" opacity=\"1\"/><line transform=\"translate(350,-600)\" x2=\"0\" y2=\"600\" stroke=\"#ddd\" stroke-width=\"1\" opacity=\"1\"/><line transform=\"translate(400,-600)\" x2=\"0\" y2=\"600\" stroke=\"#ddd\" stroke-width=\"1\" opacity=\"1\"/><line transform=\"translate(450,-600)\" x2=\"0\" y2=\"600\" stroke=\"#ddd\" stroke-width=\"1\" opacity=\"1\"/><line transform=\"translate(500,-600)\" x2=\"0\" y2=\"600\" stroke=\"#ddd\" stroke-width=\"1\" opacity=\"1\"/><line transform=\"translate(550,-600)\" x2=\"0\" y2=\"600\" stroke=\"#ddd\" stroke-width=\"1\" opacity=\"1\"/><line transform=\"translate(600,-600)\" x2=\"0\" y2=\"600\" stroke=\"#ddd\" stroke-width=\"1\" opacity=\"1\"/></g></g><path class=\"foreground\" aria-hidden=\"true\" d=\"\" pointer-events=\"none\" display=\"none\"/></g></g><g class=\"mark-group role-axis\" aria-hidden=\"true\"><g transform=\"translate(0.5,0.5)\"><path class=\"background\" aria-hidden=\"true\" d=\"M0,0h0v0h0Z\" pointer-events=\"none\"/><g><g class=\"mark-rule role-axis-grid\" pointer-events=\"none\"><line transform=\"translate(0,600)\" x2=\"600\" y2=\"0\" stroke=\"#ddd\" stroke-width=\"1\" opacity=\"1\"/><line transform=\"translate(0,566)\" x2=\"600\" y2=\"0\" stroke=\"#ddd\" stroke-width=\"1\" opacity=\"1\"/><line transform=\"translate(0,531)\" x2=\"600\" y2=\"0\" stroke=\"#ddd\" stroke-width=\"1\" opacity=\"1\"/><line transform=\"translate(0,497)\" x2=\"600\" y2=\"0\" stroke=\"#ddd\" stroke-width=\"1\" opacity=\"1\"/><line transform=\"translate(0,463)\" x2=\"600\" y2=\"0\" stroke=\"#ddd\" stroke-width=\"1\" opacity=\"1\"/><line transform=\"translate(0,429)\" x2=\"600\" y2=\"0\" stroke=\"#ddd\" stroke-width=\"1\" opacity=\"1\"/><line transform=\"translate(0,394)\" x2=\"600\" y2=\"0\" stroke=\"#ddd\" stroke-width=\"1\" opacity=\"1\"/><line transform=\"translate(0,360)\" x2=\"600\" y2=\"0\" stroke=\"#ddd\" stroke-width=\"1\" opacity=\"1\"/><line transform=\"translate(0,326)\" x2=\"600\" y2=\"0\" stroke=\"#ddd\" stroke-width=\"1\" opacity=\"1\"/><line transform=\"translate(0,291)\" x2=\"600\" y2=\"0\" stroke=\"#ddd\" stroke-width=\"1\" opacity=\"1\"/><line transform=\"translate(0,257)\" x2=\"600\" y2=\"0\" stroke=\"#ddd\" stroke-width=\"1\" opacity=\"1\"/><line transform=\"translate(0,223)\" x2=\"600\" y2=\"0\" stroke=\"#ddd\" stroke-width=\"1\" opacity=\"1\"/><line transform=\"translate(0,189)\" x2=\"600\" y2=\"0\" stroke=\"#ddd\" stroke-width=\"1\" opacity=\"1\"/><line transform=\"translate(0,154)\" x2=\"600\" y2=\"0\" stroke=\"#ddd\" stroke-width=\"1\" opacity=\"1\"/><line transform=\"translate(0,120)\" x2=\"600\" y2=\"0\" stroke=\"#ddd\" stroke-width=\"1\" opacity=\"1\"/><line transform=\"translate(0,86)\" x2=\"600\" y2=\"0\" stroke=\"#ddd\" stroke-width=\"1\" opacity=\"1\"/><line transform=\"translate(0,51)\" x2=\"600\" y2=\"0\" stroke=\"#ddd\" stroke-width=\"1\" opacity=\"1\"/><line transform=\"translate(0,17)\" x2=\"600\" y2=\"0\" stroke=\"#ddd\" stroke-width=\"1\" opacity=\"1\"/></g></g><path class=\"foreground\" aria-hidden=\"true\" d=\"\" pointer-events=\"none\" display=\"none\"/></g></g><g class=\"mark-group role-axis\" role=\"graphics-symbol\" aria-roledescription=\"axis\" aria-label=\"X-axis titled 'hour' for a linear scale with values from 2,400 to 2,424\"><g transform=\"translate(0.5,600.5)\"><path class=\"background\" aria-hidden=\"true\" d=\"M0,0h0v0h0Z\" pointer-events=\"none\"/><g><g class=\"mark-rule role-axis-tick\" pointer-events=\"none\"><line transform=\"translate(0,0)\" x2=\"0\" y2=\"5\" stroke=\"#888\" stroke-width=\"1\" opacity=\"1\"/><line transform=\"translate(50,0)\" x2=\"0\" y2=\"5\" stroke=\"#888\" stroke-width=\"1\" opacity=\"1\"/><line transform=\"translate(100,0)\" x2=\"0\" y2=\"5\" stroke=\"#888\" stroke-width=\"1\" opacity=\"1\"/><line transform=\"translate(150,0)\" x2=\"0\" y2=\"5\" stroke=\"#888\" stroke-width=\"1\" opacity=\"1\"/><line transform=\"translate(200,0)\" x2=\"0\" y2=\"5\" stroke=\"#888\" stroke-width=\"1\" opacity=\"1\"/><line transform=\"translate(250,0)\" x2=\"0\" y2=\"5\" stroke=\"#888\" stroke-width=\"1\" opacity=\"1\"/><line transform=\"translate(300,0)\" x2=\"0\" y2=\"5\" stroke=\"#888\" stroke-width=\"1\" opacity=\"1\"/><line transform=\"translate(350,0)\" x2=\"0\" y2=\"5\" stroke=\"#888\" stroke-width=\"1\" opacity=\"1\"/><line transform=\"translate(400,0)\" x2=\"0\" y2=\"5\" stroke=\"#888\" stroke-width=\"1\" opacity=\"1\"/><line transform=\"translate(450,0)\" x2=\"0\" y2=\"5\" stroke=\"#888\" stroke-width=\"1\" opacity=\"1\"/><line transform=\"translate(500,0)\" x2=\"0\" y2=\"5\" stroke=\"#888\" stroke-width=\"1\" opacity=\"1\"/><line transform=\"translate(550,0)\" x2=\"0\" y2=\"5\" stroke=\"#888\" stroke-width=\"1\" opacity=\"1\"/><line transform=\"translate(600,0)\" x2=\"0\" y2=\"5\" stroke=\"#888\" stroke-width=\"1\" opacity=\"1\"/></g><g class=\"mark-text role-axis-label\" pointer-events=\"none\"><text text-anchor=\"start\" transform=\"translate(0,15)\" font-family=\"sans-serif\" font-size=\"10px\" fill=\"#000\" opacity=\"1\">2,400</text><text text-anchor=\"middle\" transform=\"translate(50,15)\" font-family=\"sans-serif\" font-size=\"10px\" fill=\"#000\" opacity=\"1\">2,402</text><text text-anchor=\"middle\" transform=\"translate(100,15)\" font-family=\"sans-serif\" font-size=\"10px\" fill=\"#000\" opacity=\"1\">2,404</text><text text-anchor=\"middle\" transform=\"translate(150,15)\" font-family=\"sans-serif\" font-size=\"10px\" fill=\"#000\" opacity=\"1\">2,406</text><text text-anchor=\"middle\" transform=\"translate(200,15)\" font-family=\"sans-serif\" font-size=\"10px\" fill=\"#000\" opacity=\"1\">2,408</text><text text-anchor=\"middle\" transform=\"translate(250,15)\" font-family=\"sans-serif\" font-size=\"10px\" fill=\"#000\" opacity=\"1\">2,410</text><text text-anchor=\"middle\" transform=\"translate(300,15)\" font-family=\"sans-serif\" font-size=\"10px\" fill=\"#000\" opacity=\"1\">2,412</text><text text-anchor=\"middle\" transform=\"translate(350,15)\" font-family=\"sans-serif\" font-size=\"10px\" fill=\"#000\" opacity=\"1\">2,414</text><text text-anchor=\"middle\" transform=\"translate(400,15)\" font-family=\"sans-serif\" font-size=\"10px\" fill=\"#000\" opacity=\"1\">2,416</text><text text-anchor=\"middle\" transform=\"translate(450,15)\" font-family=\"sans-serif\" font-size=\"10px\" fill=\"#000\" opacity=\"1\">2,418</text><text text-anchor=\"middle\" transform=\"translate(500,15)\" font-family=\"sans-serif\" font-size=\"10px\" fill=\"#000\" opacity=\"1\">2,420</text><text text-anchor=\"middle\" transform=\"translate(550,15)\" font-family=\"sans-serif\" font-size=\"10px\" fill=\"#000\" opacity=\"1\">2,422</text><text text-anchor=\"end\" transform=\"translate(600,15)\" font-family=\"sans-serif\" font-size=\"10px\" fill=\"#000\" opacity=\"1\">2,424</text></g><g class=\"mark-rule role-axis-domain\" pointer-events=\"none\"><line transform=\"translate(0,0)\" x2=\"600\" y2=\"0\" stroke=\"#888\" stroke-width=\"1\" opacity=\"1\"/></g><g class=\"mark-text role-axis-title\" pointer-events=\"none\"><text text-anchor=\"middle\" transform=\"translate(300,30)\" font-family=\"sans-serif\" font-size=\"11px\" font-weight=\"bold\" fill=\"#000\" opacity=\"1\">hour</text></g></g><path class=\"foreground\" aria-hidden=\"true\" d=\"\" pointer-events=\"none\" display=\"none\"/></g></g><g class=\"mark-group role-axis\" role=\"graphics-symbol\" aria-roledescription=\"axis\" aria-label=\"Y-axis titled 'gen_sum' for a linear scale with values from 0 to 3,500\"><g transform=\"translate(0.5,0.5)\"><path class=\"background\" aria-hidden=\"true\" d=\"M0,0h0v0h0Z\" pointer-events=\"none\"/><g><g class=\"mark-rule role-axis-tick\" pointer-events=\"none\"><line transform=\"translate(0,600)\" x2=\"-5\" y2=\"0\" stroke=\"#888\" stroke-width=\"1\" opacity=\"1\"/><line transform=\"translate(0,566)\" x2=\"-5\" y2=\"0\" stroke=\"#888\" stroke-width=\"1\" opacity=\"1\"/><line transform=\"translate(0,531)\" x2=\"-5\" y2=\"0\" stroke=\"#888\" stroke-width=\"1\" opacity=\"1\"/><line transform=\"translate(0,497)\" x2=\"-5\" y2=\"0\" stroke=\"#888\" stroke-width=\"1\" opacity=\"1\"/><line transform=\"translate(0,463)\" x2=\"-5\" y2=\"0\" stroke=\"#888\" stroke-width=\"1\" opacity=\"1\"/><line transform=\"translate(0,429)\" x2=\"-5\" y2=\"0\" stroke=\"#888\" stroke-width=\"1\" opacity=\"1\"/><line transform=\"translate(0,394)\" x2=\"-5\" y2=\"0\" stroke=\"#888\" stroke-width=\"1\" opacity=\"1\"/><line transform=\"translate(0,360)\" x2=\"-5\" y2=\"0\" stroke=\"#888\" stroke-width=\"1\" opacity=\"1\"/><line transform=\"translate(0,326)\" x2=\"-5\" y2=\"0\" stroke=\"#888\" stroke-width=\"1\" opacity=\"1\"/><line transform=\"translate(0,291)\" x2=\"-5\" y2=\"0\" stroke=\"#888\" stroke-width=\"1\" opacity=\"1\"/><line transform=\"translate(0,257)\" x2=\"-5\" y2=\"0\" stroke=\"#888\" stroke-width=\"1\" opacity=\"1\"/><line transform=\"translate(0,223)\" x2=\"-5\" y2=\"0\" stroke=\"#888\" stroke-width=\"1\" opacity=\"1\"/><line transform=\"translate(0,189)\" x2=\"-5\" y2=\"0\" stroke=\"#888\" stroke-width=\"1\" opacity=\"1\"/><line transform=\"translate(0,154)\" x2=\"-5\" y2=\"0\" stroke=\"#888\" stroke-width=\"1\" opacity=\"1\"/><line transform=\"translate(0,120)\" x2=\"-5\" y2=\"0\" stroke=\"#888\" stroke-width=\"1\" opacity=\"1\"/><line transform=\"translate(0,86)\" x2=\"-5\" y2=\"0\" stroke=\"#888\" stroke-width=\"1\" opacity=\"1\"/><line transform=\"translate(0,51)\" x2=\"-5\" y2=\"0\" stroke=\"#888\" stroke-width=\"1\" opacity=\"1\"/><line transform=\"translate(0,17)\" x2=\"-5\" y2=\"0\" stroke=\"#888\" stroke-width=\"1\" opacity=\"1\"/></g><g class=\"mark-text role-axis-label\" pointer-events=\"none\"><text text-anchor=\"end\" transform=\"translate(-7,603)\" font-family=\"sans-serif\" font-size=\"10px\" fill=\"#000\" opacity=\"1\">0</text><text text-anchor=\"end\" transform=\"translate(-7,568.7142857142857)\" font-family=\"sans-serif\" font-size=\"10px\" fill=\"#000\" opacity=\"1\">200</text><text text-anchor=\"end\" transform=\"translate(-7,534.4285714285714)\" font-family=\"sans-serif\" font-size=\"10px\" fill=\"#000\" opacity=\"1\">400</text><text text-anchor=\"end\" transform=\"translate(-7,500.1428571428571)\" font-family=\"sans-serif\" font-size=\"10px\" fill=\"#000\" opacity=\"1\">600</text><text text-anchor=\"end\" transform=\"translate(-7,465.8571428571429)\" font-family=\"sans-serif\" font-size=\"10px\" fill=\"#000\" opacity=\"1\">800</text><text text-anchor=\"end\" transform=\"translate(-7,431.57142857142856)\" font-family=\"sans-serif\" font-size=\"10px\" fill=\"#000\" opacity=\"1\">1,000</text><text text-anchor=\"end\" transform=\"translate(-7,397.2857142857143)\" font-family=\"sans-serif\" font-size=\"10px\" fill=\"#000\" opacity=\"1\">1,200</text><text text-anchor=\"end\" transform=\"translate(-7,363)\" font-family=\"sans-serif\" font-size=\"10px\" fill=\"#000\" opacity=\"1\">1,400</text><text text-anchor=\"end\" transform=\"translate(-7,328.7142857142858)\" font-family=\"sans-serif\" font-size=\"10px\" fill=\"#000\" opacity=\"1\">1,600</text><text text-anchor=\"end\" transform=\"translate(-7,294.42857142857144)\" font-family=\"sans-serif\" font-size=\"10px\" fill=\"#000\" opacity=\"1\">1,800</text><text text-anchor=\"end\" transform=\"translate(-7,260.14285714285717)\" font-family=\"sans-serif\" font-size=\"10px\" fill=\"#000\" opacity=\"1\">2,000</text><text text-anchor=\"end\" transform=\"translate(-7,225.85714285714286)\" font-family=\"sans-serif\" font-size=\"10px\" fill=\"#000\" opacity=\"1\">2,200</text><text text-anchor=\"end\" transform=\"translate(-7,191.57142857142856)\" font-family=\"sans-serif\" font-size=\"10px\" fill=\"#000\" opacity=\"1\">2,400</text><text text-anchor=\"end\" transform=\"translate(-7,157.28571428571428)\" font-family=\"sans-serif\" font-size=\"10px\" fill=\"#000\" opacity=\"1\">2,600</text><text text-anchor=\"end\" transform=\"translate(-7,122.99999999999997)\" font-family=\"sans-serif\" font-size=\"10px\" fill=\"#000\" opacity=\"1\">2,800</text><text text-anchor=\"end\" transform=\"translate(-7,88.71428571428574)\" font-family=\"sans-serif\" font-size=\"10px\" fill=\"#000\" opacity=\"1\">3,000</text><text text-anchor=\"end\" transform=\"translate(-7,54.428571428571445)\" font-family=\"sans-serif\" font-size=\"10px\" fill=\"#000\" opacity=\"1\">3,200</text><text text-anchor=\"end\" transform=\"translate(-7,20.14285714285715)\" font-family=\"sans-serif\" font-size=\"10px\" fill=\"#000\" opacity=\"1\">3,400</text></g><g class=\"mark-rule role-axis-domain\" pointer-events=\"none\"><line transform=\"translate(0,600)\" x2=\"0\" y2=\"-600\" stroke=\"#888\" stroke-width=\"1\" opacity=\"1\"/></g><g class=\"mark-text role-axis-title\" pointer-events=\"none\"><text text-anchor=\"middle\" transform=\"translate(-36.0244140625,300) rotate(-90) translate(0,-2)\" font-family=\"sans-serif\" font-size=\"11px\" font-weight=\"bold\" fill=\"#000\" opacity=\"1\">gen_sum</text></g></g><path class=\"foreground\" aria-hidden=\"true\" d=\"\" pointer-events=\"none\" display=\"none\"/></g></g><g class=\"mark-group role-scope pathgroup\" role=\"graphics-object\" aria-roledescription=\"group mark container\"><g transform=\"translate(0,0)\"><path class=\"background\" aria-hidden=\"true\" d=\"M0,0h600v600h-600Z\"/><g><g class=\"mark-area role-mark marks\" role=\"graphics-object\" aria-roledescription=\"area mark container\"><path aria-label=\"hour: 2401; gen_sum: 163.3088; resource: _onshore_wind_turbine\" role=\"graphics-symbol\" aria-roledescription=\"area mark\" d=\"M25,323.143L50,333.771L75,339.771L100,332.229L125,302.914L150,261.257L175,204.483L200,132.058L225,64.361L250,22.557L275,2.17L300,28.913L325,63.47L350,76.577L375,93.864L400,115.937L425,136.683L450,159.744L475,187.437L500,171.257L525,170.4L550,212.914L575,259.2L600,298.286L600,323.044L575,280.88L550,229.38L525,182.729L500,181.788L475,196.456L450,173.222L425,146.487L400,127.15L375,102.302L350,87.667L325,72.4L300,44.703L275,21.232L250,45.11L225,93.051L200,140.522L175,217.2L150,285.116L125,316.728L100,349.466L75,359.505L50,362.879L25,351.139Z\" fill=\"#1f77b4\"/></g></g><path class=\"foreground\" aria-hidden=\"true\" d=\"\" display=\"none\"/></g><g transform=\"translate(0,0)\"><path class=\"background\" aria-hidden=\"true\" d=\"M0,0h600v600h-600Z\"/><g><g class=\"mark-area role-mark marks\" role=\"graphics-object\" aria-roledescription=\"area mark container\"><path aria-label=\"hour: 2401; gen_sum: 3.184932; resource: _small_hydroelectric\" role=\"graphics-symbol\" aria-roledescription=\"area mark\" d=\"M25,351.139L50,362.879L75,359.505L100,349.466L125,316.728L150,285.116L175,217.2L200,140.522L225,93.051L250,45.11L275,21.232L300,44.703L325,72.4L350,87.667L375,102.302L400,127.15L425,146.487L450,173.222L475,196.456L500,181.788L525,182.729L550,229.38L575,280.88L600,323.044L600,323.59L575,281.426L550,229.926L525,183.275L500,182.334L475,197.002L450,173.768L425,147.033L400,127.696L375,102.848L350,88.213L325,72.946L300,45.249L275,21.778L250,45.656L225,93.597L200,141.068L175,217.746L150,285.662L125,317.274L100,350.012L75,360.051L50,363.425L25,351.685Z\" fill=\"#aec7e8\"/></g></g><path class=\"foreground\" aria-hidden=\"true\" d=\"\" display=\"none\"/></g><g transform=\"translate(0,0)\"><path class=\"background\" aria-hidden=\"true\" d=\"M0,0h600v600h-600Z\"/><g><g class=\"mark-area role-mark marks\" role=\"graphics-object\" aria-roledescription=\"area mark container\"><path aria-label=\"hour: 2401; gen_sum: 0; resource: _solar_photovoltaic\" role=\"graphics-symbol\" aria-roledescription=\"area mark\" d=\"M25,351.685L50,363.425L75,360.051L100,350.012L125,317.274L150,285.662L175,217.746L200,141.068L225,93.597L250,45.656L275,21.778L300,45.249L325,72.946L350,88.213L375,102.848L400,127.696L425,147.033L450,173.768L475,197.002L500,182.334L525,183.275L550,229.926L575,281.426L600,323.59L600,323.59L575,281.426L550,229.926L525,183.275L500,182.334L475,225.622L450,367.928L425,427.713L400,469.396L375,477.308L350,475.513L325,459.706L300,413.589L275,384.118L250,391.076L225,380.157L200,273.728L175,250.926L150,285.662L125,317.274L100,350.012L75,360.051L50,363.425L25,351.685Z\" fill=\"#ff7f0e\"/></g></g><path class=\"foreground\" aria-hidden=\"true\" d=\"\" display=\"none\"/></g><g transform=\"translate(0,0)\"><path class=\"background\" aria-hidden=\"true\" d=\"M0,0h600v600h-600Z\"/><g><g class=\"mark-area role-mark marks\" role=\"graphics-object\" aria-roledescription=\"area mark container\"><path aria-label=\"hour: 2401; gen_sum: 0; resource: _solar_photovoltaic_btm\" role=\"graphics-symbol\" aria-roledescription=\"area mark\" d=\"M25,351.685L50,363.425L75,360.051L100,350.012L125,317.274L150,285.662L175,250.926L200,273.728L225,380.157L250,391.076L275,384.118L300,413.589L325,459.706L350,475.513L375,477.308L400,469.396L425,427.713L450,367.928L475,225.622L500,182.334L525,183.275L550,229.926L575,281.426L600,323.59L600,323.59L575,281.426L550,229.926L525,183.275L500,182.334L475,230.529L450,401.212L425,475.829L400,527.974L375,541.501L350,541.908L325,526.008L300,476.733L275,446.233L250,450.291L225,429.281L200,296.47L175,256.614L150,285.662L125,317.274L100,350.012L75,360.051L50,363.425L25,351.685Z\" fill=\"#ffbb78\"/></g></g><path class=\"foreground\" aria-hidden=\"true\" d=\"\" display=\"none\"/></g><g transform=\"translate(0,0)\"><path class=\"background\" aria-hidden=\"true\" d=\"M0,0h600v600h-600Z\"/><g><g class=\"mark-area role-mark marks\" role=\"graphics-object\" aria-roledescription=\"area mark container\"><path aria-label=\"hour: 2401; gen_sum: 21.4; resource: biomass\" role=\"graphics-symbol\" aria-roledescription=\"area mark\" d=\"M25,351.685L50,363.425L75,360.051L100,350.012L125,317.274L150,285.662L175,256.614L200,296.47L225,429.281L250,450.291L275,446.233L300,476.733L325,526.008L350,541.908L375,541.501L400,527.974L425,475.829L450,401.212L475,230.529L500,182.334L525,183.275L550,229.926L575,281.426L600,323.59L600,327.258L575,285.095L550,233.594L525,186.943L500,186.002L475,234.197L450,404.881L425,479.498L400,531.642L375,545.17L350,545.576L325,529.676L300,480.402L275,449.902L250,453.959L225,432.95L200,300.139L175,260.283L150,289.331L125,320.942L100,353.681L75,363.719L50,367.093L25,355.353Z\" fill=\"#2ca02c\"/></g></g><path class=\"foreground\" aria-hidden=\"true\" d=\"\" display=\"none\"/></g><g transform=\"translate(0,0)\"><path class=\"background\" aria-hidden=\"true\" d=\"M0,0h600v600h-600Z\"/><g><g class=\"mark-area role-mark marks\" role=\"graphics-object\" aria-roledescription=\"area mark container\"><path aria-label=\"hour: 2401; gen_sum: 42; resource: hydroelectric_pumped_storage\" role=\"graphics-symbol\" aria-roledescription=\"area mark\" d=\"M25,355.353L50,367.093L75,363.719L100,353.681L125,320.942L150,289.331L175,260.283L200,300.139L225,432.95L250,453.959L275,449.902L300,480.402L325,529.676L350,545.576L375,545.17L400,531.642L425,479.498L450,404.881L475,234.197L500,186.002L525,186.943L550,233.594L575,285.095L600,327.258L600,334.458L575,292.295L550,240.794L525,194.143L500,193.202L475,241.397L450,412.081L425,486.698L400,538.842L375,552.37L350,552.776L325,536.876L300,487.602L275,457.102L250,461.159L225,440.15L200,307.339L175,267.483L150,296.531L125,328.142L100,360.881L75,370.919L50,374.293L25,362.553Z\" fill=\"#98df8a\"/></g></g><path class=\"foreground\" aria-hidden=\"true\" d=\"\" display=\"none\"/></g><g transform=\"translate(0,0)\"><path class=\"background\" aria-hidden=\"true\" d=\"M0,0h600v600h-600Z\"/><g><g class=\"mark-area role-mark marks\" role=\"graphics-object\" aria-roledescription=\"area mark container\"><path aria-label=\"hour: 2401; gen_sum: 1385.106268; resource: natural_gas_fired_combined_cycle\" role=\"graphics-symbol\" aria-roledescription=\"area mark\" d=\"M25,362.553L50,374.293L75,370.919L100,360.881L125,328.142L150,296.531L175,267.483L200,307.339L225,440.15L250,461.159L275,457.102L300,487.602L325,536.876L350,552.776L375,552.37L400,538.842L425,486.698L450,412.081L475,241.397L500,193.202L525,194.143L550,240.794L575,292.295L600,334.458L600,600L575,600L550,571.394L525,524.743L500,523.802L475,569.275L450,600L425,600L400,600L375,600L350,600L325,600L300,600L275,600L250,600L225,600L200,600L175,598.083L150,600L125,600L100,600L75,600L50,600L25,600Z\" fill=\"#d62728\"/></g></g><path class=\"foreground\" aria-hidden=\"true\" d=\"\" display=\"none\"/></g><g transform=\"translate(0,0)\"><path class=\"background\" aria-hidden=\"true\" d=\"M0,0h600v600h-600Z\"/><g><g class=\"mark-area role-mark marks\" role=\"graphics-object\" aria-roledescription=\"area mark container\"><path aria-label=\"hour: 2401; gen_sum: 0; resource: natural_gas_fired_combustion_turbine\" role=\"graphics-symbol\" aria-roledescription=\"area mark\" d=\"M25,600L50,600L75,600L100,600L125,600L150,600L175,598.083L200,600L225,600L250,600L275,600L300,600L325,600L350,600L375,600L400,600L425,600L450,600L475,569.275L500,523.802L525,524.743L550,571.394L575,600L600,600L600,600L575,600L550,600L525,600L500,600L475,600L450,600L425,600L400,600L375,600L350,600L325,600L300,600L275,600L250,600L225,600L200,600L175,600L150,600L125,600L100,600L75,600L50,600L25,600Z\" fill=\"#ff9896\"/></g></g><path class=\"foreground\" aria-hidden=\"true\" d=\"\" display=\"none\"/></g></g><g class=\"mark-group role-legend\" role=\"graphics-symbol\" aria-roledescription=\"legend\" aria-label=\"Symbol legend titled 'resource' for fill color with 8 values: _onshore_wind_turbine, _small_hydroelectric, _solar_photovoltaic, _solar_photovoltaic_btm, biomass, ending with natural_gas_fired_combustion_turbine\"><g transform=\"translate(618,0)\"><path class=\"background\" aria-hidden=\"true\" d=\"M0,0h174v118h-174Z\" pointer-events=\"none\"/><g><g class=\"mark-group role-legend-entry\"><g transform=\"translate(0,16)\"><path class=\"background\" aria-hidden=\"true\" d=\"M0,0h0v0h0Z\" pointer-events=\"none\"/><g><g class=\"mark-group role-scope\" role=\"graphics-object\" aria-roledescription=\"group mark container\"><g transform=\"translate(0,0)\"><path class=\"background\" aria-hidden=\"true\" d=\"M0,0h173.8759765625v11h-173.8759765625Z\" pointer-events=\"none\" opacity=\"1\"/><g><g class=\"mark-symbol role-legend-symbol\" pointer-events=\"none\"><path transform=\"translate(6,6)\" d=\"M5,0A5,5,0,1,1,-5,0A5,5,0,1,1,5,0\" fill=\"#1f77b4\" stroke-width=\"1.5\" opacity=\"1\"/></g><g class=\"mark-text role-legend-label\" pointer-events=\"none\"><text text-anchor=\"start\" transform=\"translate(16,9)\" font-family=\"sans-serif\" font-size=\"10px\" fill=\"#000\" opacity=\"1\">_onshore_wind_turbine</text></g></g><path class=\"foreground\" aria-hidden=\"true\" d=\"\" pointer-events=\"none\" display=\"none\"/></g><g transform=\"translate(0,13)\"><path class=\"background\" aria-hidden=\"true\" d=\"M0,0h173.8759765625v11h-173.8759765625Z\" pointer-events=\"none\" opacity=\"1\"/><g><g class=\"mark-symbol role-legend-symbol\" pointer-events=\"none\"><path transform=\"translate(6,6)\" d=\"M5,0A5,5,0,1,1,-5,0A5,5,0,1,1,5,0\" fill=\"#aec7e8\" stroke-width=\"1.5\" opacity=\"1\"/></g><g class=\"mark-text role-legend-label\" pointer-events=\"none\"><text text-anchor=\"start\" transform=\"translate(16,9)\" font-family=\"sans-serif\" font-size=\"10px\" fill=\"#000\" opacity=\"1\">_small_hydroelectric</text></g></g><path class=\"foreground\" aria-hidden=\"true\" d=\"\" pointer-events=\"none\" display=\"none\"/></g><g transform=\"translate(0,26)\"><path class=\"background\" aria-hidden=\"true\" d=\"M0,0h173.8759765625v11h-173.8759765625Z\" pointer-events=\"none\" opacity=\"1\"/><g><g class=\"mark-symbol role-legend-symbol\" pointer-events=\"none\"><path transform=\"translate(6,6)\" d=\"M5,0A5,5,0,1,1,-5,0A5,5,0,1,1,5,0\" fill=\"#ff7f0e\" stroke-width=\"1.5\" opacity=\"1\"/></g><g class=\"mark-text role-legend-label\" pointer-events=\"none\"><text text-anchor=\"start\" transform=\"translate(16,9)\" font-family=\"sans-serif\" font-size=\"10px\" fill=\"#000\" opacity=\"1\">_solar_photovoltaic</text></g></g><path class=\"foreground\" aria-hidden=\"true\" d=\"\" pointer-events=\"none\" display=\"none\"/></g><g transform=\"translate(0,39)\"><path class=\"background\" aria-hidden=\"true\" d=\"M0,0h173.8759765625v11h-173.8759765625Z\" pointer-events=\"none\" opacity=\"1\"/><g><g class=\"mark-symbol role-legend-symbol\" pointer-events=\"none\"><path transform=\"translate(6,6)\" d=\"M5,0A5,5,0,1,1,-5,0A5,5,0,1,1,5,0\" fill=\"#ffbb78\" stroke-width=\"1.5\" opacity=\"1\"/></g><g class=\"mark-text role-legend-label\" pointer-events=\"none\"><text text-anchor=\"start\" transform=\"translate(16,9)\" font-family=\"sans-serif\" font-size=\"10px\" fill=\"#000\" opacity=\"1\">_solar_photovoltaic_btm</text></g></g><path class=\"foreground\" aria-hidden=\"true\" d=\"\" pointer-events=\"none\" display=\"none\"/></g><g transform=\"translate(0,52)\"><path class=\"background\" aria-hidden=\"true\" d=\"M0,0h173.8759765625v11h-173.8759765625Z\" pointer-events=\"none\" opacity=\"1\"/><g><g class=\"mark-symbol role-legend-symbol\" pointer-events=\"none\"><path transform=\"translate(6,6)\" d=\"M5,0A5,5,0,1,1,-5,0A5,5,0,1,1,5,0\" fill=\"#2ca02c\" stroke-width=\"1.5\" opacity=\"1\"/></g><g class=\"mark-text role-legend-label\" pointer-events=\"none\"><text text-anchor=\"start\" transform=\"translate(16,9)\" font-family=\"sans-serif\" font-size=\"10px\" fill=\"#000\" opacity=\"1\">biomass</text></g></g><path class=\"foreground\" aria-hidden=\"true\" d=\"\" pointer-events=\"none\" display=\"none\"/></g><g transform=\"translate(0,65)\"><path class=\"background\" aria-hidden=\"true\" d=\"M0,0h173.8759765625v11h-173.8759765625Z\" pointer-events=\"none\" opacity=\"1\"/><g><g class=\"mark-symbol role-legend-symbol\" pointer-events=\"none\"><path transform=\"translate(6,6)\" d=\"M5,0A5,5,0,1,1,-5,0A5,5,0,1,1,5,0\" fill=\"#98df8a\" stroke-width=\"1.5\" opacity=\"1\"/></g><g class=\"mark-text role-legend-label\" pointer-events=\"none\"><text text-anchor=\"start\" transform=\"translate(16,9)\" font-family=\"sans-serif\" font-size=\"10px\" fill=\"#000\" opacity=\"1\">hydroelectric_pumped_storage</text></g></g><path class=\"foreground\" aria-hidden=\"true\" d=\"\" pointer-events=\"none\" display=\"none\"/></g><g transform=\"translate(0,78)\"><path class=\"background\" aria-hidden=\"true\" d=\"M0,0h173.8759765625v11h-173.8759765625Z\" pointer-events=\"none\" opacity=\"1\"/><g><g class=\"mark-symbol role-legend-symbol\" pointer-events=\"none\"><path transform=\"translate(6,6)\" d=\"M5,0A5,5,0,1,1,-5,0A5,5,0,1,1,5,0\" fill=\"#d62728\" stroke-width=\"1.5\" opacity=\"1\"/></g><g class=\"mark-text role-legend-label\" pointer-events=\"none\"><text text-anchor=\"start\" transform=\"translate(16,9)\" font-family=\"sans-serif\" font-size=\"10px\" fill=\"#000\" opacity=\"1\">natural_gas_fired_combined_cycle</text></g></g><path class=\"foreground\" aria-hidden=\"true\" d=\"\" pointer-events=\"none\" display=\"none\"/></g><g transform=\"translate(0,91)\"><path class=\"background\" aria-hidden=\"true\" d=\"M0,0h173.8759765625v11h-173.8759765625Z\" pointer-events=\"none\" opacity=\"1\"/><g><g class=\"mark-symbol role-legend-symbol\" pointer-events=\"none\"><path transform=\"translate(6,6)\" d=\"M5,0A5,5,0,1,1,-5,0A5,5,0,1,1,5,0\" fill=\"#ff9896\" stroke-width=\"1.5\" opacity=\"1\"/></g><g class=\"mark-text role-legend-label\" pointer-events=\"none\"><text text-anchor=\"start\" transform=\"translate(16,9)\" font-family=\"sans-serif\" font-size=\"10px\" fill=\"#000\" opacity=\"1\">natural_gas_fired_combustion_tu…</text></g></g><path class=\"foreground\" aria-hidden=\"true\" d=\"\" pointer-events=\"none\" display=\"none\"/></g></g></g><path class=\"foreground\" aria-hidden=\"true\" d=\"\" pointer-events=\"none\" display=\"none\"/></g></g><g class=\"mark-text role-legend-title\" pointer-events=\"none\"><text text-anchor=\"start\" transform=\"translate(0,9)\" font-family=\"sans-serif\" font-size=\"11px\" font-weight=\"bold\" fill=\"#000\" opacity=\"1\">resource</text></g></g><path class=\"foreground\" aria-hidden=\"true\" d=\"\" pointer-events=\"none\" display=\"none\"/></g></g></g><path class=\"foreground\" aria-hidden=\"true\" d=\"\" display=\"none\"/></g></g></g></svg>"
      ],
      "text/plain": [
       "@vlplot(\n",
       "    width=600,\n",
       "    height=600,\n",
       "    mark=\"area\",\n",
       "    encoding={\n",
       "        x={\n",
       "            field=\"hour\"\n",
       "        },\n",
       "        y={\n",
       "            stack=\"zero\",\n",
       "            field=\"gen_sum\"\n",
       "        },\n",
       "        color={\n",
       "            scale={\n",
       "                scheme=\"category20\"\n",
       "            },\n",
       "            field=\"resource\",\n",
       "            type=\"nominal\"\n",
       "        }\n",
       "    },\n",
       "    data={\n",
       "        values=...\n",
       "    }\n",
       ")"
      ]
     },
     "execution_count": 48,
     "metadata": {},
     "output_type": "execute_result"
    }
   ],
   "source": [
    "# Increase solar photovoltaic capacity\n",
    "gen_df_sens = copy(gen_df)\n",
    "gen_df_sens[gen_df_sens.resource .== \"solar_photovoltaic\",\n",
    "    :existing_cap_mw] .= 3500\n",
    "\n",
    "solution = economic_dispatch_multi_time(gen_df_sens, loads_multi, gen_variable_multi);\n",
    "\n",
    "sol_gen = innerjoin(solution.solution, \n",
    "                    gen_df[!, [:r_id, :resource]], \n",
    "                    on = :r_id)\n",
    "\n",
    "sol_gen = combine(groupby(sol_gen, [:resource, :hour]), \n",
    "            :gen => sum)\n",
    "sol_gen_btm = copy(sol_gen)\n",
    "sol_gen_btm[sol_gen_btm.resource .== \"solar_photovoltaic\", :resource] .= \"_solar_photovoltaic\"\n",
    "sol_gen_btm[sol_gen_btm.resource .== \"onshore_wind_turbine\", :resource] .= \"_onshore_wind_turbine\"\n",
    "sol_gen_btm[sol_gen_btm.resource .== \"small_hydroelectric\", :resource] .= \"_small_hydroelectric\"\n",
    "\n",
    "btm = DataFrame(resource = repeat([\"_solar_photovoltaic_btm\"]; outer=length(T_period)), \n",
    "    hour = T_period,\n",
    "    gen_sum = gen_variable_multi[gen_variable_multi.gen_full .== \"wec_sdge_solar_photovoltaic_1.0\",:cf] * 600)\n",
    "append!(sol_gen_btm, btm)\n",
    "\n",
    "# Reorder resources\n",
    "sort!(sol_gen_btm, [:hour, :resource])\n",
    "\n",
    "# Plot and save the resulting generation figure\n",
    "p = sol_gen_btm |>\n",
    "@vlplot(:area, \n",
    "    x=:hour, y={:gen_sum, stack=:zero}, \n",
    "    color={\"resource:n\", scale={scheme=\"category20\"}},\n",
    "    width=600,height=600)\n",
    "save(\"results/sol_gen_btm.png\",p)\n",
    "p"
   ]
  },
  {
   "cell_type": "markdown",
   "metadata": {},
   "source": [
    "The large reduction in net load during the day and the loss of solar (orange) in the late afternoon timed with the rise in the evening peak is sometimes called the **\"duck curve\"** because of their passing resemblance to a duck's belly and head. Squint at it and then examine this (https://www.energy.gov/eere/articles/confronting-duck-curve-how-address-over-generation-solar-energy):\n",
    "\n",
    "<img src=\"https://www.energy.gov/sites/prod/files/styles/borealis_photo_gallery_large_respondmedium/public/CAISO_DuckCurve_720_469_80.jpg?itok=99uYAxGo\" style=\"width: 450px; height: auto\" align=\"left\">"
   ]
  },
  {
   "cell_type": "markdown",
   "metadata": {},
   "source": [
    "You may notice that the model still uses combustion turbines (light pink above) during hours when there is sufficient capacity of combined cycle plants, which are more efficient. This is because of ramp limits, which we will examine now.\n",
    "\n",
    "All constraints (in a linear program) have a **\"marginal value\"** (also known as \"shadow price\" or \"dual value\") which is how much the objective would change if the right-hand-side (RHS) of the constraint were increased by one unit. Let's examine the marginals of the ramp up constraint for the combined cycle plants using the values from the new equation we added to `economic_dispatch_multi_time` (line 72)."
   ]
  },
  {
   "cell_type": "code",
   "execution_count": 49,
   "metadata": {},
   "outputs": [
    {
     "data": {
      "application/vnd.vega.v5+json": {
       "$schema": "https://vega.github.io/schema/vega/v5.json",
       "axes": [
        {
         "aria": false,
         "domain": false,
         "grid": true,
         "gridScale": "y",
         "labels": false,
         "maxExtent": 0,
         "minExtent": 0,
         "orient": "bottom",
         "scale": "x",
         "tickCount": {
          "signal": "ceil(width/40)"
         },
         "ticks": false,
         "zindex": 0
        },
        {
         "aria": false,
         "domain": false,
         "grid": true,
         "gridScale": "x",
         "labels": false,
         "maxExtent": 0,
         "minExtent": 0,
         "orient": "left",
         "scale": "y",
         "tickCount": {
          "signal": "ceil(height/40)"
         },
         "ticks": false,
         "zindex": 0
        },
        {
         "grid": false,
         "labelFlush": true,
         "labelOverlap": true,
         "orient": "bottom",
         "scale": "x",
         "tickCount": {
          "signal": "ceil(width/40)"
         },
         "title": "hour",
         "zindex": 0
        },
        {
         "grid": false,
         "labelOverlap": true,
         "orient": "left",
         "scale": "y",
         "tickCount": {
          "signal": "ceil(height/40)"
         },
         "title": "Marginal",
         "zindex": 0
        }
       ],
       "background": "white",
       "data": [
        {
         "name": "source_0",
         "values": [
          {
           "gen": 0,
           "hour": 2401,
           "r_id": 3,
           "resource": "natural_gas_fired_combined_cycle"
          },
          {
           "gen": 0,
           "hour": 2401,
           "r_id": 4,
           "resource": "natural_gas_fired_combined_cycle"
          },
          {
           "gen": 0,
           "hour": 2401,
           "r_id": 5,
           "resource": "natural_gas_fired_combined_cycle"
          },
          {
           "gen": 0,
           "hour": 2401,
           "r_id": 6,
           "resource": "natural_gas_fired_combined_cycle"
          },
          {
           "gen": 0,
           "hour": 2401,
           "r_id": 7,
           "resource": "natural_gas_fired_combined_cycle"
          },
          {
           "gen": 0,
           "hour": 2401,
           "r_id": 8,
           "resource": "natural_gas_fired_combined_cycle"
          },
          {
           "gen": 0,
           "hour": 2402,
           "r_id": 3,
           "resource": "natural_gas_fired_combined_cycle"
          },
          {
           "gen": 0,
           "hour": 2402,
           "r_id": 4,
           "resource": "natural_gas_fired_combined_cycle"
          },
          {
           "gen": 0,
           "hour": 2402,
           "r_id": 5,
           "resource": "natural_gas_fired_combined_cycle"
          },
          {
           "gen": 0,
           "hour": 2402,
           "r_id": 6,
           "resource": "natural_gas_fired_combined_cycle"
          },
          {
           "gen": 0,
           "hour": 2402,
           "r_id": 7,
           "resource": "natural_gas_fired_combined_cycle"
          },
          {
           "gen": 0,
           "hour": 2402,
           "r_id": 8,
           "resource": "natural_gas_fired_combined_cycle"
          },
          {
           "gen": 0,
           "hour": 2403,
           "r_id": 3,
           "resource": "natural_gas_fired_combined_cycle"
          },
          {
           "gen": 0,
           "hour": 2403,
           "r_id": 4,
           "resource": "natural_gas_fired_combined_cycle"
          },
          {
           "gen": 0,
           "hour": 2403,
           "r_id": 5,
           "resource": "natural_gas_fired_combined_cycle"
          },
          {
           "gen": 0,
           "hour": 2403,
           "r_id": 6,
           "resource": "natural_gas_fired_combined_cycle"
          },
          {
           "gen": 0,
           "hour": 2403,
           "r_id": 7,
           "resource": "natural_gas_fired_combined_cycle"
          },
          {
           "gen": 0,
           "hour": 2403,
           "r_id": 8,
           "resource": "natural_gas_fired_combined_cycle"
          },
          {
           "gen": 0,
           "hour": 2404,
           "r_id": 3,
           "resource": "natural_gas_fired_combined_cycle"
          },
          {
           "gen": 0,
           "hour": 2404,
           "r_id": 4,
           "resource": "natural_gas_fired_combined_cycle"
          },
          {
           "gen": 0,
           "hour": 2404,
           "r_id": 5,
           "resource": "natural_gas_fired_combined_cycle"
          },
          {
           "gen": 0,
           "hour": 2404,
           "r_id": 6,
           "resource": "natural_gas_fired_combined_cycle"
          },
          {
           "gen": 0,
           "hour": 2404,
           "r_id": 7,
           "resource": "natural_gas_fired_combined_cycle"
          },
          {
           "gen": 0,
           "hour": 2404,
           "r_id": 8,
           "resource": "natural_gas_fired_combined_cycle"
          },
          {
           "gen": 0,
           "hour": 2405,
           "r_id": 3,
           "resource": "natural_gas_fired_combined_cycle"
          },
          {
           "gen": 0,
           "hour": 2405,
           "r_id": 4,
           "resource": "natural_gas_fired_combined_cycle"
          },
          {
           "gen": 0,
           "hour": 2405,
           "r_id": 5,
           "resource": "natural_gas_fired_combined_cycle"
          },
          {
           "gen": 0,
           "hour": 2405,
           "r_id": 6,
           "resource": "natural_gas_fired_combined_cycle"
          },
          {
           "gen": 0,
           "hour": 2405,
           "r_id": 7,
           "resource": "natural_gas_fired_combined_cycle"
          },
          {
           "gen": 0,
           "hour": 2405,
           "r_id": 8,
           "resource": "natural_gas_fired_combined_cycle"
          },
          {
           "gen": 0,
           "hour": 2406,
           "r_id": 3,
           "resource": "natural_gas_fired_combined_cycle"
          },
          {
           "gen": 0,
           "hour": 2406,
           "r_id": 4,
           "resource": "natural_gas_fired_combined_cycle"
          },
          {
           "gen": 0,
           "hour": 2406,
           "r_id": 5,
           "resource": "natural_gas_fired_combined_cycle"
          },
          {
           "gen": 0,
           "hour": 2406,
           "r_id": 6,
           "resource": "natural_gas_fired_combined_cycle"
          },
          {
           "gen": 0,
           "hour": 2406,
           "r_id": 7,
           "resource": "natural_gas_fired_combined_cycle"
          },
          {
           "gen": 0,
           "hour": 2406,
           "r_id": 8,
           "resource": "natural_gas_fired_combined_cycle"
          },
          {
           "gen": 0,
           "hour": 2407,
           "r_id": 3,
           "resource": "natural_gas_fired_combined_cycle"
          },
          {
           "gen": 0,
           "hour": 2407,
           "r_id": 4,
           "resource": "natural_gas_fired_combined_cycle"
          },
          {
           "gen": 0,
           "hour": 2407,
           "r_id": 5,
           "resource": "natural_gas_fired_combined_cycle"
          },
          {
           "gen": 0,
           "hour": 2407,
           "r_id": 6,
           "resource": "natural_gas_fired_combined_cycle"
          },
          {
           "gen": 0,
           "hour": 2407,
           "r_id": 7,
           "resource": "natural_gas_fired_combined_cycle"
          },
          {
           "gen": 0,
           "hour": 2407,
           "r_id": 8,
           "resource": "natural_gas_fired_combined_cycle"
          },
          {
           "gen": 0,
           "hour": 2408,
           "r_id": 3,
           "resource": "natural_gas_fired_combined_cycle"
          },
          {
           "gen": 0,
           "hour": 2408,
           "r_id": 4,
           "resource": "natural_gas_fired_combined_cycle"
          },
          {
           "gen": 0,
           "hour": 2408,
           "r_id": 5,
           "resource": "natural_gas_fired_combined_cycle"
          },
          {
           "gen": 0,
           "hour": 2408,
           "r_id": 6,
           "resource": "natural_gas_fired_combined_cycle"
          },
          {
           "gen": 0,
           "hour": 2408,
           "r_id": 7,
           "resource": "natural_gas_fired_combined_cycle"
          },
          {
           "gen": 0,
           "hour": 2408,
           "r_id": 8,
           "resource": "natural_gas_fired_combined_cycle"
          },
          {
           "gen": 0,
           "hour": 2409,
           "r_id": 3,
           "resource": "natural_gas_fired_combined_cycle"
          },
          {
           "gen": 0,
           "hour": 2409,
           "r_id": 4,
           "resource": "natural_gas_fired_combined_cycle"
          },
          {
           "gen": 0,
           "hour": 2409,
           "r_id": 5,
           "resource": "natural_gas_fired_combined_cycle"
          },
          {
           "gen": 0,
           "hour": 2409,
           "r_id": 6,
           "resource": "natural_gas_fired_combined_cycle"
          },
          {
           "gen": 0,
           "hour": 2409,
           "r_id": 7,
           "resource": "natural_gas_fired_combined_cycle"
          },
          {
           "gen": 0,
           "hour": 2409,
           "r_id": 8,
           "resource": "natural_gas_fired_combined_cycle"
          },
          {
           "gen": 0,
           "hour": 2410,
           "r_id": 3,
           "resource": "natural_gas_fired_combined_cycle"
          },
          {
           "gen": 0,
           "hour": 2410,
           "r_id": 4,
           "resource": "natural_gas_fired_combined_cycle"
          },
          {
           "gen": 0,
           "hour": 2410,
           "r_id": 5,
           "resource": "natural_gas_fired_combined_cycle"
          },
          {
           "gen": 0,
           "hour": 2410,
           "r_id": 6,
           "resource": "natural_gas_fired_combined_cycle"
          },
          {
           "gen": 0,
           "hour": 2410,
           "r_id": 7,
           "resource": "natural_gas_fired_combined_cycle"
          },
          {
           "gen": 0,
           "hour": 2410,
           "r_id": 8,
           "resource": "natural_gas_fired_combined_cycle"
          },
          {
           "gen": 0,
           "hour": 2411,
           "r_id": 3,
           "resource": "natural_gas_fired_combined_cycle"
          },
          {
           "gen": 0,
           "hour": 2411,
           "r_id": 4,
           "resource": "natural_gas_fired_combined_cycle"
          },
          {
           "gen": 0,
           "hour": 2411,
           "r_id": 5,
           "resource": "natural_gas_fired_combined_cycle"
          },
          {
           "gen": 0,
           "hour": 2411,
           "r_id": 6,
           "resource": "natural_gas_fired_combined_cycle"
          },
          {
           "gen": 0,
           "hour": 2411,
           "r_id": 7,
           "resource": "natural_gas_fired_combined_cycle"
          },
          {
           "gen": 0,
           "hour": 2411,
           "r_id": 8,
           "resource": "natural_gas_fired_combined_cycle"
          },
          {
           "gen": 0,
           "hour": 2412,
           "r_id": 3,
           "resource": "natural_gas_fired_combined_cycle"
          },
          {
           "gen": 0,
           "hour": 2412,
           "r_id": 4,
           "resource": "natural_gas_fired_combined_cycle"
          },
          {
           "gen": 0,
           "hour": 2412,
           "r_id": 5,
           "resource": "natural_gas_fired_combined_cycle"
          },
          {
           "gen": 0,
           "hour": 2412,
           "r_id": 6,
           "resource": "natural_gas_fired_combined_cycle"
          },
          {
           "gen": 0,
           "hour": 2412,
           "r_id": 7,
           "resource": "natural_gas_fired_combined_cycle"
          },
          {
           "gen": 0,
           "hour": 2412,
           "r_id": 8,
           "resource": "natural_gas_fired_combined_cycle"
          },
          {
           "gen": 0,
           "hour": 2413,
           "r_id": 3,
           "resource": "natural_gas_fired_combined_cycle"
          },
          {
           "gen": 0,
           "hour": 2413,
           "r_id": 4,
           "resource": "natural_gas_fired_combined_cycle"
          },
          {
           "gen": 0,
           "hour": 2413,
           "r_id": 5,
           "resource": "natural_gas_fired_combined_cycle"
          },
          {
           "gen": 0,
           "hour": 2413,
           "r_id": 6,
           "resource": "natural_gas_fired_combined_cycle"
          },
          {
           "gen": 0,
           "hour": 2413,
           "r_id": 7,
           "resource": "natural_gas_fired_combined_cycle"
          },
          {
           "gen": 0,
           "hour": 2413,
           "r_id": 8,
           "resource": "natural_gas_fired_combined_cycle"
          },
          {
           "gen": 0,
           "hour": 2414,
           "r_id": 3,
           "resource": "natural_gas_fired_combined_cycle"
          },
          {
           "gen": 0,
           "hour": 2414,
           "r_id": 4,
           "resource": "natural_gas_fired_combined_cycle"
          },
          {
           "gen": 0,
           "hour": 2414,
           "r_id": 5,
           "resource": "natural_gas_fired_combined_cycle"
          },
          {
           "gen": 0,
           "hour": 2414,
           "r_id": 6,
           "resource": "natural_gas_fired_combined_cycle"
          },
          {
           "gen": 0,
           "hour": 2414,
           "r_id": 7,
           "resource": "natural_gas_fired_combined_cycle"
          },
          {
           "gen": 0,
           "hour": 2414,
           "r_id": 8,
           "resource": "natural_gas_fired_combined_cycle"
          },
          {
           "gen": 0,
           "hour": 2415,
           "r_id": 3,
           "resource": "natural_gas_fired_combined_cycle"
          },
          {
           "gen": 0,
           "hour": 2415,
           "r_id": 4,
           "resource": "natural_gas_fired_combined_cycle"
          },
          {
           "gen": 0,
           "hour": 2415,
           "r_id": 5,
           "resource": "natural_gas_fired_combined_cycle"
          },
          {
           "gen": 0,
           "hour": 2415,
           "r_id": 6,
           "resource": "natural_gas_fired_combined_cycle"
          },
          {
           "gen": 0,
           "hour": 2415,
           "r_id": 7,
           "resource": "natural_gas_fired_combined_cycle"
          },
          {
           "gen": 0,
           "hour": 2415,
           "r_id": 8,
           "resource": "natural_gas_fired_combined_cycle"
          },
          {
           "gen": -0.9508999999999972,
           "hour": 2416,
           "r_id": 3,
           "resource": "natural_gas_fired_combined_cycle"
          },
          {
           "gen": 0,
           "hour": 2416,
           "r_id": 4,
           "resource": "natural_gas_fired_combined_cycle"
          },
          {
           "gen": 0,
           "hour": 2416,
           "r_id": 5,
           "resource": "natural_gas_fired_combined_cycle"
          },
          {
           "gen": 0,
           "hour": 2416,
           "r_id": 6,
           "resource": "natural_gas_fired_combined_cycle"
          },
          {
           "gen": 0,
           "hour": 2416,
           "r_id": 7,
           "resource": "natural_gas_fired_combined_cycle"
          },
          {
           "gen": 0,
           "hour": 2416,
           "r_id": 8,
           "resource": "natural_gas_fired_combined_cycle"
          },
          {
           "gen": -1.9017999999999944,
           "hour": 2417,
           "r_id": 3,
           "resource": "natural_gas_fired_combined_cycle"
          },
          {
           "gen": -2.644499999999983,
           "hour": 2417,
           "r_id": 4,
           "resource": "natural_gas_fired_combined_cycle"
          },
          {
           "gen": -4.289299999999987,
           "hour": 2417,
           "r_id": 5,
           "resource": "natural_gas_fired_combined_cycle"
          },
          {
           "gen": 0,
           "hour": 2417,
           "r_id": 6,
           "resource": "natural_gas_fired_combined_cycle"
          },
          {
           "gen": 0,
           "hour": 2417,
           "r_id": 7,
           "resource": "natural_gas_fired_combined_cycle"
          },
          {
           "gen": 0,
           "hour": 2417,
           "r_id": 8,
           "resource": "natural_gas_fired_combined_cycle"
          },
          {
           "gen": 0,
           "hour": 2418,
           "r_id": 3,
           "resource": "natural_gas_fired_combined_cycle"
          },
          {
           "gen": -8.144799999999996,
           "hour": 2418,
           "r_id": 4,
           "resource": "natural_gas_fired_combined_cycle"
          },
          {
           "gen": -8.967199999999998,
           "hour": 2418,
           "r_id": 5,
           "resource": "natural_gas_fired_combined_cycle"
          },
          {
           "gen": 0,
           "hour": 2418,
           "r_id": 6,
           "resource": "natural_gas_fired_combined_cycle"
          },
          {
           "gen": 0,
           "hour": 2418,
           "r_id": 7,
           "resource": "natural_gas_fired_combined_cycle"
          },
          {
           "gen": 0,
           "hour": 2418,
           "r_id": 8,
           "resource": "natural_gas_fired_combined_cycle"
          },
          {
           "gen": 0,
           "hour": 2419,
           "r_id": 3,
           "resource": "natural_gas_fired_combined_cycle"
          },
          {
           "gen": 0,
           "hour": 2419,
           "r_id": 4,
           "resource": "natural_gas_fired_combined_cycle"
          },
          {
           "gen": 0,
           "hour": 2419,
           "r_id": 5,
           "resource": "natural_gas_fired_combined_cycle"
          },
          {
           "gen": 0,
           "hour": 2419,
           "r_id": 6,
           "resource": "natural_gas_fired_combined_cycle"
          },
          {
           "gen": 0,
           "hour": 2419,
           "r_id": 7,
           "resource": "natural_gas_fired_combined_cycle"
          },
          {
           "gen": 0,
           "hour": 2419,
           "r_id": 8,
           "resource": "natural_gas_fired_combined_cycle"
          },
          {
           "gen": 0,
           "hour": 2420,
           "r_id": 3,
           "resource": "natural_gas_fired_combined_cycle"
          },
          {
           "gen": 0,
           "hour": 2420,
           "r_id": 4,
           "resource": "natural_gas_fired_combined_cycle"
          },
          {
           "gen": 0,
           "hour": 2420,
           "r_id": 5,
           "resource": "natural_gas_fired_combined_cycle"
          },
          {
           "gen": 0,
           "hour": 2420,
           "r_id": 6,
           "resource": "natural_gas_fired_combined_cycle"
          },
          {
           "gen": 0,
           "hour": 2420,
           "r_id": 7,
           "resource": "natural_gas_fired_combined_cycle"
          },
          {
           "gen": 0,
           "hour": 2420,
           "r_id": 8,
           "resource": "natural_gas_fired_combined_cycle"
          },
          {
           "gen": 0,
           "hour": 2421,
           "r_id": 3,
           "resource": "natural_gas_fired_combined_cycle"
          },
          {
           "gen": 0,
           "hour": 2421,
           "r_id": 4,
           "resource": "natural_gas_fired_combined_cycle"
          },
          {
           "gen": 0,
           "hour": 2421,
           "r_id": 5,
           "resource": "natural_gas_fired_combined_cycle"
          },
          {
           "gen": 0,
           "hour": 2421,
           "r_id": 6,
           "resource": "natural_gas_fired_combined_cycle"
          },
          {
           "gen": 0,
           "hour": 2421,
           "r_id": 7,
           "resource": "natural_gas_fired_combined_cycle"
          },
          {
           "gen": 0,
           "hour": 2421,
           "r_id": 8,
           "resource": "natural_gas_fired_combined_cycle"
          },
          {
           "gen": 0,
           "hour": 2422,
           "r_id": 3,
           "resource": "natural_gas_fired_combined_cycle"
          },
          {
           "gen": 0,
           "hour": 2422,
           "r_id": 4,
           "resource": "natural_gas_fired_combined_cycle"
          },
          {
           "gen": 0,
           "hour": 2422,
           "r_id": 5,
           "resource": "natural_gas_fired_combined_cycle"
          },
          {
           "gen": 0,
           "hour": 2422,
           "r_id": 6,
           "resource": "natural_gas_fired_combined_cycle"
          },
          {
           "gen": 0,
           "hour": 2422,
           "r_id": 7,
           "resource": "natural_gas_fired_combined_cycle"
          },
          {
           "gen": 0,
           "hour": 2422,
           "r_id": 8,
           "resource": "natural_gas_fired_combined_cycle"
          },
          {
           "gen": 0,
           "hour": 2423,
           "r_id": 3,
           "resource": "natural_gas_fired_combined_cycle"
          },
          {
           "gen": 0,
           "hour": 2423,
           "r_id": 4,
           "resource": "natural_gas_fired_combined_cycle"
          },
          {
           "gen": 0,
           "hour": 2423,
           "r_id": 5,
           "resource": "natural_gas_fired_combined_cycle"
          },
          {
           "gen": 0,
           "hour": 2423,
           "r_id": 6,
           "resource": "natural_gas_fired_combined_cycle"
          },
          {
           "gen": 0,
           "hour": 2423,
           "r_id": 7,
           "resource": "natural_gas_fired_combined_cycle"
          },
          {
           "gen": 0,
           "hour": 2423,
           "r_id": 8,
           "resource": "natural_gas_fired_combined_cycle"
          }
         ]
        },
        {
         "name": "data_0",
         "source": "source_0",
         "transform": [
          {
           "as": "hour",
           "expr": "toNumber(datum[\"hour\"])",
           "type": "formula"
          }
         ]
        }
       ],
       "height": 200,
       "legends": [
        {
         "stroke": "color",
         "symbolType": "stroke",
         "title": "r_id"
        }
       ],
       "marks": [
        {
         "encode": {
          "update": {
           "height": {
            "field": {
             "group": "height"
            }
           },
           "width": {
            "field": {
             "group": "width"
            }
           }
          }
         },
         "from": {
          "facet": {
           "data": "data_0",
           "groupby": [
            "r_id"
           ],
           "name": "faceted_path_main"
          }
         },
         "marks": [
          {
           "encode": {
            "update": {
             "defined": {
              "signal": "isValid(datum[\"hour\"]) && isFinite(+datum[\"hour\"]) && isValid(datum[\"gen\"]) && isFinite(+datum[\"gen\"])"
             },
             "description": {
              "signal": "\"hour: \" + (format(datum[\"hour\"], \"\")) + \"; Marginal: \" + (format(datum[\"gen\"], \"\")) + \"; r_id: \" + (isValid(datum[\"r_id\"]) ? datum[\"r_id\"] : \"\"+datum[\"r_id\"])"
             },
             "stroke": {
              "field": "r_id",
              "scale": "color"
             },
             "x": {
              "field": "hour",
              "scale": "x"
             },
             "y": {
              "field": "gen",
              "scale": "y"
             }
            }
           },
           "from": {
            "data": "faceted_path_main"
           },
           "name": "marks",
           "sort": {
            "field": "datum[\"hour\"]"
           },
           "style": [
            "line"
           ],
           "type": "line"
          }
         ],
         "name": "pathgroup",
         "type": "group"
        }
       ],
       "padding": 5,
       "scales": [
        {
         "domain": {
          "data": "data_0",
          "field": "hour"
         },
         "name": "x",
         "nice": true,
         "range": [
          0,
          {
           "signal": "width"
          }
         ],
         "type": "linear",
         "zero": false
        },
        {
         "domain": {
          "data": "data_0",
          "field": "gen"
         },
         "name": "y",
         "nice": true,
         "range": [
          {
           "signal": "height"
          },
          0
         ],
         "type": "linear",
         "zero": true
        },
        {
         "domain": {
          "data": "data_0",
          "field": "r_id",
          "sort": true
         },
         "name": "color",
         "range": {
          "scheme": "category20"
         },
         "type": "ordinal"
        }
       ],
       "style": "cell",
       "width": 200
      },
      "image/png": "[encoded data removed]",
      "image/svg+xml": [
       "<svg xmlns=\"http://www.w3.org/2000/svg\" xmlns:xlink=\"http://www.w3.org/1999/xlink\" version=\"1.1\" class=\"marks\" width=\"284\" height=\"247\" viewBox=\"0 0 284 247\"><rect width=\"284\" height=\"247\" fill=\"white\"/><g fill=\"none\" stroke-miterlimit=\"10\" transform=\"translate(39,10)\"><g class=\"mark-group role-frame root\" role=\"graphics-object\" aria-roledescription=\"group mark container\"><g transform=\"translate(0,0)\"><path class=\"background\" aria-hidden=\"true\" d=\"M0.5,0.5h200v200h-200Z\" stroke=\"#ddd\"/><g><g class=\"mark-group role-axis\" aria-hidden=\"true\"><g transform=\"translate(0.5,200.5)\"><path class=\"background\" aria-hidden=\"true\" d=\"M0,0h0v0h0Z\" pointer-events=\"none\"/><g><g class=\"mark-rule role-axis-grid\" pointer-events=\"none\"><line transform=\"translate(0,-200)\" x2=\"0\" y2=\"200\" stroke=\"#ddd\" stroke-width=\"1\" opacity=\"1\"/><line transform=\"translate(42,-200)\" x2=\"0\" y2=\"200\" stroke=\"#ddd\" stroke-width=\"1\" opacity=\"1\"/><line transform=\"translate(83,-200)\" x2=\"0\" y2=\"200\" stroke=\"#ddd\" stroke-width=\"1\" opacity=\"1\"/><line transform=\"translate(125,-200)\" x2=\"0\" y2=\"200\" stroke=\"#ddd\" stroke-width=\"1\" opacity=\"1\"/><line transform=\"translate(167,-200)\" x2=\"0\" y2=\"200\" stroke=\"#ddd\" stroke-width=\"1\" opacity=\"1\"/></g></g><path class=\"foreground\" aria-hidden=\"true\" d=\"\" pointer-events=\"none\" display=\"none\"/></g></g><g class=\"mark-group role-axis\" aria-hidden=\"true\"><g transform=\"translate(0.5,0.5)\"><path class=\"background\" aria-hidden=\"true\" d=\"M0,0h0v0h0Z\" pointer-events=\"none\"/><g><g class=\"mark-rule role-axis-grid\" pointer-events=\"none\"><line transform=\"translate(0,178)\" x2=\"200\" y2=\"0\" stroke=\"#ddd\" stroke-width=\"1\" opacity=\"1\"/><line transform=\"translate(0,133)\" x2=\"200\" y2=\"0\" stroke=\"#ddd\" stroke-width=\"1\" opacity=\"1\"/><line transform=\"translate(0,89)\" x2=\"200\" y2=\"0\" stroke=\"#ddd\" stroke-width=\"1\" opacity=\"1\"/><line transform=\"translate(0,44)\" x2=\"200\" y2=\"0\" stroke=\"#ddd\" stroke-width=\"1\" opacity=\"1\"/><line transform=\"translate(0,0)\" x2=\"200\" y2=\"0\" stroke=\"#ddd\" stroke-width=\"1\" opacity=\"1\"/></g></g><path class=\"foreground\" aria-hidden=\"true\" d=\"\" pointer-events=\"none\" display=\"none\"/></g></g><g class=\"mark-group role-axis\" role=\"graphics-symbol\" aria-roledescription=\"axis\" aria-label=\"X-axis titled 'hour' for a linear scale with values from 2,400 to 2,424\"><g transform=\"translate(0.5,200.5)\"><path class=\"background\" aria-hidden=\"true\" d=\"M0,0h0v0h0Z\" pointer-events=\"none\"/><g><g class=\"mark-rule role-axis-tick\" pointer-events=\"none\"><line transform=\"translate(0,0)\" x2=\"0\" y2=\"5\" stroke=\"#888\" stroke-width=\"1\" opacity=\"1\"/><line transform=\"translate(42,0)\" x2=\"0\" y2=\"5\" stroke=\"#888\" stroke-width=\"1\" opacity=\"1\"/><line transform=\"translate(83,0)\" x2=\"0\" y2=\"5\" stroke=\"#888\" stroke-width=\"1\" opacity=\"1\"/><line transform=\"translate(125,0)\" x2=\"0\" y2=\"5\" stroke=\"#888\" stroke-width=\"1\" opacity=\"1\"/><line transform=\"translate(167,0)\" x2=\"0\" y2=\"5\" stroke=\"#888\" stroke-width=\"1\" opacity=\"1\"/></g><g class=\"mark-text role-axis-label\" pointer-events=\"none\"><text text-anchor=\"start\" transform=\"translate(0,15)\" font-family=\"sans-serif\" font-size=\"10px\" fill=\"#000\" opacity=\"1\">2,400</text><text text-anchor=\"middle\" transform=\"translate(41.66666666666667,15)\" font-family=\"sans-serif\" font-size=\"10px\" fill=\"#000\" opacity=\"1\">2,405</text><text text-anchor=\"middle\" transform=\"translate(83.33333333333334,15)\" font-family=\"sans-serif\" font-size=\"10px\" fill=\"#000\" opacity=\"1\">2,410</text><text text-anchor=\"middle\" transform=\"translate(125,15)\" font-family=\"sans-serif\" font-size=\"10px\" fill=\"#000\" opacity=\"1\">2,415</text><text text-anchor=\"middle\" transform=\"translate(166.66666666666669,15)\" font-family=\"sans-serif\" font-size=\"10px\" fill=\"#000\" opacity=\"1\">2,420</text></g><g class=\"mark-rule role-axis-domain\" pointer-events=\"none\"><line transform=\"translate(0,0)\" x2=\"200\" y2=\"0\" stroke=\"#888\" stroke-width=\"1\" opacity=\"1\"/></g><g class=\"mark-text role-axis-title\" pointer-events=\"none\"><text text-anchor=\"middle\" transform=\"translate(100,30)\" font-family=\"sans-serif\" font-size=\"11px\" font-weight=\"bold\" fill=\"#000\" opacity=\"1\">hour</text></g></g><path class=\"foreground\" aria-hidden=\"true\" d=\"\" pointer-events=\"none\" display=\"none\"/></g></g><g class=\"mark-group role-axis\" role=\"graphics-symbol\" aria-roledescription=\"axis\" aria-label=\"Y-axis titled 'Marginal' for a linear scale with values from −9 to 0\"><g transform=\"translate(0.5,0.5)\"><path class=\"background\" aria-hidden=\"true\" d=\"M0,0h0v0h0Z\" pointer-events=\"none\"/><g><g class=\"mark-rule role-axis-tick\" pointer-events=\"none\"><line transform=\"translate(0,178)\" x2=\"-5\" y2=\"0\" stroke=\"#888\" stroke-width=\"1\" opacity=\"1\"/><line transform=\"translate(0,133)\" x2=\"-5\" y2=\"0\" stroke=\"#888\" stroke-width=\"1\" opacity=\"1\"/><line transform=\"translate(0,89)\" x2=\"-5\" y2=\"0\" stroke=\"#888\" stroke-width=\"1\" opacity=\"1\"/><line transform=\"translate(0,44)\" x2=\"-5\" y2=\"0\" stroke=\"#888\" stroke-width=\"1\" opacity=\"1\"/><line transform=\"translate(0,0)\" x2=\"-5\" y2=\"0\" stroke=\"#888\" stroke-width=\"1\" opacity=\"1\"/></g><g class=\"mark-text role-axis-label\" pointer-events=\"none\"><text text-anchor=\"end\" transform=\"translate(-7,180.77777777777777)\" font-family=\"sans-serif\" font-size=\"10px\" fill=\"#000\" opacity=\"1\">−8</text><text text-anchor=\"end\" transform=\"translate(-7,136.33333333333334)\" font-family=\"sans-serif\" font-size=\"10px\" fill=\"#000\" opacity=\"1\">−6</text><text text-anchor=\"end\" transform=\"translate(-7,91.88888888888889)\" font-family=\"sans-serif\" font-size=\"10px\" fill=\"#000\" opacity=\"1\">−4</text><text text-anchor=\"end\" transform=\"translate(-7,47.44444444444444)\" font-family=\"sans-serif\" font-size=\"10px\" fill=\"#000\" opacity=\"1\">−2</text><text text-anchor=\"end\" transform=\"translate(-7,3)\" font-family=\"sans-serif\" font-size=\"10px\" fill=\"#000\" opacity=\"1\">0</text></g><g class=\"mark-rule role-axis-domain\" pointer-events=\"none\"><line transform=\"translate(0,200)\" x2=\"0\" y2=\"-200\" stroke=\"#888\" stroke-width=\"1\" opacity=\"1\"/></g><g class=\"mark-text role-axis-title\" pointer-events=\"none\"><text text-anchor=\"middle\" transform=\"translate(-22.4013671875,100) rotate(-90) translate(0,-2)\" font-family=\"sans-serif\" font-size=\"11px\" font-weight=\"bold\" fill=\"#000\" opacity=\"1\">Marginal</text></g></g><path class=\"foreground\" aria-hidden=\"true\" d=\"\" pointer-events=\"none\" display=\"none\"/></g></g><g class=\"mark-group role-scope pathgroup\" role=\"graphics-object\" aria-roledescription=\"group mark container\"><g transform=\"translate(0,0)\"><path class=\"background\" aria-hidden=\"true\" d=\"M0,0h200v200h-200Z\"/><g><g class=\"mark-line role-mark marks\" role=\"graphics-object\" aria-roledescription=\"line mark container\"><path aria-label=\"hour: 2401; Marginal: 0; r_id: 3\" role=\"graphics-symbol\" aria-roledescription=\"line mark\" d=\"M8.333,0L16.667,0L25,0L33.333,0L41.667,0L50,0L58.333,0L66.667,0L75,0L83.333,0L91.667,0L100,0L108.333,0L116.667,0L125,0L133.333,21.131L141.667,42.262L150,0L158.333,0L166.667,0L175,0L183.333,0L191.667,0\" stroke=\"#1f77b4\" stroke-width=\"2\"/></g></g><path class=\"foreground\" aria-hidden=\"true\" d=\"\" display=\"none\"/></g><g transform=\"translate(0,0)\"><path class=\"background\" aria-hidden=\"true\" d=\"M0,0h200v200h-200Z\"/><g><g class=\"mark-line role-mark marks\" role=\"graphics-object\" aria-roledescription=\"line mark container\"><path aria-label=\"hour: 2401; Marginal: 0; r_id: 4\" role=\"graphics-symbol\" aria-roledescription=\"line mark\" d=\"M8.333,0L16.667,0L25,0L33.333,0L41.667,0L50,0L58.333,0L66.667,0L75,0L83.333,0L91.667,0L100,0L108.333,0L116.667,0L125,0L133.333,0L141.667,58.767L150,180.996L158.333,0L166.667,0L175,0L183.333,0L191.667,0\" stroke=\"#aec7e8\" stroke-width=\"2\"/></g></g><path class=\"foreground\" aria-hidden=\"true\" d=\"\" display=\"none\"/></g><g transform=\"translate(0,0)\"><path class=\"background\" aria-hidden=\"true\" d=\"M0,0h200v200h-200Z\"/><g><g class=\"mark-line role-mark marks\" role=\"graphics-object\" aria-roledescription=\"line mark container\"><path aria-label=\"hour: 2401; Marginal: 0; r_id: 5\" role=\"graphics-symbol\" aria-roledescription=\"line mark\" d=\"M8.333,0L16.667,0L25,0L33.333,0L41.667,0L50,0L58.333,0L66.667,0L75,0L83.333,0L91.667,0L100,0L108.333,0L116.667,0L125,0L133.333,0L141.667,95.318L150,199.271L158.333,0L166.667,0L175,0L183.333,0L191.667,0\" stroke=\"#ff7f0e\" stroke-width=\"2\"/></g></g><path class=\"foreground\" aria-hidden=\"true\" d=\"\" display=\"none\"/></g><g transform=\"translate(0,0)\"><path class=\"background\" aria-hidden=\"true\" d=\"M0,0h200v200h-200Z\"/><g><g class=\"mark-line role-mark marks\" role=\"graphics-object\" aria-roledescription=\"line mark container\"><path aria-label=\"hour: 2401; Marginal: 0; r_id: 6\" role=\"graphics-symbol\" aria-roledescription=\"line mark\" d=\"M8.333,0L16.667,0L25,0L33.333,0L41.667,0L50,0L58.333,0L66.667,0L75,0L83.333,0L91.667,0L100,0L108.333,0L116.667,0L125,0L133.333,0L141.667,0L150,0L158.333,0L166.667,0L175,0L183.333,0L191.667,0\" stroke=\"#ffbb78\" stroke-width=\"2\"/></g></g><path class=\"foreground\" aria-hidden=\"true\" d=\"\" display=\"none\"/></g><g transform=\"translate(0,0)\"><path class=\"background\" aria-hidden=\"true\" d=\"M0,0h200v200h-200Z\"/><g><g class=\"mark-line role-mark marks\" role=\"graphics-object\" aria-roledescription=\"line mark container\"><path aria-label=\"hour: 2401; Marginal: 0; r_id: 7\" role=\"graphics-symbol\" aria-roledescription=\"line mark\" d=\"M8.333,0L16.667,0L25,0L33.333,0L41.667,0L50,0L58.333,0L66.667,0L75,0L83.333,0L91.667,0L100,0L108.333,0L116.667,0L125,0L133.333,0L141.667,0L150,0L158.333,0L166.667,0L175,0L183.333,0L191.667,0\" stroke=\"#2ca02c\" stroke-width=\"2\"/></g></g><path class=\"foreground\" aria-hidden=\"true\" d=\"\" display=\"none\"/></g><g transform=\"translate(0,0)\"><path class=\"background\" aria-hidden=\"true\" d=\"M0,0h200v200h-200Z\"/><g><g class=\"mark-line role-mark marks\" role=\"graphics-object\" aria-roledescription=\"line mark container\"><path aria-label=\"hour: 2401; Marginal: 0; r_id: 8\" role=\"graphics-symbol\" aria-roledescription=\"line mark\" d=\"M8.333,0L16.667,0L25,0L33.333,0L41.667,0L50,0L58.333,0L66.667,0L75,0L83.333,0L91.667,0L100,0L108.333,0L116.667,0L125,0L133.333,0L141.667,0L150,0L158.333,0L166.667,0L175,0L183.333,0L191.667,0\" stroke=\"#98df8a\" stroke-width=\"2\"/></g></g><path class=\"foreground\" aria-hidden=\"true\" d=\"\" display=\"none\"/></g></g><g class=\"mark-group role-legend\" role=\"graphics-symbol\" aria-roledescription=\"legend\" aria-label=\"Symbol legend titled 'r_id' for stroke color with 6 values: 3, 4, 5, 6, 7, 8\"><g transform=\"translate(218,0)\"><path class=\"background\" aria-hidden=\"true\" d=\"M0,0h22v92h-22Z\" pointer-events=\"none\"/><g><g class=\"mark-group role-legend-entry\"><g transform=\"translate(0,16)\"><path class=\"background\" aria-hidden=\"true\" d=\"M0,0h0v0h0Z\" pointer-events=\"none\"/><g><g class=\"mark-group role-scope\" role=\"graphics-object\" aria-roledescription=\"group mark container\"><g transform=\"translate(0,0)\"><path class=\"background\" aria-hidden=\"true\" d=\"M0,0h21.5615234375v11h-21.5615234375Z\" pointer-events=\"none\" opacity=\"1\"/><g><g class=\"mark-symbol role-legend-symbol\" pointer-events=\"none\"><path transform=\"translate(6,6)\" d=\"M-5,0L5,0\" stroke=\"#1f77b4\" stroke-width=\"1.5\" opacity=\"1\"/></g><g class=\"mark-text role-legend-label\" pointer-events=\"none\"><text text-anchor=\"start\" transform=\"translate(16,9)\" font-family=\"sans-serif\" font-size=\"10px\" fill=\"#000\" opacity=\"1\">3</text></g></g><path class=\"foreground\" aria-hidden=\"true\" d=\"\" pointer-events=\"none\" display=\"none\"/></g><g transform=\"translate(0,13)\"><path class=\"background\" aria-hidden=\"true\" d=\"M0,0h21.5615234375v11h-21.5615234375Z\" pointer-events=\"none\" opacity=\"1\"/><g><g class=\"mark-symbol role-legend-symbol\" pointer-events=\"none\"><path transform=\"translate(6,6)\" d=\"M-5,0L5,0\" stroke=\"#aec7e8\" stroke-width=\"1.5\" opacity=\"1\"/></g><g class=\"mark-text role-legend-label\" pointer-events=\"none\"><text text-anchor=\"start\" transform=\"translate(16,9)\" font-family=\"sans-serif\" font-size=\"10px\" fill=\"#000\" opacity=\"1\">4</text></g></g><path class=\"foreground\" aria-hidden=\"true\" d=\"\" pointer-events=\"none\" display=\"none\"/></g><g transform=\"translate(0,26)\"><path class=\"background\" aria-hidden=\"true\" d=\"M0,0h21.5615234375v11h-21.5615234375Z\" pointer-events=\"none\" opacity=\"1\"/><g><g class=\"mark-symbol role-legend-symbol\" pointer-events=\"none\"><path transform=\"translate(6,6)\" d=\"M-5,0L5,0\" stroke=\"#ff7f0e\" stroke-width=\"1.5\" opacity=\"1\"/></g><g class=\"mark-text role-legend-label\" pointer-events=\"none\"><text text-anchor=\"start\" transform=\"translate(16,9)\" font-family=\"sans-serif\" font-size=\"10px\" fill=\"#000\" opacity=\"1\">5</text></g></g><path class=\"foreground\" aria-hidden=\"true\" d=\"\" pointer-events=\"none\" display=\"none\"/></g><g transform=\"translate(0,39)\"><path class=\"background\" aria-hidden=\"true\" d=\"M0,0h21.5615234375v11h-21.5615234375Z\" pointer-events=\"none\" opacity=\"1\"/><g><g class=\"mark-symbol role-legend-symbol\" pointer-events=\"none\"><path transform=\"translate(6,6)\" d=\"M-5,0L5,0\" stroke=\"#ffbb78\" stroke-width=\"1.5\" opacity=\"1\"/></g><g class=\"mark-text role-legend-label\" pointer-events=\"none\"><text text-anchor=\"start\" transform=\"translate(16,9)\" font-family=\"sans-serif\" font-size=\"10px\" fill=\"#000\" opacity=\"1\">6</text></g></g><path class=\"foreground\" aria-hidden=\"true\" d=\"\" pointer-events=\"none\" display=\"none\"/></g><g transform=\"translate(0,52)\"><path class=\"background\" aria-hidden=\"true\" d=\"M0,0h21.5615234375v11h-21.5615234375Z\" pointer-events=\"none\" opacity=\"1\"/><g><g class=\"mark-symbol role-legend-symbol\" pointer-events=\"none\"><path transform=\"translate(6,6)\" d=\"M-5,0L5,0\" stroke=\"#2ca02c\" stroke-width=\"1.5\" opacity=\"1\"/></g><g class=\"mark-text role-legend-label\" pointer-events=\"none\"><text text-anchor=\"start\" transform=\"translate(16,9)\" font-family=\"sans-serif\" font-size=\"10px\" fill=\"#000\" opacity=\"1\">7</text></g></g><path class=\"foreground\" aria-hidden=\"true\" d=\"\" pointer-events=\"none\" display=\"none\"/></g><g transform=\"translate(0,65)\"><path class=\"background\" aria-hidden=\"true\" d=\"M0,0h21.5615234375v11h-21.5615234375Z\" pointer-events=\"none\" opacity=\"1\"/><g><g class=\"mark-symbol role-legend-symbol\" pointer-events=\"none\"><path transform=\"translate(6,6)\" d=\"M-5,0L5,0\" stroke=\"#98df8a\" stroke-width=\"1.5\" opacity=\"1\"/></g><g class=\"mark-text role-legend-label\" pointer-events=\"none\"><text text-anchor=\"start\" transform=\"translate(16,9)\" font-family=\"sans-serif\" font-size=\"10px\" fill=\"#000\" opacity=\"1\">8</text></g></g><path class=\"foreground\" aria-hidden=\"true\" d=\"\" pointer-events=\"none\" display=\"none\"/></g></g></g><path class=\"foreground\" aria-hidden=\"true\" d=\"\" pointer-events=\"none\" display=\"none\"/></g></g><g class=\"mark-text role-legend-title\" pointer-events=\"none\"><text text-anchor=\"start\" transform=\"translate(0,9)\" font-family=\"sans-serif\" font-size=\"11px\" font-weight=\"bold\" fill=\"#000\" opacity=\"1\">r_id</text></g></g><path class=\"foreground\" aria-hidden=\"true\" d=\"\" pointer-events=\"none\" display=\"none\"/></g></g></g><path class=\"foreground\" aria-hidden=\"true\" d=\"\" display=\"none\"/></g></g></g></svg>"
      ],
      "text/plain": [
       "@vlplot(\n",
       "    mark=\"line\",\n",
       "    encoding={\n",
       "        x={\n",
       "            field=\"hour\"\n",
       "        },\n",
       "        y={\n",
       "            title=\"Marginal\",\n",
       "            field=\"gen\"\n",
       "        },\n",
       "        color={\n",
       "            scale={\n",
       "                scheme=\"category20\"\n",
       "            },\n",
       "            field=\"r_id\",\n",
       "            type=\"nominal\"\n",
       "        }\n",
       "    },\n",
       "    data={\n",
       "        values=...\n",
       "    }\n",
       ")"
      ]
     },
     "execution_count": 49,
     "metadata": {},
     "output_type": "execute_result"
    }
   ],
   "source": [
    "marg_gen = innerjoin(solution.marginals, \n",
    "                    gen_df[!, [:r_id, :resource]], \n",
    "                    on = :r_id)\n",
    "marg_gen[marg_gen.resource .== \"natural_gas_fired_combined_cycle\",:] |>\n",
    "@vlplot(:line, \n",
    "    x=:hour, y={:gen, title=\"Marginal\"}, \n",
    "    color={\"r_id:n\", scale={scheme=\"category20\"}})\n"
   ]
  },
  {
   "cell_type": "markdown",
   "metadata": {},
   "source": [
    "Thus, during the ramp hours, the marginal value becomes negative&mdash;in this case, reaching ~ -9 for the combined cycle plant with `r_id=5`. This is the interpretation:\n",
    "\n",
    "**If the RHS of the RampUp constraint for `r_id=5` combined cycle plant were increased by 1 unit, the problem objective would reduce by about 9.** \n",
    "\n",
    "The precise value of the largest magnitude ramp marginal is:"
   ]
  },
  {
   "cell_type": "code",
   "execution_count": 50,
   "metadata": {},
   "outputs": [
    {
     "data": {
      "text/html": [
       "<div><div style = \"float: left;\"><span>DataFrameRow (4 columns)</span></div><div style = \"clear: both;\"></div></div><div class = \"data-frame\" style = \"overflow-x: scroll;\"><table class = \"data-frame\" style = \"margin-bottom: 6px;\"><thead><tr class = \"header\"><th class = \"rowLabel\" style = \"font-weight: bold; text-align: right;\">Row</th><th style = \"text-align: left;\">r_id</th><th style = \"text-align: left;\">hour</th><th style = \"text-align: left;\">gen</th><th style = \"text-align: left;\">resource</th></tr><tr class = \"subheader headerLastRow\"><th class = \"rowLabel\" style = \"font-weight: bold; text-align: right;\"></th><th title = \"Union{Missing, Int64}\" style = \"text-align: left;\">Int64?</th><th title = \"Int64\" style = \"text-align: left;\">Int64</th><th title = \"Float64\" style = \"text-align: left;\">Float64</th><th title = \"Union{Missing, String}\" style = \"text-align: left;\">String?</th></tr></thead><tbody><tr><td class = \"rowLabel\" style = \"font-weight: bold; text-align: right;\">430</td><td style = \"text-align: right;\">5</td><td style = \"text-align: right;\">2418</td><td style = \"text-align: right;\">-8.9672</td><td style = \"text-align: left;\">natural_gas_fired_combined_cycle</td></tr></tbody></table></div>"
      ],
      "text/latex": [
       "\\begin{tabular}{r|cccc}\n",
       "\t& r\\_id & hour & gen & resource\\\\\n",
       "\t\\hline\n",
       "\t& Int64? & Int64 & Float64 & String?\\\\\n",
       "\t\\hline\n",
       "\t430 & 5 & 2418 & -8.9672 & natural\\_gas\\_fired\\_combined\\_cycle \\\\\n",
       "\\end{tabular}\n"
      ],
      "text/plain": [
       "\u001b[1mDataFrameRow\u001b[0m\n",
       "\u001b[1m Row \u001b[0m│\u001b[1m r_id   \u001b[0m\u001b[1m hour  \u001b[0m\u001b[1m gen     \u001b[0m\u001b[1m resource                         \u001b[0m\n",
       "     │\u001b[90m Int64? \u001b[0m\u001b[90m Int64 \u001b[0m\u001b[90m Float64 \u001b[0m\u001b[90m String?                          \u001b[0m\n",
       "─────┼──────────────────────────────────────────────────────────\n",
       " 430 │      5   2418  -8.9672  natural_gas_fired_combined_cycle"
      ]
     },
     "execution_count": 50,
     "metadata": {},
     "output_type": "execute_result"
    }
   ],
   "source": [
    "marg_gen[argmin(marg_gen.gen),:]"
   ]
  },
  {
   "cell_type": "markdown",
   "metadata": {},
   "source": [
    "**Why is this the case?** Due to the ramp constraint, we have to substitute some generation from `r_id=5` with a more expensive unit, in this case the more flexible `r_id=9` combustion turbine. \n",
    "\n",
    "We can, in fact, recover this marginal value by re-examining the variable costs of these generators at the top of the notebook:"
   ]
  },
  {
   "cell_type": "code",
   "execution_count": 51,
   "metadata": {},
   "outputs": [
    {
     "data": {
      "text/html": [
       "<div><div style = \"float: left;\"><span>2×2 DataFrame</span></div><div style = \"clear: both;\"></div></div><div class = \"data-frame\" style = \"overflow-x: scroll;\"><table class = \"data-frame\" style = \"margin-bottom: 6px;\"><thead><tr class = \"header\"><th class = \"rowNumber\" style = \"font-weight: bold; text-align: right;\">Row</th><th style = \"text-align: left;\">r_id</th><th style = \"text-align: left;\">varcost</th></tr><tr class = \"subheader headerLastRow\"><th class = \"rowNumber\" style = \"font-weight: bold; text-align: right;\"></th><th title = \"Union{Missing, Int64}\" style = \"text-align: left;\">Int64?</th><th title = \"Float64\" style = \"text-align: left;\">Float64</th></tr></thead><tbody><tr><td class = \"rowNumber\" style = \"font-weight: bold; text-align: right;\">1</td><td style = \"text-align: right;\">5</td><td style = \"text-align: right;\">29.3061</td></tr><tr><td class = \"rowNumber\" style = \"font-weight: bold; text-align: right;\">2</td><td style = \"text-align: right;\">9</td><td style = \"text-align: right;\">38.2733</td></tr></tbody></table></div>"
      ],
      "text/latex": [
       "\\begin{tabular}{r|cc}\n",
       "\t& r\\_id & varcost\\\\\n",
       "\t\\hline\n",
       "\t& Int64? & Float64\\\\\n",
       "\t\\hline\n",
       "\t1 & 5 & 29.3061 \\\\\n",
       "\t2 & 9 & 38.2733 \\\\\n",
       "\\end{tabular}\n"
      ],
      "text/plain": [
       "\u001b[1m2×2 DataFrame\u001b[0m\n",
       "\u001b[1m Row \u001b[0m│\u001b[1m r_id   \u001b[0m\u001b[1m varcost \u001b[0m\n",
       "     │\u001b[90m Int64? \u001b[0m\u001b[90m Float64 \u001b[0m\n",
       "─────┼─────────────────\n",
       "   1 │      5  29.3061\n",
       "   2 │      9  38.2733"
      ]
     },
     "execution_count": 51,
     "metadata": {},
     "output_type": "execute_result"
    }
   ],
   "source": [
    "varcost_comp = supply_curve[in.(supply_curve.r_id,Ref([5,9])),[:r_id,:varcost]]\n",
    "varcost_comp"
   ]
  },
  {
   "cell_type": "markdown",
   "metadata": {},
   "source": [
    "If our guess is true, the difference between these should be our marginal value, and voila:"
   ]
  },
  {
   "cell_type": "code",
   "execution_count": 52,
   "metadata": {},
   "outputs": [
    {
     "data": {
      "text/plain": [
       "8.967199999999998"
      ]
     },
     "execution_count": 52,
     "metadata": {},
     "output_type": "execute_result"
    }
   ],
   "source": [
    "varcost_comp[2,2] - varcost_comp[1,2]"
   ]
  },
  {
   "cell_type": "markdown",
   "metadata": {},
   "source": [
    "Also notice that the marginals are zero for most of the day. Recalling from Notebook 1 our discussion on \"binding\" constraints, this is because the RampUp constraint is **not binding** during these hours. Alternatively, changing the RHS of the RampUp constraint does not affect the problem objective."
   ]
  }
 ],
 "metadata": {
  "@webio": {
   "lastCommId": null,
   "lastKernelId": null
  },
  "kernelspec": {
   "display_name": "Julia 1.8.0",
   "language": "julia",
   "name": "julia-1.8"
  },
  "language_info": {
   "file_extension": ".jl",
   "mimetype": "application/julia",
   "name": "julia",
   "version": "1.8.0"
  }
 },
 "nbformat": 4,
 "nbformat_minor": 2
}
