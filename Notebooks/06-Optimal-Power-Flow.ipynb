{
 "cells": [
  {
   "cell_type": "markdown",
   "metadata": {},
   "source": [
    "## Optimal Power Flow\n",
    "**Energy Systems Optimization**\n",
    "\n",
    "by Neha Patankar (last updated: November 16, 2023)\n",
    "\n",
    "This notebook provides an introduction to the Optimal Power Flow (OPF) problem in electric power systems&mdash;which minimizes the short-run production costs of meeting electricity demand at a number of connected locations from a given set of generators subject to various transmission network flow limit constraints. This will be our first treatment of a *network*, which is critical to all power systems.\n",
    "\n",
    "We will first introduce a model of transmission flows that assumes we can control the flow along each path, in what is called a \"**transport model**.\" This is a straightforward extension to [Economic Dispatch](04-Economic-Dispatch.ipynb) (ED), where we have multiple supply and demand balance constraints at each location or \"node\" in the network, and a new set of flow constraints between nodes. This is also similar to other common optimization problems such as fleet routing of shipments.\n",
    "\n",
    "Full \"AC optimal power flow\" models are also beyond the scope of this notebook, as the full set of physics associated with the interactions of AC flows introduces non-convexities that make this problem much harder to solve. Due to the non-convex nature of the AC power flow problem, simplified formulations that linearize and approximate these complex constraints are frequently employed in power systems operations, including by electricity system operators, which use a linearized \"security-constrained\" optimal power flow (which ensures power flows would remain simulatenously feasible across a range of possible contingencies) to clear real-time electricity markets.\n",
    "\n",
    "We will start off with some simple systems, whose solutions can be worked out manually without resorting to any mathematical optimization model and software. But, eventually we will be solving larger system, thereby emphasizing the importance of such software and mathematical models."
   ]
  },
  {
   "cell_type": "markdown",
   "metadata": {},
   "source": [
    "## \"Transport\" model\n",
    "We will examine the case where we allow for transmission but ignore the physics of electricity flows, and instead treat it like transporting an ordinary commodity.\n",
    "\n",
    "$$\n",
    "\\begin{align}\n",
    "\\min \\ & \\sum_{g \\in G} VarCost_g \\times GEN_g & \\\\\n",
    "\\text{s.t.} & \\\\\n",
    " & \\sum_{g \\in G_i} GEN_g - Demand_i = \\sum_{j \\in J_i} FLOW_{ij} & \\forall \\quad i \\in \\mathcal{N}\\\\\n",
    " & FLOW_{ij} \\leq MaxFlow_{ij} & \\forall \\quad i \\in \\mathcal{N}, \\forall j \\in J_i \\\\\n",
    " & FLOW_{ij} = - FLOW_{ji} & \\forall \\quad i, j \\in \\mathcal{N} \\\\\n",
    " & GEN_g \\leq Pmax_g & \\forall \\quad g \\in G \\\\\n",
    " & GEN_g \\geq Pmin_g & \\forall \\quad g \\in G  \n",
    "\\end{align}\n",
    "$$\n",
    "\n",
    "We introduce a few new **sets** in the above:\n",
    "- $\\mathcal{N}$, the set of all nodes (or buses) in the network where generation, storage, or demand (load) are located\n",
    "- $J_i \\subset \\mathcal{N}$, the subset of nodes that are connected to node $i$\n",
    "- $G_i \\subset G$, the subset of generators located at node $i$\n",
    " \n",
    "The **decision variables** in the above problem are:\n",
    "\n",
    "- $GEN_{g}$, the generation (in MW) produced by each generator, $g$\n",
    "- $FLOW_{ij}$, the flow (in MW) along the line from $i$ to $j$\n",
    "\n",
    "The **parameters** are:\n",
    "\n",
    "- $Pmin_g$, the minimum operating bounds for the generator (based on engineering or natural resource constraints)\n",
    "- $Pmax_g$, the maximum operating bounds for the generator (based on engineering or natural resource constraints)\n",
    "- $Demand_i$, the demand (in MW) at bus $i$\n",
    "- $MaxFlow_{ij}$, the maximum allowable flow along the line from $i$ to $j$\n",
    "- $VarCost_g$, the variable cost of generator $g$\n",
    "\n",
    "Notice how the problem above is equivalent to producing a single type of good at a set of factories and shipping them along capacity-limited corridors (roads, rail lines, etc.) to meet a set of demands in other locations. "
   ]
  },
  {
   "cell_type": "markdown",
   "metadata": {},
   "source": [
    "### 1. Load packages"
   ]
  },
  {
   "cell_type": "code",
   "execution_count": 1,
   "metadata": {},
   "outputs": [],
   "source": [
    "import Pkg; #Pkg.add(\"VegaLite\"); Pkg.add(\"PrettyTables\")\n",
    "using JuMP, HiGHS\n",
    "using Plots; plotly();\n",
    "using VegaLite  # to make some nice plots\n",
    "using DataFrames, CSV, PrettyTables\n",
    "ENV[\"COLUMNS\"]=120; # Set so all columns of DataFrames and Matrices are displayed"
   ]
  },
  {
   "cell_type": "markdown",
   "metadata": {},
   "source": [
    "### 2. Load and format data\n",
    "\n",
    "We will load a modified 3-bus case stored in the [MATPOWER case format](https://matpower.org/docs/ref/matpower5.0/caseformat.html). It consists of:\n",
    "\n",
    "- two generator buses where 1000 MW generators are located, one with variable cost of 50/MWh and another with variable cost of 100/MWh\n",
    "- one load bus where 600 MW of demand is located\n",
    "- three lines connecting the buses, each with a maximum flow of 500 MW\n",
    "\n",
    "The location and numbering of the components:\n",
    "\n",
    "<img src=\"img/opf_network.png\" style=\"width: 450px; height: auto\" align=\"left\">"
   ]
  },
  {
   "cell_type": "code",
   "execution_count": 2,
   "metadata": {},
   "outputs": [
    {
     "data": {
      "text/html": [
       "<div><div style = \"float: left;\"><span>3×4 DataFrame</span></div><div style = \"clear: both;\"></div></div><div class = \"data-frame\" style = \"overflow-x: scroll;\"><table class = \"data-frame\" style = \"margin-bottom: 6px;\"><thead><tr class = \"header\"><th class = \"rowNumber\" style = \"font-weight: bold; text-align: right;\">Row</th><th style = \"text-align: left;\">bus_i</th><th style = \"text-align: left;\">type</th><th style = \"text-align: left;\">pd</th><th style = \"text-align: left;\">qd</th></tr><tr class = \"subheader headerLastRow\"><th class = \"rowNumber\" style = \"font-weight: bold; text-align: right;\"></th><th title = \"Int64\" style = \"text-align: left;\">Int64</th><th title = \"Int64\" style = \"text-align: left;\">Int64</th><th title = \"Int64\" style = \"text-align: left;\">Int64</th><th title = \"Float64\" style = \"text-align: left;\">Float64</th></tr></thead><tbody><tr><td class = \"rowNumber\" style = \"font-weight: bold; text-align: right;\">1</td><td style = \"text-align: right;\">1</td><td style = \"text-align: right;\">2</td><td style = \"text-align: right;\">0</td><td style = \"text-align: right;\">0.0</td></tr><tr><td class = \"rowNumber\" style = \"font-weight: bold; text-align: right;\">2</td><td style = \"text-align: right;\">2</td><td style = \"text-align: right;\">2</td><td style = \"text-align: right;\">0</td><td style = \"text-align: right;\">0.0</td></tr><tr><td class = \"rowNumber\" style = \"font-weight: bold; text-align: right;\">3</td><td style = \"text-align: right;\">3</td><td style = \"text-align: right;\">1</td><td style = \"text-align: right;\">600</td><td style = \"text-align: right;\">98.61</td></tr></tbody></table></div>"
      ],
      "text/latex": [
       "\\begin{tabular}{r|cccc}\n",
       "\t& bus\\_i & type & pd & qd\\\\\n",
       "\t\\hline\n",
       "\t& Int64 & Int64 & Int64 & Float64\\\\\n",
       "\t\\hline\n",
       "\t1 & 1 & 2 & 0 & 0.0 \\\\\n",
       "\t2 & 2 & 2 & 0 & 0.0 \\\\\n",
       "\t3 & 3 & 1 & 600 & 98.61 \\\\\n",
       "\\end{tabular}\n"
      ],
      "text/plain": [
       "\u001b[1m3×4 DataFrame\u001b[0m\n",
       "\u001b[1m Row \u001b[0m│\u001b[1m bus_i \u001b[0m\u001b[1m type  \u001b[0m\u001b[1m pd    \u001b[0m\u001b[1m qd      \u001b[0m\n",
       "     │\u001b[90m Int64 \u001b[0m\u001b[90m Int64 \u001b[0m\u001b[90m Int64 \u001b[0m\u001b[90m Float64 \u001b[0m\n",
       "─────┼──────────────────────────────\n",
       "   1 │     1      2      0     0.0\n",
       "   2 │     2      2      0     0.0\n",
       "   3 │     3      1    600    98.61"
      ]
     },
     "execution_count": 2,
     "metadata": {},
     "output_type": "execute_result"
    }
   ],
   "source": [
    "datadir = joinpath(\"OPF_data\") \n",
    "gen = CSV.read(joinpath(datadir,\"gen.csv\"), DataFrame);\n",
    "gencost = CSV.read(joinpath(datadir,\"gencost.csv\"), DataFrame);\n",
    "branch = CSV.read(joinpath(datadir,\"branch.csv\"), DataFrame);\n",
    "bus = CSV.read(joinpath(datadir,\"bus.csv\"), DataFrame);\n",
    "\n",
    "# Rename all columns to lowercase (by convention)\n",
    "for f in [gen, gencost, branch, bus]\n",
    "    rename!(f,lowercase.(names(f)))\n",
    "end\n",
    "\n",
    "# create generator ids \n",
    "gen.id = 1:nrow(gen);\n",
    "gencost.id = 1:nrow(gencost);\n",
    "\n",
    "# create line ids \n",
    "branch.id = 1:nrow(branch);\n",
    "# add set of rows for reverse direction with same parameters\n",
    "branch2 = copy(branch)\n",
    "branch2.f = branch2.fbus\n",
    "branch2.fbus = branch.tbus\n",
    "branch2.tbus = branch2.f\n",
    "branch2 = branch2[:,names(branch)]\n",
    "append!(branch,branch2)\n",
    "\n",
    "\n",
    "# Here are the buses:\n",
    "bus"
   ]
  },
  {
   "cell_type": "markdown",
   "metadata": {},
   "source": [
    "Columns pd and qd indicate the [active and reactive power](https://en.wikipedia.org/wiki/AC_power#Active,_reactive,_and_apparent_power) withdrawal at the bus. (We will ignore qd for this notebook, since we are not considering full AC power flows.) We do not need any of other columns for our purposes."
   ]
  },
  {
   "cell_type": "code",
   "execution_count": 3,
   "metadata": {},
   "outputs": [
    {
     "data": {
      "text/html": [
       "<div><div style = \"float: left;\"><span>2×4 DataFrame</span></div><div style = \"clear: both;\"></div></div><div class = \"data-frame\" style = \"overflow-x: scroll;\"><table class = \"data-frame\" style = \"margin-bottom: 6px;\"><thead><tr class = \"header\"><th class = \"rowNumber\" style = \"font-weight: bold; text-align: right;\">Row</th><th style = \"text-align: left;\">bus</th><th style = \"text-align: left;\">pmax</th><th style = \"text-align: left;\">pmin</th><th style = \"text-align: left;\">id</th></tr><tr class = \"subheader headerLastRow\"><th class = \"rowNumber\" style = \"font-weight: bold; text-align: right;\"></th><th title = \"Int64\" style = \"text-align: left;\">Int64</th><th title = \"Int64\" style = \"text-align: left;\">Int64</th><th title = \"Int64\" style = \"text-align: left;\">Int64</th><th title = \"Int64\" style = \"text-align: left;\">Int64</th></tr></thead><tbody><tr><td class = \"rowNumber\" style = \"font-weight: bold; text-align: right;\">1</td><td style = \"text-align: right;\">1</td><td style = \"text-align: right;\">1000</td><td style = \"text-align: right;\">0</td><td style = \"text-align: right;\">1</td></tr><tr><td class = \"rowNumber\" style = \"font-weight: bold; text-align: right;\">2</td><td style = \"text-align: right;\">2</td><td style = \"text-align: right;\">1000</td><td style = \"text-align: right;\">0</td><td style = \"text-align: right;\">2</td></tr></tbody></table></div>"
      ],
      "text/latex": [
       "\\begin{tabular}{r|cccc}\n",
       "\t& bus & pmax & pmin & id\\\\\n",
       "\t\\hline\n",
       "\t& Int64 & Int64 & Int64 & Int64\\\\\n",
       "\t\\hline\n",
       "\t1 & 1 & 1000 & 0 & 1 \\\\\n",
       "\t2 & 2 & 1000 & 0 & 2 \\\\\n",
       "\\end{tabular}\n"
      ],
      "text/plain": [
       "\u001b[1m2×4 DataFrame\u001b[0m\n",
       "\u001b[1m Row \u001b[0m│\u001b[1m bus   \u001b[0m\u001b[1m pmax  \u001b[0m\u001b[1m pmin  \u001b[0m\u001b[1m id    \u001b[0m\n",
       "     │\u001b[90m Int64 \u001b[0m\u001b[90m Int64 \u001b[0m\u001b[90m Int64 \u001b[0m\u001b[90m Int64 \u001b[0m\n",
       "─────┼────────────────────────────\n",
       "   1 │     1   1000      0      1\n",
       "   2 │     2   1000      0      2"
      ]
     },
     "execution_count": 3,
     "metadata": {},
     "output_type": "execute_result"
    }
   ],
   "source": [
    "# This is what the generator dataset looks like:\n",
    "gen"
   ]
  },
  {
   "cell_type": "code",
   "execution_count": 4,
   "metadata": {},
   "outputs": [
    {
     "data": {
      "text/html": [
       "<div><div style = \"float: left;\"><span>2×7 DataFrame</span></div><div style = \"clear: both;\"></div></div><div class = \"data-frame\" style = \"overflow-x: scroll;\"><table class = \"data-frame\" style = \"margin-bottom: 6px;\"><thead><tr class = \"header\"><th class = \"rowNumber\" style = \"font-weight: bold; text-align: right;\">Row</th><th style = \"text-align: left;\">model</th><th style = \"text-align: left;\">startup</th><th style = \"text-align: left;\">shutdown</th><th style = \"text-align: left;\">n</th><th style = \"text-align: left;\">x1</th><th style = \"text-align: left;\">y1</th><th style = \"text-align: left;\">id</th></tr><tr class = \"subheader headerLastRow\"><th class = \"rowNumber\" style = \"font-weight: bold; text-align: right;\"></th><th title = \"Int64\" style = \"text-align: left;\">Int64</th><th title = \"Int64\" style = \"text-align: left;\">Int64</th><th title = \"Int64\" style = \"text-align: left;\">Int64</th><th title = \"Int64\" style = \"text-align: left;\">Int64</th><th title = \"Int64\" style = \"text-align: left;\">Int64</th><th title = \"Int64\" style = \"text-align: left;\">Int64</th><th title = \"Int64\" style = \"text-align: left;\">Int64</th></tr></thead><tbody><tr><td class = \"rowNumber\" style = \"font-weight: bold; text-align: right;\">1</td><td style = \"text-align: right;\">2</td><td style = \"text-align: right;\">0</td><td style = \"text-align: right;\">0</td><td style = \"text-align: right;\">2</td><td style = \"text-align: right;\">50</td><td style = \"text-align: right;\">0</td><td style = \"text-align: right;\">1</td></tr><tr><td class = \"rowNumber\" style = \"font-weight: bold; text-align: right;\">2</td><td style = \"text-align: right;\">2</td><td style = \"text-align: right;\">0</td><td style = \"text-align: right;\">0</td><td style = \"text-align: right;\">2</td><td style = \"text-align: right;\">100</td><td style = \"text-align: right;\">0</td><td style = \"text-align: right;\">2</td></tr></tbody></table></div>"
      ],
      "text/latex": [
       "\\begin{tabular}{r|ccccccc}\n",
       "\t& model & startup & shutdown & n & x1 & y1 & id\\\\\n",
       "\t\\hline\n",
       "\t& Int64 & Int64 & Int64 & Int64 & Int64 & Int64 & Int64\\\\\n",
       "\t\\hline\n",
       "\t1 & 2 & 0 & 0 & 2 & 50 & 0 & 1 \\\\\n",
       "\t2 & 2 & 0 & 0 & 2 & 100 & 0 & 2 \\\\\n",
       "\\end{tabular}\n"
      ],
      "text/plain": [
       "\u001b[1m2×7 DataFrame\u001b[0m\n",
       "\u001b[1m Row \u001b[0m│\u001b[1m model \u001b[0m\u001b[1m startup \u001b[0m\u001b[1m shutdown \u001b[0m\u001b[1m n     \u001b[0m\u001b[1m x1    \u001b[0m\u001b[1m y1    \u001b[0m\u001b[1m id    \u001b[0m\n",
       "     │\u001b[90m Int64 \u001b[0m\u001b[90m Int64   \u001b[0m\u001b[90m Int64    \u001b[0m\u001b[90m Int64 \u001b[0m\u001b[90m Int64 \u001b[0m\u001b[90m Int64 \u001b[0m\u001b[90m Int64 \u001b[0m\n",
       "─────┼──────────────────────────────────────────────────────\n",
       "   1 │     2        0         0      2     50      0      1\n",
       "   2 │     2        0         0      2    100      0      2"
      ]
     },
     "execution_count": 4,
     "metadata": {},
     "output_type": "execute_result"
    }
   ],
   "source": [
    "# and generator cost dataset:\n",
    "gencost"
   ]
  },
  {
   "cell_type": "markdown",
   "metadata": {},
   "source": [
    "In the above, model=2 indicates a polynomial variable cost formulation and the column n=2 indicates that there are two terms. Thus, we have a linear cost (in the x1 column) without any quadratic terms (and a zero constant term):\n",
    "\n",
    "$$\n",
    "VarCost_g = x1_g\n",
    "$$"
   ]
  },
  {
   "cell_type": "code",
   "execution_count": 5,
   "metadata": {},
   "outputs": [
    {
     "data": {
      "text/html": [
       "<div><div style = \"float: left;\"><span>6×6 DataFrame</span></div><div style = \"clear: both;\"></div></div><div class = \"data-frame\" style = \"overflow-x: scroll;\"><table class = \"data-frame\" style = \"margin-bottom: 6px;\"><thead><tr class = \"header\"><th class = \"rowNumber\" style = \"font-weight: bold; text-align: right;\">Row</th><th style = \"text-align: left;\">fbus</th><th style = \"text-align: left;\">tbus</th><th style = \"text-align: left;\">ratea</th><th style = \"text-align: left;\">rateb</th><th style = \"text-align: left;\">ratec</th><th style = \"text-align: left;\">id</th></tr><tr class = \"subheader headerLastRow\"><th class = \"rowNumber\" style = \"font-weight: bold; text-align: right;\"></th><th title = \"Int64\" style = \"text-align: left;\">Int64</th><th title = \"Int64\" style = \"text-align: left;\">Int64</th><th title = \"Int64\" style = \"text-align: left;\">Int64</th><th title = \"Int64\" style = \"text-align: left;\">Int64</th><th title = \"Int64\" style = \"text-align: left;\">Int64</th><th title = \"Int64\" style = \"text-align: left;\">Int64</th></tr></thead><tbody><tr><td class = \"rowNumber\" style = \"font-weight: bold; text-align: right;\">1</td><td style = \"text-align: right;\">1</td><td style = \"text-align: right;\">3</td><td style = \"text-align: right;\">500</td><td style = \"text-align: right;\">500</td><td style = \"text-align: right;\">500</td><td style = \"text-align: right;\">1</td></tr><tr><td class = \"rowNumber\" style = \"font-weight: bold; text-align: right;\">2</td><td style = \"text-align: right;\">1</td><td style = \"text-align: right;\">2</td><td style = \"text-align: right;\">500</td><td style = \"text-align: right;\">500</td><td style = \"text-align: right;\">500</td><td style = \"text-align: right;\">2</td></tr><tr><td class = \"rowNumber\" style = \"font-weight: bold; text-align: right;\">3</td><td style = \"text-align: right;\">2</td><td style = \"text-align: right;\">3</td><td style = \"text-align: right;\">500</td><td style = \"text-align: right;\">500</td><td style = \"text-align: right;\">500</td><td style = \"text-align: right;\">3</td></tr><tr><td class = \"rowNumber\" style = \"font-weight: bold; text-align: right;\">4</td><td style = \"text-align: right;\">3</td><td style = \"text-align: right;\">1</td><td style = \"text-align: right;\">500</td><td style = \"text-align: right;\">500</td><td style = \"text-align: right;\">500</td><td style = \"text-align: right;\">1</td></tr><tr><td class = \"rowNumber\" style = \"font-weight: bold; text-align: right;\">5</td><td style = \"text-align: right;\">2</td><td style = \"text-align: right;\">1</td><td style = \"text-align: right;\">500</td><td style = \"text-align: right;\">500</td><td style = \"text-align: right;\">500</td><td style = \"text-align: right;\">2</td></tr><tr><td class = \"rowNumber\" style = \"font-weight: bold; text-align: right;\">6</td><td style = \"text-align: right;\">3</td><td style = \"text-align: right;\">2</td><td style = \"text-align: right;\">500</td><td style = \"text-align: right;\">500</td><td style = \"text-align: right;\">500</td><td style = \"text-align: right;\">3</td></tr></tbody></table></div>"
      ],
      "text/latex": [
       "\\begin{tabular}{r|cccccc}\n",
       "\t& fbus & tbus & ratea & rateb & ratec & id\\\\\n",
       "\t\\hline\n",
       "\t& Int64 & Int64 & Int64 & Int64 & Int64 & Int64\\\\\n",
       "\t\\hline\n",
       "\t1 & 1 & 3 & 500 & 500 & 500 & 1 \\\\\n",
       "\t2 & 1 & 2 & 500 & 500 & 500 & 2 \\\\\n",
       "\t3 & 2 & 3 & 500 & 500 & 500 & 3 \\\\\n",
       "\t4 & 3 & 1 & 500 & 500 & 500 & 1 \\\\\n",
       "\t5 & 2 & 1 & 500 & 500 & 500 & 2 \\\\\n",
       "\t6 & 3 & 2 & 500 & 500 & 500 & 3 \\\\\n",
       "\\end{tabular}\n"
      ],
      "text/plain": [
       "\u001b[1m6×6 DataFrame\u001b[0m\n",
       "\u001b[1m Row \u001b[0m│\u001b[1m fbus  \u001b[0m\u001b[1m tbus  \u001b[0m\u001b[1m ratea \u001b[0m\u001b[1m rateb \u001b[0m\u001b[1m ratec \u001b[0m\u001b[1m id    \u001b[0m\n",
       "     │\u001b[90m Int64 \u001b[0m\u001b[90m Int64 \u001b[0m\u001b[90m Int64 \u001b[0m\u001b[90m Int64 \u001b[0m\u001b[90m Int64 \u001b[0m\u001b[90m Int64 \u001b[0m\n",
       "─────┼──────────────────────────────────────────\n",
       "   1 │     1      3    500    500    500      1\n",
       "   2 │     1      2    500    500    500      2\n",
       "   3 │     2      3    500    500    500      3\n",
       "   4 │     3      1    500    500    500      1\n",
       "   5 │     2      1    500    500    500      2\n",
       "   6 │     3      2    500    500    500      3"
      ]
     },
     "execution_count": 5,
     "metadata": {},
     "output_type": "execute_result"
    }
   ],
   "source": [
    "# Here are the transmission lines:\n",
    "branch"
   ]
  },
  {
   "cell_type": "markdown",
   "metadata": {},
   "source": [
    "Note that while there are three lines, there are six entries here. There is an entry for each 'direction' of flow the lines can accomodate, hence six entries for three lines. The column `fbus` denotes the ID of the \"from bus\" or origin bus and the column `tbus` denotes the ID of the \"to bus\" or destination bus (e.g. `fbus`=1, `tbus`=3 is the flow in the direction from bus 1 to bus 3). \n",
    "\n",
    "For this transport model formulation, we are only using transmission line capacity (known as \"ratings\"), given in `ratea`, `rateb`, and `ratec`. These correspond to different ratings based on how long the line might be overloaded, with `ratec` known as an \"emergency rating\", which could exceed the long-term rating, `ratea`. We will use `ratea` for this model. The dataset also contains resistance and reactance."
   ]
  },
  {
   "cell_type": "markdown",
   "metadata": {},
   "source": [
    "### 3. Create solver function (transport)"
   ]
  },
  {
   "cell_type": "code",
   "execution_count": 6,
   "metadata": {},
   "outputs": [
    {
     "data": {
      "text/plain": [
       "transport (generic function with 1 method)"
      ]
     },
     "execution_count": 6,
     "metadata": {},
     "output_type": "execute_result"
    }
   ],
   "source": [
    "#=\n",
    "Function to solve transport flow problem \n",
    "Inputs:\n",
    "    gen -- dataframe with generator info\n",
    "    branch -- dataframe with transmission lines info\n",
    "    gencost -- dataframe with generator info\n",
    "    bus -- dataframe with bus types and loads\n",
    "Note: it is always a good idea to include a comment blog describing your\n",
    "function's inputs clearly!\n",
    "=#\n",
    "function transport(gen, branch, gencost, bus)\n",
    "    Transport = Model(HiGHS.Optimizer) # You could use Clp as well, with Clp.Optimizer\n",
    "    \n",
    "    # Define sets\n",
    "      # Set of all generators\n",
    "    G = gen.id\n",
    "      # Set of all nodes\n",
    "    N = bus.bus_i\n",
    "      # Note: sets J_i and G_i will be described using dataframe indexing below\n",
    "\n",
    "    # Decision variables   \n",
    "    @variables(Transport, begin\n",
    "        GEN[G]  >= 0     # generation        \n",
    "        # Note: we assume Pmin = 0 for all resources for simplicty here\n",
    "        FLOW[N,N]        # flow\n",
    "        # Note: flow is not constrained to be positive\n",
    "        # By convention, positive values will indicate flow from the first to second node\n",
    "        # in the tuple, and a negative flow will indicate flow from the second to the first\n",
    "        # This matrix is thus \"anti-symmetric\", which we will ensure with an appropriate\n",
    "        # constraint.\n",
    "    end)\n",
    "                \n",
    "    # Objective function: minimize sum of generation variable costs for all generators\n",
    "    @objective(Transport, Min, \n",
    "        sum( gencost[g,:x1] * GEN[g] \n",
    "                        for g in G)\n",
    "    )\n",
    "\n",
    "    # Supply/demand balance constraints, accounting for power flows in/out of each node\n",
    "    @constraint(Transport, cBalance[i in N], \n",
    "        sum(GEN[g] for g in gen[gen.bus .== i,:id]) \n",
    "                - bus[bus.bus_i .== i,:pd][1] ==\n",
    "        sum(FLOW[i,j] for j in branch[branch.tbus .== i,:fbus]))\n",
    "\n",
    "    # Max generation constraints\n",
    "    @constraint(Transport, cMaxGen[g in G],\n",
    "                    GEN[g] <= gen[g,:pmax])\n",
    "\n",
    "    # Flow constraints on each branch\n",
    "    for l in 1:nrow(branch)\n",
    "        @constraint(Transport, \n",
    "            FLOW[branch[l,:fbus][1],branch[l,:tbus][1]] <= \n",
    "                        branch[l,:ratea])\n",
    "    end\n",
    "    \n",
    "    # Anti-symmetric flow constraints\n",
    "    @constraint(Transport, cFlowSymmetric[i in N, j in N],\n",
    "                    FLOW[i,j] == -FLOW[j,i])\n",
    "\n",
    "    # Solve statement (! indicates runs in place)\n",
    "    optimize!(Transport)\n",
    "\n",
    "    # Dataframe of optimal decision variables\n",
    "    generation = DataFrame(\n",
    "        id = gen.id,\n",
    "        node = gen.bus,\n",
    "        gen = value.(GEN).data\n",
    "        )\n",
    "    \n",
    "    flows = value.(FLOW).data\n",
    "    # We output the marginal values of the demand constraints, \n",
    "    # which will in fact be the prices to deliver power at a given bus.\n",
    "    prices = DataFrame(\n",
    "        node = bus.bus_i,\n",
    "        value = dual.(cBalance).data)\n",
    "    \n",
    "    # Return the solution and objective as named tuple\n",
    "    return (\n",
    "        generation = generation, \n",
    "        flows,\n",
    "        prices,\n",
    "        cost = objective_value(Transport),\n",
    "        status = termination_status(Transport)\n",
    "    )\n",
    "end"
   ]
  },
  {
   "cell_type": "markdown",
   "metadata": {},
   "source": [
    "### 4. Solve"
   ]
  },
  {
   "cell_type": "code",
   "execution_count": 7,
   "metadata": {},
   "outputs": [
    {
     "name": "stdout",
     "output_type": "stream",
     "text": [
      "Running HiGHS 1.5.3 [date: 1970-01-01, git hash: 45a127b78]\n",
      "Copyright (c) 2023 HiGHS under MIT licence terms\n",
      "Presolving model\n",
      "2 rows, 4 cols, 6 nonzeros\n",
      "1 rows, 3 cols, 2 nonzeros\n",
      "0 rows, 0 cols, 0 nonzeros\n",
      "Presolve : Reductions: rows 0(-20); columns 0(-11); elements 0(-31) - Reduced to empty\n",
      "Solving the original LP from the solution after postsolve\n",
      "Model   status      : Optimal\n",
      "Objective value     :  3.0000000000e+04\n",
      "HiGHS run time      :          0.00\n"
     ]
    },
    {
     "data": {
      "text/html": [
       "<div><div style = \"float: left;\"><span>2×3 DataFrame</span></div><div style = \"clear: both;\"></div></div><div class = \"data-frame\" style = \"overflow-x: scroll;\"><table class = \"data-frame\" style = \"margin-bottom: 6px;\"><thead><tr class = \"header\"><th class = \"rowNumber\" style = \"font-weight: bold; text-align: right;\">Row</th><th style = \"text-align: left;\">id</th><th style = \"text-align: left;\">node</th><th style = \"text-align: left;\">gen</th></tr><tr class = \"subheader headerLastRow\"><th class = \"rowNumber\" style = \"font-weight: bold; text-align: right;\"></th><th title = \"Int64\" style = \"text-align: left;\">Int64</th><th title = \"Int64\" style = \"text-align: left;\">Int64</th><th title = \"Float64\" style = \"text-align: left;\">Float64</th></tr></thead><tbody><tr><td class = \"rowNumber\" style = \"font-weight: bold; text-align: right;\">1</td><td style = \"text-align: right;\">1</td><td style = \"text-align: right;\">1</td><td style = \"text-align: right;\">600.0</td></tr><tr><td class = \"rowNumber\" style = \"font-weight: bold; text-align: right;\">2</td><td style = \"text-align: right;\">2</td><td style = \"text-align: right;\">2</td><td style = \"text-align: right;\">0.0</td></tr></tbody></table></div>"
      ],
      "text/latex": [
       "\\begin{tabular}{r|ccc}\n",
       "\t& id & node & gen\\\\\n",
       "\t\\hline\n",
       "\t& Int64 & Int64 & Float64\\\\\n",
       "\t\\hline\n",
       "\t1 & 1 & 1 & 600.0 \\\\\n",
       "\t2 & 2 & 2 & 0.0 \\\\\n",
       "\\end{tabular}\n"
      ],
      "text/plain": [
       "\u001b[1m2×3 DataFrame\u001b[0m\n",
       "\u001b[1m Row \u001b[0m│\u001b[1m id    \u001b[0m\u001b[1m node  \u001b[0m\u001b[1m gen     \u001b[0m\n",
       "     │\u001b[90m Int64 \u001b[0m\u001b[90m Int64 \u001b[0m\u001b[90m Float64 \u001b[0m\n",
       "─────┼───────────────────────\n",
       "   1 │     1      1    600.0\n",
       "   2 │     2      2      0.0"
      ]
     },
     "execution_count": 7,
     "metadata": {},
     "output_type": "execute_result"
    }
   ],
   "source": [
    "solution = transport(gen, branch, gencost, bus)\n",
    "solution.generation"
   ]
  },
  {
   "cell_type": "markdown",
   "metadata": {},
   "source": [
    "We generate all 600 MW from Gen A at Bus 1."
   ]
  },
  {
   "cell_type": "code",
   "execution_count": 8,
   "metadata": {},
   "outputs": [
    {
     "data": {
      "text/plain": [
       "3×3 Matrix{Float64}:\n",
       "   -0.0   100.0  500.0\n",
       " -100.0    -0.0  100.0\n",
       " -500.0  -100.0   -0.0"
      ]
     },
     "execution_count": 8,
     "metadata": {},
     "output_type": "execute_result"
    }
   ],
   "source": [
    "solution.flows"
   ]
  },
  {
   "cell_type": "markdown",
   "metadata": {},
   "source": [
    "In turn, the following flows are created: \n",
    "\n",
    "- $l_{13}$ = 500 MW\n",
    "- $l_{12}$ = 100 MW\n",
    "- $l_{23}$ = 100 MW\n",
    "\n",
    "Hence, we are able to maximize the capacity of the line from 1 to 3 ($l_{13}$), and then route the remaining power through Bus 2."
   ]
  },
  {
   "cell_type": "markdown",
   "metadata": {},
   "source": [
    "### 5. Compare prices\n",
    "\n",
    "The marginal values of the demand constraints at a given bus represent the change in the objective that results from increasing demand at the bus by one unit. This is the natural definition of a \"value\" of power at that location, and is the basis for **[locational marginal prices](https://www.iso-ne.com/participate/support/faq/lmp)** (LMPs) found in electricity markets."
   ]
  },
  {
   "cell_type": "code",
   "execution_count": 9,
   "metadata": {},
   "outputs": [
    {
     "data": {
      "text/html": [
       "<div><div style = \"float: left;\"><span>3×2 DataFrame</span></div><div style = \"clear: both;\"></div></div><div class = \"data-frame\" style = \"overflow-x: scroll;\"><table class = \"data-frame\" style = \"margin-bottom: 6px;\"><thead><tr class = \"header\"><th class = \"rowNumber\" style = \"font-weight: bold; text-align: right;\">Row</th><th style = \"text-align: left;\">node</th><th style = \"text-align: left;\">value</th></tr><tr class = \"subheader headerLastRow\"><th class = \"rowNumber\" style = \"font-weight: bold; text-align: right;\"></th><th title = \"Int64\" style = \"text-align: left;\">Int64</th><th title = \"Float64\" style = \"text-align: left;\">Float64</th></tr></thead><tbody><tr><td class = \"rowNumber\" style = \"font-weight: bold; text-align: right;\">1</td><td style = \"text-align: right;\">1</td><td style = \"text-align: right;\">50.0</td></tr><tr><td class = \"rowNumber\" style = \"font-weight: bold; text-align: right;\">2</td><td style = \"text-align: right;\">2</td><td style = \"text-align: right;\">50.0</td></tr><tr><td class = \"rowNumber\" style = \"font-weight: bold; text-align: right;\">3</td><td style = \"text-align: right;\">3</td><td style = \"text-align: right;\">50.0</td></tr></tbody></table></div>"
      ],
      "text/latex": [
       "\\begin{tabular}{r|cc}\n",
       "\t& node & value\\\\\n",
       "\t\\hline\n",
       "\t& Int64 & Float64\\\\\n",
       "\t\\hline\n",
       "\t1 & 1 & 50.0 \\\\\n",
       "\t2 & 2 & 50.0 \\\\\n",
       "\t3 & 3 & 50.0 \\\\\n",
       "\\end{tabular}\n"
      ],
      "text/plain": [
       "\u001b[1m3×2 DataFrame\u001b[0m\n",
       "\u001b[1m Row \u001b[0m│\u001b[1m node  \u001b[0m\u001b[1m value   \u001b[0m\n",
       "     │\u001b[90m Int64 \u001b[0m\u001b[90m Float64 \u001b[0m\n",
       "─────┼────────────────\n",
       "   1 │     1     50.0\n",
       "   2 │     2     50.0\n",
       "   3 │     3     50.0"
      ]
     },
     "execution_count": 9,
     "metadata": {},
     "output_type": "execute_result"
    }
   ],
   "source": [
    "solution.prices"
   ]
  },
  {
   "cell_type": "markdown",
   "metadata": {},
   "source": [
    "All prices are the same in this case. The interpretation: if we were to add an incremental load at any of the buses, we could meet it from additional production from Gen A which has marginal cost of \\$50 / MWh. We are not going to hit any transmission limits."
   ]
  },
  {
   "cell_type": "markdown",
   "metadata": {},
   "source": [
    "Note that this system is uncongested, we ignore transmissions losses here, and the lowest cost generator supplies demand at all nodes, leading to equal locational marginal price at all nodes. "
   ]
  },
  {
   "cell_type": "code",
   "execution_count": null,
   "metadata": {},
   "outputs": [],
   "source": []
  }
 ],
 "metadata": {
  "@webio": {
   "lastCommId": null,
   "lastKernelId": null
  },
  "kernelspec": {
   "display_name": "Julia 1.8.0",
   "language": "julia",
   "name": "julia-1.8"
  },
  "language_info": {
   "file_extension": ".jl",
   "mimetype": "application/julia",
   "name": "julia",
   "version": "1.8.0"
  }
 },
 "nbformat": 4,
 "nbformat_minor": 4
}
